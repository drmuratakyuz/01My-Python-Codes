{
  "nbformat": 4,
  "nbformat_minor": 0,
  "metadata": {
    "colab": {
      "name": "ListExample.ipynb",
      "provenance": [],
      "authorship_tag": "ABX9TyNgFuny988pwromK5Ocq8ro",
      "include_colab_link": true
    },
    "kernelspec": {
      "name": "python3",
      "display_name": "Python 3"
    },
    "language_info": {
      "name": "python"
    }
  },
  "cells": [
    {
      "cell_type": "markdown",
      "metadata": {
        "id": "view-in-github",
        "colab_type": "text"
      },
      "source": [
        "<a href=\"https://colab.research.google.com/github/drmuratakyuz/01My-Python-Codes/blob/main/ListExample.ipynb\" target=\"_parent\"><img src=\"https://colab.research.google.com/assets/colab-badge.svg\" alt=\"Open In Colab\"/></a>"
      ]
    },
    {
      "cell_type": "code",
      "execution_count": 1,
      "metadata": {
        "colab": {
          "base_uri": "https://localhost:8080/"
        },
        "id": "9vHZOObfX8Y0",
        "outputId": "2120f4d0-bd97-4f3a-fb54-0fa1045a6d90"
      },
      "outputs": [
        {
          "output_type": "stream",
          "name": "stdout",
          "text": [
            "[1, 2, 3, 7, 0]\n"
          ]
        }
      ],
      "source": [
        "liste = [[1,[2,3], [[7]], [[]]], 0]  # [1, 2, 3, 7, 0]\n",
        "\n",
        "def cözümm(liste):  \n",
        "    bos = []\n",
        "    for i in liste:\n",
        "        if type(i) != list:\n",
        "            bos.append(i)\n",
        "        else:\n",
        "            bos+=cözümm(i)  # [4] + [5] = [4, 5]\n",
        "    return bos\n",
        "  \n",
        "print(cözümm(liste)) "
      ]
    }
  ]
}