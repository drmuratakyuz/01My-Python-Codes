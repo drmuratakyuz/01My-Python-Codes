{
  "nbformat": 4,
  "nbformat_minor": 0,
  "metadata": {
    "colab": {
      "name": "MapFunctions.ipynb",
      "provenance": [],
      "authorship_tag": "ABX9TyOYYq2j1EcW+NXNbA9fmhm3",
      "include_colab_link": true
    },
    "kernelspec": {
      "name": "python3",
      "display_name": "Python 3"
    },
    "language_info": {
      "name": "python"
    }
  },
  "cells": [
    {
      "cell_type": "markdown",
      "metadata": {
        "id": "view-in-github",
        "colab_type": "text"
      },
      "source": [
        "<a href=\"https://colab.research.google.com/github/drmuratakyuz/My-Python-Codes/blob/main/MapFunctions.ipynb\" target=\"_parent\"><img src=\"https://colab.research.google.com/assets/colab-badge.svg\" alt=\"Open In Colab\"/></a>"
      ]
    },
    {
      "cell_type": "code",
      "execution_count": 2,
      "metadata": {
        "colab": {
          "base_uri": "https://localhost:8080/"
        },
        "id": "Pcv8NyD5nNFG",
        "outputId": "ace39e12-b8ad-4932-9304-8d92fc3e4f85"
      },
      "outputs": [
        {
          "output_type": "stream",
          "name": "stdout",
          "text": [
            "Sayın Ali\n",
            " Bu mutlu günümüzde sizleri de aramızda görmekten mutluluk duyarız.\n",
            "Sayın Ayşe\n",
            " Bu mutlu günümüzde sizleri de aramızda görmekten mutluluk duyarız.\n",
            "Sayın Murat\n",
            " Bu mutlu günümüzde sizleri de aramızda görmekten mutluluk duyarız.\n",
            "Sayın Elif\n",
            " Bu mutlu günümüzde sizleri de aramızda görmekten mutluluk duyarız.\n"
          ]
        }
      ],
      "source": [
        "def davetiye_metni (isim):\n",
        "  gonderilecek_metin =\"Sayın \"+isim+\"\\n\"+\" Bu mutlu günümüzde sizleri de aramızda görmekten mutluluk duyarız.\"\n",
        "  return gonderilecek_metin\n",
        "isimler=[\"Ali\",\"Ayşe\",\"Murat\",\"Elif\"]\n",
        "for birey in isimler:\n",
        "  print(davetiye_metni (birey))"
      ]
    },
    {
      "cell_type": "code",
      "source": [
        "isimler=[\"Ali\",\"Ayşe\",\"Murat\",\"Elif\"]\n",
        "yeni_liste =map(lambda x:\"Sayın \"+x+\"\\n Bu mutlu günümüzde sizleri de aramızda görmekten mutluluk duyarız.\\n\", isimler)\n",
        "print(*yeni_liste)"
      ],
      "metadata": {
        "colab": {
          "base_uri": "https://localhost:8080/"
        },
        "id": "v223bDI0nxUU",
        "outputId": "7cb55f33-7226-49d3-ad70-27e24d354824"
      },
      "execution_count": 3,
      "outputs": [
        {
          "output_type": "stream",
          "name": "stdout",
          "text": [
            "Sayın Ali\n",
            " Bu mutlu günümüzde sizleri de aramızda görmekten mutluluk duyarız.\n",
            " Sayın Ayşe\n",
            " Bu mutlu günümüzde sizleri de aramızda görmekten mutluluk duyarız.\n",
            " Sayın Murat\n",
            " Bu mutlu günümüzde sizleri de aramızda görmekten mutluluk duyarız.\n",
            " Sayın Elif\n",
            " Bu mutlu günümüzde sizleri de aramızda görmekten mutluluk duyarız.\n",
            "\n"
          ]
        }
      ]
    }
  ]
}