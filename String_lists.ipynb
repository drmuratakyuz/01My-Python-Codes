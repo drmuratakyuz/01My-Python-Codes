{
  "nbformat": 4,
  "nbformat_minor": 0,
  "metadata": {
    "colab": {
      "name": "String_lists.ipynb",
      "provenance": [],
      "collapsed_sections": [],
      "authorship_tag": "ABX9TyMZMGxc/Df104aJypgqZbkw",
      "include_colab_link": true
    },
    "kernelspec": {
      "name": "python3",
      "display_name": "Python 3"
    },
    "language_info": {
      "name": "python"
    }
  },
  "cells": [
    {
      "cell_type": "markdown",
      "metadata": {
        "id": "view-in-github",
        "colab_type": "text"
      },
      "source": [
        "<a href=\"https://colab.research.google.com/github/drmuratakyuz/My-Python-Codes/blob/main/String_lists.ipynb\" target=\"_parent\"><img src=\"https://colab.research.google.com/assets/colab-badge.svg\" alt=\"Open In Colab\"/></a>"
      ]
    },
    {
      "cell_type": "code",
      "execution_count": 1,
      "metadata": {
        "colab": {
          "base_uri": "https://localhost:8080/",
          "height": 35
        },
        "id": "XmbWXAwaqzxG",
        "outputId": "51a3c1a4-bb42-4c98-c4d0-4a60e77dc2c0"
      },
      "outputs": [
        {
          "output_type": "execute_result",
          "data": {
            "text/plain": [
              "'Python'"
            ],
            "application/vnd.google.colaboratory.intrinsic+json": {
              "type": "string"
            }
          },
          "metadata": {},
          "execution_count": 1
        }
      ],
      "source": [
        "# replace() funtion\n",
        "a=\"python\"\n",
        "a.replace(\"p\",\"P\")"
      ]
    },
    {
      "cell_type": "code",
      "source": [
        "# split()\n",
        "a=\"I love coding with Python.\"\n",
        "a.split( )"
      ],
      "metadata": {
        "colab": {
          "base_uri": "https://localhost:8080/"
        },
        "id": "-BRzupA5shS4",
        "outputId": "b4a8c12c-1df0-41be-c514-e0dc3456a000"
      },
      "execution_count": 2,
      "outputs": [
        {
          "output_type": "execute_result",
          "data": {
            "text/plain": [
              "['I', 'love', 'coding', 'with', 'Python.']"
            ]
          },
          "metadata": {},
          "execution_count": 2
        }
      ]
    },
    {
      "cell_type": "code",
      "source": [
        "# split()\n",
        "a=\"N.B.A\"\n",
        "a.split(\".\")"
      ],
      "metadata": {
        "colab": {
          "base_uri": "https://localhost:8080/"
        },
        "id": "8VdNnM8zshUn",
        "outputId": "505ca18a-32e8-47f7-f123-04436f3a52a8"
      },
      "execution_count": 3,
      "outputs": [
        {
          "output_type": "execute_result",
          "data": {
            "text/plain": [
              "['N', 'B', 'A']"
            ]
          },
          "metadata": {},
          "execution_count": 3
        }
      ]
    },
    {
      "cell_type": "code",
      "source": [
        "#upper(), capitalixe, swapcase  and lower() functions\n",
        "a = \"hello word\"\n",
        "print(a.upper())\n",
        "\n",
        "a = \"hello word\"\n",
        "print(a.lower())\n",
        "\n",
        "\n",
        "a = \"hello word\"\n",
        "print(a.capitalize())\n",
        "\n",
        "a = \"Hello Word\"\n",
        "print(a.swapcase())"
      ],
      "metadata": {
        "colab": {
          "base_uri": "https://localhost:8080/"
        },
        "id": "ekNu70mfuBGO",
        "outputId": "ab9a2d0f-e789-4327-ab20-94fcf62c9188"
      },
      "execution_count": 6,
      "outputs": [
        {
          "output_type": "stream",
          "name": "stdout",
          "text": [
            "HELLO WORD\n",
            "hello word\n",
            "Hello word\n",
            "hELLO wORD\n"
          ]
        }
      ]
    },
    {
      "cell_type": "code",
      "source": [
        "# join( ) function != split()   \"x\".join(y)\n",
        "a = ['I', 'love', 'coding', 'with', 'Python.']\n",
        "print(\" \".join(a))"
      ],
      "metadata": {
        "colab": {
          "base_uri": "https://localhost:8080/"
        },
        "id": "yMQ-Io4FvKk_",
        "outputId": "41027a63-1fa2-47f0-9d37-e7d253509fdf"
      },
      "execution_count": 9,
      "outputs": [
        {
          "output_type": "stream",
          "name": "stdout",
          "text": [
            "I love coding with Python.\n"
          ]
        }
      ]
    },
    {
      "cell_type": "code",
      "source": [
        "# find() function\n",
        "sent = \"I love coding with Python.\"\n",
        "print(sent.find(\"a\"))\n",
        "print(sent.find(\"o\"))\n",
        "print(sent.find(\"t\"))"
      ],
      "metadata": {
        "colab": {
          "base_uri": "https://localhost:8080/"
        },
        "id": "ATFfeA8GuBHs",
        "outputId": "5558c123-7bc6-45e0-d6e0-711c788a2da5"
      },
      "execution_count": 16,
      "outputs": [
        {
          "output_type": "stream",
          "name": "stdout",
          "text": [
            "-1\n",
            "3\n",
            "16\n"
          ]
        }
      ]
    },
    {
      "cell_type": "code",
      "source": [
        "# rfind() function\n",
        "sent = \"I love coding with Python.\"\n",
        "print(sent.rfind(\"a\"))\n",
        "print(sent.rfind(\"o\"))\n",
        "print(sent.rfind(\"t\"))"
      ],
      "metadata": {
        "colab": {
          "base_uri": "https://localhost:8080/"
        },
        "id": "gXA-8p9ow3IF",
        "outputId": "7565fa3e-03ec-4354-d337-3a9383bdbee9"
      },
      "execution_count": 17,
      "outputs": [
        {
          "output_type": "stream",
          "name": "stdout",
          "text": [
            "-1\n",
            "23\n",
            "21\n"
          ]
        }
      ]
    },
    {
      "cell_type": "code",
      "source": [
        "# isdigit() function\n",
        "sent = \"I love coding with Python.\"\n",
        "print(sent.isdigit())\n",
        "sent = \"0123\"\n",
        "print(sent.isdigit())"
      ],
      "metadata": {
        "colab": {
          "base_uri": "https://localhost:8080/"
        },
        "id": "7jXmqCb6w_D6",
        "outputId": "901d96e6-4cc1-4ad4-c696-a63f52e95c27"
      },
      "execution_count": 19,
      "outputs": [
        {
          "output_type": "stream",
          "name": "stdout",
          "text": [
            "False\n",
            "True\n"
          ]
        }
      ]
    }
  ]
}