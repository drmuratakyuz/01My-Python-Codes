{
  "nbformat": 4,
  "nbformat_minor": 0,
  "metadata": {
    "colab": {
      "name": "Countnumber.ipynb",
      "provenance": [],
      "authorship_tag": "ABX9TyMGUAGHJjqcbLdw7FkLUl8n",
      "include_colab_link": true
    },
    "kernelspec": {
      "name": "python3",
      "display_name": "Python 3"
    },
    "language_info": {
      "name": "python"
    }
  },
  "cells": [
    {
      "cell_type": "markdown",
      "metadata": {
        "id": "view-in-github",
        "colab_type": "text"
      },
      "source": [
        "<a href=\"https://colab.research.google.com/github/drmuratakyuz/My-Python-Codes/blob/main/Countnumber.ipynb\" target=\"_parent\"><img src=\"https://colab.research.google.com/assets/colab-badge.svg\" alt=\"Open In Colab\"/></a>"
      ]
    },
    {
      "cell_type": "code",
      "execution_count": null,
      "metadata": {
        "id": "ind3ioTbHZ0C"
      },
      "outputs": [],
      "source": [
        "'''\n",
        "Count the number of each letter in a sentence.\n",
        "The department you work for undertook a project construction that makes word / text analysis. \n",
        "You are asked to calculate the number of letters or any chars in the sentences entered under this project.\n",
        "Write a Python program that;\n",
        "takes a sentence from the user,\n",
        "counts the number of each letter/chars of the sentence,\n",
        "collects the letters/chars as a key and the counted numbers as a value in a dictionary.\n",
        "Sample inputs\t: hippo runs to us!\t\n",
        "Outputs {'s': 2, 'r': 1, 't': 1, 'h': 1, 'n': 1, \n",
        "'i': 1, 'u': 2, 'o': 2, 'p': 2, ' ': 3, '!': 1}\n",
        "'''\n",
        "from itertools import groupby\n",
        "def Convert(string):\n",
        "    l=[]\n",
        "    l[:0]=string\n",
        "    return lst\n",
        "l = input(\"Enter a string: \")\n",
        "d = {}\n",
        "[ d.update( {i:d.get(i, 0)+1} ) for i in l ]\n",
        "print(d)\n"
      ]
    }
  ]
}