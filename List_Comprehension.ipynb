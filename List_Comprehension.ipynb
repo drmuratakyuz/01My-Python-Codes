{
  "nbformat": 4,
  "nbformat_minor": 0,
  "metadata": {
    "colab": {
      "name": "List_Comprehension.ipynb",
      "provenance": [],
      "collapsed_sections": [],
      "authorship_tag": "ABX9TyMY9QoNXv5Dm4bl4RpXxmr8",
      "include_colab_link": true
    },
    "kernelspec": {
      "name": "python3",
      "display_name": "Python 3"
    },
    "language_info": {
      "name": "python"
    }
  },
  "cells": [
    {
      "cell_type": "markdown",
      "metadata": {
        "id": "view-in-github",
        "colab_type": "text"
      },
      "source": [
        "<a href=\"https://colab.research.google.com/github/drmuratakyuz/My-Python-Codes/blob/main/List_Comprehension.ipynb\" target=\"_parent\"><img src=\"https://colab.research.google.com/assets/colab-badge.svg\" alt=\"Open In Colab\"/></a>"
      ]
    },
    {
      "cell_type": "code",
      "execution_count": null,
      "metadata": {
        "colab": {
          "base_uri": "https://localhost:8080/"
        },
        "id": "4TRUAf3IyFME",
        "outputId": "5d7bdb4a-1861-420a-92ad-8990c4b2f814"
      },
      "outputs": [
        {
          "output_type": "stream",
          "name": "stdout",
          "text": [
            "[1, 2, 3, 4, 5]\n"
          ]
        }
      ],
      "source": [
        "# creating list with for loop\n",
        "mylist1=[1,2,3,4,5]\n",
        "mylist2=[]\n",
        "for i in mylist1:\n",
        "  mylist2.append(i)\n",
        "print(mylist2)"
      ]
    },
    {
      "cell_type": "code",
      "source": [
        "# creating list with list comprehenson method\n",
        "mylist1=[1,2,3,4,5]\n",
        "mylist2=[i for i in mylist1] # **** \n",
        "\n",
        "print(mylist2)"
      ],
      "metadata": {
        "colab": {
          "base_uri": "https://localhost:8080/"
        },
        "id": "d0JCrTLAy0UU",
        "outputId": "469a3f52-0710-4ea4-9a5d-fcdbdfff0ffd"
      },
      "execution_count": null,
      "outputs": [
        {
          "output_type": "stream",
          "name": "stdout",
          "text": [
            "[1, 2, 3, 4, 5]\n"
          ]
        }
      ]
    },
    {
      "cell_type": "code",
      "source": [
        "# finding square of list items with list comprehenson method\n",
        "mylist1=[1,2,3,4,5,6]\n",
        "mylist2=[i**2 for i in mylist1] # **** \n",
        "\n",
        "print(mylist2)"
      ],
      "metadata": {
        "colab": {
          "base_uri": "https://localhost:8080/"
        },
        "id": "A8L9M5JAzRu-",
        "outputId": "52f8b082-850a-4577-8446-3350824fe03a"
      },
      "execution_count": null,
      "outputs": [
        {
          "output_type": "stream",
          "name": "stdout",
          "text": [
            "[1, 4, 9, 16, 25, 36]\n"
          ]
        }
      ]
    },
    {
      "cell_type": "code",
      "source": [
        "# crating a list list comprehenson method\n",
        "\n",
        "mylist2=[i for i in range(10)] # **** \n",
        "\n",
        "print(mylist2)"
      ],
      "metadata": {
        "colab": {
          "base_uri": "https://localhost:8080/"
        },
        "id": "XVoRdOkVzmPY",
        "outputId": "85836716-c5fc-40c9-fc65-dd30d05df609"
      },
      "execution_count": null,
      "outputs": [
        {
          "output_type": "stream",
          "name": "stdout",
          "text": [
            "[0, 1, 2, 3, 4, 5, 6, 7, 8, 9]\n"
          ]
        }
      ]
    },
    {
      "cell_type": "code",
      "source": [
        "# list comprehension and strings\n",
        "text=\"python\"\n",
        "mylist=[i*2 for i in text]\n",
        "print(mylist)"
      ],
      "metadata": {
        "colab": {
          "base_uri": "https://localhost:8080/"
        },
        "id": "NFtkzYjk0Bz7",
        "outputId": "85c69ac3-28b1-40c2-8c40-16c5c8185687"
      },
      "execution_count": null,
      "outputs": [
        {
          "output_type": "stream",
          "name": "stdout",
          "text": [
            "['pp', 'yy', 'tt', 'hh', 'oo', 'nn']\n"
          ]
        }
      ]
    },
    {
      "cell_type": "code",
      "source": [
        "mylist1=[[1,2,3],[4,5,6],[7,8,9]]\n",
        "mylist2=[j for i in mylist1 for j in i]\n",
        "print(mylist2)"
      ],
      "metadata": {
        "id": "sM6Od_Js0RpQ",
        "outputId": "399621b9-b248-4df3-d15c-fae6ba2f83ee",
        "colab": {
          "base_uri": "https://localhost:8080/"
        }
      },
      "execution_count": null,
      "outputs": [
        {
          "output_type": "stream",
          "name": "stdout",
          "text": [
            "[1, 2, 3, 4, 5, 6, 7, 8, 9]\n"
          ]
        }
      ]
    },
    {
      "cell_type": "code",
      "source": [
        "# list comprehenson for loop and list\n",
        "mylist=[i for i in range(1,20) if i%2==0]\n",
        "print(mylist)"
      ],
      "metadata": {
        "colab": {
          "base_uri": "https://localhost:8080/"
        },
        "id": "4Kb6f5l14FsA",
        "outputId": "b556ee9d-432d-411d-c2a3-628c2c43c26d"
      },
      "execution_count": 10,
      "outputs": [
        {
          "output_type": "stream",
          "name": "stdout",
          "text": [
            "[2, 4, 6, 8, 10, 12, 14, 16, 18]\n"
          ]
        }
      ]
    }
  ]
}