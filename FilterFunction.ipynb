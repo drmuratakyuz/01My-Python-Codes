{
  "nbformat": 4,
  "nbformat_minor": 0,
  "metadata": {
    "colab": {
      "name": "FilterFunction.ipynb",
      "provenance": [],
      "authorship_tag": "ABX9TyM1jZQyQiV5S+ZniPzczDUG",
      "include_colab_link": true
    },
    "kernelspec": {
      "name": "python3",
      "display_name": "Python 3"
    },
    "language_info": {
      "name": "python"
    }
  },
  "cells": [
    {
      "cell_type": "markdown",
      "metadata": {
        "id": "view-in-github",
        "colab_type": "text"
      },
      "source": [
        "<a href=\"https://colab.research.google.com/github/drmuratakyuz/My-Python-Codes/blob/main/FilterFunction.ipynb\" target=\"_parent\"><img src=\"https://colab.research.google.com/assets/colab-badge.svg\" alt=\"Open In Colab\"/></a>"
      ]
    },
    {
      "cell_type": "code",
      "execution_count": 7,
      "metadata": {
        "id": "HWVA-KCpo0lF"
      },
      "outputs": [],
      "source": [
        "def buyuk_harf(isim):\n",
        "  return isim.isupper( )\n",
        "  liste=[\"Ali\",\"ali\",\"Selim\",\"SELİM\",\"selim\"]\n",
        "  sonuc=filter(buyuk_harf,liste)\n",
        "\n",
        "  print(*sonuc)"
      ]
    },
    {
      "cell_type": "code",
      "source": [
        "sayılar = [10, 15, 4, 29, 402, 249, 210, 55, 40, ]\n",
        "sonuc = filter(lambda x: (x % 3 == 0), sayılar)\n",
        "print(*sonuc)"
      ],
      "metadata": {
        "colab": {
          "base_uri": "https://localhost:8080/"
        },
        "id": "POLHynQDpYHG",
        "outputId": "093abe32-0231-4696-f8a4-93252e3d6cf4"
      },
      "execution_count": 8,
      "outputs": [
        {
          "output_type": "stream",
          "name": "stdout",
          "text": [
            "15 402 249 210\n"
          ]
        }
      ]
    },
    {
      "cell_type": "code",
      "source": [
        "#müşteriler listesi müşteri no ile bakiye miktarı\n",
        "musteriler= [[1, 12], [2, 600], [ 3, 500], [4,150]]\n",
        "sonuc = filter(lambda x: (x[1] > 149),musteriler )\n",
        "print(*sonuc)"
      ],
      "metadata": {
        "colab": {
          "base_uri": "https://localhost:8080/"
        },
        "id": "TYrbXEMjo2Bw",
        "outputId": "8953cc7a-a35b-452c-9993-cc6272107a5a"
      },
      "execution_count": 9,
      "outputs": [
        {
          "output_type": "stream",
          "name": "stdout",
          "text": [
            "[2, 600] [3, 500] [4, 150]\n"
          ]
        }
      ]
    },
    {
      "cell_type": "code",
      "source": [
        "'''\n",
        "1. 5’ten başlayıp 20’ye kadar olan çift sayılardan oluşan bir \n",
        "listeyi list comprehension kullanarak yapınız.\n",
        "'''\n",
        "liste=[ i for i in range(5,21,2)]\n",
        "print(liste)"
      ],
      "metadata": {
        "colab": {
          "base_uri": "https://localhost:8080/"
        },
        "id": "2_b8pIQippGm",
        "outputId": "f8b2bdfa-b25f-4838-a22d-4eae2c78949e"
      },
      "execution_count": 10,
      "outputs": [
        {
          "output_type": "stream",
          "name": "stdout",
          "text": [
            "[5, 7, 9, 11, 13, 15, 17, 19]\n"
          ]
        }
      ]
    },
    {
      "cell_type": "code",
      "source": [
        "'''\n",
        "2. liste1=[“ahmet”,“ayşe”,“metin”] \n",
        "listesinden list comprehension metodu ile verilerin başına sayın ifadesi\n",
        "gelecek şekilde \n",
        "([‘Sayın ahmet’, ‘Sayın ayşe’, ‘Sayın metin’]) \n",
        "liste2 adında bir liste oluşturunuz.\n",
        "'''\n",
        "liste1=[\"ahmet\",\"ayşe\",\"metin\"]\n",
        "liste2=[\"Sayın \"+i for i in liste1]\n",
        "print(liste2)"
      ],
      "metadata": {
        "colab": {
          "base_uri": "https://localhost:8080/"
        },
        "id": "0MOc5WauuqP2",
        "outputId": "17edbf1d-2792-4f2d-c68d-ebbc485a64cf"
      },
      "execution_count": 11,
      "outputs": [
        {
          "output_type": "stream",
          "name": "stdout",
          "text": [
            "['Sayın ahmet', 'Sayın ayşe', 'Sayın metin']\n"
          ]
        }
      ]
    },
    {
      "cell_type": "code",
      "source": [
        "'''\n",
        "3. Elinizde bir teste ait cevap anahtarı ve öğrenci cevaplarının olduğu listeler var. \n",
        "Siz bu cevapları anahtar ile kontrol ederek sonuçları doğru veya yanlış olarak çıktı almak istiyorsunuz. \n",
        "Bunu yapacak kodları lambda ve map fonksiyonları ile nasıl yaparsınız.\n",
        "Örnek: cevap_anahtarı=[“a”,“c”,“e”,“b”,“a”] ogrenci_1=[“a”,“d”,“d”,“b”,“a”]\n",
        "İstenen çıktı Çıktı: [‘doğru’, ‘yanlıs’, ‘yanlıs’, ‘doğru’, ‘doğru’]\n",
        "'''\n",
        "cevap_anahtari=[\"a\",\"c\",\"e\",\"b\",\"a\"]\n",
        "ogrenci_1=[\"a\",\"d\",\"d\",\"b\",\"a\"]\n",
        "liste2=list(map(lambda x,y: \"doğru\" if x==y else \"yanlıs\",cevap_anahtari,ogrenci_1))\n",
        "print(liste2)"
      ],
      "metadata": {
        "colab": {
          "base_uri": "https://localhost:8080/"
        },
        "id": "mHDPelBru2ef",
        "outputId": "fa3885c5-030f-405f-9583-adf7c397dcbd"
      },
      "execution_count": 12,
      "outputs": [
        {
          "output_type": "stream",
          "name": "stdout",
          "text": [
            "['doğru', 'yanlıs', 'yanlıs', 'doğru', 'doğru']\n"
          ]
        }
      ]
    }
  ]
}