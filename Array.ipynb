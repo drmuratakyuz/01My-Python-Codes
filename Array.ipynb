{
  "nbformat": 4,
  "nbformat_minor": 0,
  "metadata": {
    "colab": {
      "name": "Array.ipynb",
      "provenance": [],
      "authorship_tag": "ABX9TyPCsT8dCyJxEKPxg+E/9PC8",
      "include_colab_link": true
    },
    "kernelspec": {
      "name": "python3",
      "display_name": "Python 3"
    },
    "language_info": {
      "name": "python"
    }
  },
  "cells": [
    {
      "cell_type": "markdown",
      "metadata": {
        "id": "view-in-github",
        "colab_type": "text"
      },
      "source": [
        "<a href=\"https://colab.research.google.com/github/drmuratakyuz/01My-Python-Codes/blob/main/Array.ipynb\" target=\"_parent\"><img src=\"https://colab.research.google.com/assets/colab-badge.svg\" alt=\"Open In Colab\"/></a>"
      ]
    },
    {
      "cell_type": "code",
      "execution_count": null,
      "metadata": {
        "id": "8TdGKVueDRA7"
      },
      "outputs": [],
      "source": [
        "first_arr = [\"aaabaaddae\", \"aed\"]\n",
        "\n",
        "def min_window(wrd_arr):\n",
        "    wrd1 = wrd_arr[0]\n",
        "    wrd2 = wrd_arr[1]\n",
        "    for i in range(len(wrd2), len(wrd1)+1) :\n",
        "        new1 = wrd1[:i]\n",
        "        if all(new1.count(j) >= wrd2.count(j) for j in wrd2) :\n",
        "          return new1\n",
        "          break\n",
        "        \n",
        "while True :\n",
        "    temp_arr = []\n",
        "    result1 = min_window(first_arr)\n",
        "    temp_arr = [result1[::-1]] + [first_arr[1]]\n",
        "    result2 = min_window(temp_arr)\n",
        "    if len(result1) == len(result2) :\n",
        "      print(result1)\n",
        "      break\n",
        "    else :\n",
        "      first_arr = [result2[::-1]] + [first_arr[1]]"
      ]
    }
  ]
}