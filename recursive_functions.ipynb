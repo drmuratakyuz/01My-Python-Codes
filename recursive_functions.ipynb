{
  "nbformat": 4,
  "nbformat_minor": 0,
  "metadata": {
    "colab": {
      "name": "recursive functions.ipynb",
      "provenance": [],
      "collapsed_sections": [],
      "authorship_tag": "ABX9TyO/TY1mrPTYMqgYCXmGQqtK",
      "include_colab_link": true
    },
    "kernelspec": {
      "name": "python3",
      "display_name": "Python 3"
    },
    "language_info": {
      "name": "python"
    }
  },
  "cells": [
    {
      "cell_type": "markdown",
      "metadata": {
        "id": "view-in-github",
        "colab_type": "text"
      },
      "source": [
        "<a href=\"https://colab.research.google.com/github/drmuratakyuz/My-Python-Codes/blob/main/recursive_functions.ipynb\" target=\"_parent\"><img src=\"https://colab.research.google.com/assets/colab-badge.svg\" alt=\"Open In Colab\"/></a>"
      ]
    },
    {
      "cell_type": "code",
      "execution_count": 2,
      "metadata": {
        "colab": {
          "base_uri": "https://localhost:8080/"
        },
        "id": "qWSTY9a-1w8Z",
        "outputId": "3fa81e92-e5bb-4e89-a15b-6dc5e939f370"
      },
      "outputs": [
        {
          "output_type": "stream",
          "name": "stdout",
          "text": [
            "Enter a number: 5\n",
            "120\n"
          ]
        }
      ],
      "source": [
        "factorial=1\n",
        "number=int(input(\"Enter a number: \"))\n",
        "if number>=0:\n",
        "  for i in range(1,number+1):\n",
        "    factorial*=i\n",
        "print (factorial)"
      ]
    },
    {
      "cell_type": "code",
      "source": [
        "def faktoriyel_hesapla(sayı):\n",
        "  faktoriyel=1\n",
        "  if sayı>=0:\n",
        "    for i in range(1,sayı+1):\n",
        "      faktoriyel*=i\n",
        "    return faktoriyel\n",
        "sayı=int(input(\"Enter a number: \"))\n",
        "print (faktoriyel_hesapla(sayı))"
      ],
      "metadata": {
        "colab": {
          "base_uri": "https://localhost:8080/"
        },
        "id": "51X8ViJJ7RPa",
        "outputId": "f5e89234-7184-4d55-f9ab-95149185f785"
      },
      "execution_count": 9,
      "outputs": [
        {
          "output_type": "stream",
          "name": "stdout",
          "text": [
            "faktoriyelini hesaplamak istediğiniz sayıyı giriniz4\n",
            "24\n"
          ]
        }
      ]
    },
    {
      "cell_type": "code",
      "source": [
        "def faktoriyel_hesapla(sayı):\n",
        "  faktoriyel=1\n",
        "  if sayı==1:\n",
        "    return 1\n",
        "  else:\n",
        "    return sayı*faktoriyel_hesapla(sayı-1)\n",
        "sayı=int(input(\"Enter a number: \"))\n",
        "print (faktoriyel_hesapla(sayı))"
      ],
      "metadata": {
        "colab": {
          "base_uri": "https://localhost:8080/"
        },
        "id": "H4yuTd-ULL5i",
        "outputId": "32283c8b-1a9b-4e54-cdd7-b089e945bc7f"
      },
      "execution_count": 10,
      "outputs": [
        {
          "output_type": "stream",
          "name": "stdout",
          "text": [
            "faktoriyelini hesaplamak istediğiniz sayıyı giriniz5\n",
            "120\n"
          ]
        }
      ]
    },
    {
      "cell_type": "code",
      "source": [
        "def fibonacci(n):\n",
        "  if n <= 2:\n",
        "    return 1\n",
        "  else:\n",
        "    return fibonacci(n-1) + fibonacci(n-2)\n",
        "sayı=int(input(\"Enter a number: \"))\n",
        "print(fibonacci(sayı))"
      ],
      "metadata": {
        "colab": {
          "base_uri": "https://localhost:8080/"
        },
        "id": "OknNbYQRMPNR",
        "outputId": "a255fbf5-8aba-48ef-8803-0189aa157855"
      },
      "execution_count": 13,
      "outputs": [
        {
          "output_type": "stream",
          "name": "stdout",
          "text": [
            "Enter a number: 21\n",
            "10946\n"
          ]
        }
      ]
    },
    {
      "cell_type": "code",
      "source": [
        "sayı=int(input(\"Enter a number: \"))\n",
        "toplam=0\n",
        "for i in range(1,sayı+1):\n",
        "toplam+=i\n",
        "print(toplam)"
      ],
      "metadata": {
        "id": "Mfl4fX4YMni_"
      },
      "execution_count": null,
      "outputs": []
    },
    {
      "cell_type": "code",
      "source": [
        "# backgammon dice\n",
        "import random\n",
        "dice = ['bir', 'iki', 'üç','dört','beş','altı']\n",
        "print(random.choice(dice))\n",
        "#print(random.choice(dice))\n"
      ],
      "metadata": {
        "colab": {
          "base_uri": "https://localhost:8080/"
        },
        "id": "4GLmkc2uOA-m",
        "outputId": "2cd90b12-5d45-4fd2-d5d0-6bf85607df68"
      },
      "execution_count": 33,
      "outputs": [
        {
          "output_type": "stream",
          "name": "stdout",
          "text": [
            "altı\n"
          ]
        }
      ]
    },
    {
      "cell_type": "code",
      "source": [
        "def topla(sayı):\n",
        "  if sayı==1:\n",
        "   return 1\n",
        "  else:\n",
        "    return sayı+topla(sayı-1)\n",
        "sayı=int(input(\"Enter a number: \"))\n",
        "print(topla(sayı))"
      ],
      "metadata": {
        "colab": {
          "base_uri": "https://localhost:8080/"
        },
        "id": "_5c3TMrTgCcx",
        "outputId": "0be933d4-b67c-4c4a-847a-920dc0e12874"
      },
      "execution_count": 25,
      "outputs": [
        {
          "output_type": "stream",
          "name": "stdout",
          "text": [
            "Enter a number: 5\n",
            "15\n"
          ]
        }
      ]
    }
  ]
}