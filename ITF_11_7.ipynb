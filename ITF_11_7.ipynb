{
  "nbformat": 4,
  "nbformat_minor": 0,
  "metadata": {
    "colab": {
      "name": "ITF_11_7.ipynb",
      "provenance": [],
      "authorship_tag": "ABX9TyOjKevOGRmoMh4x8WdCimy4",
      "include_colab_link": true
    },
    "kernelspec": {
      "name": "python3",
      "display_name": "Python 3"
    },
    "language_info": {
      "name": "python"
    }
  },
  "cells": [
    {
      "cell_type": "markdown",
      "metadata": {
        "id": "view-in-github",
        "colab_type": "text"
      },
      "source": [
        "<a href=\"https://colab.research.google.com/github/drmuratakyuz/My-Python-Codes/blob/main/ITF_11_7.ipynb\" target=\"_parent\"><img src=\"https://colab.research.google.com/assets/colab-badge.svg\" alt=\"Open In Colab\"/></a>"
      ]
    },
    {
      "cell_type": "code",
      "execution_count": null,
      "metadata": {
        "colab": {
          "base_uri": "https://localhost:8080/"
        },
        "id": "IYtAfTY4BnVm",
        "outputId": "8bc22f5f-a931-4432-f924-4650a7aacdf3"
      },
      "outputs": [
        {
          "output_type": "stream",
          "name": "stdout",
          "text": [
            "pp\n",
            "rr\n",
            "qq\n"
          ]
        }
      ],
      "source": [
        "'''\n",
        "1. What will be the output of the following Python code?\n",
        "for x in set('pqr'):\n",
        "print(x*2)\n",
        "A.\n",
        "pqr\n",
        "pqr\n",
        "\n",
        "B.\n",
        "qqpprr\n",
        "\n",
        "C.\n",
        "ppqqrr\n",
        "\n",
        "D.\n",
        "rr\n",
        "qq\n",
        "pp\n",
        "'''\n",
        "\n",
        "#1. What will be the output of the following Python code?\n",
        "for x in set('pqr'):\n",
        "  print(x*2)\n",
        "\n",
        "# ???"
      ]
    },
    {
      "cell_type": "code",
      "source": [
        "'''\n",
        "2. Which of the following statements create a dictionary?\n",
        "#A. d = {}\n",
        "B. d = {“john”:40, “peter”:45}\n",
        "C. d = {40:”john”, 45:”peter”}\n",
        "D. All of the mentioned\n",
        "'''\n",
        "#2. Which of the following statements create a dictionary?\n",
        " \n",
        "d = {} #A. Answer is A\n",
        "\n",
        "#d = {“john”:40, “peter”:45}  #B. \n",
        "\n",
        "#d = {40:”john”, 45:”peter”} #C. \n",
        "\n",
        "# All of the mentioned  #D. \n",
        "\n",
        "print(d)\n"
      ],
      "metadata": {
        "colab": {
          "base_uri": "https://localhost:8080/"
        },
        "id": "COSkq-psCMn-",
        "outputId": "162ed5fb-8444-4950-e22b-19b2d00674f1"
      },
      "execution_count": null,
      "outputs": [
        {
          "output_type": "stream",
          "name": "stdout",
          "text": [
            "{}\n"
          ]
        }
      ]
    },
    {
      "cell_type": "code",
      "source": [
        "'''\n",
        "3. What is the output of the following program?\n",
        "d = {\"john\":40, \"peter\":45}\n",
        "d[\"john\"]\n",
        "#A. 40\n",
        "B. 45\n",
        "C. “john”\n",
        "D. “peter”\n",
        "'''\n",
        "#3. What is the output of the following program?\n",
        "d = {\"john\":40, \"peter\":45}\n",
        "d[\"john\"]\n"
      ],
      "metadata": {
        "colab": {
          "base_uri": "https://localhost:8080/"
        },
        "id": "ByTmq6KBDXI3",
        "outputId": "5d0ae0bb-49af-4b67-b7c9-1a30bdfb5017"
      },
      "execution_count": null,
      "outputs": [
        {
          "output_type": "execute_result",
          "data": {
            "text/plain": [
              "40"
            ]
          },
          "metadata": {},
          "execution_count": 19
        }
      ]
    },
    {
      "cell_type": "code",
      "source": [
        "'''\n",
        "4. What would this expression return in Python?\n",
        "d = {\"john\":40, \"peter\":45}\n",
        "print(list(d.keys()))\n",
        "A. (“john”:40, “peter”:45)\n",
        "B. (“john”, “peter”)\n",
        "#C. [“john”, “peter”] \n",
        "D. [“john”:40, “peter”:45]\n",
        "'''\n",
        "\n",
        "d = {\"john\":40, \"peter\":45}\n",
        "print(list(d.keys()))\n"
      ],
      "metadata": {
        "colab": {
          "base_uri": "https://localhost:8080/"
        },
        "id": "ut72xNwFDyOr",
        "outputId": "e390cfe9-a682-4b08-b23a-2f5806c1bd17"
      },
      "execution_count": null,
      "outputs": [
        {
          "output_type": "stream",
          "name": "stdout",
          "text": [
            "['john', 'peter']\n"
          ]
        }
      ]
    },
    {
      "cell_type": "code",
      "source": [
        "'''\n",
        "5. What is the output of the code shown below?\n",
        "a={}\n",
        "a['a']=1\n",
        "a['b']=[2,3,4]\n",
        "print(a)\n",
        "A. Exception is thrown\n",
        "#B. {‘b’: [2], ‘a’: 1}\n",
        "C. {‘b’: [2, 3, 4], ‘a’: 1}\n",
        "D. {‘b’: [2], ‘a’: [3]}\n",
        "'''\n",
        "a={}\n",
        "a['a']=1\n",
        "a['b']=[2,3,4]\n",
        "print(a)"
      ],
      "metadata": {
        "colab": {
          "base_uri": "https://localhost:8080/"
        },
        "id": "nN1fL-nIQnW7",
        "outputId": "5536f7f7-ecb0-41b8-87d1-8979c8b72413"
      },
      "execution_count": null,
      "outputs": [
        {
          "output_type": "stream",
          "name": "stdout",
          "text": [
            "{'a': 1, 'b': [2, 3, 4]}\n"
          ]
        }
      ]
    },
    {
      "cell_type": "code",
      "source": [
        "'''\n",
        "6. What is the output of the code shown below?\n",
        "z=set('abc')\n",
        "z.add('san')\n",
        "z.update(set(['p', 'q']))\n",
        "print(z)\n",
        "A. {‘abc’, ‘p’, ‘q’, ‘san’}\n",
        "#B. {‘a’, ‘b’, ‘c’, ‘p’, ‘q’, ‘san’}\n",
        "C. {‘a’, ‘b’, ‘c’, [‘p’, ‘q’], ‘san}\n",
        "D. {‘a’, ‘c’, ‘c’, ‘p’, ‘q’, ‘s’, ‘a’, ‘n’}\n",
        "'''\n",
        "\n",
        "z=set('abc')\n",
        "z.add('san')\n",
        "z.update(set(['p', 'q']))\n",
        "print(z)"
      ],
      "metadata": {
        "colab": {
          "base_uri": "https://localhost:8080/"
        },
        "id": "3nyXxlcdRITs",
        "outputId": "d3e0e3b2-3918-493c-d80c-adb979c75af0"
      },
      "execution_count": null,
      "outputs": [
        {
          "output_type": "stream",
          "name": "stdout",
          "text": [
            "{'p', 'san', 'c', 'b', 'a', 'q'}\n"
          ]
        }
      ]
    },
    {
      "cell_type": "code",
      "source": [
        "'''\n",
        "7. What is the term to describe this code?\n",
        "count, fruit, price = (2, 'apple', 3.5)\n",
        "A. tuple assignment\n",
        "#B. tuple unpacking\n",
        "C. tuple matching\n",
        "D. tuple duplication\n",
        "'''\n",
        "\n",
        "count, fruit, price = (2, 'apple', 3.5)\n",
        "print(\"count\\t: \",count,\"\\t\\t\",type(count))\n",
        "print(\"fruit\\t: \",fruit,\"\\t\",type(fruit))\n",
        "print(\"price\\t: \",price,\"\\t\\t\",type(price))\n"
      ],
      "metadata": {
        "colab": {
          "base_uri": "https://localhost:8080/"
        },
        "id": "A-7K0cSVRmN5",
        "outputId": "f5ef30fe-8ee1-4fac-bb35-b7f7cb97b2ef"
      },
      "execution_count": null,
      "outputs": [
        {
          "output_type": "stream",
          "name": "stdout",
          "text": [
            "count\t:  2 \t\t <class 'int'>\n",
            "fruit\t:  apple \t <class 'str'>\n",
            "price\t:  3.5 \t\t <class 'float'>\n"
          ]
        }
      ]
    },
    {
      "cell_type": "code",
      "source": [
        "'''\n",
        "8. What is the output of the code shown below??\n",
        "college_years = ['Freshman', 'Sophomore', 'Junior', 'Senior']\n",
        "print(list(enumerate(college_years, 2019)))\n",
        "A. [('Freshman', 2019), ('Sophomore', 2020), ('Junior', 2021), ('Senior', 2022)]\n",
        "B. [(2019, 2020, 2021, 2022), ('Freshman', 'Sophomore', 'Junior', 'Senior')]\n",
        "C. [('Freshman', 'Sophomore', 'Junior', 'Senior'), (2019, 2020, 2021, 2022)]\n",
        "#D. [(2019, 'Freshman'), (2020, 'Sophomore'), (2021, 'Junior'), (2022, 'Senior')]\n",
        "'''\n",
        "\n",
        "college_years = ['Freshman', 'Sophomore', 'Junior', 'Senior']\n",
        "print(list(enumerate(college_years, 2019)))\n"
      ],
      "metadata": {
        "colab": {
          "base_uri": "https://localhost:8080/"
        },
        "id": "wYYywY7YTD6f",
        "outputId": "6f914e06-aca7-4843-94de-c6e60baf13cb"
      },
      "execution_count": null,
      "outputs": [
        {
          "output_type": "stream",
          "name": "stdout",
          "text": [
            "[(2019, 'Freshman'), (2020, 'Sophomore'), (2021, 'Junior'), (2022, 'Senior')]\n"
          ]
        }
      ]
    },
    {
      "cell_type": "code",
      "source": [
        "'''\n",
        "9. How can you check your current git version?\n",
        "A. git --v\n",
        "#B. git --version\n",
        "C. git --option\n",
        "D. git --current\n",
        "\n",
        "'''"
      ],
      "metadata": {
        "id": "_7D8sZiMT9_F"
      },
      "execution_count": null,
      "outputs": []
    }
  ]
}