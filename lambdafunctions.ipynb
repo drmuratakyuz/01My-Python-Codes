{
  "nbformat": 4,
  "nbformat_minor": 0,
  "metadata": {
    "colab": {
      "name": "lambdafunctions.ipynb",
      "provenance": [],
      "authorship_tag": "ABX9TyPzLbGFi29xvyOg5afVYWGC",
      "include_colab_link": true
    },
    "kernelspec": {
      "name": "python3",
      "display_name": "Python 3"
    },
    "language_info": {
      "name": "python"
    }
  },
  "cells": [
    {
      "cell_type": "markdown",
      "metadata": {
        "id": "view-in-github",
        "colab_type": "text"
      },
      "source": [
        "<a href=\"https://colab.research.google.com/github/drmuratakyuz/My-Python-Codes/blob/main/lambdafunctions.ipynb\" target=\"_parent\"><img src=\"https://colab.research.google.com/assets/colab-badge.svg\" alt=\"Open In Colab\"/></a>"
      ]
    },
    {
      "cell_type": "code",
      "execution_count": 4,
      "metadata": {
        "colab": {
          "base_uri": "https://localhost:8080/"
        },
        "id": "MW7jM5qjtToM",
        "outputId": "d01f635e-5965-4ff4-9853-34def4c6747d"
      },
      "outputs": [
        {
          "output_type": "stream",
          "name": "stdout",
          "text": [
            "<filter object at 0x7fcdac557650>\n"
          ]
        }
      ],
      "source": [
        "vowel_list = ['a', 'e', 'i', 'o', 'u']\n",
        "first_ten = ['a', 'b', 'c', 'd', 'e', 'f', 'g', 'h', 'i', 'j']\n",
        "vowels = filter(lambda x: x in vowel_list, first_ten)\n",
        "print(vowels)"
      ]
    },
    {
      "cell_type": "code",
      "source": [
        "def modular_function(n):\n",
        "    return lambda x: x ** n\n",
        "    \n",
        "power_of_2 = modular_function(2)  # first sub-function derived from def\n",
        "power_of_3 = modular_function(3)  # second sub-function derived from def\n",
        "power_of_4 = modular_function(4)  # third sub-function derived from def\n",
        "\n",
        "print(power_of_2(2))  # 2 to the power of 2\n",
        "print(power_of_3(2))  # 2 to the power of 3\n",
        "print(power_of_4(2))  # 2 to the power of 4"
      ],
      "metadata": {
        "colab": {
          "base_uri": "https://localhost:8080/"
        },
        "id": "VBsJmxykt0ee",
        "outputId": "f9007155-09f4-4262-f957-6c393308f2d9"
      },
      "execution_count": 1,
      "outputs": [
        {
          "output_type": "stream",
          "name": "stdout",
          "text": [
            "4\n",
            "8\n",
            "16\n"
          ]
        }
      ]
    },
    {
      "cell_type": "code",
      "source": [
        "def modular_function(n):\n",
        "    return lambda x: x ** n\n",
        "    \n",
        "power_of_2 = modular_function(2)  # first sub-function derived from def\n",
        "power_of_3 = modular_function(3)  # second sub-function derived from def\n",
        "power_of_4 = modular_function(4)  # third sub-function derived from def\n",
        "\n",
        "print(power_of_2(2))  # 2 to the power of 2\n",
        "print(power_of_3(2))  # 2 to the power of 3\n",
        "print(power_of_4(2))  # 2 to the power of 4"
      ],
      "metadata": {
        "id": "1nXcIREDucBP"
      },
      "execution_count": null,
      "outputs": []
    },
    {
      "cell_type": "code",
      "source": [
        "def repeater(n):\n",
        "    return lambda x: x * n\n",
        "    \n",
        "repeat_2_times = repeater(2)  # repeats 2 times\n",
        "repeat_3_times = repeater(3)  # repeats 3 times\n",
        "repeat_4_times = repeater(4)  # repeats 4 times\n",
        "\n",
        "print(repeat_2_times('alex '))\n",
        "print(repeat_3_times('lara '))\n",
        "print(repeat_4_times('linda '))\n"
      ],
      "metadata": {
        "colab": {
          "base_uri": "https://localhost:8080/"
        },
        "id": "wqxsJrB_uAI4",
        "outputId": "2528a0fa-6267-48e0-b465-70259754e601"
      },
      "execution_count": 2,
      "outputs": [
        {
          "output_type": "stream",
          "name": "stdout",
          "text": [
            "alex alex \n",
            "lara lara lara \n",
            "linda linda linda linda \n"
          ]
        }
      ]
    },
    {
      "cell_type": "code",
      "source": [
        "def modular(n):\n",
        "    return lambda x: x ** n\n",
        "'''    \n",
        "power_of_2 = modular_function(2)  # first sub-function derived from def\n",
        "power_of_3 = modular_function(3)  # second sub-function derived from def\n",
        "power_of_4 = modular_function(4)  # third sub-function derived from def\n",
        "\n",
        "print(power_of_2(2))  # 2 to the power of 2\n",
        "print(power_of_3(2))  # 2 to the power of 3\n",
        "print(power_of_4(2))  # 2 to the power of 4\n",
        "'''\n",
        "kupunual = modular(3)\n",
        "(kupunual)(3)"
      ],
      "metadata": {
        "colab": {
          "base_uri": "https://localhost:8080/"
        },
        "id": "KziOPzYavE6m",
        "outputId": "d8dd205c-8da8-454e-c070-7d9de68de97f"
      },
      "execution_count": 10,
      "outputs": [
        {
          "output_type": "execute_result",
          "data": {
            "text/plain": [
              "27"
            ]
          },
          "metadata": {},
          "execution_count": 10
        }
      ]
    },
    {
      "cell_type": "code",
      "source": [
        "(lambda x: x**3)(3)"
      ],
      "metadata": {
        "colab": {
          "base_uri": "https://localhost:8080/"
        },
        "id": "8Lqs00QDwGLl",
        "outputId": "fb961795-26e2-41ed-b48a-114bfed687d7"
      },
      "execution_count": 9,
      "outputs": [
        {
          "output_type": "execute_result",
          "data": {
            "text/plain": [
              "27"
            ]
          },
          "metadata": {},
          "execution_count": 9
        }
      ]
    },
    {
      "cell_type": "code",
      "source": [
        "def modular(n):\n",
        "    return lambda x: x * n\n",
        "\n",
        "(lambda x: x*4)(\"3\")"
      ],
      "metadata": {
        "colab": {
          "base_uri": "https://localhost:8080/",
          "height": 36
        },
        "id": "FCeoov3QwfUW",
        "outputId": "4ebd26cc-7206-4436-e9fd-5afdb4adb723"
      },
      "execution_count": 13,
      "outputs": [
        {
          "output_type": "execute_result",
          "data": {
            "text/plain": [
              "'3333'"
            ],
            "application/vnd.google.colaboratory.intrinsic+json": {
              "type": "string"
            }
          },
          "metadata": {},
          "execution_count": 13
        }
      ]
    },
    {
      "cell_type": "code",
      "source": [
        "(lambda x: x*4)(\"3\")"
      ],
      "metadata": {
        "id": "iBfyrJgixe5c"
      },
      "execution_count": null,
      "outputs": []
    },
    {
      "cell_type": "code",
      "source": [
        "def functioner(emoji = None):\n",
        "   return lambda message: print(message,emoji)\n",
        "\n",
        "emoloji_smile = functioner(':)')\n",
        "emoloji_sad = functioner(':(')\n",
        "emoloji_neutral = functioner(':|')\n",
        "\n",
        "emoloji_smile(\"ali\")\n",
        "emoloji_sad([1,2,3,4])\n",
        "emoloji_neutral({1:2,3:4})\n"
      ],
      "metadata": {
        "colab": {
          "base_uri": "https://localhost:8080/"
        },
        "id": "a710hdcXx0FR",
        "outputId": "8fb6b04f-c651-4157-94c1-0fcf763ff799"
      },
      "execution_count": 18,
      "outputs": [
        {
          "output_type": "stream",
          "name": "stdout",
          "text": [
            "ali :)\n",
            "[1, 2, 3, 4] :(\n",
            "{1: 2, 3: 4} :|\n"
          ]
        }
      ]
    },
    {
      "cell_type": "code",
      "source": [
        "(lambda x : print(x, \":(\")) (66)"
      ],
      "metadata": {
        "colab": {
          "base_uri": "https://localhost:8080/"
        },
        "id": "g27UAmq33iHP",
        "outputId": "2a9d3e37-e2c7-4741-c3c5-51cc92b55544"
      },
      "execution_count": 19,
      "outputs": [
        {
          "output_type": "stream",
          "name": "stdout",
          "text": [
            "66 :(\n"
          ]
        }
      ]
    },
    {
      "cell_type": "code",
      "source": [
        "'''\n",
        "ali_print() -->print()\n",
        "ali_max() --> max()\n",
        "ali_bool()-->bool()\n",
        "ali_sorted()-->sorted\n",
        "'''\n",
        "def function_generator(function_name):\n",
        "  return lambda x: function_name(x)\n",
        "\n",
        "murat_print = function_generator(print)\n",
        "murat_max = function_generator(max)\n",
        "murat_sorted = function_generator(sorted)\n",
        "murat_bool = function_generator(bool)\n",
        "\n",
        "print(murat_max((5,7,8,98,22)))\n",
        "print(murat_print(\"Ali\"))\n",
        "print(murat_sorted((5,7,8,98,22)))"
      ],
      "metadata": {
        "colab": {
          "base_uri": "https://localhost:8080/"
        },
        "id": "HFImtJb735cb",
        "outputId": "6cf055e7-0dd4-4c24-9ffc-380b3a2d2e63"
      },
      "execution_count": 22,
      "outputs": [
        {
          "output_type": "stream",
          "name": "stdout",
          "text": [
            "98\n",
            "Ali\n",
            "None\n",
            "[5, 7, 8, 22, 98]\n"
          ]
        }
      ]
    }
  ]
}