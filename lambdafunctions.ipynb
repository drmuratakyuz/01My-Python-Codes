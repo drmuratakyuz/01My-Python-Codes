{
  "nbformat": 4,
  "nbformat_minor": 0,
  "metadata": {
    "colab": {
      "name": "lambdafunctions.ipynb",
      "provenance": [],
      "authorship_tag": "ABX9TyOvzaSJnj2sq+vh7bWJfBVT",
      "include_colab_link": true
    },
    "kernelspec": {
      "name": "python3",
      "display_name": "Python 3"
    },
    "language_info": {
      "name": "python"
    }
  },
  "cells": [
    {
      "cell_type": "markdown",
      "metadata": {
        "id": "view-in-github",
        "colab_type": "text"
      },
      "source": [
        "<a href=\"https://colab.research.google.com/github/drmuratakyuz/My-Python-Codes/blob/main/lambdafunctions.ipynb\" target=\"_parent\"><img src=\"https://colab.research.google.com/assets/colab-badge.svg\" alt=\"Open In Colab\"/></a>"
      ]
    },
    {
      "cell_type": "code",
      "execution_count": 4,
      "metadata": {
        "colab": {
          "base_uri": "https://localhost:8080/"
        },
        "id": "MW7jM5qjtToM",
        "outputId": "d01f635e-5965-4ff4-9853-34def4c6747d"
      },
      "outputs": [
        {
          "output_type": "stream",
          "name": "stdout",
          "text": [
            "<filter object at 0x7fcdac557650>\n"
          ]
        }
      ],
      "source": [
        "vowel_list = ['a', 'e', 'i', 'o', 'u']\n",
        "first_ten = ['a', 'b', 'c', 'd', 'e', 'f', 'g', 'h', 'i', 'j']\n",
        "vowels = filter(lambda x: x in vowel_list, first_ten)\n",
        "print(vowels)"
      ]
    },
    {
      "cell_type": "code",
      "source": [
        "def modular_function(n):\n",
        "    return lambda x: x ** n\n",
        "    \n",
        "power_of_2 = modular_function(2)  # first sub-function derived from def\n",
        "power_of_3 = modular_function(3)  # second sub-function derived from def\n",
        "power_of_4 = modular_function(4)  # third sub-function derived from def\n",
        "\n",
        "print(power_of_2(2))  # 2 to the power of 2\n",
        "print(power_of_3(2))  # 2 to the power of 3\n",
        "print(power_of_4(2))  # 2 to the power of 4"
      ],
      "metadata": {
        "colab": {
          "base_uri": "https://localhost:8080/"
        },
        "id": "VBsJmxykt0ee",
        "outputId": "f9007155-09f4-4262-f957-6c393308f2d9"
      },
      "execution_count": 1,
      "outputs": [
        {
          "output_type": "stream",
          "name": "stdout",
          "text": [
            "4\n",
            "8\n",
            "16\n"
          ]
        }
      ]
    },
    {
      "cell_type": "code",
      "source": [
        "def modular_function(n):\n",
        "    return lambda x: x ** n\n",
        "    \n",
        "power_of_2 = modular_function(2)  # first sub-function derived from def\n",
        "power_of_3 = modular_function(3)  # second sub-function derived from def\n",
        "power_of_4 = modular_function(4)  # third sub-function derived from def\n",
        "\n",
        "print(power_of_2(2))  # 2 to the power of 2\n",
        "print(power_of_3(2))  # 2 to the power of 3\n",
        "print(power_of_4(2))  # 2 to the power of 4"
      ],
      "metadata": {
        "id": "1nXcIREDucBP"
      },
      "execution_count": null,
      "outputs": []
    },
    {
      "cell_type": "code",
      "source": [
        "def repeater(n):\n",
        "    return lambda x: x * n\n",
        "    \n",
        "repeat_2_times = repeater(2)  # repeats 2 times\n",
        "repeat_3_times = repeater(3)  # repeats 3 times\n",
        "repeat_4_times = repeater(4)  # repeats 4 times\n",
        "\n",
        "print(repeat_2_times('alex '))\n",
        "print(repeat_3_times('lara '))\n",
        "print(repeat_4_times('linda '))\n"
      ],
      "metadata": {
        "colab": {
          "base_uri": "https://localhost:8080/"
        },
        "id": "wqxsJrB_uAI4",
        "outputId": "2528a0fa-6267-48e0-b465-70259754e601"
      },
      "execution_count": 2,
      "outputs": [
        {
          "output_type": "stream",
          "name": "stdout",
          "text": [
            "alex alex \n",
            "lara lara lara \n",
            "linda linda linda linda \n"
          ]
        }
      ]
    },
    {
      "cell_type": "code",
      "source": [
        "def modular(n):\n",
        "    return lambda x: x ** n\n",
        "'''    \n",
        "power_of_2 = modular_function(2)  # first sub-function derived from def\n",
        "power_of_3 = modular_function(3)  # second sub-function derived from def\n",
        "power_of_4 = modular_function(4)  # third sub-function derived from def\n",
        "\n",
        "print(power_of_2(2))  # 2 to the power of 2\n",
        "print(power_of_3(2))  # 2 to the power of 3\n",
        "print(power_of_4(2))  # 2 to the power of 4\n",
        "'''\n",
        "kupunual = modular(3)\n",
        "(kupunual)(3)"
      ],
      "metadata": {
        "colab": {
          "base_uri": "https://localhost:8080/"
        },
        "id": "KziOPzYavE6m",
        "outputId": "d8dd205c-8da8-454e-c070-7d9de68de97f"
      },
      "execution_count": 10,
      "outputs": [
        {
          "output_type": "execute_result",
          "data": {
            "text/plain": [
              "27"
            ]
          },
          "metadata": {},
          "execution_count": 10
        }
      ]
    },
    {
      "cell_type": "code",
      "source": [
        "(lambda x: x**3)(3)"
      ],
      "metadata": {
        "colab": {
          "base_uri": "https://localhost:8080/"
        },
        "id": "8Lqs00QDwGLl",
        "outputId": "fb961795-26e2-41ed-b48a-114bfed687d7"
      },
      "execution_count": 9,
      "outputs": [
        {
          "output_type": "execute_result",
          "data": {
            "text/plain": [
              "27"
            ]
          },
          "metadata": {},
          "execution_count": 9
        }
      ]
    },
    {
      "cell_type": "code",
      "source": [
        "def modular(n):\n",
        "    return lambda x: x * n\n",
        "\n",
        "(lambda x: x*4)(\"3\")"
      ],
      "metadata": {
        "colab": {
          "base_uri": "https://localhost:8080/",
          "height": 36
        },
        "id": "FCeoov3QwfUW",
        "outputId": "4ebd26cc-7206-4436-e9fd-5afdb4adb723"
      },
      "execution_count": 13,
      "outputs": [
        {
          "output_type": "execute_result",
          "data": {
            "text/plain": [
              "'3333'"
            ],
            "application/vnd.google.colaboratory.intrinsic+json": {
              "type": "string"
            }
          },
          "metadata": {},
          "execution_count": 13
        }
      ]
    },
    {
      "cell_type": "code",
      "source": [
        "(lambda x: x*4)(\"3\")"
      ],
      "metadata": {
        "id": "iBfyrJgixe5c"
      },
      "execution_count": null,
      "outputs": []
    },
    {
      "cell_type": "code",
      "source": [
        "def functioner(emoji = None):\n",
        "   return lambda message: print(message,emoji)\n",
        "\n",
        "emoloji_smile = functioner(':)')\n",
        "emoloji_sad = functioner(':(')\n",
        "emoloji_neutral = functioner(':|')\n",
        "\n",
        "emoloji_smile(\"ali\")\n",
        "emoloji_sad([1,2,3,4])\n",
        "emoloji_neutral({1:2,3:4})\n"
      ],
      "metadata": {
        "colab": {
          "base_uri": "https://localhost:8080/"
        },
        "id": "a710hdcXx0FR",
        "outputId": "8fb6b04f-c651-4157-94c1-0fcf763ff799"
      },
      "execution_count": 18,
      "outputs": [
        {
          "output_type": "stream",
          "name": "stdout",
          "text": [
            "ali :)\n",
            "[1, 2, 3, 4] :(\n",
            "{1: 2, 3: 4} :|\n"
          ]
        }
      ]
    },
    {
      "cell_type": "code",
      "source": [
        "(lambda x : print(x, \":(\")) (66)"
      ],
      "metadata": {
        "colab": {
          "base_uri": "https://localhost:8080/"
        },
        "id": "g27UAmq33iHP",
        "outputId": "2a9d3e37-e2c7-4741-c3c5-51cc92b55544"
      },
      "execution_count": 19,
      "outputs": [
        {
          "output_type": "stream",
          "name": "stdout",
          "text": [
            "66 :(\n"
          ]
        }
      ]
    },
    {
      "cell_type": "code",
      "source": [
        "'''\n",
        "ali_print() -->print()\n",
        "ali_max() --> max()\n",
        "ali_bool()-->bool()\n",
        "ali_sorted()-->sorted\n",
        "'''\n",
        "def function_generator(function_name):\n",
        "  return lambda x: function_name(x)\n",
        "\n",
        "murat_print = function_generator(print)\n",
        "murat_max = function_generator(max)\n",
        "murat_sorted = function_generator(sorted)\n",
        "murat_bool = function_generator(bool)\n",
        "\n",
        "print(murat_max((5,7,8,98,22)))\n",
        "print(murat_print(\"Ali\"))\n",
        "print(murat_sorted((5,7,8,98,22)))\n",
        "print(murat_bool(1))"
      ],
      "metadata": {
        "colab": {
          "base_uri": "https://localhost:8080/"
        },
        "id": "HFImtJb735cb",
        "outputId": "e3b76186-a250-4f73-f11f-5db5ed1bdb9f"
      },
      "execution_count": 24,
      "outputs": [
        {
          "output_type": "stream",
          "name": "stdout",
          "text": [
            "98\n",
            "Ali\n",
            "None\n",
            "[5, 7, 8, 22, 98]\n",
            "True\n"
          ]
        }
      ]
    },
    {
      "cell_type": "code",
      "source": [
        "def function_generator(n):\n",
        "    return lambda x : print(n(x))\n",
        "x = [1,2,3,4,5]\n",
        "min_func = function_generator(min)\n",
        "min_func(x)"
      ],
      "metadata": {
        "colab": {
          "base_uri": "https://localhost:8080/"
        },
        "id": "Zo54H1az7Fgx",
        "outputId": "f4730ea2-6123-4d14-b84e-c8e4944c40ee"
      },
      "execution_count": 23,
      "outputs": [
        {
          "output_type": "stream",
          "name": "stdout",
          "text": [
            "1\n"
          ]
        }
      ]
    },
    {
      "cell_type": "code",
      "source": [
        "def equal(x,y,z):\n",
        "  num =[x,y,z]\n",
        "  if num.count(max(num,key=num.count))==1:\n",
        "    return 0\n",
        "  return num.count(max(num,key=num.count))\n",
        "\n",
        "equal(3,4,5)\n",
        "#equal(3,4,4)\n",
        "#equal(4,4,4)"
      ],
      "metadata": {
        "colab": {
          "base_uri": "https://localhost:8080/"
        },
        "id": "js_WE0EO-TAE",
        "outputId": "8b0b3846-068d-4cb9-a896-332d1e0e92d3"
      },
      "execution_count": 28,
      "outputs": [
        {
          "output_type": "execute_result",
          "data": {
            "text/plain": [
              "0"
            ]
          },
          "metadata": {},
          "execution_count": 28
        }
      ]
    },
    {
      "cell_type": "code",
      "source": [
        "def equal(a,b,c) :\n",
        "    num = [a, b, c]\n",
        "    sonuc = num.count(max(num, key = num.count))\n",
        "    if sonuc > 1 :\n",
        "        return sonuc\n",
        "    else:\n",
        "        return 0"
      ],
      "metadata": {
        "id": "0NXCbL4FAbGo"
      },
      "execution_count": null,
      "outputs": []
    },
    {
      "cell_type": "code",
      "source": [
        "def equall(*arg) :\n",
        "    num = list(arg)\n",
        "    sonuc = num.count(max(num, key = num.count))\n",
        "    if sonuc > 1 :\n",
        "        return sonuc\n",
        "    else:\n",
        "        return 0\n",
        "equall(1,2,3,1,4,2,1,1,2)\n"
      ],
      "metadata": {
        "colab": {
          "base_uri": "https://localhost:8080/"
        },
        "id": "dlM2AAWoAhLK",
        "outputId": "430b2dc9-9763-45ba-abb3-c404a607eb2e"
      },
      "execution_count": 29,
      "outputs": [
        {
          "output_type": "execute_result",
          "data": {
            "text/plain": [
              "4"
            ]
          },
          "metadata": {},
          "execution_count": 29
        }
      ]
    },
    {
      "cell_type": "code",
      "source": [
        "equalambda = lambda x,y,z: [x,y,z].count(max([x,y,z], key = [x,y,z].count))\n",
        "equalambda(1,2,4)"
      ],
      "metadata": {
        "colab": {
          "base_uri": "https://localhost:8080/"
        },
        "id": "goucygjCIOKD",
        "outputId": "064d7480-fb1a-42aa-b0e9-e5ccd250aaf3"
      },
      "execution_count": 47,
      "outputs": [
        {
          "output_type": "execute_result",
          "data": {
            "text/plain": [
              "1"
            ]
          },
          "metadata": {},
          "execution_count": 47
        }
      ]
    },
    {
      "cell_type": "code",
      "source": [
        "equalambda = lambda x,y,z: [x,y,z].count(max([x,y,z], key = [x,y,z].count))\\\n",
        "if [x,y,z].count(max([x,y,z], key = [x,y,z].count))>1 else 0\n",
        "equalambda(2,1,3)"
      ],
      "metadata": {
        "colab": {
          "base_uri": "https://localhost:8080/"
        },
        "id": "Yn7WLtRTIhZY",
        "outputId": "be2bca1b-5f7e-473c-891e-917e770db525"
      },
      "execution_count": 61,
      "outputs": [
        {
          "output_type": "execute_result",
          "data": {
            "text/plain": [
              "0"
            ]
          },
          "metadata": {},
          "execution_count": 61
        }
      ]
    },
    {
      "cell_type": "code",
      "source": [
        "equalambdaa = lambda *arg: arg.count(max(arg, key = arg.count))\\\n",
        "if arg.count(max(arg, key = arg.count))>1 else 0\n",
        "equalambdaa(2,1,3,5,3,2,1,4,4,4,2,4)"
      ],
      "metadata": {
        "colab": {
          "base_uri": "https://localhost:8080/"
        },
        "id": "s0YeMQCNJ6S-",
        "outputId": "0e532d95-8ac2-4e68-b0b1-dc6638d11b02"
      },
      "execution_count": 64,
      "outputs": [
        {
          "output_type": "execute_result",
          "data": {
            "text/plain": [
              "4"
            ]
          },
          "metadata": {},
          "execution_count": 64
        }
      ]
    },
    {
      "cell_type": "code",
      "source": [
        "equalambdaa = lambda *arg: list(arg).count(max(list(arg), key = list(arg).count))\\\n",
        "if list(arg).count(max(list(arg), key = list(arg).count))>1 else 0\n",
        "equalambdaa(2,1,3,5,3,2,1,4,4,4,2,4)"
      ],
      "metadata": {
        "colab": {
          "base_uri": "https://localhost:8080/"
        },
        "id": "5-bsrvFrKxw5",
        "outputId": "2830c80d-74ee-461d-ac15-195cb34f46f5"
      },
      "execution_count": 65,
      "outputs": [
        {
          "output_type": "execute_result",
          "data": {
            "text/plain": [
              "4"
            ]
          },
          "metadata": {},
          "execution_count": 65
        }
      ]
    }
  ]
}