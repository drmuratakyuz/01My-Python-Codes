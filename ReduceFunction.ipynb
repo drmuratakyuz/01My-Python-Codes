{
  "nbformat": 4,
  "nbformat_minor": 0,
  "metadata": {
    "colab": {
      "name": "ReduceFunction.ipynb",
      "provenance": [],
      "authorship_tag": "ABX9TyNa2TNd+9XC2LWBXAOA4bkO",
      "include_colab_link": true
    },
    "kernelspec": {
      "name": "python3",
      "display_name": "Python 3"
    },
    "language_info": {
      "name": "python"
    }
  },
  "cells": [
    {
      "cell_type": "markdown",
      "metadata": {
        "id": "view-in-github",
        "colab_type": "text"
      },
      "source": [
        "<a href=\"https://colab.research.google.com/github/drmuratakyuz/My-Python-Codes/blob/main/ReduceFunction.ipynb\" target=\"_parent\"><img src=\"https://colab.research.google.com/assets/colab-badge.svg\" alt=\"Open In Colab\"/></a>"
      ]
    },
    {
      "cell_type": "code",
      "execution_count": 1,
      "metadata": {
        "colab": {
          "base_uri": "https://localhost:8080/"
        },
        "id": "jleHGmESoUMo",
        "outputId": "6a2545d5-92e2-40fc-a3db-ab7e20d6edb1"
      },
      "outputs": [
        {
          "output_type": "stream",
          "name": "stdout",
          "text": [
            "10\n"
          ]
        }
      ],
      "source": [
        "from functools import reduce\n",
        "print(reduce(lambda x,y : x + y , [1,2,3,4]))"
      ]
    },
    {
      "cell_type": "code",
      "source": [
        "import functools\n",
        "sayı=int(input(\"faktöriyelini hesaplamak istediğiniz sayıyı giriniz\"))\n",
        "liste=[i for i in range(1,sayı+1)]\n",
        "print (functools.reduce(lambda x,y :x*y,liste))"
      ],
      "metadata": {
        "colab": {
          "base_uri": "https://localhost:8080/"
        },
        "id": "_T3Enr2DolcE",
        "outputId": "7606e221-26b6-40c8-c103-aadde623d0b5"
      },
      "execution_count": 2,
      "outputs": [
        {
          "output_type": "stream",
          "name": "stdout",
          "text": [
            "faktöriyelini hesaplamak istediğiniz sayıyı giriniz5\n",
            "120\n"
          ]
        }
      ]
    }
  ]
}