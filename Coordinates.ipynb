{
  "nbformat": 4,
  "nbformat_minor": 0,
  "metadata": {
    "colab": {
      "name": "Coordinates.ipynb",
      "provenance": [],
      "authorship_tag": "ABX9TyMfmApRNnCpLljvd9ZqKuj5",
      "include_colab_link": true
    },
    "kernelspec": {
      "name": "python3",
      "display_name": "Python 3"
    },
    "language_info": {
      "name": "python"
    }
  },
  "cells": [
    {
      "cell_type": "markdown",
      "metadata": {
        "id": "view-in-github",
        "colab_type": "text"
      },
      "source": [
        "<a href=\"https://colab.research.google.com/github/drmuratakyuz/My-Python-Codes/blob/main/Coordinates.ipynb\" target=\"_parent\"><img src=\"https://colab.research.google.com/assets/colab-badge.svg\" alt=\"Open In Colab\"/></a>"
      ]
    },
    {
      "cell_type": "code",
      "execution_count": null,
      "metadata": {
        "id": "lvfeby7KwzcJ"
      },
      "outputs": [],
      "source": [
        "command = [\"right 20\", \"right 30\",\"left 50\",\"up 10\", \"down 20\"]\n",
        "# [x,y]\n",
        "# [0,10]\n",
        "command = [[0,20],[0,30],[0,-50],[10,0],[-20,0]]"
      ]
    },
    {
      "cell_type": "code",
      "source": [
        "command = [\"right 20\", \"right 30\", \"left 50\", \"up 10\",\"down 20\"]\n",
        "\n",
        "x = 0\n",
        "y = 0\n",
        "\n",
        "for i in command:\n",
        "    if \"right\" in i:\n",
        "        x += int(i.split()[1])\n",
        "    elif \"left\" in i:\n",
        "        x -= int(i.split()[1])\n",
        "    elif \"up\" in i:\n",
        "        y += int(i.split()[1])\n",
        "    else:\n",
        "        y -= int(i.split()[1])\n",
        "print(x,y)"
      ],
      "metadata": {
        "colab": {
          "base_uri": "https://localhost:8080/"
        },
        "id": "eCUVLaDlzSuJ",
        "outputId": "0ad70862-081c-4129-ecd9-475925281609"
      },
      "execution_count": 2,
      "outputs": [
        {
          "output_type": "stream",
          "name": "stdout",
          "text": [
            "0 -10\n"
          ]
        }
      ]
    },
    {
      "cell_type": "code",
      "source": [
        "command = [\"right 20\", \"right 30\", \"left 50\", \"up 10\",\"down 20\"]\n",
        "command[-1]"
      ],
      "metadata": {
        "colab": {
          "base_uri": "https://localhost:8080/",
          "height": 35
        },
        "id": "yhueIDCC0EZr",
        "outputId": "2c0fb574-af20-4bbe-b095-c288ae961673"
      },
      "execution_count": 3,
      "outputs": [
        {
          "output_type": "execute_result",
          "data": {
            "text/plain": [
              "'down 20'"
            ],
            "application/vnd.google.colaboratory.intrinsic+json": {
              "type": "string"
            }
          },
          "metadata": {},
          "execution_count": 3
        }
      ]
    },
    {
      "cell_type": "code",
      "source": [
        "command = [\"right 20\", \"right 30\", \"left 50\", \"up 10\",\"down 20\"]\n",
        "command[-1].split()[0]"
      ],
      "metadata": {
        "colab": {
          "base_uri": "https://localhost:8080/",
          "height": 35
        },
        "id": "RXKu-EQx0PWi",
        "outputId": "053e053b-1c4d-4d57-a6f3-e2f35f0dbe45"
      },
      "execution_count": 4,
      "outputs": [
        {
          "output_type": "execute_result",
          "data": {
            "text/plain": [
              "'down'"
            ],
            "application/vnd.google.colaboratory.intrinsic+json": {
              "type": "string"
            }
          },
          "metadata": {},
          "execution_count": 4
        }
      ]
    },
    {
      "cell_type": "code",
      "source": [
        "command = [\"right 20\", \"right 30\", \"left 50\", \"up 10\",\"down 20\"]\n",
        "command[-1].split()[1]"
      ],
      "metadata": {
        "colab": {
          "base_uri": "https://localhost:8080/",
          "height": 35
        },
        "id": "-v01zFpn0a6A",
        "outputId": "67f6af11-cd77-41a6-aed0-8f3a83b946b7"
      },
      "execution_count": 5,
      "outputs": [
        {
          "output_type": "execute_result",
          "data": {
            "text/plain": [
              "'20'"
            ],
            "application/vnd.google.colaboratory.intrinsic+json": {
              "type": "string"
            }
          },
          "metadata": {},
          "execution_count": 5
        }
      ]
    },
    {
      "cell_type": "code",
      "source": [
        "command = [\"right 20\", \"right 30\", \"left 50\", \"up 10\",\"down 20\"]\n",
        "x = y= 0\n",
        "for i in range(len(command)):\n",
        "\n",
        "  if command[i].startswith(\"r\"): x = x + int(command[i].split()[1])\n",
        "  elif command[i].startswith(\"l\"): x = x - int(command[i].split()[1])\n",
        "  elif command[i].startswith(\"u\"): y = y + int(command[i].split()[1])\n",
        "  elif command[i].startswith(\"d\"): y = y - int(command[i].split()[1])\n",
        "\n",
        "print(x,y)\n"
      ],
      "metadata": {
        "colab": {
          "base_uri": "https://localhost:8080/"
        },
        "id": "zoR4Lv300eFW",
        "outputId": "f0fd1b94-9996-4eab-d6a3-26ef61b3d779"
      },
      "execution_count": 7,
      "outputs": [
        {
          "output_type": "stream",
          "name": "stdout",
          "text": [
            "0 -10\n"
          ]
        }
      ]
    }
  ]
}