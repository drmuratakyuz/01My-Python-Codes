{
  "nbformat": 4,
  "nbformat_minor": 0,
  "metadata": {
    "colab": {
      "name": "functions.ipynb",
      "provenance": [],
      "collapsed_sections": [],
      "authorship_tag": "ABX9TyM9g3e97fl8bBTsTR0M9tNJ",
      "include_colab_link": true
    },
    "kernelspec": {
      "name": "python3",
      "display_name": "Python 3"
    },
    "language_info": {
      "name": "python"
    }
  },
  "cells": [
    {
      "cell_type": "markdown",
      "metadata": {
        "id": "view-in-github",
        "colab_type": "text"
      },
      "source": [
        "<a href=\"https://colab.research.google.com/github/drmuratakyuz/My-Python-Codes/blob/main/functions.ipynb\" target=\"_parent\"><img src=\"https://colab.research.google.com/assets/colab-badge.svg\" alt=\"Open In Colab\"/></a>"
      ]
    },
    {
      "cell_type": "code",
      "execution_count": 3,
      "metadata": {
        "colab": {
          "base_uri": "https://localhost:8080/"
        },
        "id": "cnPvto79ngw_",
        "outputId": "04bf505f-5a09-4ab2-c3c3-87a694d695b5"
      },
      "outputs": [
        {
          "output_type": "stream",
          "name": "stdout",
          "text": [
            "ali  is  11 years old.\n"
          ]
        }
      ],
      "source": [
        "def func(x=\"ali\", y=11):\n",
        "  print(x,\" is \",y,\"years old.\")\n",
        "\n",
        "func()\n"
      ]
    },
    {
      "cell_type": "code",
      "source": [
        "def func(y = 33, x=\"deli\"):\n",
        "  print(x,\" is \",y,\"years old.\")\n",
        "\n",
        "func()"
      ],
      "metadata": {
        "colab": {
          "base_uri": "https://localhost:8080/"
        },
        "id": "cGa_u8onorWa",
        "outputId": "b838a5b7-a6b6-47fb-c434-5e7b7d1d285e"
      },
      "execution_count": 4,
      "outputs": [
        {
          "output_type": "stream",
          "name": "stdout",
          "text": [
            "deli  is  33 years old.\n"
          ]
        }
      ]
    },
    {
      "cell_type": "code",
      "source": [
        "def func(x=\"deli\", y = 33):\n",
        "  print(x,\" is \",y,\"years old.\")\n",
        "\n",
        "func(\"veli\", 33)"
      ],
      "metadata": {
        "colab": {
          "base_uri": "https://localhost:8080/"
        },
        "id": "pV0TNsndpAs2",
        "outputId": "676438a6-d9e9-4780-c605-24556b98b9ba"
      },
      "execution_count": 8,
      "outputs": [
        {
          "output_type": "stream",
          "name": "stdout",
          "text": [
            "veli  is  33 years old.\n"
          ]
        }
      ]
    },
    {
      "cell_type": "code",
      "source": [
        "def func(x=\"deli\", y = 33):\n",
        "  print(x,\" is \",y,\"years old.\")\n",
        "\n",
        "func(\"selin\", 22)"
      ],
      "metadata": {
        "colab": {
          "base_uri": "https://localhost:8080/"
        },
        "id": "M_7C9I12pbIk",
        "outputId": "139366c0-e2b1-42b7-d6a3-0f5eb0c22cd6"
      },
      "execution_count": 9,
      "outputs": [
        {
          "output_type": "stream",
          "name": "stdout",
          "text": [
            "selin  is  22 years old.\n"
          ]
        }
      ]
    },
    {
      "cell_type": "code",
      "source": [
        "def argu(a,c, b =\"dunya\", d ='saturn'):\n",
        "  print(a,b,c,d, sep = \"\\n\")\n",
        "\n",
        "\n",
        "argu(\"uranus\",\"jupiter\")\n"
      ],
      "metadata": {
        "colab": {
          "base_uri": "https://localhost:8080/"
        },
        "id": "vA8hP0hAsvlO",
        "outputId": "9706b14f-3694-4bc1-ef3e-6ed86281a432"
      },
      "execution_count": 11,
      "outputs": [
        {
          "output_type": "stream",
          "name": "stdout",
          "text": [
            "uranus\n",
            "dunya\n",
            "jupiter\n",
            "saturn\n"
          ]
        }
      ]
    },
    {
      "cell_type": "code",
      "source": [
        "def argu(a= \"uranus\",c = \"jupiter\", b =\"dunya\", d ='saturn'):\n",
        "  print(a,b,c,d, sep = \"\\n\")\n",
        "\n",
        "argu()"
      ],
      "metadata": {
        "colab": {
          "base_uri": "https://localhost:8080/"
        },
        "id": "b_21VqpRtxl8",
        "outputId": "309d4c05-c94b-46e4-9e45-faf7091d2940"
      },
      "execution_count": 13,
      "outputs": [
        {
          "output_type": "stream",
          "name": "stdout",
          "text": [
            "uranus\n",
            "dunya\n",
            "jupiter\n",
            "saturn\n"
          ]
        }
      ]
    },
    {
      "cell_type": "code",
      "source": [
        "def argu(a= \"uranus\",c = \"jupiter\", b =\"dunya\", d ='saturn'):\n",
        "  print(a,b,c,d, sep = \"\\n\")\n",
        "\n",
        "argu(d = \"sun\", a =\"earth\", c = \"pluto\", b = \"venus\")"
      ],
      "metadata": {
        "colab": {
          "base_uri": "https://localhost:8080/"
        },
        "id": "LVB3ATrXu4kE",
        "outputId": "0a853773-9241-4e51-feef-42bf55b9db3b"
      },
      "execution_count": 14,
      "outputs": [
        {
          "output_type": "stream",
          "name": "stdout",
          "text": [
            "earth\n",
            "venus\n",
            "pluto\n",
            "sun\n"
          ]
        }
      ]
    },
    {
      "cell_type": "code",
      "source": [
        "def argu(a= \"uranus\",c = \"jupiter\", b =\"dunya\", d ='saturn'):\n",
        "  print(a,b,c,d, sep = \"\\n\")\n",
        "\n",
        "argu(\"sun\",\"earth\", \"pluto\", \"venus\")"
      ],
      "metadata": {
        "colab": {
          "base_uri": "https://localhost:8080/"
        },
        "id": "xCznWLVJvSUG",
        "outputId": "4b0002b5-8aaf-4a34-8d1a-d665b8589bb3"
      },
      "execution_count": 15,
      "outputs": [
        {
          "output_type": "stream",
          "name": "stdout",
          "text": [
            "sun\n",
            "pluto\n",
            "earth\n",
            "venus\n"
          ]
        }
      ]
    },
    {
      "cell_type": "code",
      "source": [
        "def func(x, y):\n",
        "  print(x,\" is \",y,\"years old.\")\n",
        "\n",
        "func(\"veli\", 33)"
      ],
      "metadata": {
        "colab": {
          "base_uri": "https://localhost:8080/"
        },
        "id": "4bStTa-yvt-R",
        "outputId": "4e83c48c-18d6-4f47-c99b-07c2927969fe"
      },
      "execution_count": 16,
      "outputs": [
        {
          "output_type": "stream",
          "name": "stdout",
          "text": [
            "veli  is  33 years old.\n"
          ]
        }
      ]
    },
    {
      "cell_type": "code",
      "source": [
        "def city(capital, continent='Europe'):\n",
        "    print(capital, 'in', continent)\n",
        "\n",
        "city('Athens')  # we don't have to pass any arguments into 'continent'\n",
        "city('Ulaanbaatar', continent='Asia')  # we can change the default value by kwargs\n",
        "city('Cape Town', 'Africa')  # we can change the default value by positional args."
      ],
      "metadata": {
        "colab": {
          "base_uri": "https://localhost:8080/"
        },
        "id": "mGOa-LsK0qbz",
        "outputId": "cc7792d2-1458-4cc0-f513-3b78d65a8dd2"
      },
      "execution_count": 17,
      "outputs": [
        {
          "output_type": "stream",
          "name": "stdout",
          "text": [
            "Athens in Europe\n",
            "Ulaanbaatar in Asia\n",
            "Cape Town in Africa\n"
          ]
        }
      ]
    },
    {
      "cell_type": "code",
      "source": [
        "def fruiterer(fruit1, fruit2) :\n",
        "    print('I want to get', fruit1, 'and', fruit2)\n",
        "        \n",
        "fruiterer('orange', 'banana')"
      ],
      "metadata": {
        "colab": {
          "base_uri": "https://localhost:8080/"
        },
        "id": "nd_Yz_my03eV",
        "outputId": "5e3ea15c-f90d-49af-e1e7-35d472d0f0fc"
      },
      "execution_count": 18,
      "outputs": [
        {
          "output_type": "stream",
          "name": "stdout",
          "text": [
            "I want to get orange and banana\n"
          ]
        }
      ]
    },
    {
      "cell_type": "code",
      "source": [
        "# arbitrary numbers of arguments\n",
        "def fruiterer(*fruit) :\n",
        "    print('I want to get :')\n",
        "    for i in fruit :\n",
        "        print('-', i)\n",
        "        \n",
        "fruiterer('orange', 'banana', 'melon', 'ananas')"
      ],
      "metadata": {
        "colab": {
          "base_uri": "https://localhost:8080/"
        },
        "id": "UwAstCh30-Lv",
        "outputId": "f2b6d39a-00f7-41bd-d2cd-b3b87eb9358f"
      },
      "execution_count": 19,
      "outputs": [
        {
          "output_type": "stream",
          "name": "stdout",
          "text": [
            "I want to get :\n",
            "- orange\n",
            "- banana\n",
            "- melon\n",
            "- ananas\n"
          ]
        }
      ]
    },
    {
      "cell_type": "code",
      "source": [
        "# If you need to prefer to use arbitrary keyword arguments (**kwargs), \n",
        "# you can use it in the same way.\n",
        "def animals(**kwargs):\n",
        "    for key, value in kwargs.items():\n",
        "        print(value, \"are\", key)\n",
        " \n",
        "animals(Carnivores=\"Lions\", Omnivores=\"Bears\", Herbivores=\"Deers\", Nomnivores=\"Human\")"
      ],
      "metadata": {
        "colab": {
          "base_uri": "https://localhost:8080/"
        },
        "id": "k-b1NWJz1Qhg",
        "outputId": "a3a049a9-b154-421b-ae0d-a59941e0de77"
      },
      "execution_count": 20,
      "outputs": [
        {
          "output_type": "stream",
          "name": "stdout",
          "text": [
            "Lions are Carnivores\n",
            "Bears are Omnivores\n",
            "Deers are Herbivores\n",
            "Human are Nomnivores\n"
          ]
        }
      ]
    },
    {
      "cell_type": "code",
      "source": [
        "def brothers(bro1, bro2, bro3):\n",
        "    print('Here are the names of brothers :')\n",
        "    print(bro1, bro2, bro3, sep='\\n')\n",
        "\n",
        "family = ['tom', 'sue', 'tim']\n",
        "brothers(*family)"
      ],
      "metadata": {
        "colab": {
          "base_uri": "https://localhost:8080/"
        },
        "id": "OmshAnXW1ku_",
        "outputId": "9decf2b5-725b-4cd6-f3f8-bb28ba53a47b"
      },
      "execution_count": 21,
      "outputs": [
        {
          "output_type": "stream",
          "name": "stdout",
          "text": [
            "Here are the names of brothers :\n",
            "tom\n",
            "sue\n",
            "tim\n"
          ]
        }
      ]
    },
    {
      "cell_type": "code",
      "source": [
        "def gene(x, y):  # defined by positional args\n",
        "    print(x, \"belongs to Generation X\")\n",
        "    print(y, \"belongs to Generation Y\")\n",
        " \n",
        "dict_gene = {'y' : \"Marry\", 'x' : \"Fred\"}\n",
        "gene(**dict_gene)  # we call the function by a single argument(variable)"
      ],
      "metadata": {
        "colab": {
          "base_uri": "https://localhost:8080/"
        },
        "id": "WN8y1Acq1vOm",
        "outputId": "74e582a9-e4a3-4b31-c42e-5cb369aacc17"
      },
      "execution_count": 22,
      "outputs": [
        {
          "output_type": "stream",
          "name": "stdout",
          "text": [
            "Fred belongs to Generation X\n",
            "Marry belongs to Generation Y\n"
          ]
        }
      ]
    },
    {
      "cell_type": "code",
      "source": [
        "def gene(x='Solomon', y='David'):  # defined by kwargs (default values assigned to x and y)\n",
        "    print(x, \"belongs to Generation X\")\n",
        "    print(y, \"belongs to Generation Y\")\n",
        " \n",
        "dict_gene = {'y' : \"Marry\", 'x' : \"Fred\"}\n",
        "gene(**dict_gene) \n"
      ],
      "metadata": {
        "colab": {
          "base_uri": "https://localhost:8080/"
        },
        "id": "aDhqhVI712_c",
        "outputId": "098c7ebb-4154-48fb-d7c4-3accfa56abde"
      },
      "execution_count": 23,
      "outputs": [
        {
          "output_type": "stream",
          "name": "stdout",
          "text": [
            "Fred belongs to Generation X\n",
            "Marry belongs to Generation Y\n"
          ]
        }
      ]
    },
    {
      "cell_type": "code",
      "source": [
        "def slicer(*n):\n",
        "  odd = []\n",
        "  even = []\n",
        "  for i in n:\n",
        "    if i %2 ==0:\n",
        "      even.append(i)\n",
        "    else:\n",
        "      odd.append(i)\n",
        "  print(odd)\n",
        "  print(even)\n",
        "slicer(1,2,3,4,5,6,7,8,9,10)"
      ],
      "metadata": {
        "colab": {
          "base_uri": "https://localhost:8080/"
        },
        "id": "2dFucbAX24C5",
        "outputId": "c0acaf80-494e-4324-dc64-22bae493671c"
      },
      "execution_count": 27,
      "outputs": [
        {
          "output_type": "stream",
          "name": "stdout",
          "text": [
            "[1, 3, 5, 7, 9]\n",
            "[2, 4, 6, 8, 10]\n"
          ]
        }
      ]
    },
    {
      "cell_type": "code",
      "source": [
        "def organizer(** people):\n",
        "    names = []\n",
        "    ages = []\n",
        "    for keys, values in people.items():\n",
        "      names.append(keys)\n",
        "      ages.append(values)\n",
        "    print(names, ages, sep=\"\\n\")\n",
        "      \n",
        " \n",
        "organizer(Beth=26, Oscar=42, Justin=18, Frank=33)"
      ],
      "metadata": {
        "colab": {
          "base_uri": "https://localhost:8080/"
        },
        "id": "WY5bgsWq6F2A",
        "outputId": "f6c60f99-65e1-4872-9ce6-903782abf45d"
      },
      "execution_count": 32,
      "outputs": [
        {
          "output_type": "stream",
          "name": "stdout",
          "text": [
            "['Beth', 'Oscar', 'Justin', 'Frank']\n",
            "[26, 42, 18, 33]\n"
          ]
        }
      ]
    },
    {
      "cell_type": "code",
      "source": [
        "def square(x):\n",
        "    return x**2"
      ],
      "metadata": {
        "id": "BYrH6V6fBhHK"
      },
      "execution_count": 33,
      "outputs": []
    },
    {
      "cell_type": "code",
      "source": [
        "lambda x: x**2"
      ],
      "metadata": {
        "id": "idHqf6B8BooZ"
      },
      "execution_count": null,
      "outputs": []
    },
    {
      "cell_type": "code",
      "source": [
        "lambda x, y: (x+y)/2  # takes two numbers, returns the result"
      ],
      "metadata": {
        "id": "NF2JHAYuBulZ"
      },
      "execution_count": null,
      "outputs": []
    },
    {
      "cell_type": "code",
      "source": [
        "lambda x: 'odd' if x % 2 != 0 else 'even'"
      ],
      "metadata": {
        "id": "S6DW1hrzByau"
      },
      "execution_count": null,
      "outputs": []
    },
    {
      "cell_type": "code",
      "source": [
        "(lambda x: x**2)(2)  # squares '2'"
      ],
      "metadata": {
        "id": "VSVYHDloFM3T"
      },
      "execution_count": null,
      "outputs": []
    },
    {
      "cell_type": "code",
      "source": [
        "print((lambda x, y: (x+y)/2)(3, 5))  # takes two int, returns mean of them"
      ],
      "metadata": {
        "id": "XhOn5au_FUjn"
      },
      "execution_count": null,
      "outputs": []
    },
    {
      "cell_type": "code",
      "source": [
        "average = (lambda x, y: (x+y)/2)(3, 5) \n",
        "print(average)\n"
      ],
      "metadata": {
        "id": "MpmObDTqFYNt"
      },
      "execution_count": null,
      "outputs": []
    },
    {
      "cell_type": "code",
      "source": [
        "def fi(number):\n",
        "    a = 0\n",
        "    b = 1\n",
        "    c = 1\n",
        "    \n",
        "    for i in range(number):\n",
        "     print(c)  \n",
        "     c = b + a\n",
        "     a = b\n",
        "     b = c\n",
        "num = int(input(\"Enter a number: \"))\n",
        "fi(num)"
      ],
      "metadata": {
        "colab": {
          "base_uri": "https://localhost:8080/"
        },
        "id": "6v5Udo7-GrnM",
        "outputId": "945aa013-7be1-445a-e576-f2d67e612c3a"
      },
      "execution_count": 35,
      "outputs": [
        {
          "output_type": "stream",
          "name": "stdout",
          "text": [
            "Enter a number: 8\n",
            "1\n",
            "1\n",
            "2\n",
            "3\n",
            "5\n",
            "8\n",
            "13\n",
            "21\n"
          ]
        }
      ]
    },
    {
      "cell_type": "code",
      "source": [
        "def fi(number):\n",
        "    a = 0\n",
        "    b = 1\n",
        "    c = 1\n",
        "    fibo= []\n",
        "    for i in range(number):\n",
        "     fibo.append(c)  \n",
        "     c = b + a\n",
        "     a = b\n",
        "     b = c\n",
        "    print(fibo)\n",
        "num = int(input(\"Enter a number: \"))\n",
        "fi(num)"
      ],
      "metadata": {
        "colab": {
          "base_uri": "https://localhost:8080/"
        },
        "id": "7YfS75NNHgVo",
        "outputId": "42c550ad-1c9f-407c-9b43-b47619a76863"
      },
      "execution_count": 36,
      "outputs": [
        {
          "output_type": "stream",
          "name": "stdout",
          "text": [
            "Enter a number: 8\n",
            "[1, 1, 2, 3, 5, 8, 13, 21]\n"
          ]
        }
      ]
    },
    {
      "cell_type": "code",
      "source": [
        "i = 1\n",
        "fibonacci = [i]\n",
        "while i < len(range(56)):\n",
        "    fibonacci.append(i)\n",
        "    i = fibonacci[-2] + fibonacci[-1]\n",
        "print(fibonacci)"
      ],
      "metadata": {
        "colab": {
          "base_uri": "https://localhost:8080/"
        },
        "id": "Iw1r_CdpIYIo",
        "outputId": "b6378808-75b1-43d1-bf86-d46d249ec635"
      },
      "execution_count": 37,
      "outputs": [
        {
          "output_type": "stream",
          "name": "stdout",
          "text": [
            "[1, 1, 2, 3, 5, 8, 13, 21, 34, 55]\n"
          ]
        }
      ]
    },
    {
      "cell_type": "code",
      "source": [
        "sentence = 'I am living in Nigeria and I will go to Kansas City.'\n",
        "\n",
        "def vowel(letter):\n",
        "  vowels = \"a e o u i I\".split()\n",
        "  if letter.lower() in vowels:\n",
        "    return True\n",
        "  else:\n",
        "    return False\n",
        "filtered_vowels = filter(vowel,sentence)\n",
        "print(*filtered_vowels)\n",
        "\n"
      ],
      "metadata": {
        "colab": {
          "base_uri": "https://localhost:8080/"
        },
        "id": "VscPdGEGIy_o",
        "outputId": "5a1a42e3-0483-4a0a-bcd2-4d387655b532"
      },
      "execution_count": 42,
      "outputs": [
        {
          "output_type": "stream",
          "name": "stdout",
          "text": [
            "I a i i i i e i a a I i o o a a i\n"
          ]
        }
      ]
    }
  ]
}