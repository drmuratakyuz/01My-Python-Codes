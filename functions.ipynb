{
  "nbformat": 4,
  "nbformat_minor": 0,
  "metadata": {
    "colab": {
      "name": "functions.ipynb",
      "provenance": [],
      "collapsed_sections": [],
      "authorship_tag": "ABX9TyNC3Wkw7XM+eS0GLiIQ4fZ9",
      "include_colab_link": true
    },
    "kernelspec": {
      "name": "python3",
      "display_name": "Python 3"
    },
    "language_info": {
      "name": "python"
    }
  },
  "cells": [
    {
      "cell_type": "markdown",
      "metadata": {
        "id": "view-in-github",
        "colab_type": "text"
      },
      "source": [
        "<a href=\"https://colab.research.google.com/github/drmuratakyuz/My-Python-Codes/blob/main/functions.ipynb\" target=\"_parent\"><img src=\"https://colab.research.google.com/assets/colab-badge.svg\" alt=\"Open In Colab\"/></a>"
      ]
    },
    {
      "cell_type": "code",
      "execution_count": 4,
      "metadata": {
        "colab": {
          "base_uri": "https://localhost:8080/"
        },
        "id": "GTrqvX0fedTN",
        "outputId": "173e228a-e054-4f95-b9bb-d55e14d5f1d8"
      },
      "outputs": [
        {
          "output_type": "stream",
          "name": "stdout",
          "text": [
            "Enter a number : 7\n",
            "The number is odd\n",
            "None\n"
          ]
        }
      ],
      "source": [
        "def odd_or_even (number):\n",
        "  if number%2==0:\n",
        "    print('The number is even')\n",
        "  else: print('The number is odd')\n",
        "\n",
        "a = int(input(\"Enter a number : \"))\n",
        "print(odd_or_even(a))"
      ]
    },
    {
      "cell_type": "code",
      "source": [
        "text = input(\"Enter a text: \")\n",
        "count = int(input(\"How many times do you print it?: \"))\n",
        "# defination the function\n",
        "def print_it(text,count):\n",
        "  for i in range (1, (count+1)):\n",
        "    print (text, end='\\n')\n",
        "# Calling function\n",
        "print_it(text, count)"
      ],
      "metadata": {
        "colab": {
          "base_uri": "https://localhost:8080/"
        },
        "id": "aLWcJxU83xJ8",
        "outputId": "91d95f2d-98a0-41a3-c6dc-4eaaa713e5dd"
      },
      "execution_count": 8,
      "outputs": [
        {
          "output_type": "stream",
          "name": "stdout",
          "text": [
            "Enter a text: ali\n",
            "How many times do you print it?: 6\n",
            "ali\n",
            "ali\n",
            "ali\n",
            "ali\n",
            "ali\n",
            "ali\n"
          ]
        }
      ]
    },
    {
      "cell_type": "code",
      "source": [
        "def primenum(number):\n",
        " counter=2 \n",
        " while counter<=int(number/2):\n",
        "  if number % counter == 0:\n",
        "   return False\n",
        "  counter += 1\n",
        " return True\n",
        "#Calling function\n",
        "primenum(113)\n"
      ],
      "metadata": {
        "colab": {
          "base_uri": "https://localhost:8080/"
        },
        "id": "ORrgkyet5CQp",
        "outputId": "0dbe690b-06ba-4606-f603-0e1634363118"
      },
      "execution_count": 9,
      "outputs": [
        {
          "output_type": "execute_result",
          "data": {
            "text/plain": [
              "True"
            ]
          },
          "metadata": {},
          "execution_count": 9
        }
      ]
    },
    {
      "cell_type": "code",
      "source": [
        "def factorielAl(number):\n",
        "  result = 1\n",
        "  if (number== 0 or number==1):\n",
        "    print('Result= ', 1)\n",
        "  elif number>1:\n",
        "    for i in range(1, number+1, 1):\n",
        "      result *= i\n",
        "    print ('Result=', result)\n",
        "  else: print ('You should enter 0 or a number bigger than 0')\n",
        "\n",
        "\n",
        "number = int(input(\"Enter a number: \"))\n",
        "print(factorielAl(number))"
      ],
      "metadata": {
        "colab": {
          "base_uri": "https://localhost:8080/"
        },
        "id": "X9MpHRUR5mbz",
        "outputId": "6411ee79-0172-4639-a224-6e28fbbf8bb9"
      },
      "execution_count": 11,
      "outputs": [
        {
          "output_type": "stream",
          "name": "stdout",
          "text": [
            "Enter a number: 6\n",
            "Result= 720\n",
            "None\n"
          ]
        }
      ]
    },
    {
      "cell_type": "code",
      "source": [
        "# drive a tree\n",
        "def drive_tree(heigth, char='*'):\n",
        "  b = heigth\n",
        "  for i in range (1, heigth+1):\n",
        "    print(b*' ',(2*i-1)*char)\n",
        "    b -= 1\n",
        "\n",
        "#calling function\n",
        "theight = int(input(\"Enter the height of the tree: \"))\n",
        "tchar = input(\"Enter a pattern for the tree: \")\n",
        "#print(\"\\n\")\n",
        "if tchar !='' and theight >= 1:\n",
        "  drive_tree(theight,tchar[0])\n",
        "elif tchar == '' and theight >= 1:\n",
        "  drive_tree(theight)\n",
        "else: print(\"Wrong entrence!!!\")\n"
      ],
      "metadata": {
        "colab": {
          "base_uri": "https://localhost:8080/"
        },
        "id": "DH4RCY6660Bj",
        "outputId": "af15adb3-e387-4ae1-d1c6-38f897807319"
      },
      "execution_count": 8,
      "outputs": [
        {
          "output_type": "stream",
          "name": "stdout",
          "text": [
            "Enter the height of the tree: 6\n",
            "Enter a pattern for the tree: o\n",
            "       o\n",
            "      ooo\n",
            "     ooooo\n",
            "    ooooooo\n",
            "   ooooooooo\n",
            "  ooooooooooo\n"
          ]
        }
      ]
    },
    {
      "cell_type": "code",
      "source": [
        "# find average\n",
        "def find_av(numbers):\n",
        "  sum_num=0\n",
        "  avr_sum=0\n",
        "  for i in range(len(numbers)):\n",
        "    sum_num += numbers[i]\n",
        "    avr_sum=sum_num/len(numbers)\n",
        "  return avr_sum\n",
        "\n",
        "piece_num =int(input('How many numbers will you enter?: '))\n",
        "numbers=[]\n",
        "for i in range(0,piece_num):\n",
        "    print (\"Enter\", i+1, 'number:')\n",
        "\n",
        "    number =int(input())\n",
        "    numbers.append(number)\n",
        "\n",
        "print(f\"The average of your entered numbers is: {find_av(numbers)}\")\n"
      ],
      "metadata": {
        "colab": {
          "base_uri": "https://localhost:8080/"
        },
        "id": "xFhX5QR1IGHI",
        "outputId": "4d0c8cfd-fecf-4dbe-a0ef-3f3af57e0efe"
      },
      "execution_count": 12,
      "outputs": [
        {
          "output_type": "stream",
          "name": "stdout",
          "text": [
            "How many numbers will you enter?: 3\n",
            "Enter 1 number:\n",
            "6\n",
            "Enter 2 number:\n",
            "9\n",
            "Enter 3 number:\n",
            "21\n",
            "The average of your entered numbers is: 12.0\n"
          ]
        }
      ]
    },
    {
      "cell_type": "markdown",
      "source": [
        "Global and local variebles"
      ],
      "metadata": {
        "id": "iCkow9c5KvIA"
      }
    },
    {
      "cell_type": "code",
      "source": [
        "# global and local variables\n",
        "for i in range (1,3):\n",
        "  print ('Value of varieble i:', i)\n",
        "print ('Last value of i=', i)"
      ],
      "metadata": {
        "colab": {
          "base_uri": "https://localhost:8080/"
        },
        "id": "aMRKPCL9KyaO",
        "outputId": "f4f5c42f-c8c8-4f93-b928-826a47b84ecc"
      },
      "execution_count": 13,
      "outputs": [
        {
          "output_type": "stream",
          "name": "stdout",
          "text": [
            "Value of varieble i: 1\n",
            "Value of varieble i: 2\n",
            "Last value of i= 2\n"
          ]
        }
      ]
    },
    {
      "cell_type": "code",
      "source": [
        "# finding the student success according to Nigeria\n",
        "def sem_result(attendence, mid, final):\n",
        "  average = mid * 0.4 + final * 0.6\n",
        "   \n",
        "  if average >= 70:\n",
        "    print(f\"Your varege is {average}.\\nYou got A.\\nYou are excelllent.\")\n",
        "  elif average >=60 or average <70:\n",
        "     print(f\"Your avarege is {average}.\\nYou got B.\\nYou are good.\")\n",
        "  elif average >=50 or average <60:\n",
        "     print(f\"Your varege is {average}.\\nYou got C.\\nYou are average.\")\n",
        "  elif average >=40 or average <50:\n",
        "     print(f\"Your varege is {average}.\\nYou got D.\\nYou are not bad.\")\n",
        "  else: print(\"You got E. You are fail \")\n",
        "   \n",
        "mid = final = 0\n",
        "attendence = input(\"Are you participated the final exam? (y/n):\")\n",
        "if attendence == 'y':\n",
        "  mid = int(input(\"Enter your midterm exam result: \"))\n",
        "  final = int(input(\"Enter your final exam result: \"))\n",
        "  \n",
        "  sem_result(attendence, mid, final)\n",
        "\n",
        "else: \n",
        "  print(\"You did not attended the final exam.\\nYou got F.\\nYou are fail \")\n",
        "\n",
        "  \n",
        "    \n",
        "\n",
        "\n",
        "\n"
      ],
      "metadata": {
        "colab": {
          "base_uri": "https://localhost:8080/"
        },
        "id": "eu2FBcygMSb6",
        "outputId": "77d504ed-cb34-42f6-9559-940886453c3f"
      },
      "execution_count": 10,
      "outputs": [
        {
          "output_type": "stream",
          "name": "stdout",
          "text": [
            "Are you participated the final exam? (y/n):y\n",
            "Enter your midterm exam result: 65\n",
            "Enter your final exam result: 78\n",
            "Your varege is 72.8.\n",
            "You got A.\n",
            "You are excelllent.\n"
          ]
        }
      ]
    },
    {
      "cell_type": "code",
      "source": [
        "# finding the student success\n",
        "# defination of function\n",
        "def sem_result(attendence, mid, final):\n",
        "  average = int(mid * 0.4 + final * 0.6)\n",
        "   \n",
        "  if average >= 85:\n",
        "    print(f\"Your varege is {average}.\\nYou got A.\\nYour mark is excelllent.\")\n",
        "  elif average >=75 or average <85:\n",
        "     print(f\"Your avarege is {average}.\\nYou got B.\\nYour mark is good.\")\n",
        "  elif average >=55 or average <65:\n",
        "     print(f\"Your varege is {average}.\\nYou got C.\\nYour mark is average.\")\n",
        "  elif average >=40 or average <55:\n",
        "     print(f\"Your varege is {average}.\\nYou got D.\\nYour mark is not bad.\")\n",
        "  else: print(\"You got E. Your mark is not good.\")\n",
        "# function \n",
        "\n",
        "mid = final = 0\n",
        "attendence = input(\"Are you participated the final exam? (y/n):\")\n",
        "print('*'*50)\n",
        "if attendence == 'y':\n",
        "  mid = int(input(\"Enter your midterm exam result: \"))\n",
        "  final = int(input(\"Enter your final exam result: \"))\n",
        "  print('*'*50)\n",
        "  #calling function\n",
        "  sem_result(attendence, mid, final)\n",
        "\n",
        "else: \n",
        "  print(\"You did not attended the final exam.\\nYou got F.\\nYou are fail \")\n",
        "  "
      ],
      "metadata": {
        "colab": {
          "base_uri": "https://localhost:8080/"
        },
        "id": "f5ZXDdKFUutG",
        "outputId": "04845c33-7099-4724-d939-6ab88fd06fe4"
      },
      "execution_count": 21,
      "outputs": [
        {
          "output_type": "stream",
          "name": "stdout",
          "text": [
            "Are you participated the final exam? (y/n):y\n",
            "**************************************************\n",
            "Enter your midterm exam result: 45\n",
            "Enter your final exam result: 66\n",
            "**************************************************\n",
            "Your avarege is 57.\n",
            "You got B.\n",
            "Your mark is good.\n"
          ]
        }
      ]
    },
    {
      "cell_type": "code",
      "source": [
        "def sum_odd_number(numbers):\n",
        "  sum_numbers=0\n",
        "  for i in range(len(numbers)):\n",
        "    if numbers[i]%2!=0:\n",
        "      sum_numbers += numbers[i]\n",
        "  return sum_numbers\n",
        "\n",
        "sum_odd_number([1, 2, 3, 4, 5, 6, 7, 9, 11, 1773, 1679])"
      ],
      "metadata": {
        "colab": {
          "base_uri": "https://localhost:8080/"
        },
        "id": "eQTm6lRwZOo6",
        "outputId": "7da36c1e-140a-4068-8170-0db43e3fdda8"
      },
      "execution_count": 22,
      "outputs": [
        {
          "output_type": "execute_result",
          "data": {
            "text/plain": [
              "3488"
            ]
          },
          "metadata": {},
          "execution_count": 22
        }
      ]
    },
    {
      "cell_type": "code",
      "source": [
        "\n",
        "greeting = 'Hello'\n",
        "user_age = 35\n",
        "birth_day = True\n",
        "if user_age == 35 and birth_day == True:\n",
        "  greeting ='half of life'\n",
        "  user_age += 1\n",
        "  print(birth_day)\n",
        "birth_day=False\n",
        "print(user_age)\n",
        "print(birth_day)\n",
        "print(greeting)\n"
      ],
      "metadata": {
        "colab": {
          "base_uri": "https://localhost:8080/"
        },
        "id": "03e-UDkc0k-V",
        "outputId": "3a5516f4-2054-4063-cdf5-713bf99ea234"
      },
      "execution_count": 27,
      "outputs": [
        {
          "output_type": "stream",
          "name": "stdout",
          "text": [
            "True\n",
            "36\n",
            "False\n",
            "half of life\n"
          ]
        }
      ]
    }
  ]
}