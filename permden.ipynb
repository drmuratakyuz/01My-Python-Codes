{
  "nbformat": 4,
  "nbformat_minor": 0,
  "metadata": {
    "colab": {
      "name": "permden.ipynb",
      "provenance": [],
      "collapsed_sections": [],
      "authorship_tag": "ABX9TyOKNln7EBuU2LG10xJyFNLJ",
      "include_colab_link": true
    },
    "kernelspec": {
      "name": "python3",
      "display_name": "Python 3"
    },
    "language_info": {
      "name": "python"
    }
  },
  "cells": [
    {
      "cell_type": "markdown",
      "metadata": {
        "id": "view-in-github",
        "colab_type": "text"
      },
      "source": [
        "<a href=\"https://colab.research.google.com/github/drmuratakyuz/My-Python-Codes/blob/main/permden.ipynb\" target=\"_parent\"><img src=\"https://colab.research.google.com/assets/colab-badge.svg\" alt=\"Open In Colab\"/></a>"
      ]
    },
    {
      "cell_type": "code",
      "execution_count": 5,
      "metadata": {
        "colab": {
          "base_uri": "https://localhost:8080/"
        },
        "id": "ZZgBWWXFYu_K",
        "outputId": "ba191e57-888e-431b-ef11-bede3cc2a08b"
      },
      "outputs": [
        {
          "output_type": "stream",
          "name": "stdout",
          "text": [
            "[['k', 'g', 'v'], ['o', 'u'], ['k', 'g', 'y']]\n",
            "3\n",
            "['ko', 'ku', 'go', 'gu', 'vo', 'vu', 'kk', 'kg', 'ky', 'ok', 'og', 'oy']\n"
          ]
        }
      ],
      "source": [
        "#kullanicidan uc adet string alarak liste haline ceviren ve bu liste elemanlari arasindaki olasiliklari bulan program\n",
        "a = []\n",
        "i = 1\n",
        "letter = ''\n",
        "#mylist =[]\n",
        "mylist = [['k', 'g', 'v'],['o','u'],['k','g','y']]\n",
        "mylist1 = []\n",
        "'''\n",
        "while letter != \"qq\":\n",
        "  #letter = input(\"Please enter possible letters for {} letter: \".format(i))\n",
        "  letter = input(\"Please enter possible letters for {} letter (for quit qq): \".format(i))\n",
        "  if letter == \"qq\":\n",
        "    break\n",
        "  else:\n",
        "    mylist.append(letter)\n",
        "'''\n",
        "print(mylist) \n",
        "print(len(mylist))\n",
        "import itertools\n",
        "#mylist1 = mylist[0]\n",
        "\n",
        "\n",
        "#for i in range(len(mylist)): \n",
        "for r in itertools.product(mylist[0],mylist[1]): \n",
        "   mylist1.append(r[0] + r[1])\n",
        "for r in itertools.product(mylist1[0],mylist[2]): \n",
        "   mylist1.append(r[0] + r[1])\n",
        "print(mylist1)"
      ]
    },
    {
      "cell_type": "code",
      "source": [
        "import itertools\n",
        "mylist1x =[]\n",
        "mylistx = [['kk', 'g', 'v'],['y', 'i'],['k','g','v']]\n",
        "for r in itertools.product(mylistx[0], mylistx[1],mylistx[2]):\n",
        "  mylist1x.append(r[0] + r[1]+ r[2]) \n",
        "  print(r[0] + r[1]+ r[2])\n",
        "print(mylist1x)\n",
        "print(len(mylist1x))"
      ],
      "metadata": {
        "colab": {
          "base_uri": "https://localhost:8080/"
        },
        "id": "_9mo_9xxZ0Gf",
        "outputId": "f71ab4a2-24a3-462a-c1ef-aadd6fafacba"
      },
      "execution_count": 18,
      "outputs": [
        {
          "output_type": "stream",
          "name": "stdout",
          "text": [
            "kkyk\n",
            "kkyg\n",
            "kkyv\n",
            "kkik\n",
            "kkig\n",
            "kkiv\n",
            "gyk\n",
            "gyg\n",
            "gyv\n",
            "gik\n",
            "gig\n",
            "giv\n",
            "vyk\n",
            "vyg\n",
            "vyv\n",
            "vik\n",
            "vig\n",
            "viv\n",
            "['kkyk', 'kkyg', 'kkyv', 'kkik', 'kkig', 'kkiv', 'gyk', 'gyg', 'gyv', 'gik', 'gig', 'giv', 'vyk', 'vyg', 'vyv', 'vik', 'vig', 'viv']\n",
            "18\n"
          ]
        }
      ]
    },
    {
      "cell_type": "code",
      "source": [
        "import itertools\n",
        "mylist1x =[]\n",
        "a = []\n",
        "mylistx = [['k', 'g', 'v'],['y', 'i'],['k','g','v']]\n",
        "for r in itertools.product(mylistx[0], mylistx[1]):\n",
        "  a.append(r[0] + r[1]) \n",
        "  print(r[0] + r[1])\n",
        "  mylist1x = a\n",
        "#print(a)\n",
        "#print(len(a))\n",
        "\n",
        "for r in itertools.product(a,mylistx[2]):\n",
        "  a.append(r[0] + r[1]) \n",
        "  print(r[0] + r[1])\n",
        "#print(a)\n",
        "print(len(a))"
      ],
      "metadata": {
        "colab": {
          "base_uri": "https://localhost:8080/"
        },
        "id": "oz0NWyUTbGGM",
        "outputId": "a8067f39-6dbf-4f71-fcdb-a24aa5f6ae6a"
      },
      "execution_count": 26,
      "outputs": [
        {
          "output_type": "stream",
          "name": "stdout",
          "text": [
            "ky\n",
            "ki\n",
            "gy\n",
            "gi\n",
            "vy\n",
            "vi\n",
            "kyk\n",
            "kyg\n",
            "kyv\n",
            "kik\n",
            "kig\n",
            "kiv\n",
            "gyk\n",
            "gyg\n",
            "gyv\n",
            "gik\n",
            "gig\n",
            "giv\n",
            "vyk\n",
            "vyg\n",
            "vyv\n",
            "vik\n",
            "vig\n",
            "viv\n",
            "24\n"
          ]
        }
      ]
    },
    {
      "cell_type": "code",
      "source": [
        "import itertools\n",
        "mylist1x =[]\n",
        "\n",
        "mylistx = [['k', 'g', 'v'],['y', 'i'],['k','g','v']]\n",
        "a = mylistx[0]\n",
        "b = []\n",
        "print(a)\n",
        "for r in itertools.product(a[0], mylistx[1]):\n",
        "  b.append(r[0] + r[1]) \n",
        "  print(r[0] + r[1])\n",
        "  mylist1x = b\n",
        "print(b)\n",
        "print(len(b))\n",
        "mylist1x.clear()\n",
        "for r in itertools.product(b,mylistx[2]):\n",
        "  mylist1x.append(r[0] + r[2]) \n",
        "  print(r[0] + r[2])\n",
        "#print(a)\n",
        "print(len(mylist1x))"
      ],
      "metadata": {
        "colab": {
          "base_uri": "https://localhost:8080/"
        },
        "id": "ObukDr09d7zh",
        "outputId": "0d995b77-7805-4f72-c722-f486aa259418"
      },
      "execution_count": 32,
      "outputs": [
        {
          "output_type": "stream",
          "name": "stdout",
          "text": [
            "['k', 'g', 'v']\n",
            "ky\n",
            "ki\n",
            "['ky', 'ki']\n",
            "2\n",
            "0\n"
          ]
        }
      ]
    }
  ]
}