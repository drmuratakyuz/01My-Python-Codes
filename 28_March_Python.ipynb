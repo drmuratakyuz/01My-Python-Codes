{
  "cells": [
    {
      "cell_type": "markdown",
      "metadata": {
        "id": "view-in-github",
        "colab_type": "text"
      },
      "source": [
        "<a href=\"https://colab.research.google.com/github/drmuratakyuz/My-Python-Codes/blob/main/28_March_Python.ipynb\" target=\"_parent\"><img src=\"https://colab.research.google.com/assets/colab-badge.svg\" alt=\"Open In Colab\"/></a>"
      ]
    },
    {
      "cell_type": "markdown",
      "id": "2b97f051",
      "metadata": {
        "id": "2b97f051"
      },
      "source": [
        "# Robotlara komut verme "
      ]
    },
    {
      "cell_type": "code",
      "execution_count": null,
      "id": "c92cdf87",
      "metadata": {
        "id": "c92cdf87"
      },
      "outputs": [],
      "source": [
        "command = [\"right 20\", \"right 30\", \"left 50\", \"up 10\", \"down 20\"]"
      ]
    },
    {
      "cell_type": "code",
      "execution_count": null,
      "id": "009e2313",
      "metadata": {
        "id": "009e2313",
        "outputId": "8f1d3d8a-d8d5-4bc5-8c2c-3747a7ec0507"
      },
      "outputs": [
        {
          "data": {
            "text/plain": [
              "['right 20', 'right 30', 'left 50', 'up 10', 'down 20']"
            ]
          },
          "execution_count": 2,
          "metadata": {},
          "output_type": "execute_result"
        }
      ],
      "source": [
        "command"
      ]
    },
    {
      "cell_type": "code",
      "execution_count": null,
      "id": "0a9ff5bc",
      "metadata": {
        "id": "0a9ff5bc"
      },
      "outputs": [],
      "source": [
        "x = y = 0"
      ]
    },
    {
      "cell_type": "code",
      "execution_count": null,
      "id": "05c6403c",
      "metadata": {
        "id": "05c6403c",
        "outputId": "6f705417-5dc5-4c56-c067-09e961205ca8"
      },
      "outputs": [
        {
          "data": {
            "text/plain": [
              "'down 20'"
            ]
          },
          "execution_count": 5,
          "metadata": {},
          "output_type": "execute_result"
        }
      ],
      "source": [
        "command[-1]"
      ]
    },
    {
      "cell_type": "code",
      "execution_count": null,
      "id": "6d5c4db1",
      "metadata": {
        "id": "6d5c4db1",
        "outputId": "02be1a74-d470-4eae-f9ee-e00e8b60a280"
      },
      "outputs": [
        {
          "data": {
            "text/plain": [
              "['down', '20']"
            ]
          },
          "execution_count": 6,
          "metadata": {},
          "output_type": "execute_result"
        }
      ],
      "source": [
        "command[-1].split()"
      ]
    },
    {
      "cell_type": "code",
      "execution_count": null,
      "id": "f21aa1b0",
      "metadata": {
        "id": "f21aa1b0",
        "outputId": "1649a900-8e0e-48b2-a73f-9ff443fb7ecf"
      },
      "outputs": [
        {
          "data": {
            "text/plain": [
              "'down'"
            ]
          },
          "execution_count": 7,
          "metadata": {},
          "output_type": "execute_result"
        }
      ],
      "source": [
        "command[-1].split()[0]"
      ]
    },
    {
      "cell_type": "code",
      "execution_count": null,
      "id": "f493bc04",
      "metadata": {
        "id": "f493bc04",
        "outputId": "974f4d31-ec7a-4b7c-fe94-dbd5f4027d06"
      },
      "outputs": [
        {
          "data": {
            "text/plain": [
              "'20'"
            ]
          },
          "execution_count": 8,
          "metadata": {},
          "output_type": "execute_result"
        }
      ],
      "source": [
        "command[-1].split()[1]"
      ]
    },
    {
      "cell_type": "code",
      "execution_count": null,
      "id": "02053ef4",
      "metadata": {
        "id": "02053ef4",
        "outputId": "e8ccbd9e-d24d-4097-8854-e9c5b9e72911"
      },
      "outputs": [
        {
          "data": {
            "text/plain": [
              "[0, -10]"
            ]
          },
          "execution_count": 17,
          "metadata": {},
          "output_type": "execute_result"
        }
      ],
      "source": [
        "for i in range(len(command)) :\n",
        "    if command[i].startswith(\"r\") : x += int(command[i].split()[1])\n",
        "    \n",
        "    elif command[i].startswith(\"l\") : x -= int(command[i].split()[1])\n",
        "        \n",
        "    elif command[i].startswith(\"u\") : y += int(command[i].split()[1])\n",
        "        \n",
        "    elif command[i].startswith(\"d\") : y-= int(command[i].split()[1])\n",
        "\n",
        "[x, y]"
      ]
    },
    {
      "cell_type": "markdown",
      "id": "9a5e9531",
      "metadata": {
        "id": "9a5e9531"
      },
      "source": [
        "# Valid Paranthesis\n",
        "\n",
        "   Input      Output\n",
        "   -------    ------\n",
        "   \"()\"        True\n",
        "   \"()[]{}\"    True\n",
        "   \"(]\"        False\n",
        "   \"([)]\"      False\n",
        "   \"{[]}\"      True\n",
        "   \"\"          True\n",
        "- Önemli olan koda geçmeden önce algoritma üzerine çalışmaktır."
      ]
    },
    {
      "cell_type": "code",
      "execution_count": null,
      "id": "48e74813",
      "metadata": {
        "id": "48e74813"
      },
      "outputs": [],
      "source": [
        "\"([{({})}]({}))\""
      ]
    },
    {
      "cell_type": "code",
      "execution_count": null,
      "id": "ad467777",
      "metadata": {
        "id": "ad467777"
      },
      "outputs": [],
      "source": [
        "\"([{()}]())\""
      ]
    },
    {
      "cell_type": "code",
      "execution_count": null,
      "id": "b6af04f8",
      "metadata": {
        "id": "b6af04f8"
      },
      "outputs": [],
      "source": [
        "\"([{}])\""
      ]
    },
    {
      "cell_type": "code",
      "execution_count": null,
      "id": "4ec243f6",
      "metadata": {
        "id": "4ec243f6"
      },
      "outputs": [],
      "source": [
        "\"([])\""
      ]
    },
    {
      "cell_type": "code",
      "execution_count": null,
      "id": "74ffb0d5",
      "metadata": {
        "id": "74ffb0d5"
      },
      "outputs": [],
      "source": [
        "\"()\""
      ]
    },
    {
      "cell_type": "code",
      "execution_count": null,
      "id": "d58228da",
      "metadata": {
        "id": "d58228da"
      },
      "outputs": [],
      "source": [
        "\"\""
      ]
    },
    {
      "cell_type": "code",
      "execution_count": null,
      "id": "4efe8408",
      "metadata": {
        "id": "4efe8408"
      },
      "outputs": [],
      "source": [
        "\"[([{({})}]({}))\""
      ]
    },
    {
      "cell_type": "code",
      "execution_count": null,
      "id": "e8bf3f79",
      "metadata": {
        "id": "e8bf3f79"
      },
      "outputs": [],
      "source": [
        "\"[([{()}]())\""
      ]
    },
    {
      "cell_type": "code",
      "execution_count": null,
      "id": "94f39d82",
      "metadata": {
        "id": "94f39d82"
      },
      "outputs": [],
      "source": [
        "\"[([{}])\""
      ]
    },
    {
      "cell_type": "code",
      "execution_count": null,
      "id": "2688bbff",
      "metadata": {
        "id": "2688bbff"
      },
      "outputs": [],
      "source": [
        "\"[([])\""
      ]
    },
    {
      "cell_type": "code",
      "execution_count": null,
      "id": "334d8417",
      "metadata": {
        "id": "334d8417"
      },
      "outputs": [],
      "source": [
        "\"[()\""
      ]
    },
    {
      "cell_type": "code",
      "execution_count": null,
      "id": "c9abf469",
      "metadata": {
        "id": "c9abf469"
      },
      "outputs": [],
      "source": [
        "\"[\"  => valid değil"
      ]
    },
    {
      "cell_type": "code",
      "execution_count": null,
      "id": "e5659713",
      "metadata": {
        "id": "e5659713",
        "outputId": "7173d8fc-7b21-4b54-d1b9-00535e54012c"
      },
      "outputs": [
        {
          "data": {
            "text/plain": [
              "'ali+deli+veli'"
            ]
          },
          "execution_count": 19,
          "metadata": {},
          "output_type": "execute_result"
        }
      ],
      "source": [
        "\"ali-deli-veli\".replace(\"-\", \"+\")   # replace methodu bize string döndürür"
      ]
    },
    {
      "cell_type": "code",
      "execution_count": null,
      "id": "279bde9b",
      "metadata": {
        "id": "279bde9b",
        "outputId": "a0f24f57-7c0e-4cc7-d9ac-c410597fba28"
      },
      "outputs": [
        {
          "data": {
            "text/plain": [
              "'alivelideli'"
            ]
          },
          "execution_count": 20,
          "metadata": {},
          "output_type": "execute_result"
        }
      ],
      "source": [
        "\"ali-veli-deli\".replace(\"-\", \"\")"
      ]
    },
    {
      "cell_type": "code",
      "execution_count": null,
      "id": "697e638e",
      "metadata": {
        "id": "697e638e",
        "outputId": "b8a3d9a1-5451-44df-c9d5-eb3635c77b6a"
      },
      "outputs": [
        {
          "data": {
            "text/plain": [
              "'ldelvel'"
            ]
          },
          "execution_count": 21,
          "metadata": {},
          "output_type": "execute_result"
        }
      ],
      "source": [
        "\"ali-deli-veli\".replace(\"-\", \"\").replace(\"a\", \"\").replace(\"i\", \"\")"
      ]
    },
    {
      "cell_type": "code",
      "execution_count": null,
      "id": "762cd508",
      "metadata": {
        "id": "762cd508"
      },
      "outputs": [],
      "source": [
        "x = \"[([{({})}]({}))\""
      ]
    },
    {
      "cell_type": "code",
      "execution_count": null,
      "id": "2562aafd",
      "metadata": {
        "id": "2562aafd"
      },
      "outputs": [],
      "source": [
        "def isValid(s) :\n",
        "    while \"()\" in s or \"[]\" in s or \"{}\" in s :\n",
        "        s = s.replace(\"()\", \"\").replace(\"[]\",\"\").replace(\"{}\", \"\")\n",
        "    return s == \"\""
      ]
    },
    {
      "cell_type": "code",
      "execution_count": null,
      "id": "1b4d953e",
      "metadata": {
        "id": "1b4d953e",
        "outputId": "8424824f-ab20-44d7-9fed-215739fcaa85"
      },
      "outputs": [
        {
          "data": {
            "text/plain": [
              "False"
            ]
          },
          "execution_count": 23,
          "metadata": {},
          "output_type": "execute_result"
        }
      ],
      "source": [
        "isValid(x)"
      ]
    },
    {
      "cell_type": "code",
      "execution_count": null,
      "id": "6b67272d",
      "metadata": {
        "id": "6b67272d"
      },
      "outputs": [],
      "source": [
        "y = \"([{({})}]({}))\""
      ]
    },
    {
      "cell_type": "code",
      "execution_count": null,
      "id": "9afca290",
      "metadata": {
        "id": "9afca290",
        "outputId": "2f9c4d9e-63bf-4093-fd7c-dc7c335979c9"
      },
      "outputs": [
        {
          "data": {
            "text/plain": [
              "True"
            ]
          },
          "execution_count": 25,
          "metadata": {},
          "output_type": "execute_result"
        }
      ],
      "source": [
        "isValid(y)"
      ]
    },
    {
      "cell_type": "markdown",
      "id": "76000c5d",
      "metadata": {
        "id": "76000c5d"
      },
      "source": [
        "# Building a Calculator using dict with lambda Expression"
      ]
    },
    {
      "cell_type": "code",
      "execution_count": null,
      "id": "85ef851e",
      "metadata": {
        "id": "85ef851e"
      },
      "outputs": [],
      "source": [
        "# calculator [\"+\"](4, 5) => 9"
      ]
    },
    {
      "cell_type": "code",
      "execution_count": null,
      "id": "e4615a0f",
      "metadata": {
        "id": "e4615a0f",
        "outputId": "cb01c702-7327-41fd-981f-254be4856444"
      },
      "outputs": [
        {
          "data": {
            "text/plain": [
              "9"
            ]
          },
          "execution_count": 26,
          "metadata": {},
          "output_type": "execute_result"
        }
      ],
      "source": [
        "calculator = {\n",
        "    \"+\" : (lambda x,y : x + y),\n",
        "    \"-\" : (lambda x,y : x - y),\n",
        "    \"*\" : (lambda x,y : x * y),\n",
        "    \"/\" : (lambda x,y : x / y),\n",
        "}\n",
        "calculator[\"+\"](4,5)"
      ]
    },
    {
      "cell_type": "code",
      "execution_count": null,
      "id": "9b9994f8",
      "metadata": {
        "id": "9b9994f8",
        "outputId": "ad4e85c2-f7a6-4987-ac34-69fd1343824c"
      },
      "outputs": [
        {
          "data": {
            "text/plain": [
              "9"
            ]
          },
          "execution_count": 27,
          "metadata": {},
          "output_type": "execute_result"
        }
      ],
      "source": [
        "(lambda x, y : x + y)(4, 5)"
      ]
    },
    {
      "cell_type": "code",
      "execution_count": null,
      "id": "72462edc",
      "metadata": {
        "id": "72462edc"
      },
      "outputs": [],
      "source": [
        "sözlük = {\n",
        "    \"bir\" : 44,\n",
        "    \"iki\" : [\"ali\", \"deli\", \"veli\"]\n",
        "}"
      ]
    },
    {
      "cell_type": "code",
      "execution_count": null,
      "id": "b6062af5",
      "metadata": {
        "id": "b6062af5",
        "outputId": "b6988eec-27b8-4266-ec52-de9f24429372"
      },
      "outputs": [
        {
          "data": {
            "text/plain": [
              "44"
            ]
          },
          "execution_count": 29,
          "metadata": {},
          "output_type": "execute_result"
        }
      ],
      "source": [
        "sözlük[\"bir\"]"
      ]
    },
    {
      "cell_type": "code",
      "execution_count": null,
      "id": "366694bc",
      "metadata": {
        "id": "366694bc",
        "outputId": "47adc6b6-7d9a-4d06-8d0c-eab91b2aa658"
      },
      "outputs": [
        {
          "data": {
            "text/plain": [
              "['ali', 'deli', 'veli']"
            ]
          },
          "execution_count": 30,
          "metadata": {},
          "output_type": "execute_result"
        }
      ],
      "source": [
        "sözlük[\"iki\"]"
      ]
    },
    {
      "cell_type": "code",
      "execution_count": null,
      "id": "ada77624",
      "metadata": {
        "id": "ada77624",
        "outputId": "2e5d4e0d-174e-447e-de02-e18172b4f057"
      },
      "outputs": [
        {
          "data": {
            "text/plain": [
              "list"
            ]
          },
          "execution_count": 31,
          "metadata": {},
          "output_type": "execute_result"
        }
      ],
      "source": [
        "type(sözlük[\"iki\"])"
      ]
    },
    {
      "cell_type": "code",
      "execution_count": null,
      "id": "458d18d5",
      "metadata": {
        "id": "458d18d5"
      },
      "outputs": [],
      "source": [
        "calculator = {\n",
        "    \"+\" : (lambda x, y : x + y),\n",
        "    \"-\" : (lambda x, y : x - y),\n",
        "    \"*\" : (lambda x, y : x * y),\n",
        "    \"/\" : (lambda x, y : x / y),\n",
        "}"
      ]
    },
    {
      "cell_type": "code",
      "execution_count": null,
      "id": "979dde0b",
      "metadata": {
        "id": "979dde0b",
        "outputId": "6bdb5557-facf-4dbe-f167-366f1fa08e5d"
      },
      "outputs": [
        {
          "data": {
            "text/plain": [
              "<function __main__.<lambda>(x, y)>"
            ]
          },
          "execution_count": 33,
          "metadata": {},
          "output_type": "execute_result"
        }
      ],
      "source": [
        "calculator[\"/\"]   # lambda object sonuç verir."
      ]
    },
    {
      "cell_type": "code",
      "execution_count": null,
      "id": "6f6175d0",
      "metadata": {
        "id": "6f6175d0",
        "outputId": "3cd79758-f83a-4944-d475-fb9c662231f5"
      },
      "outputs": [
        {
          "data": {
            "text/plain": [
              "2.0"
            ]
          },
          "execution_count": 34,
          "metadata": {},
          "output_type": "execute_result"
        }
      ],
      "source": [
        "calculator[\"/\"](6, 3)"
      ]
    },
    {
      "cell_type": "markdown",
      "id": "8d89cd87",
      "metadata": {
        "id": "8d89cd87"
      },
      "source": [
        "## password generator"
      ]
    },
    {
      "cell_type": "code",
      "execution_count": null,
      "id": "2d690dfc",
      "metadata": {
        "id": "2d690dfc"
      },
      "outputs": [],
      "source": [
        "import random"
      ]
    },
    {
      "cell_type": "code",
      "execution_count": null,
      "id": "5e2cc82a",
      "metadata": {
        "id": "5e2cc82a",
        "outputId": "c6bdd787-906c-45e8-8ed1-4294d68bd684"
      },
      "outputs": [
        {
          "data": {
            "text/plain": [
              "16"
            ]
          },
          "execution_count": 36,
          "metadata": {},
          "output_type": "execute_result"
        }
      ],
      "source": [
        "random.randint(10, 30)"
      ]
    },
    {
      "cell_type": "code",
      "execution_count": null,
      "id": "114accf9",
      "metadata": {
        "id": "114accf9",
        "outputId": "29aba2ec-3721-492a-8939-a6b6535cecc7"
      },
      "outputs": [
        {
          "data": {
            "text/plain": [
              "'o'"
            ]
          },
          "execution_count": 37,
          "metadata": {},
          "output_type": "execute_result"
        }
      ],
      "source": [
        "chr(111)   # ASCII kod karşılığını verir."
      ]
    },
    {
      "cell_type": "code",
      "execution_count": null,
      "id": "f3794ffa",
      "metadata": {
        "id": "f3794ffa",
        "outputId": "ff342e83-328e-498d-f20d-a13b13869780"
      },
      "outputs": [
        {
          "data": {
            "text/plain": [
              "'m'"
            ]
          },
          "execution_count": 38,
          "metadata": {},
          "output_type": "execute_result"
        }
      ],
      "source": [
        "chr(random.randint(97, 127))   # küçük harflerin aralığından seçer"
      ]
    },
    {
      "cell_type": "code",
      "execution_count": null,
      "id": "251cccaf",
      "metadata": {
        "id": "251cccaf",
        "outputId": "81608917-9a02-4c62-c69b-5eee1b1141be"
      },
      "outputs": [
        {
          "data": {
            "text/plain": [
              "'O'"
            ]
          },
          "execution_count": 39,
          "metadata": {},
          "output_type": "execute_result"
        }
      ],
      "source": [
        "chr(random.randint(65, 90))    # büyük harflerin aralığından seçer"
      ]
    },
    {
      "cell_type": "code",
      "execution_count": null,
      "id": "948023a4",
      "metadata": {
        "id": "948023a4",
        "outputId": "03df0a14-56c0-4779-82c5-86e504dbcfe2"
      },
      "outputs": [
        {
          "data": {
            "text/plain": [
              "'8'"
            ]
          },
          "execution_count": 40,
          "metadata": {},
          "output_type": "execute_result"
        }
      ],
      "source": [
        "chr(random.randint(48, 57))    # sayılar için"
      ]
    },
    {
      "cell_type": "code",
      "execution_count": null,
      "id": "5c081f7a",
      "metadata": {
        "id": "5c081f7a",
        "outputId": "9acb6eb5-9974-4f7d-b976-f1a5fe059a31"
      },
      "outputs": [
        {
          "data": {
            "text/plain": [
              "\"'\""
            ]
          },
          "execution_count": 41,
          "metadata": {},
          "output_type": "execute_result"
        }
      ],
      "source": [
        "chr(random.randint(33, 47))     # özel karakterler için 33-47 58-64"
      ]
    },
    {
      "cell_type": "code",
      "execution_count": null,
      "id": "dc85b5c5",
      "metadata": {
        "id": "dc85b5c5",
        "outputId": "494c18b3-b2b2-492c-f7b2-bfe5fd25797c"
      },
      "outputs": [
        {
          "data": {
            "text/plain": [
              "'<'"
            ]
          },
          "execution_count": 42,
          "metadata": {},
          "output_type": "execute_result"
        }
      ],
      "source": [
        "chr(random.randint(58, 64)) "
      ]
    },
    {
      "cell_type": "code",
      "execution_count": null,
      "id": "fd5f6178",
      "metadata": {
        "id": "fd5f6178"
      },
      "outputs": [],
      "source": [
        "uppers = [BUYUK-HARFLER for in range(3)]"
      ]
    },
    {
      "cell_type": "code",
      "execution_count": null,
      "id": "3acc2bb0",
      "metadata": {
        "id": "3acc2bb0",
        "outputId": "d39fa5b4-b76d-4372-84be-93b46db11b8f"
      },
      "outputs": [
        {
          "data": {
            "text/plain": [
              "['Y', 'C', 'Y']"
            ]
          },
          "execution_count": 46,
          "metadata": {},
          "output_type": "execute_result"
        }
      ],
      "source": [
        "uppers = [chr(random.randint(65, 90)) for i in range(3)]\n",
        "uppers"
      ]
    },
    {
      "cell_type": "code",
      "execution_count": null,
      "id": "10afe4e8",
      "metadata": {
        "id": "10afe4e8",
        "outputId": "1ede480a-6488-4cca-ca0b-6eb378bd16c5"
      },
      "outputs": [
        {
          "data": {
            "text/plain": [
              "['h', 'n', 'u']"
            ]
          },
          "execution_count": 47,
          "metadata": {},
          "output_type": "execute_result"
        }
      ],
      "source": [
        "lowers = [chr(random.randint(97, 127)) for i in range(3)]\n",
        "lowers"
      ]
    },
    {
      "cell_type": "code",
      "execution_count": null,
      "id": "e9cf5361",
      "metadata": {
        "id": "e9cf5361",
        "outputId": "a9b762a0-fba5-4045-a424-cbfad71253c8"
      },
      "outputs": [
        {
          "data": {
            "text/plain": [
              "['1', '2', '0']"
            ]
          },
          "execution_count": 48,
          "metadata": {},
          "output_type": "execute_result"
        }
      ],
      "source": [
        "numbers =[chr(random.randint(48, 57)) for i in range(3)]\n",
        "numbers"
      ]
    },
    {
      "cell_type": "code",
      "execution_count": null,
      "id": "f2af2743",
      "metadata": {
        "id": "f2af2743",
        "outputId": "246fbeb1-958c-4256-eeea-8420cff507ed"
      },
      "outputs": [
        {
          "data": {
            "text/plain": [
              "'#<'"
            ]
          },
          "execution_count": 49,
          "metadata": {},
          "output_type": "execute_result"
        }
      ],
      "source": [
        "chars = chr(random.randint(33, 47)) + chr(random.randint(58, 64)) \n",
        "chars"
      ]
    },
    {
      "cell_type": "code",
      "execution_count": null,
      "id": "6d323803",
      "metadata": {
        "id": "6d323803",
        "outputId": "5a200e95-0fae-4a35-a133-1cbc34af2ea3"
      },
      "outputs": [
        {
          "data": {
            "text/plain": [
              "'1-2-0'"
            ]
          },
          "execution_count": 50,
          "metadata": {},
          "output_type": "execute_result"
        }
      ],
      "source": [
        "\"-\".join(numbers)     # aralara - koyup liste elemanlarını stringe çeviriyor."
      ]
    },
    {
      "cell_type": "code",
      "execution_count": null,
      "id": "fa8ba53c",
      "metadata": {
        "id": "fa8ba53c",
        "outputId": "7a239124-de06-4b69-b9c4-6593336dd6ef"
      },
      "outputs": [
        {
          "data": {
            "text/plain": [
              "'120'"
            ]
          },
          "execution_count": 51,
          "metadata": {},
          "output_type": "execute_result"
        }
      ],
      "source": [
        "\"\".join(numbers)"
      ]
    },
    {
      "cell_type": "markdown",
      "id": "9206f1c5",
      "metadata": {
        "id": "9206f1c5"
      },
      "source": [
        "- Join() metodu iterable- üyelerini birer birer döndürebilen nesneler alır. Örnek: List, Tuple, String, Dictionary ve Set ve iterable öğeleriyle birleştirilmiş bir string döndürür. eğer iterable string olmayan bir değer içeriyorsa TypeError exception verir."
      ]
    },
    {
      "cell_type": "code",
      "execution_count": null,
      "id": "cdea003d",
      "metadata": {
        "id": "cdea003d",
        "outputId": "ccc959f8-9d0d-4487-f772-0e2555b81c63"
      },
      "outputs": [
        {
          "data": {
            "text/plain": [
              "'YCYhnu120#<'"
            ]
          },
          "execution_count": 52,
          "metadata": {},
          "output_type": "execute_result"
        }
      ],
      "source": [
        "passw = \"\".join(uppers) + \"\".join(lowers) + \"\".join(numbers) + chars\n",
        "passw"
      ]
    },
    {
      "cell_type": "markdown",
      "id": "faa859b3",
      "metadata": {
        "id": "faa859b3"
      },
      "source": [
        "random.shuffle()  # içerisine yazılan listeyi karıştırır. \n",
        "- shuffle() metodu, liste gibi bir sıra alır ve öğelerin sırasını yeniden düzenler.\n",
        "- Bu metod orijinal listeyi değiştirir, yeni bir liste döndürmez."
      ]
    },
    {
      "cell_type": "code",
      "execution_count": null,
      "id": "9653367c",
      "metadata": {
        "id": "9653367c",
        "outputId": "b65437f6-6142-4e05-f525-2c47c96b1f5a"
      },
      "outputs": [
        {
          "data": {
            "text/plain": [
              "['Y', 'C', 'Y', 'h', 'n', 'u', '1', '2', '0', '#', '<']"
            ]
          },
          "execution_count": 54,
          "metadata": {},
          "output_type": "execute_result"
        }
      ],
      "source": [
        "pass_list = list(passw)\n",
        "pass_list"
      ]
    },
    {
      "cell_type": "code",
      "execution_count": null,
      "id": "cada78fc",
      "metadata": {
        "id": "cada78fc"
      },
      "outputs": [],
      "source": [
        "random.shuffle(pass_list)"
      ]
    },
    {
      "cell_type": "code",
      "execution_count": null,
      "id": "d815148a",
      "metadata": {
        "id": "d815148a",
        "outputId": "a48b569f-597d-483a-a332-9e745c8dffa1"
      },
      "outputs": [
        {
          "data": {
            "text/plain": [
              "['<', 'n', 'h', 'Y', '#', 'Y', '2', 'u', '0', '1', 'C']"
            ]
          },
          "execution_count": 56,
          "metadata": {},
          "output_type": "execute_result"
        }
      ],
      "source": [
        "pass_list"
      ]
    },
    {
      "cell_type": "code",
      "execution_count": null,
      "id": "2dca6a7a",
      "metadata": {
        "id": "2dca6a7a",
        "outputId": "0ee7ecc9-3a2b-4185-c6d0-dab0b19a84b7"
      },
      "outputs": [
        {
          "data": {
            "text/plain": [
              "'<nhY#Y2u01C'"
            ]
          },
          "execution_count": 57,
          "metadata": {},
          "output_type": "execute_result"
        }
      ],
      "source": [
        "\"\".join(pass_list)"
      ]
    },
    {
      "cell_type": "code",
      "execution_count": null,
      "id": "05e91e7c",
      "metadata": {
        "id": "05e91e7c"
      },
      "outputs": [],
      "source": [
        "def karıştır(password) :\n",
        "    templist = list(password)\n",
        "    random.shuffle(templist)\n",
        "    return \"\".join(templist)"
      ]
    },
    {
      "cell_type": "code",
      "execution_count": null,
      "id": "fd864d9b",
      "metadata": {
        "id": "fd864d9b",
        "outputId": "0317ec86-f3b9-4e39-d8b2-0baad58d6eb6"
      },
      "outputs": [
        {
          "name": "stdout",
          "output_type": "stream",
          "text": [
            "<#C20Y1uhYn\n"
          ]
        }
      ],
      "source": [
        "print(karıştır(passw))"
      ]
    },
    {
      "cell_type": "code",
      "execution_count": null,
      "id": "c7aa4a2e",
      "metadata": {
        "id": "c7aa4a2e",
        "outputId": "dc5bd021-6e5b-452e-f4ac-bc2255d4a8ee"
      },
      "outputs": [
        {
          "name": "stdout",
          "output_type": "stream",
          "text": [
            "Ks1Yi4Hy5\n"
          ]
        }
      ],
      "source": [
        "import random, string       # F1478 Samet hocamın çözümü...\n",
        "a = \"\"\n",
        "\n",
        "for i in range(3):\n",
        "    a += random.choice(string.ascii_uppercase)\n",
        "    a += random.choice(string.ascii_lowercase)\n",
        "    a += random.choice(string.digits)\n",
        "print(a)"
      ]
    },
    {
      "cell_type": "code",
      "execution_count": null,
      "id": "8614b3e2",
      "metadata": {
        "id": "8614b3e2"
      },
      "outputs": [],
      "source": [
        ""
      ]
    },
    {
      "cell_type": "markdown",
      "id": "57d3b952",
      "metadata": {
        "id": "57d3b952"
      },
      "source": [
        "- timeit(), verilen kod parçacığı tarafından alınan yürütme süresini (execution time) ölçmek için Python kitaplığında bir metotdur. Python kitaplığı, kod ifadesini 1 milyon kez çalıştırır ve verilen kod parçacıkları kümesinden alınan minimum süreyi sağlar.  timeit(), kodun performansını kontrol etmeye yardımcı olan kullanışlı bir yöntemdir.\n",
        "- timeit() Parametreleri:\n",
        "1. stmt: Bu, yürütme süresini ölçmek istediğiniz kodu alacaktır. Varsayılan değer 'pass'dir.\n",
        "2. setup: Bu, stmt'den önce yürütülmesi gereken kurulum ayrıntılarına sahip olacaktır. Varsayılan değer 'pass'dir.\n",
        "3. timer: Bu, timer değerine sahip olacak, timeit() zaten bir varsayılan değere sahiptir.\n",
        "4. number: stmt burada verilen sayıya göre çalışacaktır. Varsayılan değer 1 milyondur."
      ]
    },
    {
      "cell_type": "code",
      "execution_count": null,
      "id": "541549df",
      "metadata": {
        "id": "541549df"
      },
      "outputs": [],
      "source": [
        "import timeit"
      ]
    },
    {
      "cell_type": "code",
      "execution_count": null,
      "id": "e8e0a5e1",
      "metadata": {
        "id": "e8e0a5e1"
      },
      "outputs": [],
      "source": [
        "from timeit import timeit"
      ]
    },
    {
      "cell_type": "code",
      "execution_count": null,
      "id": "33a46d94",
      "metadata": {
        "id": "33a46d94"
      },
      "outputs": [],
      "source": [
        "timeit()"
      ]
    },
    {
      "cell_type": "code",
      "execution_count": null,
      "id": "a1ddc379",
      "metadata": {
        "id": "a1ddc379"
      },
      "outputs": [],
      "source": [
        "def for_loop() :\n",
        "    \n",
        "    result = []\n",
        "    \n",
        "    for i in range(1000000) :\n",
        "        result.append(i)\n",
        "    return result"
      ]
    },
    {
      "cell_type": "code",
      "execution_count": null,
      "id": "3b91ab0e",
      "metadata": {
        "id": "3b91ab0e"
      },
      "outputs": [],
      "source": [
        "def list_comp() :\n",
        "    \n",
        "    return [i for i in range(1000000)]"
      ]
    },
    {
      "cell_type": "code",
      "execution_count": null,
      "id": "70a15c41",
      "metadata": {
        "id": "70a15c41"
      },
      "outputs": [],
      "source": [
        "time_for = timeit(for_loop, number=100)\n",
        "time_list_comp = timeit(list_comp, number=100)"
      ]
    },
    {
      "cell_type": "code",
      "execution_count": null,
      "id": "d9e07c4f",
      "metadata": {
        "id": "d9e07c4f",
        "outputId": "4c008532-8791-4a30-b241-2a230e681bb5"
      },
      "outputs": [
        {
          "name": "stdout",
          "output_type": "stream",
          "text": [
            "List Comp. is 2times faster than For_loop.\n"
          ]
        }
      ],
      "source": [
        "print(f\"List Comp. is {round(time_for/time_list_comp)}times faster than For_loop.\")"
      ]
    },
    {
      "cell_type": "markdown",
      "id": "4a5ed1ae",
      "metadata": {
        "id": "4a5ed1ae"
      },
      "source": [
        "# Errors \n",
        "## Syntax Error\n",
        "- SyntaxError => genellikle yazım hatası ile hatalardır. Tırkak işaretleri, Parantezlerin yanlış kullanımı, Yazım hataları, Girinti hataları\n",
        "- Traceback => built-in bir modüldür. Hataları yönetir. Arka planda sürekli hata kontrolü yapar.\n",
        "- Hata mesajından sonra hatanın açıklaması vardır. \n",
        "- NameError hatası tanımlanmamış bir değişken kullanılmaya çalışırsa ortaya çıkan hata kodudur.\n"
      ]
    },
    {
      "cell_type": "markdown",
      "id": "e2fd7a25",
      "metadata": {
        "id": "e2fd7a25"
      },
      "source": [
        "## Exception Error\n",
        "- Kod çalışma esnasında ortaya çıkan hatalardır. Hatanın oluşacağı yere kadar çalışır.\n",
        "- ValueError => balığı sırf yumurtluyor diye tavuk kümesine koyulamaz. int(\"ten\") gibi..\n",
        "- TypeError  => örnek : 5+ \"5\" TypeError, birkaç standart Python exception'ından biridir. TypeError, yanlış/desteklenmeyen bir nesne (object) tipinde bir işlem gerçekleştirildiğinde ortaya çıkar. Örneğin, + (toplama) operatörünün bir string ve integer ile birlikte kullanılması TypeError'ı yükseltir. \n",
        "- NameError => tanımlanmamış tüm değişkenler bu hatayı verir. En kolay çözülebilen hata türüdür."
      ]
    },
    {
      "cell_type": "markdown",
      "id": "51931fb0",
      "metadata": {
        "id": "51931fb0"
      },
      "source": [
        "![image.png](attachment:image.png)"
      ]
    },
    {
      "cell_type": "code",
      "execution_count": null,
      "id": "e4f7d1f8",
      "metadata": {
        "id": "e4f7d1f8",
        "outputId": "2e362545-f698-4440-d4c8-2d0c429e50b2"
      },
      "outputs": [
        {
          "ename": "ValueError",
          "evalue": "invalid literal for int() with base 10: 'on'",
          "output_type": "error",
          "traceback": [
            "\u001b[1;31m---------------------------------------------------------------------------\u001b[0m",
            "\u001b[1;31mValueError\u001b[0m                                Traceback (most recent call last)",
            "\u001b[1;32m<ipython-input-67-9db2c1f25cfb>\u001b[0m in \u001b[0;36m<module>\u001b[1;34m\u001b[0m\n\u001b[1;32m----> 1\u001b[1;33m \u001b[0mint\u001b[0m\u001b[1;33m(\u001b[0m\u001b[1;34m\"on\"\u001b[0m\u001b[1;33m)\u001b[0m\u001b[1;33m\u001b[0m\u001b[1;33m\u001b[0m\u001b[0m\n\u001b[0m",
            "\u001b[1;31mValueError\u001b[0m: invalid literal for int() with base 10: 'on'"
          ]
        }
      ],
      "source": [
        "int(\"on\") # tipi string ama değeri digit olması gerekir."
      ]
    },
    {
      "cell_type": "code",
      "execution_count": null,
      "id": "b889aff7",
      "metadata": {
        "id": "b889aff7",
        "outputId": "e7155a7e-f197-48ee-c603-af9c45e0cf38"
      },
      "outputs": [
        {
          "data": {
            "text/plain": [
              "10"
            ]
          },
          "execution_count": 68,
          "metadata": {},
          "output_type": "execute_result"
        }
      ],
      "source": [
        "int(10)"
      ]
    },
    {
      "cell_type": "code",
      "execution_count": null,
      "id": "63f81238",
      "metadata": {
        "id": "63f81238"
      },
      "outputs": [],
      "source": [
        "import math"
      ]
    },
    {
      "cell_type": "code",
      "execution_count": null,
      "id": "7f5ba5a7",
      "metadata": {
        "id": "7f5ba5a7",
        "outputId": "b373468d-3ac6-4aec-884f-27cafb7cfecd"
      },
      "outputs": [
        {
          "ename": "ValueError",
          "evalue": "factorial() not defined for negative values",
          "output_type": "error",
          "traceback": [
            "\u001b[1;31m---------------------------------------------------------------------------\u001b[0m",
            "\u001b[1;31mValueError\u001b[0m                                Traceback (most recent call last)",
            "\u001b[1;32m<ipython-input-70-1d2c9f633c25>\u001b[0m in \u001b[0;36m<module>\u001b[1;34m\u001b[0m\n\u001b[1;32m----> 1\u001b[1;33m \u001b[0mmath\u001b[0m\u001b[1;33m.\u001b[0m\u001b[0mfactorial\u001b[0m\u001b[1;33m(\u001b[0m\u001b[1;33m-\u001b[0m\u001b[1;36m1\u001b[0m\u001b[1;33m)\u001b[0m\u001b[1;33m\u001b[0m\u001b[1;33m\u001b[0m\u001b[0m\n\u001b[0m",
            "\u001b[1;31mValueError\u001b[0m: factorial() not defined for negative values"
          ]
        }
      ],
      "source": [
        "math.factorial(-1)"
      ]
    },
    {
      "cell_type": "code",
      "execution_count": null,
      "id": "38c5727e",
      "metadata": {
        "id": "38c5727e",
        "outputId": "760143c5-f405-407d-e881-bff586d5d25c"
      },
      "outputs": [
        {
          "ename": "ValueError",
          "evalue": "math domain error",
          "output_type": "error",
          "traceback": [
            "\u001b[1;31m---------------------------------------------------------------------------\u001b[0m",
            "\u001b[1;31mValueError\u001b[0m                                Traceback (most recent call last)",
            "\u001b[1;32m<ipython-input-71-d80dea1ee982>\u001b[0m in \u001b[0;36m<module>\u001b[1;34m\u001b[0m\n\u001b[1;32m----> 1\u001b[1;33m \u001b[0mmath\u001b[0m\u001b[1;33m.\u001b[0m\u001b[0msqrt\u001b[0m\u001b[1;33m(\u001b[0m\u001b[1;33m-\u001b[0m\u001b[1;36m25\u001b[0m\u001b[1;33m)\u001b[0m\u001b[1;33m\u001b[0m\u001b[1;33m\u001b[0m\u001b[0m\n\u001b[0m",
            "\u001b[1;31mValueError\u001b[0m: math domain error"
          ]
        }
      ],
      "source": [
        "math.sqrt(-25)"
      ]
    },
    {
      "cell_type": "code",
      "execution_count": null,
      "id": "0f1b2481",
      "metadata": {
        "id": "0f1b2481"
      },
      "outputs": [],
      "source": [
        ""
      ]
    },
    {
      "cell_type": "code",
      "execution_count": null,
      "id": "5610f3f3",
      "metadata": {
        "id": "5610f3f3"
      },
      "outputs": [],
      "source": [
        ""
      ]
    },
    {
      "cell_type": "code",
      "execution_count": null,
      "id": "cd9342d8",
      "metadata": {
        "id": "cd9342d8"
      },
      "outputs": [],
      "source": [
        ""
      ]
    },
    {
      "cell_type": "code",
      "execution_count": null,
      "id": "e4d829cd",
      "metadata": {
        "id": "e4d829cd"
      },
      "outputs": [],
      "source": [
        ""
      ]
    }
  ],
  "metadata": {
    "kernelspec": {
      "display_name": "Python 3",
      "language": "python",
      "name": "python3"
    },
    "language_info": {
      "codemirror_mode": {
        "name": "ipython",
        "version": 3
      },
      "file_extension": ".py",
      "mimetype": "text/x-python",
      "name": "python",
      "nbconvert_exporter": "python",
      "pygments_lexer": "ipython3",
      "version": "3.8.8"
    },
    "colab": {
      "name": "28 March Python.ipynb",
      "provenance": [],
      "include_colab_link": true
    }
  },
  "nbformat": 4,
  "nbformat_minor": 5
}