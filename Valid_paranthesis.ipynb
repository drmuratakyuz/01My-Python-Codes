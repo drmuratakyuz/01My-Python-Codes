{
  "nbformat": 4,
  "nbformat_minor": 0,
  "metadata": {
    "colab": {
      "name": "Valid paranthesis.ipynb",
      "provenance": [],
      "collapsed_sections": [],
      "authorship_tag": "ABX9TyN0oOVLuIhjTw7kpMmXmAD+",
      "include_colab_link": true
    },
    "kernelspec": {
      "name": "python3",
      "display_name": "Python 3"
    },
    "language_info": {
      "name": "python"
    }
  },
  "cells": [
    {
      "cell_type": "markdown",
      "metadata": {
        "id": "view-in-github",
        "colab_type": "text"
      },
      "source": [
        "<a href=\"https://colab.research.google.com/github/drmuratakyuz/My-Python-Codes/blob/main/Valid_paranthesis.ipynb\" target=\"_parent\"><img src=\"https://colab.research.google.com/assets/colab-badge.svg\" alt=\"Open In Colab\"/></a>"
      ]
    },
    {
      "cell_type": "markdown",
      "source": [
        "Valid paranthesis\n",
        "\n"
      ],
      "metadata": {
        "id": "rxCKFk2U2yAz"
      }
    },
    {
      "cell_type": "code",
      "execution_count": 1,
      "metadata": {
        "colab": {
          "base_uri": "https://localhost:8080/",
          "height": 35
        },
        "id": "FDz81n0W2xLz",
        "outputId": "5188a0e7-d413-417a-bd3d-596d7e61ff76"
      },
      "outputs": [
        {
          "output_type": "execute_result",
          "data": {
            "text/plain": [
              "'([{({})}]({}))'"
            ],
            "application/vnd.google.colaboratory.intrinsic+json": {
              "type": "string"
            }
          },
          "metadata": {},
          "execution_count": 1
        }
      ],
      "source": [
        "\"([{({})}]({}))\""
      ]
    },
    {
      "cell_type": "code",
      "source": [
        "para = \"([{({})}]({}))\"\n",
        "\n",
        "paral = list(para)\n",
        "if paral.count(\"(\") == paral.count(\")\") and paral.count(\"[\") == paral.count(\"]\") and paral.count(\"{\") == paral.count(\"}\"):\n",
        "  print(\"They are valid paranthesis.\")\n",
        "else:\n",
        "   print(\"They are not valid paranthesis.\")\n"
      ],
      "metadata": {
        "colab": {
          "base_uri": "https://localhost:8080/"
        },
        "id": "AEerpAiY33MF",
        "outputId": "5dca0437-25fa-4090-fe3f-0fb2ddeb9d38"
      },
      "execution_count": 5,
      "outputs": [
        {
          "output_type": "stream",
          "name": "stdout",
          "text": [
            "They are not valid paranthesis.\n"
          ]
        }
      ]
    },
    {
      "cell_type": "code",
      "source": [
        "p = \"([{({})}]({}))\"\n",
        "def isValidd(para):\n",
        "  paral = list(para)\n",
        "  if paral.count(\"(\") == paral.count(\")\") and paral.count(\"[\") == paral.count(\"]\") and paral.count(\"{\") == paral.count(\"}\"):\n",
        "    print(\"They are valid paranthesis.\")\n",
        "  else:\n",
        "    print(\"They are not valid paranthesis.\")\n",
        "\n",
        "isValidd(p)"
      ],
      "metadata": {
        "colab": {
          "base_uri": "https://localhost:8080/"
        },
        "id": "DVRQbEFz8Pg0",
        "outputId": "ee0c9698-208c-483f-c8a3-de25b6f2f5ce"
      },
      "execution_count": 10,
      "outputs": [
        {
          "output_type": "stream",
          "name": "stdout",
          "text": [
            "They are valid paranthesis.\n"
          ]
        }
      ]
    },
    {
      "cell_type": "code",
      "source": [
        "p = \"([{({})}]({}))\"\n",
        "def isValidd(paral):\n",
        "  paral = list(paral)\n",
        "  if paral.count(\"(\") == paral.count(\")\") and paral.count(\"[\") == paral.count(\"]\") and paral.count(\"{\") == paral.count(\"}\"):\n",
        "    print(\"They are valid paranthesis.\")\n",
        "  else:\n",
        "    print(\"They are not valid paranthesis.\")\n",
        "\n",
        "isValidd(p)"
      ],
      "metadata": {
        "colab": {
          "base_uri": "https://localhost:8080/"
        },
        "id": "3LBI7PiE8vjT",
        "outputId": "08221729-2d96-4a10-f155-c7d91ec7bb1a"
      },
      "execution_count": 12,
      "outputs": [
        {
          "output_type": "stream",
          "name": "stdout",
          "text": [
            "They are valid paranthesis.\n"
          ]
        }
      ]
    },
    {
      "cell_type": "code",
      "source": [
        "para = \"([{({})}]({}))\"\n",
        "def isValid(s):\n",
        "  while \"()\" in s or \"[]\" in s or \"{}\" in s:\n",
        "  #while \"()\" or \"[]\" or \"{}\" in s:\n",
        "    s = s.replace(\"()\",\"\")\n",
        "    s = s.replace(\"{}\",\"\")\n",
        "    s = s.replace(\"[]\",\"\")\n",
        "  if s == \"\":\n",
        "    print(\"They are valid paranthesis.\")\n",
        "  else:\n",
        "    print(\"They are not valid paranthesis.\")\n",
        "\n",
        "isValid(para)"
      ],
      "metadata": {
        "colab": {
          "base_uri": "https://localhost:8080/"
        },
        "id": "UngBvrmm5sn6",
        "outputId": "6d641ce6-f16f-4561-be88-5f8aa583203d"
      },
      "execution_count": 7,
      "outputs": [
        {
          "output_type": "stream",
          "name": "stdout",
          "text": [
            "They are valid paranthesis.\n"
          ]
        }
      ]
    },
    {
      "cell_type": "code",
      "source": [
        "para = \"([{({})}]({}))\"\n",
        "def isValid(s):\n",
        "  while \"()\" in s or \"[]\" in s or \"{}\" in s:\n",
        "  #while \"()\" or \"[]\" or \"{}\" in s:\n",
        "    s = s.replace(\"()\",\"\").replace(\"{}\",\"\").replace(\"[]\",\"\")\n",
        "  return s ==\"\"\n",
        "\n",
        "isValid(para)"
      ],
      "metadata": {
        "colab": {
          "base_uri": "https://localhost:8080/"
        },
        "id": "ryo1BMfF91nv",
        "outputId": "19310bb8-5588-4d15-d185-d247861758af"
      },
      "execution_count": 15,
      "outputs": [
        {
          "output_type": "execute_result",
          "data": {
            "text/plain": [
              "True"
            ]
          },
          "metadata": {},
          "execution_count": 15
        }
      ]
    }
  ]
}