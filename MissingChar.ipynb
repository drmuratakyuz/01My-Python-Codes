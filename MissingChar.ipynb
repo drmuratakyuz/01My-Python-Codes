{
  "nbformat": 4,
  "nbformat_minor": 0,
  "metadata": {
    "colab": {
      "name": "MissingChar.ipynb",
      "provenance": [],
      "authorship_tag": "ABX9TyPaubD8fbVg0l+cgTzpa5sJ",
      "include_colab_link": true
    },
    "kernelspec": {
      "name": "python3",
      "display_name": "Python 3"
    },
    "language_info": {
      "name": "python"
    }
  },
  "cells": [
    {
      "cell_type": "markdown",
      "metadata": {
        "id": "view-in-github",
        "colab_type": "text"
      },
      "source": [
        "<a href=\"https://colab.research.google.com/github/drmuratakyuz/My-Python-Codes/blob/main/MissingChar.ipynb\" target=\"_parent\"><img src=\"https://colab.research.google.com/assets/colab-badge.svg\" alt=\"Open In Colab\"/></a>"
      ]
    },
    {
      "cell_type": "code",
      "execution_count": 2,
      "metadata": {
        "colab": {
          "base_uri": "https://localhost:8080/"
        },
        "id": "a-KJhP-GuE78",
        "outputId": "f3654196-609f-41c5-fc52-2fccb3c9de34"
      },
      "outputs": [
        {
          "output_type": "stream",
          "name": "stdout",
          "text": [
            "ktchen\n"
          ]
        }
      ],
      "source": [
        "'''\n",
        "Given a non-empty string and an int n, return a new string where the character at index n has been removed. \n",
        "The value of n will be a valid index of a character in the original string (i.e. n will be in the range 0....len(str)-1 inclusive).\n",
        "For example:\n",
        "\n",
        "Test\tResult\n",
        "print(missing_char('kitchen', 1))\n",
        "ktchen\n",
        "print(missing_char('kitchen', 0))\n",
        "itchen\n",
        "print(missing_char('kitchen', 4))\n",
        "'''\n",
        "def missing_char(word, n):\n",
        "  b = \"\"\n",
        "    \n",
        "  word = list(word) \n",
        "  del word[n]\n",
        "  for i in range(len(word)):\n",
        "    b = b  + word[i]\n",
        "  return b\n",
        "  \n",
        "print(missing_char('kitchen', 1))"
      ]
    },
    {
      "cell_type": "code",
      "source": [
        "'''\n",
        "Given a string, return a new string where the first and last chars have been exchanged.\n",
        "For example:\n",
        "\n",
        "Test\tResult\n",
        "print(front_back('clarusway'))\n",
        "ylaruswac\n",
        "print(front_back('a'))\n",
        "a\n",
        "print(front_back('ab'))\n",
        "ba\n",
        "'''\n",
        "\n",
        "def  front_back(word):\n",
        "  b = \"\"\n",
        "    \n",
        "  word = list(word) \n",
        "  first = word[0]\n",
        "  last = word[-1]\n",
        "  word[0]= last\n",
        "  word[-1]= first\n",
        "  for i in range(len(word)):\n",
        "    b = b  + word[i]\n",
        "  return b"
      ],
      "metadata": {
        "id": "qINYf9_fvOgB"
      },
      "execution_count": null,
      "outputs": []
    }
  ]
}