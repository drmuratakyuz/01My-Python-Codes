{
  "nbformat": 4,
  "nbformat_minor": 0,
  "metadata": {
    "colab": {
      "name": "String_notstring.ipynb",
      "provenance": [],
      "authorship_tag": "ABX9TyN1MCm0d/j55V3vanibfOjA",
      "include_colab_link": true
    },
    "kernelspec": {
      "name": "python3",
      "display_name": "Python 3"
    },
    "language_info": {
      "name": "python"
    }
  },
  "cells": [
    {
      "cell_type": "markdown",
      "metadata": {
        "id": "view-in-github",
        "colab_type": "text"
      },
      "source": [
        "<a href=\"https://colab.research.google.com/github/drmuratakyuz/My-Python-Codes/blob/main/String_notstring.ipynb\" target=\"_parent\"><img src=\"https://colab.research.google.com/assets/colab-badge.svg\" alt=\"Open In Colab\"/></a>"
      ]
    },
    {
      "cell_type": "code",
      "execution_count": 2,
      "metadata": {
        "colab": {
          "base_uri": "https://localhost:8080/",
          "height": 53
        },
        "id": "qkEwyfXQE4ST",
        "outputId": "3b633518-e40c-495c-86bc-2d0c6810e04e"
      },
      "outputs": [
        {
          "name": "stdout",
          "output_type": "stream",
          "text": [
            "Enter a sting: not false\n"
          ]
        },
        {
          "output_type": "execute_result",
          "data": {
            "text/plain": [
              "'not false'"
            ],
            "application/vnd.google.colaboratory.intrinsic+json": {
              "type": "string"
            }
          },
          "metadata": {},
          "execution_count": 2
        }
      ],
      "source": [
        "'''\n",
        "Define a function to take a word and return negative meaning.\n",
        "Given a word, return a new word where \"not \" has been added to the front. \n",
        "However, if the word already begins with \"not\", return the string unchanged.\n",
        "'''\n",
        "def not_string(word):\n",
        "    if word.startswith(\"not\"):\n",
        "        return(word)\n",
        "    else:\n",
        "        return \"not \" + word\n",
        "\n",
        "word = input(\"Enter a sting: \")\n",
        "not_string(word)\n",
        "\n"
      ]
    }
  ]
}