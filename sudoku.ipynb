{
  "nbformat": 4,
  "nbformat_minor": 0,
  "metadata": {
    "colab": {
      "name": "sudoku.ipynb",
      "provenance": [],
      "collapsed_sections": [],
      "authorship_tag": "ABX9TyOD5f7TjZ3M06hoxYFrmHfT",
      "include_colab_link": true
    },
    "kernelspec": {
      "name": "python3",
      "display_name": "Python 3"
    },
    "language_info": {
      "name": "python"
    }
  },
  "cells": [
    {
      "cell_type": "markdown",
      "metadata": {
        "id": "view-in-github",
        "colab_type": "text"
      },
      "source": [
        "<a href=\"https://colab.research.google.com/github/drmuratakyuz/My-Python-Codes/blob/main/sudoku.ipynb\" target=\"_parent\"><img src=\"https://colab.research.google.com/assets/colab-badge.svg\" alt=\"Open In Colab\"/></a>"
      ]
    },
    {
      "cell_type": "code",
      "execution_count": null,
      "metadata": {
        "colab": {
          "base_uri": "https://localhost:8080/"
        },
        "id": "XwXpexHpG5V3",
        "outputId": "0ad47f40-0110-45bf-839c-fe22c6f4fbdd"
      },
      "outputs": [
        {
          "output_type": "stream",
          "name": "stdout",
          "text": [
            "----------------------\n",
            "|0 0 0 |0 6 4 |0 0 0 |\n",
            "|7 0 0 |0 0 0 |3 9 0 |\n",
            "|8 0 0 |0 0 0 |0 0 0 |\n",
            "----------------------\n",
            "|0 0 0 |5 0 2 |0 6 0 |\n",
            "|0 8 0 |4 0 4 |0 0 0 |\n",
            "|3 5 0 |6 0 0 |0 7 0 |\n",
            "----------------------\n",
            "|0 0 2 |0 0 0 |1 0 3 |\n",
            "|0 0 1 |0 5 9 |0 0 0 |\n",
            "|0 0 0 |0 0 0 |7 0 0 |\n",
            "---------------------- \n",
            "\n"
          ]
        }
      ],
      "source": [
        "# sudoku\n",
        "sudoku = [\n",
        "    [0,0,0,0,6,4,0,0,0],\n",
        "    [7,0,0,0,0,0,3,9,0],\n",
        "    [8,0,0,0,0,0,0,0,0],\n",
        "    [0,0,0,5,0,2,0,6,0],\n",
        "    [0,8,0,4,0,4,0,0,0],\n",
        "    [3,5,0,6,0,0,0,7,0],\n",
        "    [0,0,2,0,0,0,1,0,3],\n",
        "    [0,0,1,0,5,9,0,0,0],\n",
        "    [0,0,0,0,0,0,7,0,0]\n",
        "]\n",
        "for i in range(9):\n",
        "  if i%3 == 0:\n",
        "    print(\"-\"*22)\n",
        "  for j in range(9):\n",
        "    if j %3 ==0:\n",
        "      print(end=\"|\")\n",
        "    print(sudoku[i][j], end=\" \")\n",
        "  print(\"|\")\n",
        "print(\"-\"*22, \"\\n\")  "
      ]
    }
  ]
}