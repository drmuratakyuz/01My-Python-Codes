{
  "nbformat": 4,
  "nbformat_minor": 0,
  "metadata": {
    "colab": {
      "name": "Two_while_example.ipynb",
      "provenance": [],
      "authorship_tag": "ABX9TyOiuqiOD3yyNfNUTdGIcI+K",
      "include_colab_link": true
    },
    "kernelspec": {
      "name": "python3",
      "display_name": "Python 3"
    },
    "language_info": {
      "name": "python"
    }
  },
  "cells": [
    {
      "cell_type": "markdown",
      "metadata": {
        "id": "view-in-github",
        "colab_type": "text"
      },
      "source": [
        "<a href=\"https://colab.research.google.com/github/drmuratakyuz/My-Python-Codes/blob/main/Two_while_example.ipynb\" target=\"_parent\"><img src=\"https://colab.research.google.com/assets/colab-badge.svg\" alt=\"Open In Colab\"/></a>"
      ]
    },
    {
      "cell_type": "code",
      "execution_count": 3,
      "metadata": {
        "colab": {
          "base_uri": "https://localhost:8080/"
        },
        "id": "cjdpTCBHh298",
        "outputId": "1985b370-12c1-4d91-93fb-ac784b26fbe6"
      },
      "outputs": [
        {
          "output_type": "stream",
          "name": "stdout",
          "text": [
            "Enter a number: 12\n",
            "0\n",
            "1\n",
            "4\n",
            "9\n",
            "16\n",
            "25\n",
            "36\n",
            "49\n",
            "64\n",
            "81\n",
            "100\n",
            "121\n"
          ]
        }
      ],
      "source": [
        "number = int(input(\"Enter a number: \"))\n",
        "i = 0\n",
        "while i < number:\n",
        "  \n",
        "  print(i**2)\n",
        "  i += 1\n"
      ]
    },
    {
      "cell_type": "code",
      "source": [
        "number = int(input(\"Enter a number: \"))\n",
        "square_list = []\n",
        "while True:\n",
        "  number -= 1\n",
        "  square = number **2\n",
        "  square_list.append(square)\n",
        "  if number ==0:\n",
        "    break\n",
        "\n",
        "square_list.sort()\n",
        "\n",
        "i = 0\n",
        "while True:\n",
        "    print(square_list[i],end=\"\\n\")\n",
        "    i +=1\n",
        "    if i == len(square_list):\n",
        "      break\n"
      ],
      "metadata": {
        "colab": {
          "base_uri": "https://localhost:8080/"
        },
        "id": "vos4eZ-mi75z",
        "outputId": "f7bce35e-0c8b-4654-ee9c-96034466eecb"
      },
      "execution_count": 22,
      "outputs": [
        {
          "output_type": "stream",
          "name": "stdout",
          "text": [
            "Enter a number: 12\n",
            "0\n",
            "1\n",
            "4\n",
            "9\n",
            "16\n",
            "25\n",
            "36\n",
            "49\n",
            "64\n",
            "81\n",
            "100\n",
            "121\n"
          ]
        }
      ]
    },
    {
      "cell_type": "code",
      "source": [
        ""
      ],
      "metadata": {
        "id": "GIKd9Atni766"
      },
      "execution_count": null,
      "outputs": []
    }
  ]
}