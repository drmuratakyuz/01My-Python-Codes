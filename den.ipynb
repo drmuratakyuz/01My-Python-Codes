{
  "nbformat": 4,
  "nbformat_minor": 0,
  "metadata": {
    "colab": {
      "name": "den.ipynb",
      "provenance": [],
      "authorship_tag": "ABX9TyM06x4fZ+CyJ3rYtK2ZEdVd",
      "include_colab_link": true
    },
    "kernelspec": {
      "name": "python3",
      "display_name": "Python 3"
    },
    "language_info": {
      "name": "python"
    }
  },
  "cells": [
    {
      "cell_type": "markdown",
      "metadata": {
        "id": "view-in-github",
        "colab_type": "text"
      },
      "source": [
        "<a href=\"https://colab.research.google.com/github/drmuratakyuz/01My-Python-Codes/blob/main/den.ipynb\" target=\"_parent\"><img src=\"https://colab.research.google.com/assets/colab-badge.svg\" alt=\"Open In Colab\"/></a>"
      ]
    },
    {
      "cell_type": "code",
      "execution_count": null,
      "metadata": {
        "id": "3MaKvKPQRrh-"
      },
      "outputs": [],
      "source": [
        "z = [[i for i in range(20) if i%2 == 0] if i else [i for i in range(20) if i%2 != 0] for i in range(2)]\n",
        "z\n"
      ]
    }
  ]
}