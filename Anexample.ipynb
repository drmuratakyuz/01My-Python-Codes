{
  "nbformat": 4,
  "nbformat_minor": 0,
  "metadata": {
    "colab": {
      "name": "Anexample.ipynb",
      "provenance": [],
      "authorship_tag": "ABX9TyNsjjgBlkWSdf8HTaziqO4c",
      "include_colab_link": true
    },
    "kernelspec": {
      "name": "python3",
      "display_name": "Python 3"
    },
    "language_info": {
      "name": "python"
    }
  },
  "cells": [
    {
      "cell_type": "markdown",
      "metadata": {
        "id": "view-in-github",
        "colab_type": "text"
      },
      "source": [
        "<a href=\"https://colab.research.google.com/github/drmuratakyuz/My-Python-Codes/blob/main/Anexample.ipynb\" target=\"_parent\"><img src=\"https://colab.research.google.com/assets/colab-badge.svg\" alt=\"Open In Colab\"/></a>"
      ]
    },
    {
      "cell_type": "code",
      "execution_count": 1,
      "metadata": {
        "colab": {
          "base_uri": "https://localhost:8080/"
        },
        "id": "UE947J-qQPzF",
        "outputId": "adce0b5d-56db-43fe-aa08-cafb0a407568"
      },
      "outputs": [
        {
          "output_type": "stream",
          "name": "stdout",
          "text": [
            "[7, 2, [8, [56]]]\n"
          ]
        }
      ],
      "source": [
        "'''\n",
        "An array of different positive integers is given. We should create a code that gives us the number (or the numbers) \n",
        "that has (or have) the highest number of divisors among other data.\n",
        "The function proc_arrInt(), (Javascript: procArrInt()) will receive an array of \n",
        "unsorted integers and should output a list with the following results:\n",
        "[(1), (2), (3)]\n",
        "(1) - Total amount of numbers received \n",
        "(2) - Total prime numbers received \n",
        "(3) - a list [(a), (b)] (a)- The highest amount of divisors that a certain number (or numbers) of the given\n",
        "array have \n",
        "(b)- A sorted list with the numbers that have the largest amount of divisors. The list may\n",
        "have only one number\n",
        "\n",
        "Example: arr1 = [66, 36, 49, 40, 73, 12, 77, 78, 76, 8, 50, 20, 85, 22, 24, 68, 26, 59, 92, 93, 30]\n",
        "proc_arrInt(arr1) ------> [21, 2, [9, [36]]\n",
        "21 integers in the array\n",
        "2 primes: 73 and 97\n",
        "36 is the number that has the highest amount of divisors:\n",
        "1, 2, 3, 4, 6, 9, 12, 18, 36 (9 divisors, including 1 and 36)\n",
        "'''\n",
        "\n",
        "def divisor_count(n):\n",
        "  count = 0\n",
        "  for i in range(1,n+1):\n",
        "    if n % i == 0:\n",
        "      count += 1\n",
        "  return count\n",
        "\n",
        "num_list = [10, 25, 56, 17, 85, 97, 63]\n",
        "\n",
        "divs_dict = {}\n",
        "prime_list = []\n",
        "result = [] \n",
        "\n",
        "for i in num_list:\n",
        "  divs_dict[i] = divisor_count(i)\n",
        "  if divisor_count(i) == 2:\n",
        "    prime_list.append(i)\n",
        "\n",
        "num_maxdiv = max(divs_dict, key= divs_dict.get)\n",
        "num_maxwithdiv = [divs_dict.get(num_maxdiv)]\n",
        "num_maxwithdiv.append([num_maxdiv])\n",
        "result.append(len(num_list))\n",
        "result.append(len(prime_list))\n",
        "result.append(num_maxwithdiv)\n",
        "\n",
        "print(result)"
      ]
    }
  ]
}