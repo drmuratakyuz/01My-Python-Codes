{
  "nbformat": 4,
  "nbformat_minor": 0,
  "metadata": {
    "colab": {
      "name": "OOP06.ipynb",
      "provenance": [],
      "authorship_tag": "ABX9TyN9GQYUcPXDEY7GNKWclldw",
      "include_colab_link": true
    },
    "kernelspec": {
      "name": "python3",
      "display_name": "Python 3"
    },
    "language_info": {
      "name": "python"
    }
  },
  "cells": [
    {
      "cell_type": "markdown",
      "metadata": {
        "id": "view-in-github",
        "colab_type": "text"
      },
      "source": [
        "<a href=\"https://colab.research.google.com/github/drmuratakyuz/01My-Python-Codes/blob/main/OOP06.ipynb\" target=\"_parent\"><img src=\"https://colab.research.google.com/assets/colab-badge.svg\" alt=\"Open In Colab\"/></a>"
      ]
    },
    {
      "cell_type": "code",
      "execution_count": 1,
      "metadata": {
        "colab": {
          "base_uri": "https://localhost:8080/",
          "height": 35
        },
        "id": "McG44f1Ltzd_",
        "outputId": "ef6d8d0b-d4a3-4b69-c4a1-8c659777fc62"
      },
      "outputs": [
        {
          "output_type": "execute_result",
          "data": {
            "text/plain": [
              "'Arff!'"
            ],
            "application/vnd.google.colaboratory.intrinsic+json": {
              "type": "string"
            }
          },
          "metadata": {},
          "execution_count": 1
        }
      ],
      "source": [
        "class Dog:\n",
        "    def walk(self):\n",
        "         return \"walking...\"\n",
        "    def speak(self):\n",
        "         return \"Woof!\"\n",
        "\n",
        "class BabyDog(Dog):\n",
        "    def speak(self):\n",
        "         return \"Arff!\"\n",
        "\n",
        "dog = BabyDog()\n",
        "dog.speak()"
      ]
    },
    {
      "cell_type": "code",
      "source": [
        "class Human: \n",
        "\n",
        "    def __init__(self, age = 0): \n",
        "\n",
        "        self._age = age \n",
        "\n",
        "    def get_age(self): \n",
        "\n",
        "        return self._age \n",
        "\n",
        "    def set_age(self, x): \n",
        "\n",
        "        self._age = x \n",
        "\n",
        "human1 = Human() \n",
        "\n",
        "human1.set_age(21) \n",
        "\n",
        "print(human1.get_age())"
      ],
      "metadata": {
        "colab": {
          "base_uri": "https://localhost:8080/"
        },
        "id": "GTFDUFCwuEW_",
        "outputId": "08f171f1-4f13-4e5d-aa3a-6d8167d943ed"
      },
      "execution_count": 2,
      "outputs": [
        {
          "output_type": "stream",
          "name": "stdout",
          "text": [
            "21\n"
          ]
        }
      ]
    },
    {
      "cell_type": "code",
      "source": [
        "class Human: \n",
        "\n",
        "    def __init__(self, age = 0): \n",
        "\n",
        "        self._age = age \n",
        "\n",
        "    def get_age(self): \n",
        "\n",
        "        return self._age \n",
        "\n",
        "    def set_age(self, x): \n",
        "\n",
        "        self._age = x \n",
        "\n",
        "human1 = Human() \n",
        "\n",
        "human1.set_age(21) \n",
        "\n",
        "#del human1\n",
        "\n",
        "print(human1.get_age())"
      ],
      "metadata": {
        "colab": {
          "base_uri": "https://localhost:8080/"
        },
        "id": "ljibzmmouIvT",
        "outputId": "835866b4-448e-49d5-8a9b-0c7776074dfa"
      },
      "execution_count": 4,
      "outputs": [
        {
          "output_type": "stream",
          "name": "stdout",
          "text": [
            "21\n"
          ]
        }
      ]
    },
    {
      "cell_type": "code",
      "source": [
        "class Marketing:\n",
        "    def __init__(self, id):\n",
        "        self.id = id\n",
        "        id = 50\n",
        "val = Marketing(33)\n",
        "print(val.id)"
      ],
      "metadata": {
        "colab": {
          "base_uri": "https://localhost:8080/"
        },
        "id": "hubaaVjwuYxd",
        "outputId": "4cf21357-9d9c-43df-b184-e98043cde4af"
      },
      "execution_count": 5,
      "outputs": [
        {
          "output_type": "stream",
          "name": "stdout",
          "text": [
            "33\n"
          ]
        }
      ]
    }
  ]
}