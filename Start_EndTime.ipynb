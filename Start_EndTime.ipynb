{
  "nbformat": 4,
  "nbformat_minor": 0,
  "metadata": {
    "colab": {
      "name": "Start_EndTime.ipynb",
      "provenance": [],
      "collapsed_sections": [],
      "authorship_tag": "ABX9TyM7UG/jFCuGuRZotCNC9ue2",
      "include_colab_link": true
    },
    "kernelspec": {
      "name": "python3",
      "display_name": "Python 3"
    },
    "language_info": {
      "name": "python"
    }
  },
  "cells": [
    {
      "cell_type": "markdown",
      "metadata": {
        "id": "view-in-github",
        "colab_type": "text"
      },
      "source": [
        "<a href=\"https://colab.research.google.com/github/drmuratakyuz/My-Python-Codes/blob/main/Start_EndTime.ipynb\" target=\"_parent\"><img src=\"https://colab.research.google.com/assets/colab-badge.svg\" alt=\"Open In Colab\"/></a>"
      ]
    },
    {
      "cell_type": "code",
      "source": [
        "'''\n",
        "The integers 14 and 15, are contiguous (1 the difference between them, obvious) and have the same number of divisors. 14 ----> 1, 2, 7, 14 (4 divisors) 15 ----> 1, 3, 5, 15 (4 divisors) The next pair of contiguous integers with this property is 21 and 22. 21 -----> 1, 3, 7, 21 (4 divisors) 22 -----> 1, 2, 11, 22 (4 divisors) We have 8 pairs of integers below 50 having this property, they are: [[2, 3], [14, 15], [21, 22], [26, 27], [33, 34], [34, 35], [38, 39], [44, 45]] Let's see now the integers that have a difference of 3 between them. There are seven pairs below 100: [[2, 5], [35, 38], [55, 58], [62, 65], [74, 77], [82, 85], [91, 94]] Let's name, diff, the difference between two integers, next and prev, (diff = next - prev) and nMax, an upper bound of the range.\n",
        "We need a special function, count_pairsInt(), that receives two arguments, diff and nMax and outputs the amount of pairs of integers that fulfill this property, all of them being smaller (not smaller or equal) than nMax.\n",
        "Let's see it more clearly with examples. count_pairsInt(1, 50) -----> 8 (See case above) count_pairsInt(3, 100) -----> 7 (See case above)\n",
        "\n",
        "'''\n"
      ],
      "metadata": {
        "id": "a_zIJmrO-WIo"
      },
      "execution_count": null,
      "outputs": []
    },
    {
      "cell_type": "code",
      "source": [
        "nMax = 100\n",
        "diff = 3\n",
        "counter1 = 0\n",
        "counter2 = 0\n",
        "pairs_list = []\n",
        "\n",
        "for sayı1 in range(1,nMax+1-diff) :\n",
        "    sayı2 = sayı1 + diff\n",
        "    \n",
        "    for i in range(1, sayı1 + 1):\n",
        "        if sayı1 % i == 0:\n",
        "            counter1 += 1\n",
        "            \n",
        "    for j in range(1, sayı2 + 1):\n",
        "        if sayı2 % j == 0:\n",
        "            counter2 += 1\n",
        "            \n",
        "    if counter1 == counter2:\n",
        "        pairs_list.append([sayı1, sayı2])\n",
        "        \n",
        "    counter1 = 0  # öreğin sayı1 = 14 için counter1=4 dır. O yüzden sıfırlamam gerekiyor.\n",
        "    counter2 = 0\n",
        "print(f\"There are {len(pairs_list)} pairs: \", pairs_list)"
      ],
      "metadata": {
        "id": "iJM6ho4j-MWe"
      },
      "execution_count": null,
      "outputs": []
    },
    {
      "cell_type": "code",
      "execution_count": 1,
      "metadata": {
        "colab": {
          "base_uri": "https://localhost:8080/"
        },
        "id": "CGF0nOeq34G_",
        "outputId": "062a53d4-4b8b-4d87-c539-5d511d51289c"
      },
      "outputs": [
        {
          "output_type": "stream",
          "name": "stdout",
          "text": [
            "Hello Word\n",
            "0.0038306713104248047\n"
          ]
        }
      ],
      "source": [
        "# start end en time\n",
        "import time\n",
        "start = time.time()\n",
        "print(\"Hello Word\")\n",
        "end = time.time()\n",
        "print(end-start)"
      ]
    }
  ]
}