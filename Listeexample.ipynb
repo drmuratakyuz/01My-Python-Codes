{
  "nbformat": 4,
  "nbformat_minor": 0,
  "metadata": {
    "colab": {
      "name": "Listeexample.ipynb",
      "provenance": [],
      "authorship_tag": "ABX9TyPW6uXVYlfk0zWfAW8+eO+v",
      "include_colab_link": true
    },
    "kernelspec": {
      "name": "python3",
      "display_name": "Python 3"
    },
    "language_info": {
      "name": "python"
    }
  },
  "cells": [
    {
      "cell_type": "markdown",
      "metadata": {
        "id": "view-in-github",
        "colab_type": "text"
      },
      "source": [
        "<a href=\"https://colab.research.google.com/github/drmuratakyuz/01My-Python-Codes/blob/main/Listeexample.ipynb\" target=\"_parent\"><img src=\"https://colab.research.google.com/assets/colab-badge.svg\" alt=\"Open In Colab\"/></a>"
      ]
    },
    {
      "cell_type": "code",
      "execution_count": 1,
      "metadata": {
        "colab": {
          "base_uri": "https://localhost:8080/"
        },
        "id": "qhK79vj7Atd0",
        "outputId": "b54ce793-7f91-4ab3-a79c-c50b155f89ce"
      },
      "outputs": [
        {
          "output_type": "stream",
          "name": "stdout",
          "text": [
            "[1, [2, 4], 3]\n",
            "[2, 4]\n"
          ]
        }
      ],
      "source": [
        "a = [1, [2], 3]\n",
        "b = a[1]\n",
        "b.append(4)\n",
        "print(a)\n",
        "print(b)"
      ]
    }
  ]
}