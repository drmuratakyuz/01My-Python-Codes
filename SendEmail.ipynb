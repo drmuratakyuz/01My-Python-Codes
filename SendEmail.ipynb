{
  "nbformat": 4,
  "nbformat_minor": 0,
  "metadata": {
    "colab": {
      "name": "SendEmail.ipynb",
      "provenance": [],
      "authorship_tag": "ABX9TyP9Ow/kJO+oxfQf97NOPD6N",
      "include_colab_link": true
    },
    "kernelspec": {
      "name": "python3",
      "display_name": "Python 3"
    },
    "language_info": {
      "name": "python"
    }
  },
  "cells": [
    {
      "cell_type": "markdown",
      "metadata": {
        "id": "view-in-github",
        "colab_type": "text"
      },
      "source": [
        "<a href=\"https://colab.research.google.com/github/drmuratakyuz/01My-Python-Codes/blob/main/SendEmail.ipynb\" target=\"_parent\"><img src=\"https://colab.research.google.com/assets/colab-badge.svg\" alt=\"Open In Colab\"/></a>"
      ]
    },
    {
      "cell_type": "code",
      "execution_count": null,
      "metadata": {
        "id": "c0Xuld8FlbwO"
      },
      "outputs": [],
      "source": [
        "# Allow less secure apps first : https://myaccount.google.com/lesssecureapps?pli=1&rapt=AEjHL4Mm9e0_M6ijQ14K5o5KnPjQ6D9CTUHqnt-wZaigWyKVGOyxYPIqsGtRPL5Ye7frM6zE3dnWBxENudHWLqCskPLFnWCWwQ \n",
        "import smtplib\n",
        "password = yourpassword\n",
        "server = smtplib.SMTP(\"smtp.gmail.com\", 587)\n",
        "server.starttls()\n",
        "server.login(\"selmankorall\", password)\n",
        "message = \"\\n This mail is sent via vscode. Hope you are doing fine. \\n Sincerely,\\nKoral\"\n",
        "server.sendmail(\"selmankorall@gmail.com\",[\"selmankorall@gmail.com\"],message)\n",
        "server.quit()"
      ]
    }
  ]
}