{
  "nbformat": 4,
  "nbformat_minor": 0,
  "metadata": {
    "colab": {
      "name": "highest5.ipynb",
      "provenance": [],
      "authorship_tag": "ABX9TyMHGxGXoqSUC5tdQiE0bhKg",
      "include_colab_link": true
    },
    "kernelspec": {
      "name": "python3",
      "display_name": "Python 3"
    },
    "language_info": {
      "name": "python"
    }
  },
  "cells": [
    {
      "cell_type": "markdown",
      "metadata": {
        "id": "view-in-github",
        "colab_type": "text"
      },
      "source": [
        "<a href=\"https://colab.research.google.com/github/drmuratakyuz/My-Python-Codes/blob/main/highest5.ipynb\" target=\"_parent\"><img src=\"https://colab.research.google.com/assets/colab-badge.svg\" alt=\"Open In Colab\"/></a>"
      ]
    },
    {
      "cell_type": "code",
      "execution_count": 12,
      "metadata": {
        "colab": {
          "base_uri": "https://localhost:8080/"
        },
        "id": "CjkHs4KGG68K",
        "outputId": "fdad17c1-bd15-43d2-d1e7-548b3ff004d3"
      },
      "outputs": [
        {
          "output_type": "stream",
          "name": "stdout",
          "text": [
            "[89, 89, 78, 78, 70]\n"
          ]
        }
      ],
      "source": [
        "list1 = [89,12,45,67,78,89,70,90,67,78]\n",
        "list1.sort()\n",
        "mylist = list1[-6:-1]\n",
        "mylist.reverse()\n",
        "print(mylist)"
      ]
    },
    {
      "cell_type": "code",
      "source": [
        "list1 = [89,12,45,67,78,89,70,90,67,78]\n",
        "def largest_num(list1):\n",
        "  \n",
        "  list1.sort()\n",
        "  mylist = list1[-6:-1]\n",
        "  mylist.reverse()\n",
        "  return mylist\n",
        "\n",
        "largest_num(list1)"
      ],
      "metadata": {
        "colab": {
          "base_uri": "https://localhost:8080/"
        },
        "id": "cCcKYmOfIpzp",
        "outputId": "dde2350e-1cbe-4d28-96f5-01e4020a2429"
      },
      "execution_count": 15,
      "outputs": [
        {
          "output_type": "execute_result",
          "data": {
            "text/plain": [
              "[89, 89, 78, 78, 70]"
            ]
          },
          "metadata": {},
          "execution_count": 15
        }
      ]
    },
    {
      "cell_type": "code",
      "source": [
        "highest5 = sorted(list(set(list1)))[-5:]\n",
        "print(highest5)"
      ],
      "metadata": {
        "colab": {
          "base_uri": "https://localhost:8080/"
        },
        "id": "EJNucvNoJWhF",
        "outputId": "f7017eb1-0c5e-4653-c9b8-e588b4eeec43"
      },
      "execution_count": 20,
      "outputs": [
        {
          "output_type": "stream",
          "name": "stdout",
          "text": [
            "[67, 70, 78, 89, 90]\n"
          ]
        }
      ]
    },
    {
      "cell_type": "code",
      "source": [
        "print(sorted(list1)[-5:])"
      ],
      "metadata": {
        "colab": {
          "base_uri": "https://localhost:8080/"
        },
        "id": "qoetpzZ-LtON",
        "outputId": "6bdbd9a8-455d-4b8f-9f76-7380d1d43e6e"
      },
      "execution_count": 23,
      "outputs": [
        {
          "output_type": "stream",
          "name": "stdout",
          "text": [
            "[78, 78, 89, 89, 90]\n"
          ]
        }
      ]
    },
    {
      "cell_type": "code",
      "source": [
        "sorted(set(list1))[-5:]"
      ],
      "metadata": {
        "colab": {
          "base_uri": "https://localhost:8080/"
        },
        "id": "LZDE3UjYL2EY",
        "outputId": "0dcb4c61-5a11-420b-e176-953b85b053c4"
      },
      "execution_count": 22,
      "outputs": [
        {
          "output_type": "execute_result",
          "data": {
            "text/plain": [
              "[67, 70, 78, 89, 90]"
            ]
          },
          "metadata": {},
          "execution_count": 22
        }
      ]
    },
    {
      "cell_type": "code",
      "source": [
        "sorted(list1, reverse=True)[:5]"
      ],
      "metadata": {
        "colab": {
          "base_uri": "https://localhost:8080/"
        },
        "id": "HeehGwtJKUeX",
        "outputId": "82aacafe-9f6b-4339-ac2c-5d4ab9cc113d"
      },
      "execution_count": 17,
      "outputs": [
        {
          "output_type": "execute_result",
          "data": {
            "text/plain": [
              "[90, 89, 89, 78, 78]"
            ]
          },
          "metadata": {},
          "execution_count": 17
        }
      ]
    }
  ]
}