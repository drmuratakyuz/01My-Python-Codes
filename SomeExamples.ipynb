{
  "nbformat": 4,
  "nbformat_minor": 0,
  "metadata": {
    "colab": {
      "name": "SomeExamples.ipynb",
      "provenance": [],
      "authorship_tag": "ABX9TyMqfxa3ZtTM5g2h58eiPcRs",
      "include_colab_link": true
    },
    "kernelspec": {
      "name": "python3",
      "display_name": "Python 3"
    },
    "language_info": {
      "name": "python"
    }
  },
  "cells": [
    {
      "cell_type": "markdown",
      "metadata": {
        "id": "view-in-github",
        "colab_type": "text"
      },
      "source": [
        "<a href=\"https://colab.research.google.com/github/drmuratakyuz/01My-Python-Codes/blob/main/SomeExamples.ipynb\" target=\"_parent\"><img src=\"https://colab.research.google.com/assets/colab-badge.svg\" alt=\"Open In Colab\"/></a>"
      ]
    },
    {
      "cell_type": "code",
      "execution_count": 4,
      "metadata": {
        "colab": {
          "base_uri": "https://localhost:8080/",
          "height": 73
        },
        "id": "LIuuq1_as1JL",
        "outputId": "af48b7ae-53b1-4e80-b1cf-d53b266214be"
      },
      "outputs": [
        {
          "output_type": "stream",
          "name": "stdout",
          "text": [
            "How many iterations do you want? : 1\n",
            "['Full Stack']\n"
          ]
        },
        {
          "output_type": "execute_result",
          "data": {
            "text/plain": [
              "'Full Stack'"
            ],
            "application/vnd.google.colaboratory.intrinsic+json": {
              "type": "string"
            }
          },
          "metadata": {},
          "execution_count": 4
        }
      ],
      "source": [
        "def path_choice():\n",
        "  import random\n",
        "  path = [\"Full Stack\", \"Data Science\", \"DevOps\", \"Data Security\"]\n",
        "  n = int(input(\"How many iterations do you want? : \"))\n",
        "  my_choice = [random.choice(path) for i in range(1,n + 1)]\n",
        "  print(my_choice)\n",
        "  return max(my_choice, key=my_choice.count)\n",
        "path_choice()"
      ]
    },
    {
      "cell_type": "code",
      "source": [
        "def josephus_permutation(folk, count=3):\n",
        "    if len(folk) > 2:\n",
        "        count = (count-1)%len(folk)\n",
        "        print(folk, 'deleting: ', folk[count])"
      ],
      "metadata": {
        "id": "mBcvME5JuWxY"
      },
      "execution_count": 5,
      "outputs": []
    },
    {
      "cell_type": "code",
      "source": [
        "import random\n",
        "def password_generator(digits):\n",
        "  password = []\n",
        "  for i in range(digits):\n",
        "    chars = [\n",
        "  chr(random.randint(65, 90)),\n",
        "  chr(random.randint(92, 122)),\n",
        "  chr(random.randint(48, 57)),\n",
        "  chr(random.randint(33, 47)),\n",
        "  chr(random.randint(58, 64))\n",
        "  ]\n",
        "    password.append(random.choice(chars))\n",
        "  \n",
        "  random.shuffle(password)\n",
        "  new_password = ''.join(password)\n",
        "  return new_password"
      ],
      "metadata": {
        "id": "lAwS-5CPuoPA"
      },
      "execution_count": 6,
      "outputs": []
    }
  ]
}