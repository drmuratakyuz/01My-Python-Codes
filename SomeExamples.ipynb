{
  "nbformat": 4,
  "nbformat_minor": 0,
  "metadata": {
    "colab": {
      "name": "SomeExamples.ipynb",
      "provenance": [],
      "authorship_tag": "ABX9TyPoAAe4ewHPEj29cHVApoKo",
      "include_colab_link": true
    },
    "kernelspec": {
      "name": "python3",
      "display_name": "Python 3"
    },
    "language_info": {
      "name": "python"
    }
  },
  "cells": [
    {
      "cell_type": "markdown",
      "metadata": {
        "id": "view-in-github",
        "colab_type": "text"
      },
      "source": [
        "<a href=\"https://colab.research.google.com/github/drmuratakyuz/01My-Python-Codes/blob/main/SomeExamples.ipynb\" target=\"_parent\"><img src=\"https://colab.research.google.com/assets/colab-badge.svg\" alt=\"Open In Colab\"/></a>"
      ]
    },
    {
      "cell_type": "code",
      "execution_count": 1,
      "metadata": {
        "colab": {
          "base_uri": "https://localhost:8080/"
        },
        "id": "0-1b9qNlMCG8",
        "outputId": "543c07b9-3bc9-466a-e4b8-975b1e43f453"
      },
      "outputs": [
        {
          "output_type": "stream",
          "name": "stdout",
          "text": [
            "John\n",
            "Tom 18\n"
          ]
        }
      ],
      "source": [
        "class Person:\n",
        "  def __init__(object, name, age):\n",
        "    object.name = name\n",
        "    object.age = age\n",
        "\n",
        "class Student(Person):\n",
        "  pass\n",
        "\n",
        "p1 = Person(\"John\", 36)\n",
        "print(p1.name)\n",
        "\n",
        "s1 =Student('Tom', 18)\n",
        "\n",
        "print(s1.name, s1.age)"
      ]
    },
    {
      "cell_type": "code",
      "source": [
        "score = {'John':-20, 'Thomas':104, 'Maria':60, 'Diana':45, 'Laura':80}\n",
        "# result1 if condition1 else result2 if condition2 else result3\n",
        "res = {}\n",
        "for s in score : res.update({s:'incorrect score' if score[s]<0 or score[s]>100\n",
        "                             else 'pass' if score[s]>49 else 'fail'})\n",
        "res"
      ],
      "metadata": {
        "colab": {
          "base_uri": "https://localhost:8080/"
        },
        "id": "yqWbxuvTMoHM",
        "outputId": "8cebeacc-140c-4a52-fcd5-4718d501a438"
      },
      "execution_count": 2,
      "outputs": [
        {
          "output_type": "execute_result",
          "data": {
            "text/plain": [
              "{'Diana': 'fail',\n",
              " 'John': 'incorrect score',\n",
              " 'Laura': 'pass',\n",
              " 'Maria': 'pass',\n",
              " 'Thomas': 'incorrect score'}"
            ]
          },
          "metadata": {},
          "execution_count": 2
        }
      ]
    },
    {
      "cell_type": "code",
      "source": [
        "# Allow less secure apps first : https://myaccount.google.com/lesssecureapps?pli=1&rapt=AEjHL4Mm9e0_M6ijQ14K5o5KnPjQ6D9CTUHqnt-wZaigWyKVGOyxYPIqsGtRPL5Ye7frM6zE3dnWBxENudHWLqCskPLFnWCWwQ \n",
        "import smtplib\n",
        "password = yourpassword\n",
        "server = smtplib.SMTP(\"smtp.gmail.com\", 587)\n",
        "server.starttls()\n",
        "server.login(\"selmankorall\", password)\n",
        "message = \"\\n This mail is sent via vscode. Hope you are doing fine. \\n Sincerely,\\nKoral\"\n",
        "server.sendmail(\"selmankorall@gmail.com\",[\"selmankorall@gmail.com\"],message)\n",
        "server.quit()"
      ],
      "metadata": {
        "colab": {
          "base_uri": "https://localhost:8080/",
          "height": 259
        },
        "id": "pUe1d8K1MulW",
        "outputId": "32351839-e4ff-4403-b955-7f2f1f89becb"
      },
      "execution_count": 3,
      "outputs": [
        {
          "output_type": "error",
          "ename": "NameError",
          "evalue": "ignored",
          "traceback": [
            "\u001b[0;31m---------------------------------------------------------------------------\u001b[0m",
            "\u001b[0;31mNameError\u001b[0m                                 Traceback (most recent call last)",
            "\u001b[0;32m<ipython-input-3-fb59f0812cec>\u001b[0m in \u001b[0;36m<module>\u001b[0;34m()\u001b[0m\n\u001b[1;32m      1\u001b[0m \u001b[0;31m# Allow less secure apps first : https://myaccount.google.com/lesssecureapps?pli=1&rapt=AEjHL4Mm9e0_M6ijQ14K5o5KnPjQ6D9CTUHqnt-wZaigWyKVGOyxYPIqsGtRPL5Ye7frM6zE3dnWBxENudHWLqCskPLFnWCWwQ\u001b[0m\u001b[0;34m\u001b[0m\u001b[0;34m\u001b[0m\u001b[0;34m\u001b[0m\u001b[0m\n\u001b[1;32m      2\u001b[0m \u001b[0;32mimport\u001b[0m \u001b[0msmtplib\u001b[0m\u001b[0;34m\u001b[0m\u001b[0;34m\u001b[0m\u001b[0m\n\u001b[0;32m----> 3\u001b[0;31m \u001b[0mpassword\u001b[0m \u001b[0;34m=\u001b[0m \u001b[0myourpassword\u001b[0m\u001b[0;34m\u001b[0m\u001b[0;34m\u001b[0m\u001b[0m\n\u001b[0m\u001b[1;32m      4\u001b[0m \u001b[0mserver\u001b[0m \u001b[0;34m=\u001b[0m \u001b[0msmtplib\u001b[0m\u001b[0;34m.\u001b[0m\u001b[0mSMTP\u001b[0m\u001b[0;34m(\u001b[0m\u001b[0;34m\"smtp.gmail.com\"\u001b[0m\u001b[0;34m,\u001b[0m \u001b[0;36m587\u001b[0m\u001b[0;34m)\u001b[0m\u001b[0;34m\u001b[0m\u001b[0;34m\u001b[0m\u001b[0m\n\u001b[1;32m      5\u001b[0m \u001b[0mserver\u001b[0m\u001b[0;34m.\u001b[0m\u001b[0mstarttls\u001b[0m\u001b[0;34m(\u001b[0m\u001b[0;34m)\u001b[0m\u001b[0;34m\u001b[0m\u001b[0;34m\u001b[0m\u001b[0m\n",
            "\u001b[0;31mNameError\u001b[0m: name 'yourpassword' is not defined"
          ]
        }
      ]
    },
    {
      "cell_type": "code",
      "source": [
        "num = [1,2,3]\n",
        "b = [[x, y, z] for x in num for y in num for z in num if len(set([x, y, z])) == len(num)]\n",
        "print(b)"
      ],
      "metadata": {
        "colab": {
          "base_uri": "https://localhost:8080/"
        },
        "id": "5pi2LVNKMy1m",
        "outputId": "0c74cd02-9446-478c-b510-e7aadede053b"
      },
      "execution_count": 4,
      "outputs": [
        {
          "output_type": "stream",
          "name": "stdout",
          "text": [
            "[[1, 2, 3], [1, 3, 2], [2, 1, 3], [2, 3, 1], [3, 1, 2], [3, 2, 1]]\n"
          ]
        }
      ]
    },
    {
      "cell_type": "code",
      "source": [
        "first_arr = [\"aaabaaddae\", \"aed\"]\n",
        "\n",
        "def min_window(wrd_arr):\n",
        "    wrd1 = wrd_arr[0]\n",
        "    wrd2 = wrd_arr[1]\n",
        "    for i in range(len(wrd2), len(wrd1)+1) :\n",
        "        new1 = wrd1[:i]\n",
        "        if all(new1.count(j) >= wrd2.count(j) for j in wrd2) :\n",
        "          return new1\n",
        "          break\n",
        "        \n",
        "while True :\n",
        "    temp_arr = []\n",
        "    result1 = min_window(first_arr)\n",
        "    temp_arr = [result1[::-1]] + [first_arr[1]]\n",
        "    result2 = min_window(temp_arr)\n",
        "    if len(result1) == len(result2) :\n",
        "      print(result1)\n",
        "      break\n",
        "    else :\n",
        "      first_arr = [result2[::-1]] + [first_arr[1]]"
      ],
      "metadata": {
        "id": "Wu_lml9CM2IW"
      },
      "execution_count": null,
      "outputs": []
    },
    {
      "cell_type": "code",
      "source": [
        "def count_words(filename):\n",
        "    \"\"\"Count the approximate number of words in a file.\"\"\"\n",
        "    try:\n",
        "        with open(filename, encoding = \"utf_8\") as f:\n",
        "            contents = f.read()\n",
        "    except FileNotFoundError:\n",
        "        print(f\"Sorry, the file {filename} does not exist.\")\n",
        "    else:\n",
        "        words = contents.split()\n",
        "        num_words = len(words)\n",
        "        print(f\"The file {filename} has about {num_words} words.\")\n",
        "        \n",
        "filenames = [\"alice.txt\", \"siddhartha.txt\", \"little_women.txt\"]  # örnek txt dosyaları. (https://gutenberg.org/)\n",
        "for filename in filenames:\n",
        "    count_words(filename)"
      ],
      "metadata": {
        "id": "j4AUGAv2M5Gk"
      },
      "execution_count": null,
      "outputs": []
    }
  ]
}