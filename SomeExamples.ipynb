{
  "nbformat": 4,
  "nbformat_minor": 0,
  "metadata": {
    "colab": {
      "name": "SomeExamples.ipynb",
      "provenance": [],
      "authorship_tag": "ABX9TyNjyfDIF5jnsbxETcQTheR1",
      "include_colab_link": true
    },
    "kernelspec": {
      "name": "python3",
      "display_name": "Python 3"
    },
    "language_info": {
      "name": "python"
    }
  },
  "cells": [
    {
      "cell_type": "markdown",
      "metadata": {
        "id": "view-in-github",
        "colab_type": "text"
      },
      "source": [
        "<a href=\"https://colab.research.google.com/github/drmuratakyuz/01My-Python-Codes/blob/main/SomeExamples.ipynb\" target=\"_parent\"><img src=\"https://colab.research.google.com/assets/colab-badge.svg\" alt=\"Open In Colab\"/></a>"
      ]
    },
    {
      "cell_type": "code",
      "execution_count": 1,
      "metadata": {
        "id": "EhSz6KyBfqD7"
      },
      "outputs": [],
      "source": [
        "def last_digit(n1, n2):\n",
        "  if n2 == 0:\n",
        "    return 1\n",
        "  elif n2%4 == 0:\n",
        "    return ((n1%10)**(4))%10\n",
        "  else:\n",
        "    return ((n1%10)**(n2%4))%10"
      ]
    },
    {
      "cell_type": "code",
      "source": [
        "def last_digit(n1, n2):\n",
        "  if n2==0:\n",
        "    return 1\n",
        "  else:\n",
        "    empty = {}\n",
        "    for i in range(10):\n",
        "      y = 1\n",
        "      for j in range(4):\n",
        "        y *= i\n",
        "        if i not in empty:\n",
        "          empty[i] = [y%10]\n",
        "        else:\n",
        "          empty[i].append(y%10)\n",
        "    return empty[n1%10][n2%4-1]"
      ],
      "metadata": {
        "id": "dg1mnsmlfxIe"
      },
      "execution_count": 3,
      "outputs": []
    },
    {
      "cell_type": "code",
      "source": [
        "def rand(a,b):\n",
        "  import time\n",
        "  my_list=[i for i in range(a,b+1)]\n",
        "  return my_list[int(time.time()*10000000 % ((abs(a-b))+1))]\n",
        "\n"
      ],
      "metadata": {
        "id": "xHzDhpAcf3S2"
      },
      "execution_count": null,
      "outputs": []
    },
    {
      "cell_type": "code",
      "source": [
        "veri = [\"a\", \"b\", True, (False, 1), {\"1\" : 2}, [1,2], {\"2\" : \"two\"}, {2, \"3\"}, \"c\", 23, 0]\n",
        "def rand_ch(x):\n",
        "  import time\n",
        "  return x[int(time.time()*10000000 % (len(x)))]\n",
        "rand_ch(veri)"
      ],
      "metadata": {
        "id": "bcFaOrXKf6E0"
      },
      "execution_count": null,
      "outputs": []
    },
    {
      "cell_type": "code",
      "source": [
        "'''\n",
        "Input: prices = [7,1,5,3,6,4]\n",
        "Output: 5\n",
        "Explanation: Buy on day 2 (price = 1) and sell on day 5 (price = 6), profit = 6-1 = 5.\n",
        "Note that buying on day 2 and selling on day 1 is not allowed because you must buy before you sell.Input: prices = [7,6,4,3,1]\n",
        "Output: 0\n",
        "Explanation: In this case, no transactions are done and the max profit = 0.\n",
        "'''\n"
      ],
      "metadata": {
        "id": "qo9Mc2DJf9n6"
      },
      "execution_count": null,
      "outputs": []
    },
    {
      "cell_type": "code",
      "source": [
        "veri = [\"a\", \"b\", True, (False, 1), {\"1\" : 2}, [1,2], {\"2\" : \"two\"}, {2, \"3\"}, \"c\", 23, 0]\n",
        "tipler = [\"int\", \"str\", \"bool\", \"list\", \"tuple\", \"dict\", \"set\"]\n",
        "toplam = {}.fromkeys(tipler,0)\n",
        "\n",
        "for i in range(len(veri)):   \n",
        "    # type(veri[i]).__name__ MAKE \"<class 'int'>\" to 'int' \n",
        "    if type(veri[i]).__name__ in list(toplam.keys()): \n",
        "        toplam[type(veri[i]).__name__] += 1 \n",
        "print(toplam)"
      ],
      "metadata": {
        "colab": {
          "base_uri": "https://localhost:8080/"
        },
        "id": "r1CfePBngh73",
        "outputId": "06670320-b0d2-4f26-f6de-ad4b06977b70"
      },
      "execution_count": 4,
      "outputs": [
        {
          "output_type": "stream",
          "name": "stdout",
          "text": [
            "{'int': 2, 'str': 3, 'bool': 1, 'list': 1, 'tuple': 1, 'dict': 2, 'set': 1}\n"
          ]
        }
      ]
    }
  ]
}