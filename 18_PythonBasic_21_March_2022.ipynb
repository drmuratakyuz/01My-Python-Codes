{
  "cells": [
    {
      "cell_type": "markdown",
      "metadata": {
        "id": "view-in-github",
        "colab_type": "text"
      },
      "source": [
        "<a href=\"https://colab.research.google.com/github/drmuratakyuz/My-Python-Codes/blob/main/18_PythonBasic_21_March_2022.ipynb\" target=\"_parent\"><img src=\"https://colab.research.google.com/assets/colab-badge.svg\" alt=\"Open In Colab\"/></a>"
      ]
    },
    {
      "cell_type": "markdown",
      "id": "22263af8",
      "metadata": {
        "id": "22263af8"
      },
      "source": [
        "<h1><p style=\"text-align: center; color:darkblue\">Python In-Class, <br>21 March 2022</p><h1>"
      ]
    },
    {
      "cell_type": "code",
      "execution_count": null,
      "id": "8b8081f7",
      "metadata": {
        "id": "8b8081f7"
      },
      "outputs": [],
      "source": [
        "vowel_list = ['a', 'e', 'i', 'o', 'u']\n",
        "first_ten = ['a', 'b', 'c', 'd', 'e', 'f', 'g', 'h', 'i', 'j']"
      ]
    },
    {
      "cell_type": "code",
      "execution_count": null,
      "id": "79fb14e2",
      "metadata": {
        "id": "79fb14e2"
      },
      "outputs": [],
      "source": [
        "#fonk = lambda x : True if x in vowel_list else False\n",
        "\n",
        "vowels = filter(lambda x : True if x in vowel_list else False, first_ten)"
      ]
    },
    {
      "cell_type": "code",
      "execution_count": null,
      "id": "caa85c5e",
      "metadata": {
        "id": "caa85c5e",
        "outputId": "dcf5f1a6-01e4-4e52-81fd-1eeb1dd14ec1"
      },
      "outputs": [
        {
          "data": {
            "text/plain": [
              "['a', 'e', 'i']"
            ]
          },
          "execution_count": 3,
          "metadata": {},
          "output_type": "execute_result"
        }
      ],
      "source": [
        "list(vowels)"
      ]
    },
    {
      "cell_type": "code",
      "execution_count": null,
      "id": "32076cd7",
      "metadata": {
        "id": "32076cd7"
      },
      "outputs": [],
      "source": [
        "vowels = filter(lambda x : x in vowel_list, first_ten)"
      ]
    },
    {
      "cell_type": "code",
      "execution_count": null,
      "id": "6b27304a",
      "metadata": {
        "id": "6b27304a",
        "outputId": "0ddaf0bc-114e-43fe-aa34-cbc00560b3aa"
      },
      "outputs": [
        {
          "data": {
            "text/plain": [
              "['a', 'e', 'i']"
            ]
          },
          "execution_count": 5,
          "metadata": {},
          "output_type": "execute_result"
        }
      ],
      "source": [
        "list(vowels)"
      ]
    },
    {
      "cell_type": "code",
      "execution_count": null,
      "id": "731ac93d",
      "metadata": {
        "id": "731ac93d"
      },
      "outputs": [],
      "source": [
        "def modular(n) :\n",
        "    return lambda x : x ** n"
      ]
    },
    {
      "cell_type": "code",
      "execution_count": null,
      "id": "af55adaf",
      "metadata": {
        "id": "af55adaf"
      },
      "outputs": [],
      "source": [
        "kupunual = modular(3)"
      ]
    },
    {
      "cell_type": "code",
      "execution_count": null,
      "id": "635856f8",
      "metadata": {
        "id": "635856f8",
        "outputId": "a1e67ee5-2dec-4e71-a6c6-7880322d28f4"
      },
      "outputs": [
        {
          "data": {
            "text/plain": [
              "<function __main__.modular.<locals>.<lambda>(x)>"
            ]
          },
          "execution_count": 9,
          "metadata": {},
          "output_type": "execute_result"
        }
      ],
      "source": [
        "kupunual"
      ]
    },
    {
      "cell_type": "code",
      "execution_count": null,
      "id": "12a2aed7",
      "metadata": {
        "id": "12a2aed7",
        "outputId": "72aefe99-d646-47e9-8c6a-f8673d283421"
      },
      "outputs": [
        {
          "data": {
            "text/plain": [
              "<function __main__.<lambda>(x)>"
            ]
          },
          "execution_count": 10,
          "metadata": {},
          "output_type": "execute_result"
        }
      ],
      "source": [
        "lambda x : x ** 3"
      ]
    },
    {
      "cell_type": "code",
      "execution_count": null,
      "id": "4dc864e6",
      "metadata": {
        "id": "4dc864e6",
        "outputId": "5245f844-fdbd-47fd-a366-b387ed9e7c67"
      },
      "outputs": [
        {
          "data": {
            "text/plain": [
              "64"
            ]
          },
          "execution_count": 11,
          "metadata": {},
          "output_type": "execute_result"
        }
      ],
      "source": [
        "(lambda x : x ** 3)(4)"
      ]
    },
    {
      "cell_type": "code",
      "execution_count": null,
      "id": "d9b811a3",
      "metadata": {
        "id": "d9b811a3",
        "outputId": "ffda532d-0c1d-4793-eb68-f45af0453bba"
      },
      "outputs": [
        {
          "data": {
            "text/plain": [
              "64"
            ]
          },
          "execution_count": 12,
          "metadata": {},
          "output_type": "execute_result"
        }
      ],
      "source": [
        "kupunual(4)"
      ]
    },
    {
      "cell_type": "code",
      "execution_count": null,
      "id": "61093a9a",
      "metadata": {
        "id": "61093a9a"
      },
      "outputs": [],
      "source": [
        "def functioner(emoji = None) :\n",
        "    return lambda message : print(message, emoji)"
      ]
    },
    {
      "cell_type": "code",
      "execution_count": null,
      "id": "549d1e12",
      "metadata": {
        "id": "549d1e12",
        "outputId": "31b7a76e-1218-4c32-a429-167d823e15d5"
      },
      "outputs": [
        {
          "name": "stdout",
          "output_type": "stream",
          "text": [
            "ali :)\n"
          ]
        }
      ],
      "source": [
        "print(\"ali\", \":)\")"
      ]
    },
    {
      "cell_type": "code",
      "execution_count": null,
      "id": "e95e8b97",
      "metadata": {
        "id": "e95e8b97"
      },
      "outputs": [],
      "source": [
        "gulen_yuz = functioner(\":)\")"
      ]
    },
    {
      "cell_type": "code",
      "execution_count": null,
      "id": "98884719",
      "metadata": {
        "id": "98884719",
        "outputId": "5b82463f-7f51-4710-ef2e-78f42c1176c1"
      },
      "outputs": [
        {
          "name": "stdout",
          "output_type": "stream",
          "text": [
            "ali :)\n"
          ]
        }
      ],
      "source": [
        "gulen_yuz(\"ali\")"
      ]
    },
    {
      "cell_type": "code",
      "execution_count": null,
      "id": "6c870619",
      "metadata": {
        "id": "6c870619",
        "outputId": "72f87656-ebdf-47fc-9650-a3d626db99ea"
      },
      "outputs": [
        {
          "name": "stdout",
          "output_type": "stream",
          "text": [
            "[1, 2, 3] :)\n"
          ]
        }
      ],
      "source": [
        "gulen_yuz([1,2,3])"
      ]
    },
    {
      "cell_type": "code",
      "execution_count": null,
      "id": "3a57cdaf",
      "metadata": {
        "id": "3a57cdaf"
      },
      "outputs": [],
      "source": [
        "uzgun_yuz = functioner(\":(\")"
      ]
    },
    {
      "cell_type": "code",
      "execution_count": null,
      "id": "a7003391",
      "metadata": {
        "id": "a7003391",
        "outputId": "da0ba04e-2b14-4628-ae1c-e0a6341e7f1d"
      },
      "outputs": [
        {
          "data": {
            "text/plain": [
              "<function __main__.functioner.<locals>.<lambda>(message)>"
            ]
          },
          "execution_count": 20,
          "metadata": {},
          "output_type": "execute_result"
        }
      ],
      "source": [
        "uzgun_yuz"
      ]
    },
    {
      "cell_type": "code",
      "execution_count": null,
      "id": "184fc0d5",
      "metadata": {
        "id": "184fc0d5",
        "outputId": "086fec65-79f3-4919-9597-a42defd55830"
      },
      "outputs": [
        {
          "name": "stdout",
          "output_type": "stream",
          "text": [
            "66 :(\n"
          ]
        }
      ],
      "source": [
        "uzgun_yuz(66)"
      ]
    },
    {
      "cell_type": "code",
      "execution_count": null,
      "id": "07c26592",
      "metadata": {
        "id": "07c26592",
        "outputId": "d1f976e6-1700-4998-e4d2-ba0abd1ec758"
      },
      "outputs": [
        {
          "name": "stdout",
          "output_type": "stream",
          "text": [
            "66 :(\n"
          ]
        }
      ],
      "source": [
        "(lambda x : print(x, \":(\"))(66)"
      ]
    },
    {
      "cell_type": "markdown",
      "id": "dd4e38ec",
      "metadata": {
        "id": "dd4e38ec"
      },
      "source": [
        "```python\n",
        "ali_print() --> print()\n",
        "ali_max() --> max()\n",
        "ali_bool() --> bool()\n",
        "ali_sorted() --> sorted()\n",
        "```"
      ]
    },
    {
      "cell_type": "code",
      "execution_count": null,
      "id": "ab8693bd",
      "metadata": {
        "id": "ab8693bd",
        "outputId": "939f4522-81b0-4dfc-9fc9-90f0329f5bfe"
      },
      "outputs": [
        {
          "name": "stdout",
          "output_type": "stream",
          "text": [
            "ali deli veli\n"
          ]
        }
      ],
      "source": [
        "(lambda x : print(x))(\"ali deli veli\")"
      ]
    },
    {
      "cell_type": "code",
      "execution_count": null,
      "id": "f1d51b07",
      "metadata": {
        "id": "f1d51b07",
        "outputId": "ce0ac1e1-be38-4535-d3a6-658c89a54a9f"
      },
      "outputs": [
        {
          "data": {
            "text/plain": [
              "3"
            ]
          },
          "execution_count": 25,
          "metadata": {},
          "output_type": "execute_result"
        }
      ],
      "source": [
        "(lambda x : max(x))((1,2,3))"
      ]
    },
    {
      "cell_type": "code",
      "execution_count": null,
      "id": "fc260006",
      "metadata": {
        "id": "fc260006",
        "outputId": "afed43b2-4858-4b07-b5b9-c56a40e2550f"
      },
      "outputs": [
        {
          "data": {
            "text/plain": [
              "[1, 3, 5]"
            ]
          },
          "execution_count": 26,
          "metadata": {},
          "output_type": "execute_result"
        }
      ],
      "source": [
        "(lambda x : sorted(x))((3,5,1))"
      ]
    },
    {
      "cell_type": "code",
      "execution_count": null,
      "id": "db8a775a",
      "metadata": {
        "id": "db8a775a"
      },
      "outputs": [],
      "source": [
        "def function_generator(function_name) :\n",
        "    return lambda x : function_name(x)"
      ]
    },
    {
      "cell_type": "code",
      "execution_count": null,
      "id": "5aac5e7b",
      "metadata": {
        "id": "5aac5e7b"
      },
      "outputs": [],
      "source": [
        "benim_print = function_generator(print)"
      ]
    },
    {
      "cell_type": "code",
      "execution_count": null,
      "id": "5f7c1c69",
      "metadata": {
        "id": "5f7c1c69",
        "outputId": "fe86a79f-9977-4d93-ba05-3f94dfa94b10"
      },
      "outputs": [
        {
          "name": "stdout",
          "output_type": "stream",
          "text": [
            "99\n"
          ]
        }
      ],
      "source": [
        "benim_print(99)"
      ]
    },
    {
      "cell_type": "code",
      "execution_count": null,
      "id": "98f41de7",
      "metadata": {
        "id": "98f41de7"
      },
      "outputs": [],
      "source": [
        "joseph_max = function_generator(max)"
      ]
    },
    {
      "cell_type": "code",
      "execution_count": null,
      "id": "38c3f107",
      "metadata": {
        "id": "38c3f107"
      },
      "outputs": [],
      "source": [
        "joseph_sorted = function_generator(sorted)"
      ]
    },
    {
      "cell_type": "code",
      "execution_count": null,
      "id": "bacd930d",
      "metadata": {
        "id": "bacd930d"
      },
      "outputs": [],
      "source": [
        "joseph_bool = function_generator(bool)"
      ]
    },
    {
      "cell_type": "code",
      "execution_count": null,
      "id": "dfc0dfc7",
      "metadata": {
        "id": "dfc0dfc7",
        "outputId": "909955a8-fea2-490d-dba0-b4c060943c6d"
      },
      "outputs": [
        {
          "data": {
            "text/plain": [
              "True"
            ]
          },
          "execution_count": 34,
          "metadata": {},
          "output_type": "execute_result"
        }
      ],
      "source": [
        "joseph_bool(1)"
      ]
    },
    {
      "cell_type": "code",
      "execution_count": null,
      "id": "df0a03a0",
      "metadata": {
        "id": "df0a03a0"
      },
      "outputs": [],
      "source": [
        "def x() :\n",
        "    return 1, 2, 3, 4"
      ]
    },
    {
      "cell_type": "code",
      "execution_count": null,
      "id": "858380cb",
      "metadata": {
        "id": "858380cb",
        "outputId": "6deb6e01-efa7-430a-d076-5d092630d30e"
      },
      "outputs": [
        {
          "data": {
            "text/plain": [
              "tuple"
            ]
          },
          "execution_count": 36,
          "metadata": {},
          "output_type": "execute_result"
        }
      ],
      "source": [
        "type(x())"
      ]
    },
    {
      "cell_type": "code",
      "execution_count": null,
      "id": "8e8161ec",
      "metadata": {
        "id": "8e8161ec"
      },
      "outputs": [],
      "source": [
        "a, b, c, d = x()"
      ]
    },
    {
      "cell_type": "code",
      "execution_count": null,
      "id": "90c9c332",
      "metadata": {
        "id": "90c9c332"
      },
      "outputs": [],
      "source": [
        "num = [1, 4, 4]"
      ]
    },
    {
      "cell_type": "code",
      "execution_count": null,
      "id": "ff35b130",
      "metadata": {
        "id": "ff35b130",
        "outputId": "0b535b31-400e-4bae-ca19-6469b8ca1484"
      },
      "outputs": [
        {
          "data": {
            "text/plain": [
              "1"
            ]
          },
          "execution_count": 39,
          "metadata": {},
          "output_type": "execute_result"
        }
      ],
      "source": [
        "num.count(1)"
      ]
    },
    {
      "cell_type": "code",
      "execution_count": null,
      "id": "4a373441",
      "metadata": {
        "id": "4a373441",
        "outputId": "8acf685e-1847-4fa8-8997-9c879e1b78ee"
      },
      "outputs": [
        {
          "data": {
            "text/plain": [
              "2"
            ]
          },
          "execution_count": 40,
          "metadata": {},
          "output_type": "execute_result"
        }
      ],
      "source": [
        "num.count(4)"
      ]
    },
    {
      "cell_type": "code",
      "execution_count": null,
      "id": "ff1f95b2",
      "metadata": {
        "id": "ff1f95b2",
        "outputId": "bbc2b7bf-f42d-46eb-ac63-09fda54b3def"
      },
      "outputs": [
        {
          "data": {
            "text/plain": [
              "4"
            ]
          },
          "execution_count": 41,
          "metadata": {},
          "output_type": "execute_result"
        }
      ],
      "source": [
        "max(num, key = num.count)"
      ]
    },
    {
      "cell_type": "code",
      "execution_count": null,
      "id": "9a845a63",
      "metadata": {
        "id": "9a845a63",
        "outputId": "8c1448c5-74b5-40e9-db6b-3ae52ca2a855"
      },
      "outputs": [
        {
          "data": {
            "text/plain": [
              "2"
            ]
          },
          "execution_count": 42,
          "metadata": {},
          "output_type": "execute_result"
        }
      ],
      "source": [
        "tekrar_sayısı = num.count(max(num, key = num.count))\n",
        "tekrar_sayısı"
      ]
    },
    {
      "cell_type": "code",
      "execution_count": null,
      "id": "dd917be7",
      "metadata": {
        "id": "dd917be7",
        "outputId": "99bd4b5a-1dc7-4958-9b9d-3a1faae21a49"
      },
      "outputs": [
        {
          "data": {
            "text/plain": [
              "1"
            ]
          },
          "execution_count": 43,
          "metadata": {},
          "output_type": "execute_result"
        }
      ],
      "source": [
        "num = [1,2,3]\n",
        "tekrar_sayısı = num.count(max(num, key = num.count))\n",
        "tekrar_sayısı"
      ]
    },
    {
      "cell_type": "markdown",
      "id": "af92b7c8",
      "metadata": {
        "id": "af92b7c8"
      },
      "source": [
        "```python\n",
        "equal(1,4,4) --> 2\n",
        "equal(4,4,4) --> 3\n",
        "equal(1,2,3) --> 0\n",
        "```"
      ]
    },
    {
      "cell_type": "code",
      "execution_count": null,
      "id": "4d23531b",
      "metadata": {
        "id": "4d23531b"
      },
      "outputs": [],
      "source": [
        "def equal(a, b, c) :\n",
        "    num = [a, b, c]\n",
        "    sonuc = num.count(max(num, key = num.count))\n",
        "    \n",
        "    if sonuc > 1 :\n",
        "        return sonuc\n",
        "    else :\n",
        "        return 0"
      ]
    },
    {
      "cell_type": "code",
      "execution_count": null,
      "id": "83d3f70a",
      "metadata": {
        "id": "83d3f70a",
        "outputId": "2f6425a9-3789-4a45-9b01-7d68c69111b4"
      },
      "outputs": [
        {
          "data": {
            "text/plain": [
              "0"
            ]
          },
          "execution_count": 45,
          "metadata": {},
          "output_type": "execute_result"
        }
      ],
      "source": [
        "equal(1,2,3)"
      ]
    },
    {
      "cell_type": "code",
      "execution_count": null,
      "id": "46ead040",
      "metadata": {
        "id": "46ead040",
        "outputId": "26f48fce-9cb5-464b-dfeb-1ac59ede6226"
      },
      "outputs": [
        {
          "data": {
            "text/plain": [
              "2"
            ]
          },
          "execution_count": 46,
          "metadata": {},
          "output_type": "execute_result"
        }
      ],
      "source": [
        "equal(1,4,4)"
      ]
    },
    {
      "cell_type": "code",
      "execution_count": null,
      "id": "5310aeb6",
      "metadata": {
        "id": "5310aeb6",
        "outputId": "43ffc093-5b34-4541-d6ee-12d80e7b16f2"
      },
      "outputs": [
        {
          "data": {
            "text/plain": [
              "3"
            ]
          },
          "execution_count": 47,
          "metadata": {},
          "output_type": "execute_result"
        }
      ],
      "source": [
        "equal(4,4,4)"
      ]
    },
    {
      "cell_type": "code",
      "execution_count": null,
      "id": "add35785",
      "metadata": {
        "id": "add35785"
      },
      "outputs": [],
      "source": [
        "def equall(* arg) :\n",
        "    num = list(arg)\n",
        "    sonuc = num.count(max(num, key = num.count))\n",
        "    \n",
        "    if sonuc > 1 :\n",
        "        return sonuc\n",
        "    else :\n",
        "        return 0"
      ]
    },
    {
      "cell_type": "code",
      "execution_count": null,
      "id": "b950eadd",
      "metadata": {
        "id": "b950eadd",
        "outputId": "504b37c0-43b1-47ed-8a7e-564de17a4bba"
      },
      "outputs": [
        {
          "data": {
            "text/plain": [
              "3"
            ]
          },
          "execution_count": 49,
          "metadata": {},
          "output_type": "execute_result"
        }
      ],
      "source": [
        "equall(1,1,1,2,2,3)"
      ]
    },
    {
      "cell_type": "code",
      "execution_count": null,
      "id": "7c026df2",
      "metadata": {
        "id": "7c026df2"
      },
      "outputs": [],
      "source": [
        "[x, y, z]"
      ]
    },
    {
      "cell_type": "code",
      "execution_count": null,
      "id": "f2efcdac",
      "metadata": {
        "id": "f2efcdac"
      },
      "outputs": [],
      "source": [
        "lambda x, y, z : sonuc"
      ]
    },
    {
      "cell_type": "code",
      "execution_count": null,
      "id": "122329f8",
      "metadata": {
        "id": "122329f8"
      },
      "outputs": [],
      "source": [
        "equalambda = lambda x, y, z : [x,y,z].count(max([x,y,z], key = [x,y,z].count))\\\n",
        "if [x,y,z].count(max([x,y,z], key = [x,y,z].count)) > 1 else 0"
      ]
    },
    {
      "cell_type": "code",
      "execution_count": null,
      "id": "10cef70d",
      "metadata": {
        "id": "10cef70d",
        "outputId": "91fcbd92-b9b9-4d0d-e6b6-775caf4f6df4"
      },
      "outputs": [
        {
          "data": {
            "text/plain": [
              "0"
            ]
          },
          "execution_count": 54,
          "metadata": {},
          "output_type": "execute_result"
        }
      ],
      "source": [
        "equalambda(1,2,3)"
      ]
    },
    {
      "cell_type": "code",
      "execution_count": null,
      "id": "816ce1c8",
      "metadata": {
        "id": "816ce1c8"
      },
      "outputs": [],
      "source": [
        "equalambdaa = lambda *x : list(x).count(max(list(x), key = list(x).count))\\\n",
        "if list(x).count(max(list(x), key = list(x).count)) > 1 else 0"
      ]
    },
    {
      "cell_type": "code",
      "execution_count": null,
      "id": "4f0d5a01",
      "metadata": {
        "id": "4f0d5a01",
        "outputId": "32b65149-333a-4928-d895-2e3303dfd8e6"
      },
      "outputs": [
        {
          "data": {
            "text/plain": [
              "3"
            ]
          },
          "execution_count": 56,
          "metadata": {},
          "output_type": "execute_result"
        }
      ],
      "source": [
        "equalambdaa(1,1,1,2,2,3)"
      ]
    },
    {
      "cell_type": "code",
      "execution_count": null,
      "id": "a933d5ce",
      "metadata": {
        "id": "a933d5ce"
      },
      "outputs": [],
      "source": [
        ""
      ]
    }
  ],
  "metadata": {
    "kernelspec": {
      "display_name": "Python 3",
      "language": "python",
      "name": "python3"
    },
    "language_info": {
      "codemirror_mode": {
        "name": "ipython",
        "version": 3
      },
      "file_extension": ".py",
      "mimetype": "text/x-python",
      "name": "python",
      "nbconvert_exporter": "python",
      "pygments_lexer": "ipython3",
      "version": "3.8.8"
    },
    "colab": {
      "name": "18_PythonBasic_21-March-2022.ipynb",
      "provenance": [],
      "include_colab_link": true
    }
  },
  "nbformat": 4,
  "nbformat_minor": 5
}