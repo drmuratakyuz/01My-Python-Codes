{
  "nbformat": 4,
  "nbformat_minor": 0,
  "metadata": {
    "colab": {
      "name": "listex.ipynb",
      "provenance": [],
      "authorship_tag": "ABX9TyMTeXhksLI8+pJiZZm8RGgQ",
      "include_colab_link": true
    },
    "kernelspec": {
      "name": "python3",
      "display_name": "Python 3"
    },
    "language_info": {
      "name": "python"
    }
  },
  "cells": [
    {
      "cell_type": "markdown",
      "metadata": {
        "id": "view-in-github",
        "colab_type": "text"
      },
      "source": [
        "<a href=\"https://colab.research.google.com/github/drmuratakyuz/01My-Python-Codes/blob/main/listex.ipynb\" target=\"_parent\"><img src=\"https://colab.research.google.com/assets/colab-badge.svg\" alt=\"Open In Colab\"/></a>"
      ]
    },
    {
      "cell_type": "code",
      "execution_count": 1,
      "metadata": {
        "colab": {
          "base_uri": "https://localhost:8080/"
        },
        "id": "rDkAZZZX2xKM",
        "outputId": "92d073c0-2185-4d6b-ab1e-88d7e556348c"
      },
      "outputs": [
        {
          "output_type": "execute_result",
          "data": {
            "text/plain": [
              "45"
            ]
          },
          "metadata": {},
          "execution_count": 1
        }
      ],
      "source": [
        "liste = [11, 45, 8, 11, 23, 45, 23, 45, 89]\n",
        "\n",
        "def fonk(liste):\n",
        "    dic = { i:liste.count(i) for i in set(liste) }\n",
        "    dic = sorted(dic.items(), key=lambda x: x[1])\n",
        "    return dic.pop()\n",
        "\n",
        "k, v = fonk(liste)\n",
        "k"
      ]
    }
  ]
}