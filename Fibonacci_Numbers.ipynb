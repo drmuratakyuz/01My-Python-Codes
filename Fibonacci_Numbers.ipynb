{
  "nbformat": 4,
  "nbformat_minor": 0,
  "metadata": {
    "colab": {
      "name": "Fibonacci_Numbers.ipynb",
      "provenance": []
    },
    "kernelspec": {
      "name": "python3",
      "display_name": "Python 3"
    },
    "language_info": {
      "name": "python"
    }
  },
  "cells": [
    {
      "cell_type": "markdown",
      "source": [
        ""
      ],
      "metadata": {
        "id": "WnuLJlJQLVcj"
      }
    },
    {
      "cell_type": "code",
      "execution_count": 7,
      "metadata": {
        "colab": {
          "base_uri": "https://localhost:8080/"
        },
        "id": "Es54GyiEJa9J",
        "outputId": "9d72b5b1-f8df-44a8-ee35-502a32a5f424"
      },
      "outputs": [
        {
          "output_type": "stream",
          "name": "stdout",
          "text": [
            "Fibonacci Numbers\t\tGolden Ratio\n",
            "--------------------------------------------------\n",
            "1 \t\t\t\t 1.0\n",
            "2 \t\t\t\t 2.0\n",
            "3 \t\t\t\t 1.5\n",
            "5 \t\t\t\t 1.6666666666666667\n",
            "8 \t\t\t\t 1.6\n",
            "13 \t\t\t\t 1.625\n",
            "21 \t\t\t\t 1.6153846153846154\n",
            "34 \t\t\t\t 1.619047619047619\n",
            "55 \t\t\t\t 1.6176470588235294\n",
            "89 \t\t\t\t 1.6181818181818182\n",
            "144 \t\t\t\t 1.6179775280898876\n",
            "233 \t\t\t\t 1.6180555555555556\n",
            "377 \t\t\t\t 1.6180257510729614\n",
            "610 \t\t\t\t 1.6180371352785146\n",
            "987 \t\t\t\t 1.618032786885246\n",
            "1597 \t\t\t\t 1.618034447821682\n",
            "2584 \t\t\t\t 1.6180338134001253\n",
            "4181 \t\t\t\t 1.618034055727554\n",
            "6765 \t\t\t\t 1.6180339631667064\n",
            "10946 \t\t\t\t 1.6180339985218033\n",
            "17711 \t\t\t\t 1.618033985017358\n",
            "28657 \t\t\t\t 1.6180339901755971\n",
            "46368 \t\t\t\t 1.618033988205325\n",
            "75025 \t\t\t\t 1.618033988957902\n"
          ]
        }
      ],
      "source": [
        "#fibonacci numbers and golden ratio\n",
        "a = 0\n",
        "b = 1\n",
        "c = 1\n",
        "print(\"Fibonacci Numbers\\t\\tGolden Ratio\")\n",
        "print(\"-\"*50)\n",
        "for i in range(1,25):\n",
        "  c = b + a\n",
        "  a = b\n",
        "  e = c / b\n",
        "  b = c\n",
        "  print(c,\"\\t\\t\\t\\t\",e)\n"
      ]
    }
  ]
}