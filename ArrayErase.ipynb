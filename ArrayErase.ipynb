{
  "nbformat": 4,
  "nbformat_minor": 0,
  "metadata": {
    "colab": {
      "name": "ArrayErase.ipynb",
      "provenance": [],
      "authorship_tag": "ABX9TyMabkIRW+IvMiAhetVQ+FMm",
      "include_colab_link": true
    },
    "kernelspec": {
      "name": "python3",
      "display_name": "Python 3"
    },
    "language_info": {
      "name": "python"
    }
  },
  "cells": [
    {
      "cell_type": "markdown",
      "metadata": {
        "id": "view-in-github",
        "colab_type": "text"
      },
      "source": [
        "<a href=\"https://colab.research.google.com/github/drmuratakyuz/01My-Python-Codes/blob/main/ArrayErase.ipynb\" target=\"_parent\"><img src=\"https://colab.research.google.com/assets/colab-badge.svg\" alt=\"Open In Colab\"/></a>"
      ]
    },
    {
      "cell_type": "code",
      "execution_count": 1,
      "metadata": {
        "colab": {
          "base_uri": "https://localhost:8080/"
        },
        "id": "G97lVughDdyo",
        "outputId": "32e25671-80ab-4626-8e4e-21c0084522df"
      },
      "outputs": [
        {
          "output_type": "stream",
          "name": "stdout",
          "text": [
            "19554575040\n"
          ]
        }
      ],
      "source": [
        "'''\n",
        "An array might have many values. These are ordererd in a specific way. However, it's possible to display them in other order.\n",
        "\n",
        "Your Task\n",
        "Given a multi-dimensional array of integers, your goal is to find how many ways you can arrange that same array, so that the values are in a different sequence.\n",
        "\n",
        "findCombos([1, 2, 3]); \n",
        "// 6 -> [1, 2, 3], [1, 3, 2], \n",
        "//      [2, 1, 3], [2, 3, 1],\n",
        "//      [3, 1, 2], [3, 2, 1]\n",
        "\n",
        "findCombos([1,2,2]);\n",
        "// 3 -> [1, 2, 2], [2, 1, 2]\n",
        "//      [2, 2, 1]\n",
        "\n",
        "findCombos([2,2,2,2]);\n",
        "// 1 -> [2, 2, 2, 2]\n",
        "'''\n",
        "import math\n",
        "array = [7, [1, 2, 3],  [1, 2, 2],  [[1, 2]],  [[1,2],\n",
        "    [5, 5, 1, 5, 25, 25]],  [1, 2, []],  [],  [[[],[],[]]]]\n",
        "new = []\n",
        "def eraser(array):\n",
        "    [new.append(i) if type(i) != type(array) else eraser(i) for i in array]\n",
        "    return new\n",
        "bos = eraser(array)\n",
        "result = math.factorial(len(bos))\n",
        "for i in set(bos):\n",
        "    result //= math.factorial(bos.count(i))\n",
        "print(result)"
      ]
    }
  ]
}