{
  "nbformat": 4,
  "nbformat_minor": 0,
  "metadata": {
    "colab": {
      "name": "Permitden.ipynb",
      "provenance": [],
      "authorship_tag": "ABX9TyOOJb1/myQlkuGoH1PvfSUv",
      "include_colab_link": true
    },
    "kernelspec": {
      "name": "python3",
      "display_name": "Python 3"
    },
    "language_info": {
      "name": "python"
    }
  },
  "cells": [
    {
      "cell_type": "markdown",
      "metadata": {
        "id": "view-in-github",
        "colab_type": "text"
      },
      "source": [
        "<a href=\"https://colab.research.google.com/github/drmuratakyuz/01My-Python-Codes/blob/main/Permitden.ipynb\" target=\"_parent\"><img src=\"https://colab.research.google.com/assets/colab-badge.svg\" alt=\"Open In Colab\"/></a>"
      ]
    },
    {
      "cell_type": "code",
      "execution_count": 1,
      "metadata": {
        "colab": {
          "base_uri": "https://localhost:8080/",
          "height": 138
        },
        "id": "_tu5EFcsHmek",
        "outputId": "965a764c-f97d-4b23-e589-b4c5a2dde565"
      },
      "outputs": [
        {
          "output_type": "error",
          "ename": "IndentationError",
          "evalue": "ignored",
          "traceback": [
            "\u001b[0;36m  File \u001b[0;32m\"<ipython-input-1-91ea42d2a566>\"\u001b[0;36m, line \u001b[0;32m3\u001b[0m\n\u001b[0;31m    for i in liste:\u001b[0m\n\u001b[0m    ^\u001b[0m\n\u001b[0;31mIndentationError\u001b[0m\u001b[0;31m:\u001b[0m unexpected indent\n"
          ]
        }
      ],
      "source": [
        "liste=[]\n",
        "result = [[]]\n",
        "for i in liste:\n",
        "     new_perms = []\n",
        "     for j in result:\n",
        "         for k in range(len(j)+1):\n",
        "             new_perms.append(j[:k] + [i] + j[k:])\n",
        "             result = new_perms\n",
        "print(\"Original list : \",liste)\n",
        "print(\"New list :\\n\",result)"
      ]
    }
  ]
}