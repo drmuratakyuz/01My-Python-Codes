{
  "nbformat": 4,
  "nbformat_minor": 0,
  "metadata": {
    "colab": {
      "name": "agecalculating.ipynb",
      "provenance": [],
      "authorship_tag": "ABX9TyO5DeVc/IXHl2PsLmSTN5wt",
      "include_colab_link": true
    },
    "kernelspec": {
      "name": "python3",
      "display_name": "Python 3"
    },
    "language_info": {
      "name": "python"
    }
  },
  "cells": [
    {
      "cell_type": "markdown",
      "metadata": {
        "id": "view-in-github",
        "colab_type": "text"
      },
      "source": [
        "<a href=\"https://colab.research.google.com/github/drmuratakyuz/My-Python-Codes/blob/main/agecalculating.ipynb\" target=\"_parent\"><img src=\"https://colab.research.google.com/assets/colab-badge.svg\" alt=\"Open In Colab\"/></a>"
      ]
    },
    {
      "cell_type": "code",
      "execution_count": null,
      "metadata": {
        "id": "PjnVgotPMvIg"
      },
      "outputs": [],
      "source": [
        "from datetime import datetime\n",
        "\n",
        "dogum = input(\"doğum tarihinizi giriniz: (Gün.Ay.Yıl) \")\n",
        "\n",
        "toOrdinal_date1 = datetime.strptime(dogum,\"%d.%m.%Y\").toordinal()\n",
        "toOrdinal_date2 = datetime.today().toordinal()\n",
        "\n",
        "ordinal = (toOrdinal_date2 - toOrdinal_date1)  # fark ordinal\n",
        "Gregorian = date.fromordinal(ordinal)          # Gregorian Ordinal\n",
        "\n",
        "print(f\"1: {toOrdinal_date1}, 2: {toOrdinal_date2} fark day: {ordinal} -- {Gregorian}\")"
      ]
    }
  ]
}