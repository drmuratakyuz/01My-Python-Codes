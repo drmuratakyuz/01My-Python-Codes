{
  "nbformat": 4,
  "nbformat_minor": 0,
  "metadata": {
    "colab": {
      "name": "StajKidemDerece.ipynb",
      "provenance": [],
      "collapsed_sections": [],
      "authorship_tag": "ABX9TyPFznAvLxu5/asbRaMQ4CaX",
      "include_colab_link": true
    },
    "kernelspec": {
      "name": "python3",
      "display_name": "Python 3"
    },
    "language_info": {
      "name": "python"
    }
  },
  "cells": [
    {
      "cell_type": "markdown",
      "metadata": {
        "id": "view-in-github",
        "colab_type": "text"
      },
      "source": [
        "<a href=\"https://colab.research.google.com/github/drmuratakyuz/My-Python-Codes/blob/main/StajKidemDerece.ipynb\" target=\"_parent\"><img src=\"https://colab.research.google.com/assets/colab-badge.svg\" alt=\"Open In Colab\"/></a>"
      ]
    },
    {
      "cell_type": "code",
      "execution_count": null,
      "metadata": {
        "colab": {
          "base_uri": "https://localhost:8080/"
        },
        "id": "qbnfiN3vK-vm",
        "outputId": "8e3773b5-9847-4c3b-af21-774c6ebd5acd"
      },
      "outputs": [
        {
          "output_type": "stream",
          "name": "stdout",
          "text": [
            "0 10 1\n",
            "1 10 2\n",
            "2 10 3\n",
            "3 9 1\n",
            "4 9 2\n",
            "5 9 3\n",
            "6 8 1\n"
          ]
        }
      ],
      "source": [
        "a =-1\n",
        "staj = 6\n",
        "for i in range(10,0,-1):\n",
        "  for j in range(1,4):\n",
        "    a +=1\n",
        "    if a > staj:\n",
        "      break\n",
        "  #    print(a,i,j)      \n",
        "    print(a,i,j)  "
      ]
    },
    {
      "cell_type": "code",
      "source": [
        "a =-1\n",
        "staj = 6\n",
        "for i in range(10,0,-1):\n",
        "  for j in range(1,4):\n",
        "    a +=1\n",
        "    if a > staj:\n",
        "      \n",
        "      break\n",
        "    print(a,i,j)\n",
        "    "
      ],
      "metadata": {
        "colab": {
          "base_uri": "https://localhost:8080/"
        },
        "id": "unyQK9loNEMf",
        "outputId": "a950402d-1370-4736-f061-e1ebb0478e2b"
      },
      "execution_count": null,
      "outputs": [
        {
          "output_type": "stream",
          "name": "stdout",
          "text": [
            "0 10 1\n",
            "1 10 2\n",
            "2 10 3\n",
            "3 9 1\n",
            "4 9 2\n",
            "5 9 3\n",
            "6 8 1\n"
          ]
        }
      ]
    },
    {
      "cell_type": "code",
      "source": [
        "a =0\n",
        "staj = 6\n",
        "for i in range(15,0,-1):\n",
        "  for j in range(1,4):\n",
        "    \n",
        "    if a >= staj:\n",
        "     break\n",
        "    #print(a,i,j)\n",
        "    a +=1\n",
        "    print(a,i,j)      \n",
        "#print(a,i,j)"
      ],
      "metadata": {
        "colab": {
          "base_uri": "https://localhost:8080/"
        },
        "id": "3lQYEpq-LMY5",
        "outputId": "132655a7-8da3-4172-a7f1-54f86ec6cd73"
      },
      "execution_count": null,
      "outputs": [
        {
          "output_type": "stream",
          "name": "stdout",
          "text": [
            "1 15 1\n",
            "2 15 2\n",
            "3 15 3\n",
            "4 14 1\n",
            "5 14 2\n",
            "6 14 3\n"
          ]
        }
      ]
    }
  ]
}