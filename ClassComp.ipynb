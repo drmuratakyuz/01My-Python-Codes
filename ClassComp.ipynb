{
  "nbformat": 4,
  "nbformat_minor": 0,
  "metadata": {
    "colab": {
      "name": "ClassComp.ipynb",
      "provenance": [],
      "authorship_tag": "ABX9TyOgLHJ+eyB7DaxLWKNdBqqj",
      "include_colab_link": true
    },
    "kernelspec": {
      "name": "python3",
      "display_name": "Python 3"
    },
    "language_info": {
      "name": "python"
    }
  },
  "cells": [
    {
      "cell_type": "markdown",
      "metadata": {
        "id": "view-in-github",
        "colab_type": "text"
      },
      "source": [
        "<a href=\"https://colab.research.google.com/github/drmuratakyuz/01My-Python-Codes/blob/main/ClassComp.ipynb\" target=\"_parent\"><img src=\"https://colab.research.google.com/assets/colab-badge.svg\" alt=\"Open In Colab\"/></a>"
      ]
    },
    {
      "cell_type": "code",
      "execution_count": 1,
      "metadata": {
        "colab": {
          "base_uri": "https://localhost:8080/"
        },
        "id": "85a37mYe174W",
        "outputId": "623f8b50-7008-4042-ab0b-1987994ee8dc"
      },
      "outputs": [
        {
          "output_type": "stream",
          "name": "stdout",
          "text": [
            "The mobile is: Apple\n",
            "The RAM is: 2\n",
            "The storage is: 64\n",
            "The model is: iPhone X\n"
          ]
        }
      ],
      "source": [
        "class Computer():\n",
        "    def __init__(self, computer, ram, storage):\n",
        "        self.computer = computer\n",
        "        self.ram = ram\n",
        "        self.storage = storage\n",
        "\n",
        "# Class Mobile inherits Computer\n",
        "class Mobile(Computer):\n",
        "    def __init__(self, computer, ram, storage, model):\n",
        "        super().__init__(computer, ram, storage)\n",
        "        self.model = model\n",
        "\n",
        "Apple = Mobile('Apple', 2, 64, 'iPhone X')\n",
        "print('The mobile is:', Apple.computer)\n",
        "print('The RAM is:', Apple.ram)\n",
        "print('The storage is:', Apple.storage)\n",
        "print('The model is:', Apple.model)\n"
      ]
    }
  ]
}