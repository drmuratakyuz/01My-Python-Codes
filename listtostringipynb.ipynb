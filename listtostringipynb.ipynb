{
  "nbformat": 4,
  "nbformat_minor": 0,
  "metadata": {
    "colab": {
      "name": "listtostringipynb",
      "provenance": [],
      "authorship_tag": "ABX9TyM4RzSbaRx7brgfL+IuxfRh",
      "include_colab_link": true
    },
    "kernelspec": {
      "name": "python3",
      "display_name": "Python 3"
    },
    "language_info": {
      "name": "python"
    }
  },
  "cells": [
    {
      "cell_type": "markdown",
      "metadata": {
        "id": "view-in-github",
        "colab_type": "text"
      },
      "source": [
        "<a href=\"https://colab.research.google.com/github/drmuratakyuz/My-Python-Codes/blob/main/listtostringipynb.ipynb\" target=\"_parent\"><img src=\"https://colab.research.google.com/assets/colab-badge.svg\" alt=\"Open In Colab\"/></a>"
      ]
    },
    {
      "cell_type": "code",
      "execution_count": 10,
      "metadata": {
        "colab": {
          "base_uri": "https://localhost:8080/",
          "height": 130
        },
        "id": "-_jUiQ8hTsqm",
        "outputId": "ffd62657-54b9-443b-ed7c-bad6ccf7064d"
      },
      "outputs": [
        {
          "output_type": "error",
          "ename": "SyntaxError",
          "evalue": "ignored",
          "traceback": [
            "\u001b[0;36m  File \u001b[0;32m\"<ipython-input-10-c8fcb9adb297>\"\u001b[0;36m, line \u001b[0;32m17\u001b[0m\n\u001b[0;31m    \u001b[0m\n\u001b[0m    ^\u001b[0m\n\u001b[0;31mSyntaxError\u001b[0m\u001b[0;31m:\u001b[0m unexpected EOF while parsing\n"
          ]
        }
      ],
      "source": [
        "# from list to  string\n",
        "\n",
        "liste = [[1,'a',['cat'],2],[[[3]],'dog'],4,5]\n",
        "dizi = str(liste)\n",
        "# for i in str(liste):\n",
        "#     print(i)\n",
        "print(dizi)\n",
        "a = dizi.replace(\"[\", \"\")\n",
        "b = a.replace(\"[\", \"\")\n",
        "b = b.replace(\"]\", \"\")\n",
        "c = b.replace(\"]\", \"\")\n",
        "c = c.replace(\" \", \"\")\n",
        "print(c)\n",
        "'''\n",
        "for i in range(len(c)):\n",
        "  if i == c.isnum[i]:\n",
        "'''"
      ]
    },
    {
      "cell_type": "code",
      "source": [
        "# from list to  string\n",
        "def flatten(L):\n",
        "    \n",
        "    if len(L) == 1:\n",
        "        \n",
        "            if type(L[0]) == list:\n",
        "                \n",
        "                    result = flatten(L[0])\n",
        "                    \n",
        "            else:\n",
        "                \n",
        "                    result = L\n",
        "                \n",
        "    elif type(L[0]) == list:\n",
        "        \n",
        "            result = flatten(L[0]) + flatten(L[1:])\n",
        "            \n",
        "    else:\n",
        "        \n",
        "            result = [L[0]] + flatten(L[1:])\n",
        "        \n",
        "    return result\n",
        "\n",
        "print(flatten([[1,'a',['cat'],2],[[[3]],'dog'],4,5]))"
      ],
      "metadata": {
        "colab": {
          "base_uri": "https://localhost:8080/"
        },
        "id": "1Z3gcct2a0b-",
        "outputId": "1c56f348-23db-4ec3-8284-395c80312be0"
      },
      "execution_count": 11,
      "outputs": [
        {
          "output_type": "stream",
          "name": "stdout",
          "text": [
            "[1, 'a', 'cat', 2, 3, 'dog', 4, 5]\n"
          ]
        }
      ]
    }
  ]
}