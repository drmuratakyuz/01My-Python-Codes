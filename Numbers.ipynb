{
  "nbformat": 4,
  "nbformat_minor": 0,
  "metadata": {
    "colab": {
      "name": "Numbers.ipynb",
      "provenance": [],
      "collapsed_sections": [],
      "authorship_tag": "ABX9TyNCUHUmjjIQzIAxRoWQch84",
      "include_colab_link": true
    },
    "kernelspec": {
      "name": "python3",
      "display_name": "Python 3"
    },
    "language_info": {
      "name": "python"
    }
  },
  "cells": [
    {
      "cell_type": "markdown",
      "metadata": {
        "id": "view-in-github",
        "colab_type": "text"
      },
      "source": [
        "<a href=\"https://colab.research.google.com/github/drmuratakyuz/My-Python-Codes/blob/main/Numbers.ipynb\" target=\"_parent\"><img src=\"https://colab.research.google.com/assets/colab-badge.svg\" alt=\"Open In Colab\"/></a>"
      ]
    },
    {
      "cell_type": "code",
      "execution_count": 11,
      "metadata": {
        "colab": {
          "base_uri": "https://localhost:8080/"
        },
        "id": "24WAtcrgRdoB",
        "outputId": "6d0f619f-7e21-41fa-8ab5-0919e0b527f7"
      },
      "outputs": [
        {
          "output_type": "stream",
          "name": "stdout",
          "text": [
            "7\n"
          ]
        }
      ],
      "source": [
        "'''\n",
        "The integers 14 and 15, are contiguous (1 the difference between them, obvious) and have the same number of divisors.\n",
        "\n",
        "14 ----> 1, 2, 7, 14 (4 divisors)\n",
        "15 ----> 1, 3, 5, 15 (4 divisors)\n",
        "The next pair of contiguous integers with this property is 21 and 22.\n",
        "\n",
        "21 -----> 1, 3, 7, 21 (4 divisors)\n",
        "22 -----> 1, 2, 11, 22 (4 divisors)\n",
        "We have 8 pairs of integers below 50 having this property, they are:\n",
        "\n",
        "[[2, 3], [14, 15], [21, 22], [26, 27], [33, 34], [34, 35], [38, 39], [44, 45]]\n",
        "Let's see now the integers that have a difference of 3 between them. There are seven pairs below 100:\n",
        "\n",
        "\n",
        "'''\n",
        "def count_pairs_int(diff, n_max):\n",
        "    def bol(x):\n",
        "        return len([1 for i in range(1,x+1) if x % i == 0])\n",
        "    return len([a for a,b in [map(bol,[i, i+diff]) for i in range(2,n_max-diff+1)] if a==b])\n",
        "print(count_pairs_int(3,100))"
      ]
    }
  ]
}