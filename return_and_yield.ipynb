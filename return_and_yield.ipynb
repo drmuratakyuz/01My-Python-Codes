{
  "nbformat": 4,
  "nbformat_minor": 0,
  "metadata": {
    "colab": {
      "name": "return_and_yield.ipynb",
      "provenance": [],
      "authorship_tag": "ABX9TyPZzFBENJ7AIxLCnoLBrU3b",
      "include_colab_link": true
    },
    "kernelspec": {
      "name": "python3",
      "display_name": "Python 3"
    },
    "language_info": {
      "name": "python"
    }
  },
  "cells": [
    {
      "cell_type": "markdown",
      "metadata": {
        "id": "view-in-github",
        "colab_type": "text"
      },
      "source": [
        "<a href=\"https://colab.research.google.com/github/drmuratakyuz/My-Python-Codes/blob/main/return_and_yield.ipynb\" target=\"_parent\"><img src=\"https://colab.research.google.com/assets/colab-badge.svg\" alt=\"Open In Colab\"/></a>"
      ]
    },
    {
      "cell_type": "code",
      "execution_count": 1,
      "metadata": {
        "colab": {
          "base_uri": "https://localhost:8080/"
        },
        "id": "n936FwOpr-2O",
        "outputId": "1be2c21e-2609-4f6e-c424-dfecbc5874c2"
      },
      "outputs": [
        {
          "output_type": "stream",
          "name": "stdout",
          "text": [
            "0\n"
          ]
        }
      ],
      "source": [
        "def num (n: int) -> int:\n",
        "  for i in range (n):\n",
        "    return i\n",
        "\n",
        "# returns a value and ends function\n",
        "print(num(5))\n",
        "\n",
        "#output\n"
      ]
    },
    {
      "cell_type": "code",
      "source": [
        "def num (n: int) -> int:\n",
        "  for i in range (n):\n",
        "    yield i\n",
        "# Creating a generator\n",
        "gen = num(5) \n",
        "\n",
        "# unpackaging the generator\n",
        "for i in gen:\n",
        "    print(i, end=' ')\n",
        "#output"
      ],
      "metadata": {
        "colab": {
          "base_uri": "https://localhost:8080/"
        },
        "id": "RODNHIH1snnC",
        "outputId": "d25f9221-a2de-46a2-f7d5-bdd85b916db8"
      },
      "execution_count": 2,
      "outputs": [
        {
          "output_type": "stream",
          "name": "stdout",
          "text": [
            "0 1 2 3 4 "
          ]
        }
      ]
    }
  ]
}