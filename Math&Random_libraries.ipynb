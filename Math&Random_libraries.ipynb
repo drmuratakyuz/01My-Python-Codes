{
  "nbformat": 4,
  "nbformat_minor": 0,
  "metadata": {
    "colab": {
      "name": "Math&Random_libraries.ipynb",
      "provenance": [],
      "authorship_tag": "ABX9TyMLi8dYuc46ukPezAFTAkOQ",
      "include_colab_link": true
    },
    "kernelspec": {
      "name": "python3",
      "display_name": "Python 3"
    },
    "language_info": {
      "name": "python"
    }
  },
  "cells": [
    {
      "cell_type": "markdown",
      "metadata": {
        "id": "view-in-github",
        "colab_type": "text"
      },
      "source": [
        "<a href=\"https://colab.research.google.com/github/drmuratakyuz/My-Python-Codes/blob/main/Math%26Random_libraries.ipynb\" target=\"_parent\"><img src=\"https://colab.research.google.com/assets/colab-badge.svg\" alt=\"Open In Colab\"/></a>"
      ]
    },
    {
      "cell_type": "code",
      "source": [
        "import math\n",
        "print(dir(math))"
      ],
      "metadata": {
        "colab": {
          "base_uri": "https://localhost:8080/"
        },
        "id": "-TR_LzMaRYIk",
        "outputId": "57b4e6b4-291f-4aab-8ed5-b3a89452c7d5"
      },
      "execution_count": 24,
      "outputs": [
        {
          "output_type": "stream",
          "name": "stdout",
          "text": [
            "['__doc__', '__loader__', '__name__', '__package__', '__spec__', 'acos', 'acosh', 'asin', 'asinh', 'atan', 'atan2', 'atanh', 'ceil', 'copysign', 'cos', 'cosh', 'degrees', 'e', 'erf', 'erfc', 'exp', 'expm1', 'fabs', 'factorial', 'floor', 'fmod', 'frexp', 'fsum', 'gamma', 'gcd', 'hypot', 'inf', 'isclose', 'isfinite', 'isinf', 'isnan', 'ldexp', 'lgamma', 'log', 'log10', 'log1p', 'log2', 'modf', 'nan', 'pi', 'pow', 'radians', 'remainder', 'sin', 'sinh', 'sqrt', 'tan', 'tanh', 'tau', 'trunc']\n"
          ]
        }
      ]
    },
    {
      "cell_type": "code",
      "source": [
        "import random\n",
        "print(dir(random))\n"
      ],
      "metadata": {
        "colab": {
          "base_uri": "https://localhost:8080/"
        },
        "id": "G1NXFAPURKye",
        "outputId": "31ffbe5a-2428-4296-e773-120cb7272677"
      },
      "execution_count": 23,
      "outputs": [
        {
          "output_type": "stream",
          "name": "stdout",
          "text": [
            "['BPF', 'LOG4', 'NV_MAGICCONST', 'RECIP_BPF', 'Random', 'SG_MAGICCONST', 'SystemRandom', 'TWOPI', '_BuiltinMethodType', '_MethodType', '_Sequence', '_Set', '__all__', '__builtins__', '__cached__', '__doc__', '__file__', '__loader__', '__name__', '__package__', '__spec__', '_acos', '_bisect', '_ceil', '_cos', '_e', '_exp', '_inst', '_itertools', '_log', '_os', '_pi', '_random', '_sha512', '_sin', '_sqrt', '_test', '_test_generator', '_urandom', '_warn', 'betavariate', 'choice', 'choices', 'expovariate', 'gammavariate', 'gauss', 'getrandbits', 'getstate', 'lognormvariate', 'normalvariate', 'paretovariate', 'randint', 'random', 'randrange', 'sample', 'seed', 'setstate', 'shuffle', 'triangular', 'uniform', 'vonmisesvariate', 'weibullvariate']\n"
          ]
        }
      ]
    },
    {
      "cell_type": "code",
      "execution_count": 5,
      "metadata": {
        "id": "px73O25OIym2",
        "colab": {
          "base_uri": "https://localhost:8080/"
        },
        "outputId": "389bcc32-91ed-487e-b758-474f73c16fa4"
      },
      "outputs": [
        {
          "output_type": "stream",
          "name": "stdout",
          "text": [
            "50.26548245743669\n"
          ]
        }
      ],
      "source": [
        "# area of circle\n",
        "import math\n",
        "radius=4\n",
        "area=math.pi*(math.pow(radius,2))\n",
        "print(area)"
      ]
    },
    {
      "cell_type": "code",
      "source": [
        "# power and factorial of numbers\n",
        "import math\n",
        "pow=math.pow(5,2)\n",
        "fact=math.factorial(4)\n",
        "cosinus=math.cos(120)\n",
        "square=math.sqrt(81)\n",
        "print(pow)\n",
        "print(fact)\n",
        "print(cosinus)\n",
        "print(square)"
      ],
      "metadata": {
        "colab": {
          "base_uri": "https://localhost:8080/"
        },
        "id": "ub7FD9fcPS7E",
        "outputId": "8d73c13c-d37c-4f80-859b-9f0c54643b75"
      },
      "execution_count": 6,
      "outputs": [
        {
          "output_type": "stream",
          "name": "stdout",
          "text": [
            "25.0\n",
            "24\n",
            "0.8141809705265618\n",
            "9.0\n"
          ]
        }
      ]
    },
    {
      "cell_type": "code",
      "source": [
        "# getting a  random number\n",
        "import random\n",
        "a=random.random()\n",
        "print(a)\n",
        "a = int(a*10)\n",
        "print(a)\n"
      ],
      "metadata": {
        "colab": {
          "base_uri": "https://localhost:8080/"
        },
        "id": "3ePWB3H7Prza",
        "outputId": "a3a351d4-92e0-42da-d41b-e27aa68dc2a1"
      },
      "execution_count": 15,
      "outputs": [
        {
          "output_type": "stream",
          "name": "stdout",
          "text": [
            "0.5949550528614003\n",
            "5\n"
          ]
        }
      ]
    },
    {
      "cell_type": "code",
      "source": [
        "# getting a random number between 1-10\n",
        "import random\n",
        "num=random.randint(1, 10)\n",
        "print(num)"
      ],
      "metadata": {
        "colab": {
          "base_uri": "https://localhost:8080/"
        },
        "id": "q0DP-2r7QJZE",
        "outputId": "b80f4ac1-e303-4666-d729-72a977e92fcd"
      },
      "execution_count": 16,
      "outputs": [
        {
          "output_type": "stream",
          "name": "stdout",
          "text": [
            "9\n"
          ]
        }
      ]
    },
    {
      "cell_type": "code",
      "source": [
        "# getting a random number between 10-100\n",
        "import random\n",
        "num=random.randint(10, 100)\n",
        "print(num)"
      ],
      "metadata": {
        "colab": {
          "base_uri": "https://localhost:8080/"
        },
        "id": "NLu8TwvDQUu2",
        "outputId": "3848b72c-4ea1-4385-8655-6c1f485cd2f0"
      },
      "execution_count": 18,
      "outputs": [
        {
          "output_type": "stream",
          "name": "stdout",
          "text": [
            "38\n"
          ]
        }
      ]
    },
    {
      "cell_type": "code",
      "source": [
        "# getting a random with randrange\n",
        "import random\n",
        "num=random.randrange(10, 20)\n",
        "print(num)"
      ],
      "metadata": {
        "colab": {
          "base_uri": "https://localhost:8080/"
        },
        "id": "Zzc6Va4WQc5P",
        "outputId": "d491b109-8a51-4df9-8777-10af7ecd9b65"
      },
      "execution_count": 22,
      "outputs": [
        {
          "output_type": "stream",
          "name": "stdout",
          "text": [
            "12\n"
          ]
        }
      ]
    },
    {
      "cell_type": "code",
      "source": [
        "# getting a random float number between 10-20\n",
        "import random\n",
        "num=random.randrange(10, 20)\n",
        "print(num)"
      ],
      "metadata": {
        "id": "NUVbgKZ7RCmC"
      },
      "execution_count": null,
      "outputs": []
    },
    {
      "cell_type": "code",
      "source": [
        "# random selecting\n",
        "import random\n",
        "flowers = ['rose', 'clove', 'daisy','begonia','violet']\n",
        "print(random.choice(flowers))#1. random selecting\n",
        "print(random.choice(flowers))#2. random selecting\n",
        "print(random.choice(flowers))#3. random selecting"
      ],
      "metadata": {
        "colab": {
          "base_uri": "https://localhost:8080/"
        },
        "id": "VJw7HwdnRCnS",
        "outputId": "77e82e13-a171-480b-983c-8695c6d1a55a"
      },
      "execution_count": 30,
      "outputs": [
        {
          "output_type": "stream",
          "name": "stdout",
          "text": [
            "begonia\n",
            "daisy\n",
            "violet\n"
          ]
        }
      ]
    },
    {
      "cell_type": "code",
      "source": [
        "# backgammon dice\n",
        "import random\n",
        "dice = ['bir', 'iki', 'üç','dört','beş','altı']\n",
        "print(random.choice(dice))\n",
        "print(random.choice(dice))\n"
      ],
      "metadata": {
        "colab": {
          "base_uri": "https://localhost:8080/"
        },
        "id": "eLjzUlVfShYU",
        "outputId": "2d140a6e-d34a-409d-94bd-d433de4ff54f"
      },
      "execution_count": 70,
      "outputs": [
        {
          "output_type": "stream",
          "name": "stdout",
          "text": [
            "dört\n",
            "üç\n"
          ]
        }
      ]
    },
    {
      "cell_type": "code",
      "source": [
        "# backgammon \n",
        "#def tavlazari():\n",
        "import random\n",
        "num = ['yek', 'du', 'se','çar','penc-u','şeş-u']\n",
        "zar1 =random.choice(num)\n",
        "zar2 = random.choice(num)\n",
        "if zar1 == num[5] or zar2 == num[5] and zar1 == num[0] or zar2 == num[0]:\n",
        "  print(\"6-1: Şeş-u yek\")\n",
        "elif zar1 == num[4] or zar2 == num[4] and zar1 == num[0] or zar2 == num[0]:\n",
        "  print(\"5-1: Penc-u yek\")\n",
        "elif zar1 == num[3] or zar2 == num[3] and zar1 == num[0] or zar2 == num[0]:\n",
        "  print(\"4-1: Şeş-u yek\")\n",
        "elif zar1 == num[2] or zar2 == num[2] and zar1 == num[0] or zar2 == num[0]:\n",
        "  print(\"3-1: Se-yu yek\")\n",
        "elif zar1 == num[1] or zar2 == num[1] and zar1 == num[0] or zar2 == num[0]:\n",
        "  print(\"2-1: Du-yu yek\")\n",
        "# \n",
        "elif zar1 == num[5] or zar2 == num[5] and zar1 == num[1] or zar2 == num[1]:\n",
        "  print(\"6-1: Şeş-u du\")\n",
        "elif zar1 == num[4] or zar2 == num[4] and zar1 == num[1] or zar2 == num[1]:\n",
        "  print(\"5-1: Penc-u du\")\n",
        "elif zar1 == num[3] or zar2 == num[3] and zar1 == num[1] or zar2 == num[1]:\n",
        "  print(\"4-1: Şeş-u du\")\n",
        "elif zar1 == num[2] or zar2 == num[2] and zar1 == num[1] or zar2 == num[1]:\n",
        "  print(\"3-1: Se-yu du\")\n",
        "elif zar1 == num[1] or zar2 == num[1] and zar1 == num[1] or zar2 == num[1]:\n",
        "  print(\"2-1: Du-yu du\")\n",
        "#\n",
        "elif zar1 == num[5] or zar2 == num[5] and zar1 == num[2] or zar2 == num[2]:\n",
        "  print(\"6-1: Şeş-u se\")\n",
        "elif zar1 == num[4] or zar2 == num[4] and zar1 == num[2] or zar2 == num[2]:\n",
        "  print(\"5-1: Penc-u se\")\n",
        "elif zar1 == num[3] or zar2 == num[3] and zar1 == num[2] or zar2 == num[2]:\n",
        "  print(\"4-1: Şeş-u se\")\n",
        "elif zar1 == num[2] or zar2 == num[2] and zar1 == num[2] or zar2 == num[2]:\n",
        "  print(\"3-1: Se-yu se\")\n",
        "elif zar1 == num[1] or zar2 == num[1] and zar1 == num[2] or zar2 == num[2]:\n",
        "  print(\"2-1: Du-yu se\")\n",
        "#\n",
        "elif zar1 == num[5] or zar2 == num[5] and zar1 == num[3] or zar2 == num[3]:\n",
        "  print(\"6-1: Şeş-u çar\")\n",
        "elif zar1 == num[4] or zar2 == num[4] and zar1 == num[3] or zar2 == num[3]:\n",
        "  print(\"5-1: Penc-u çar\")\n",
        "elif zar1 == num[3] or zar2 == num[3] and zar1 == num[3] or zar2 == num[3]:\n",
        "  print(\"4-1: Şeş-u çar\")\n",
        "elif zar1 == num[2] or zar2 == num[2] and zar1 == num[3] or zar2 == num[3]:\n",
        "  print(\"3-1: Se-yu çar\")\n",
        "elif zar1 == num[1] or zar2 == num[1] and zar1 == num[3] or zar2 == num[3]:\n",
        "  print(\"2-1: Du-yu çar\")\n",
        "#\n",
        "elif zar1 == num[5] or zar2 == num[5] and zar1 == num[4] or zar2 == num[4]:\n",
        "  print(\"6-1: Şeş-u penc\")\n",
        "elif zar1 == num[4] or zar2 == num[4] and zar1 == num[4] or zar2 == num[4]:\n",
        "  print(\"5-1: Penc-u penc\")\n",
        "elif zar1 == num[3] or zar2 == num[3] and zar1 == num[4] or zar2 == num[4]:\n",
        "  print(\"4-1: Şeş-u penc\")\n",
        "elif zar1 == num[2] or zar2 == num[2] and zar1 == num[4] or zar2 == num[4]:\n",
        "  print(\"3-1: Se-yu penc\")\n",
        "elif zar1 == num[1] or zar2 == num[1] and zar1 == num[4] or zar2 == num[4]:\n",
        "  print(\"2-1: Du-yu penc\")\n",
        "#\n",
        "elif zar1 == zar2 == num[5]:\n",
        "  print(\"6-1: Du-şeş\")\n",
        "elif zar1 == zar2 == num[4]:\n",
        "  print(\"6-1: Du-penc\")\n",
        "elif zar1 == zar2 == num[3]:\n",
        "  print(\"6-1: Du-çar\")\n",
        "elif zar1 == zar2 == num[2]:\n",
        "  print(\"6-1: Du-se\")\n",
        "elif zar1 == zar2 == num[1]:\n",
        " print(\"6-1: Dubara\")\n",
        "else:\n",
        "  #zar1 == zar2 == num[0]:\n",
        "  print(\"6-1: Hep yek\")"
      ],
      "metadata": {
        "colab": {
          "base_uri": "https://localhost:8080/"
        },
        "id": "Z3fWgLHpTFuQ",
        "outputId": "1f85b6a0-7cbe-4e7d-cf41-787d8ea0a779"
      },
      "execution_count": 48,
      "outputs": [
        {
          "output_type": "stream",
          "name": "stdout",
          "text": [
            "5-1: Penc-u yek\n"
          ]
        }
      ]
    },
    {
      "cell_type": "code",
      "source": [
        "# backgammon dice\n",
        "def tavla_zari():\n",
        "  import random\n",
        "  num = ['yek', 'du', 'se','çar','penc-u','şeş-u']\n",
        "  zar1 =random.choice(num)\n",
        "  zar2 = random.choice(num)\n",
        "  if zar1 == num[5] or zar2 == num[5] and zar1 == num[0] or zar2 == num[0]:\n",
        "    print(\"6-1: Şeş-u yek\")\n",
        "  elif zar1 == num[4] or zar2 == num[4] and zar1 == num[0] or zar2 == num[0]:\n",
        "    print(\"5-1: Penc-u yek\")\n",
        "  elif zar1 == num[3] or zar2 == num[3] and zar1 == num[0] or zar2 == num[0]:\n",
        "    print(\"4-1: Şeş-u yek\")\n",
        "  elif zar1 == num[2] or zar2 == num[2] and zar1 == num[0] or zar2 == num[0]:\n",
        "    print(\"3-1: Se-yu yek\")\n",
        "  elif zar1 == num[1] or zar2 == num[1] and zar1 == num[0] or zar2 == num[0]:\n",
        "    print(\"2-1: Du-yu yek\")\n",
        "  # \n",
        "  elif zar1 == num[5] or zar2 == num[5] and zar1 == num[1] or zar2 == num[1]:\n",
        "    print(\"6-1: Şeş-u du\")\n",
        "  elif zar1 == num[4] or zar2 == num[4] and zar1 == num[1] or zar2 == num[1]:\n",
        "    print(\"5-1: Penc-u du\")\n",
        "  elif zar1 == num[3] or zar2 == num[3] and zar1 == num[1] or zar2 == num[1]:\n",
        "    print(\"4-1: Şeş-u du\")\n",
        "  elif zar1 == num[2] or zar2 == num[2] and zar1 == num[1] or zar2 == num[1]:\n",
        "    print(\"3-1: Se-yu du\")\n",
        "  elif zar1 == num[1] or zar2 == num[1] and zar1 == num[1] or zar2 == num[1]:\n",
        "    print(\"2-1: Du-yu du\")\n",
        "  #\n",
        "  elif zar1 == num[5] or zar2 == num[5] and zar1 == num[2] or zar2 == num[2]:\n",
        "    print(\"6-1: Şeş-u se\")\n",
        "  elif zar1 == num[4] or zar2 == num[4] and zar1 == num[2] or zar2 == num[2]:\n",
        "    print(\"5-1: Penc-u se\")\n",
        "  elif zar1 == num[3] or zar2 == num[3] and zar1 == num[2] or zar2 == num[2]:\n",
        "    print(\"4-1: Şeş-u se\")\n",
        "  elif zar1 == num[2] or zar2 == num[2] and zar1 == num[2] or zar2 == num[2]:\n",
        "    print(\"3-1: Se-yu se\")\n",
        "  elif zar1 == num[1] or zar2 == num[1] and zar1 == num[2] or zar2 == num[2]:\n",
        "    print(\"2-1: Du-yu se\")\n",
        "  #\n",
        "  elif zar1 == num[5] or zar2 == num[5] and zar1 == num[3] or zar2 == num[3]:\n",
        "    print(\"6-1: Şeş-u çar\")\n",
        "  elif zar1 == num[4] or zar2 == num[4] and zar1 == num[3] or zar2 == num[3]:\n",
        "    print(\"5-1: Penc-u çar\")\n",
        "  elif zar1 == num[3] or zar2 == num[3] and zar1 == num[3] or zar2 == num[3]:\n",
        "    print(\"4-1: Şeş-u çar\")\n",
        "  elif zar1 == num[2] or zar2 == num[2] and zar1 == num[3] or zar2 == num[3]:\n",
        "    print(\"3-1: Se-yu çar\")\n",
        "  elif zar1 == num[1] or zar2 == num[1] and zar1 == num[3] or zar2 == num[3]:\n",
        "    print(\"2-1: Du-yu çar\")\n",
        "  #\n",
        "  elif zar1 == num[5] or zar2 == num[5] and zar1 == num[4] or zar2 == num[4]:\n",
        "    print(\"6-1: Şeş-u penc\")\n",
        "  elif zar1 == num[4] or zar2 == num[4] and zar1 == num[4] or zar2 == num[4]:\n",
        "    print(\"5-1: Penc-u penc\")\n",
        "  elif zar1 == num[3] or zar2 == num[3] and zar1 == num[4] or zar2 == num[4]:\n",
        "    print(\"4-1: Şeş-u penc\")\n",
        "  elif zar1 == num[2] or zar2 == num[2] and zar1 == num[4] or zar2 == num[4]:\n",
        "    print(\"3-1: Se-yu penc\")\n",
        "  elif zar1 == num[1] or zar2 == num[1] and zar1 == num[4] or zar2 == num[4]:\n",
        "    print(\"2-1: Du-yu penc\")\n",
        "  #\n",
        "  elif zar1 == zar2 == num[5]:\n",
        "    print(\"6-1: Du-şeş\")\n",
        "  elif zar1 == zar2 == num[4]:\n",
        "    print(\"6-1: Du-penc\")\n",
        "  elif zar1 == zar2 == num[3]:\n",
        "    print(\"6-1: Du-çar\")\n",
        "  elif zar1 == zar2 == num[2]:\n",
        "    print(\"6-1: Du-se\")\n",
        "  elif zar1 == zar2 == num[1]:\n",
        "    print(\"6-1: Dubara\")\n",
        "  else:\n",
        "    #zar1 == zar2 == num[0]:\n",
        "    print(\"6-1: Hep yek\")\n",
        "\n",
        "tavla_zari()"
      ],
      "metadata": {
        "colab": {
          "base_uri": "https://localhost:8080/"
        },
        "id": "P4EpYqlfYJ3U",
        "outputId": "1f5865fe-5653-4f65-c372-4ebc194817af"
      },
      "execution_count": 49,
      "outputs": [
        {
          "output_type": "stream",
          "name": "stdout",
          "text": [
            "3-1: Se-yu yek\n"
          ]
        }
      ]
    },
    {
      "cell_type": "code",
      "source": [
        ""
      ],
      "metadata": {
        "id": "uAMDH6iUTFvg"
      },
      "execution_count": null,
      "outputs": []
    }
  ]
}