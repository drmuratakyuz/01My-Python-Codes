{
  "nbformat": 4,
  "nbformat_minor": 0,
  "metadata": {
    "colab": {
      "name": "startswithandendswiths.ipynb",
      "provenance": [],
      "authorship_tag": "ABX9TyOi3JBArSUEThHnUCIOmrPL",
      "include_colab_link": true
    },
    "kernelspec": {
      "name": "python3",
      "display_name": "Python 3"
    },
    "language_info": {
      "name": "python"
    }
  },
  "cells": [
    {
      "cell_type": "markdown",
      "metadata": {
        "id": "view-in-github",
        "colab_type": "text"
      },
      "source": [
        "<a href=\"https://colab.research.google.com/github/drmuratakyuz/My-Python-Codes/blob/main/startswithandendswiths.ipynb\" target=\"_parent\"><img src=\"https://colab.research.google.com/assets/colab-badge.svg\" alt=\"Open In Colab\"/></a>"
      ]
    },
    {
      "cell_type": "code",
      "execution_count": 4,
      "metadata": {
        "id": "o5cUcEdVzux8",
        "colab": {
          "base_uri": "https://localhost:8080/"
        },
        "outputId": "9a130e54-b6aa-43ed-98e5-5939d70634f6"
      },
      "outputs": [
        {
          "output_type": "stream",
          "name": "stdout",
          "text": [
            "['apple', 'apricot']\n"
          ]
        }
      ],
      "source": [
        "a = ['lemon', 'orange', 'plum', 'apple', 'apricot', 'chery','pear']\n",
        "list1 = [i for i in a if i.startswith('a')]\n",
        "print(list1)"
      ]
    },
    {
      "cell_type": "code",
      "source": [
        "a = ['lemon', 'orange', 'plum', 'apple', 'apricot', 'chery','pear']\n",
        "list1 = [i for i in a if i.endswith('e')]\n",
        "print(list1)"
      ],
      "metadata": {
        "colab": {
          "base_uri": "https://localhost:8080/"
        },
        "id": "5TQTzQLGWQnh",
        "outputId": "f38b663d-69df-4501-9e38-3b83fd1d87d6"
      },
      "execution_count": 13,
      "outputs": [
        {
          "output_type": "stream",
          "name": "stdout",
          "text": [
            "['orange', 'apple']\n"
          ]
        }
      ]
    },
    {
      "cell_type": "code",
      "source": [
        "a = ['123','23','12','45','1231','34','67','127']\n",
        "list1 = [i for i in a if i.startswith('1')]\n",
        "print(list1)"
      ],
      "metadata": {
        "colab": {
          "base_uri": "https://localhost:8080/"
        },
        "id": "K3dJ-RkGVee_",
        "outputId": "9f980a1d-99bf-4440-819e-a412397b54a3"
      },
      "execution_count": 11,
      "outputs": [
        {
          "output_type": "stream",
          "name": "stdout",
          "text": [
            "['123', '12', '1231', '127']\n"
          ]
        }
      ]
    }
  ]
}