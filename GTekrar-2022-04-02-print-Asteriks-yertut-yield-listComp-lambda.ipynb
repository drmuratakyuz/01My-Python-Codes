{
 "cells": [
  {
   "cell_type": "markdown",
   "id": "7a080cb3",
   "metadata": {},
   "source": [
    "# list() yazdırma"
   ]
  },
  {
   "cell_type": "code",
   "execution_count": 35,
   "id": "702492e7",
   "metadata": {},
   "outputs": [],
   "source": [
    "liste = [11, 45, 8, 11, 23, 45, 23, 45, 89]"
   ]
  },
  {
   "cell_type": "code",
   "execution_count": 36,
   "id": "d0c2e4ae",
   "metadata": {},
   "outputs": [
    {
     "name": "stdout",
     "output_type": "stream",
     "text": [
      "[11, 45, 8, 11, 23, 45, 23, 45, 89]\n"
     ]
    }
   ],
   "source": [
    "print(liste)"
   ]
  },
  {
   "cell_type": "markdown",
   "id": "c9e68773",
   "metadata": {},
   "source": [
    "## *"
   ]
  },
  {
   "cell_type": "code",
   "execution_count": 125,
   "id": "5ee901e8",
   "metadata": {},
   "outputs": [
    {
     "ename": "SyntaxError",
     "evalue": "can't use starred expression here (Temp/ipykernel_13652/102785490.py, line 1)",
     "output_type": "error",
     "traceback": [
      "\u001b[1;36m  File \u001b[1;32m\"C:\\Users\\acer\\AppData\\Local\\Temp/ipykernel_13652/102785490.py\"\u001b[1;36m, line \u001b[1;32m1\u001b[0m\n\u001b[1;33m    *liste\u001b[0m\n\u001b[1;37m    ^\u001b[0m\n\u001b[1;31mSyntaxError\u001b[0m\u001b[1;31m:\u001b[0m can't use starred expression here\n"
     ]
    }
   ],
   "source": [
    "*liste"
   ]
  },
  {
   "cell_type": "code",
   "execution_count": 41,
   "id": "a456c957",
   "metadata": {},
   "outputs": [
    {
     "name": "stdout",
     "output_type": "stream",
     "text": [
      "11 45 8 11 23 45 23 45 89\n"
     ]
    }
   ],
   "source": [
    "print(*liste)"
   ]
  },
  {
   "cell_type": "code",
   "execution_count": 42,
   "id": "071316b1",
   "metadata": {},
   "outputs": [
    {
     "name": "stdout",
     "output_type": "stream",
     "text": [
      "11 45 8 11 23 45 23 45 89\n"
     ]
    }
   ],
   "source": [
    "print(11, 45, 8, 11, 23, 45, 23, 45, 89)"
   ]
  },
  {
   "cell_type": "code",
   "execution_count": 123,
   "id": "ccc00234",
   "metadata": {},
   "outputs": [
    {
     "ename": "SyntaxError",
     "evalue": "can't use starred expression here (Temp/ipykernel_13652/2969166982.py, line 1)",
     "output_type": "error",
     "traceback": [
      "\u001b[1;36m  File \u001b[1;32m\"C:\\Users\\acer\\AppData\\Local\\Temp/ipykernel_13652/2969166982.py\"\u001b[1;36m, line \u001b[1;32m1\u001b[0m\n\u001b[1;33m    *'deneme'\u001b[0m\n\u001b[1;37m    ^\u001b[0m\n\u001b[1;31mSyntaxError\u001b[0m\u001b[1;31m:\u001b[0m can't use starred expression here\n"
     ]
    }
   ],
   "source": [
    "*'deneme'"
   ]
  },
  {
   "cell_type": "code",
   "execution_count": 124,
   "id": "9f8beb5a",
   "metadata": {},
   "outputs": [
    {
     "data": {
      "text/plain": [
       "['d', 'e', 'n', 'e', 'm', 'e']"
      ]
     },
     "execution_count": 124,
     "metadata": {},
     "output_type": "execute_result"
    }
   ],
   "source": [
    "list3 = [*'deneme']\n",
    "list3"
   ]
  },
  {
   "cell_type": "code",
   "execution_count": null,
   "id": "ac3d0198",
   "metadata": {},
   "outputs": [],
   "source": []
  },
  {
   "cell_type": "code",
   "execution_count": 49,
   "id": "67738e9a",
   "metadata": {},
   "outputs": [
    {
     "name": "stdout",
     "output_type": "stream",
     "text": [
      "11\t45\t8\t11\t23\t45\t23\t45\t89\n"
     ]
    }
   ],
   "source": [
    "print(*liste, sep='\\t')"
   ]
  },
  {
   "cell_type": "code",
   "execution_count": 51,
   "id": "c8158120",
   "metadata": {},
   "outputs": [
    {
     "name": "stdout",
     "output_type": "stream",
     "text": [
      "11 + 45 + 8 + 11 + 23 + 45 + 23 + 45 + 89\n"
     ]
    }
   ],
   "source": [
    "print(*liste, sep=' + ')"
   ]
  },
  {
   "cell_type": "code",
   "execution_count": null,
   "id": "630caae4",
   "metadata": {},
   "outputs": [],
   "source": [
    "liste = [11, 45, 8, 11, 23, 45, 23, 45, 89]"
   ]
  },
  {
   "cell_type": "code",
   "execution_count": null,
   "id": "d34ff19c",
   "metadata": {},
   "outputs": [],
   "source": []
  },
  {
   "cell_type": "markdown",
   "id": "517f896b",
   "metadata": {},
   "source": [
    "# split()"
   ]
  },
  {
   "cell_type": "code",
   "execution_count": 53,
   "id": "004fad1f",
   "metadata": {},
   "outputs": [
    {
     "data": {
      "text/plain": [
       "['d', 'e', 'n', 'e', 'm', 'e']"
      ]
     },
     "execution_count": 53,
     "metadata": {},
     "output_type": "execute_result"
    }
   ],
   "source": [
    "list1 = 'd e n e m e'.split()  #  (' ')\n",
    "list1"
   ]
  },
  {
   "cell_type": "code",
   "execution_count": 64,
   "id": "497c6d8f",
   "metadata": {},
   "outputs": [
    {
     "data": {
      "text/plain": [
       "['d', 'e n e m', 'e']"
      ]
     },
     "execution_count": 64,
     "metadata": {},
     "output_type": "execute_result"
    }
   ],
   "source": [
    "list1 = 'd+e n e m+e'.split('+')  #  (' ')\n",
    "list1"
   ]
  },
  {
   "cell_type": "code",
   "execution_count": 65,
   "id": "42177b70",
   "metadata": {},
   "outputs": [
    {
     "data": {
      "text/plain": [
       "['de n', 'e me']"
      ]
     },
     "execution_count": 65,
     "metadata": {},
     "output_type": "execute_result"
    }
   ],
   "source": [
    "list1 = 'de n4e me'.split('4')  #  (' ')\n",
    "list1"
   ]
  },
  {
   "cell_type": "markdown",
   "id": "6d22212b",
   "metadata": {},
   "source": [
    "# ''.join(iterable)  # 'arası',  (iterable-string)"
   ]
  },
  {
   "cell_type": "code",
   "execution_count": 55,
   "id": "99c68139",
   "metadata": {},
   "outputs": [
    {
     "data": {
      "text/plain": [
       "'d e n e m e'"
      ]
     },
     "execution_count": 55,
     "metadata": {},
     "output_type": "execute_result"
    }
   ],
   "source": [
    "ilk_hali = ' '.join(list1)\n",
    "ilk_hali"
   ]
  },
  {
   "cell_type": "code",
   "execution_count": null,
   "id": "2817f4c1",
   "metadata": {},
   "outputs": [],
   "source": [
    "liste = [11, 45, 8, 11, 23, 45, 23, 45, 89]"
   ]
  },
  {
   "cell_type": "code",
   "execution_count": null,
   "id": "b4f1a66f",
   "metadata": {},
   "outputs": [],
   "source": []
  },
  {
   "cell_type": "markdown",
   "id": "9f638b68",
   "metadata": {},
   "source": [
    "## 3"
   ]
  },
  {
   "cell_type": "code",
   "execution_count": 60,
   "id": "72212bda",
   "metadata": {},
   "outputs": [],
   "source": [
    "liste = [11, 45, 8, 11, 23, 45, 23, 45, 89]"
   ]
  },
  {
   "cell_type": "code",
   "execution_count": 62,
   "id": "ab4c120a",
   "metadata": {},
   "outputs": [
    {
     "name": "stdout",
     "output_type": "stream",
     "text": [
      "11\n",
      "45\n",
      "8\n",
      "11\n",
      "23\n",
      "45\n",
      "23\n",
      "45\n",
      "89\n"
     ]
    }
   ],
   "source": [
    "for i in range(len(liste)):\n",
    "    print(liste[i])"
   ]
  },
  {
   "cell_type": "code",
   "execution_count": 63,
   "id": "a89a4ecf",
   "metadata": {},
   "outputs": [
    {
     "name": "stdout",
     "output_type": "stream",
     "text": [
      "11\n",
      "45\n",
      "8\n",
      "11\n",
      "23\n",
      "45\n",
      "23\n",
      "45\n",
      "89\n"
     ]
    }
   ],
   "source": [
    "print(*liste, sep='\\n')"
   ]
  },
  {
   "cell_type": "code",
   "execution_count": null,
   "id": "1d522369",
   "metadata": {},
   "outputs": [],
   "source": []
  },
  {
   "cell_type": "code",
   "execution_count": 92,
   "id": "683f76f9",
   "metadata": {},
   "outputs": [
    {
     "name": "stdout",
     "output_type": "stream",
     "text": [
      "11\t45\t8\n"
     ]
    }
   ],
   "source": [
    "liste = ['11', '45', '8']\n",
    "\n",
    "print('\\t'.join(liste))"
   ]
  },
  {
   "cell_type": "code",
   "execution_count": 93,
   "id": "bbff8dca",
   "metadata": {},
   "outputs": [
    {
     "name": "stdout",
     "output_type": "stream",
     "text": [
      "11\n",
      "45\n",
      "8\n"
     ]
    }
   ],
   "source": [
    "liste = ['11', '45', '8']\n",
    "\n",
    "print('\\n'.join(liste))"
   ]
  },
  {
   "cell_type": "code",
   "execution_count": 94,
   "id": "a022d457",
   "metadata": {},
   "outputs": [
    {
     "name": "stdout",
     "output_type": "stream",
     "text": [
      "11-45-8\n"
     ]
    }
   ],
   "source": [
    "liste = ['11', '45', '8']\n",
    "\n",
    "print('-'.join(liste))"
   ]
  },
  {
   "cell_type": "code",
   "execution_count": 90,
   "id": "976c93cf",
   "metadata": {},
   "outputs": [
    {
     "name": "stdout",
     "output_type": "stream",
     "text": [
      "11-45-8\n"
     ]
    }
   ],
   "source": [
    "liste = ['11', '45', '8']\n",
    "a = '-'.join(liste)\n",
    "print(a)"
   ]
  },
  {
   "cell_type": "code",
   "execution_count": null,
   "id": "7b019aef",
   "metadata": {},
   "outputs": [],
   "source": []
  },
  {
   "cell_type": "markdown",
   "id": "c5e975c0",
   "metadata": {},
   "source": [
    "# tuple ve yer tutucu(_) ve * kullanımı"
   ]
  },
  {
   "cell_type": "code",
   "execution_count": 66,
   "id": "c3e2a293",
   "metadata": {},
   "outputs": [],
   "source": [
    "a = '12'\n",
    "a"
   ]
  },
  {
   "cell_type": "code",
   "execution_count": 67,
   "id": "40371ab1",
   "metadata": {},
   "outputs": [
    {
     "data": {
      "text/plain": [
       "('12', '12')"
      ]
     },
     "execution_count": 67,
     "metadata": {},
     "output_type": "execute_result"
    }
   ],
   "source": [
    "a = b = '12'\n",
    "a,b"
   ]
  },
  {
   "cell_type": "code",
   "execution_count": 68,
   "id": "55638411",
   "metadata": {},
   "outputs": [
    {
     "data": {
      "text/plain": [
       "('1', '2')"
      ]
     },
     "execution_count": 68,
     "metadata": {},
     "output_type": "execute_result"
    }
   ],
   "source": [
    "a, b = '1', '2'\n",
    "a,b"
   ]
  },
  {
   "cell_type": "code",
   "execution_count": 69,
   "id": "d6bcdb13",
   "metadata": {},
   "outputs": [
    {
     "data": {
      "text/plain": [
       "('1', '2')"
      ]
     },
     "execution_count": 69,
     "metadata": {},
     "output_type": "execute_result"
    }
   ],
   "source": [
    "a, b = '12'\n",
    "a,b"
   ]
  },
  {
   "cell_type": "code",
   "execution_count": 70,
   "id": "f26539b9",
   "metadata": {},
   "outputs": [
    {
     "ename": "ValueError",
     "evalue": "too many values to unpack (expected 2)",
     "output_type": "error",
     "traceback": [
      "\u001b[1;31m---------------------------------------------------------------------------\u001b[0m",
      "\u001b[1;31mValueError\u001b[0m                                Traceback (most recent call last)",
      "\u001b[1;32m~\\AppData\\Local\\Temp/ipykernel_13652/2855634281.py\u001b[0m in \u001b[0;36m<module>\u001b[1;34m\u001b[0m\n\u001b[1;32m----> 1\u001b[1;33m \u001b[0ma\u001b[0m\u001b[1;33m,\u001b[0m \u001b[0mb\u001b[0m \u001b[1;33m=\u001b[0m \u001b[1;34m'12345'\u001b[0m\u001b[1;33m\u001b[0m\u001b[1;33m\u001b[0m\u001b[0m\n\u001b[0m\u001b[0;32m      2\u001b[0m \u001b[0ma\u001b[0m\u001b[1;33m,\u001b[0m\u001b[0mb\u001b[0m\u001b[1;33m\u001b[0m\u001b[1;33m\u001b[0m\u001b[0m\n",
      "\u001b[1;31mValueError\u001b[0m: too many values to unpack (expected 2)"
     ]
    }
   ],
   "source": [
    "a, b = '12345'\n",
    "a,b"
   ]
  },
  {
   "cell_type": "code",
   "execution_count": 75,
   "id": "b107f9d9",
   "metadata": {},
   "outputs": [
    {
     "data": {
      "text/plain": [
       "('1', '2', ['3', '4', '5'])"
      ]
     },
     "execution_count": 75,
     "metadata": {},
     "output_type": "execute_result"
    }
   ],
   "source": [
    "a, b, *c = '12345'\n",
    "a, b, c"
   ]
  },
  {
   "cell_type": "code",
   "execution_count": 79,
   "id": "62c0324f",
   "metadata": {
    "scrolled": true
   },
   "outputs": [
    {
     "data": {
      "text/plain": [
       "('1', '2')"
      ]
     },
     "execution_count": 79,
     "metadata": {},
     "output_type": "execute_result"
    }
   ],
   "source": [
    "a, b, _ = '123'\n",
    "a,b"
   ]
  },
  {
   "cell_type": "code",
   "execution_count": 80,
   "id": "0927eff3",
   "metadata": {},
   "outputs": [
    {
     "data": {
      "text/plain": [
       "('1', '2', '3')"
      ]
     },
     "execution_count": 80,
     "metadata": {},
     "output_type": "execute_result"
    }
   ],
   "source": [
    "a, b, _ = '123'\n",
    "a,b, _"
   ]
  },
  {
   "cell_type": "code",
   "execution_count": 82,
   "id": "51d0b7a8",
   "metadata": {},
   "outputs": [
    {
     "data": {
      "text/plain": [
       "('1', '2', ['3', '4', '5'])"
      ]
     },
     "execution_count": 82,
     "metadata": {},
     "output_type": "execute_result"
    }
   ],
   "source": [
    "a, b, *_ = '12345'\n",
    "a,b, _"
   ]
  },
  {
   "cell_type": "code",
   "execution_count": 83,
   "id": "462b342d",
   "metadata": {},
   "outputs": [
    {
     "data": {
      "text/plain": [
       "('1', '3')"
      ]
     },
     "execution_count": 83,
     "metadata": {},
     "output_type": "execute_result"
    }
   ],
   "source": [
    "a, b, b = '123'\n",
    "a,b"
   ]
  },
  {
   "cell_type": "code",
   "execution_count": 84,
   "id": "eb9cb7d7",
   "metadata": {},
   "outputs": [
    {
     "data": {
      "text/plain": [
       "1"
      ]
     },
     "execution_count": 84,
     "metadata": {},
     "output_type": "execute_result"
    }
   ],
   "source": [
    "a = 1\n",
    "a"
   ]
  },
  {
   "cell_type": "code",
   "execution_count": 86,
   "id": "4ec715e5",
   "metadata": {},
   "outputs": [
    {
     "name": "stdout",
     "output_type": "stream",
     "text": [
      "(1,) <class 'tuple'>\n"
     ]
    }
   ],
   "source": [
    "a = 1,\n",
    "print(a, type(a))"
   ]
  },
  {
   "cell_type": "code",
   "execution_count": null,
   "id": "4c59899c",
   "metadata": {},
   "outputs": [],
   "source": []
  },
  {
   "cell_type": "code",
   "execution_count": null,
   "id": "7d86c708",
   "metadata": {},
   "outputs": [],
   "source": []
  },
  {
   "cell_type": "code",
   "execution_count": null,
   "id": "413576b8",
   "metadata": {},
   "outputs": [],
   "source": []
  },
  {
   "cell_type": "markdown",
   "id": "c06a8a59",
   "metadata": {},
   "source": [
    "# list().count()"
   ]
  },
  {
   "cell_type": "code",
   "execution_count": 3,
   "id": "bfed3447",
   "metadata": {},
   "outputs": [],
   "source": [
    "liste = [11, 45, 8, 11, 23, 45, 23, 45, 89]"
   ]
  },
  {
   "cell_type": "code",
   "execution_count": 5,
   "id": "790fab56",
   "metadata": {},
   "outputs": [
    {
     "data": {
      "text/plain": [
       "2"
      ]
     },
     "execution_count": 5,
     "metadata": {},
     "output_type": "execute_result"
    }
   ],
   "source": [
    "liste.count(11)"
   ]
  },
  {
   "cell_type": "code",
   "execution_count": 6,
   "id": "5c02df42",
   "metadata": {},
   "outputs": [
    {
     "name": "stdout",
     "output_type": "stream",
     "text": [
      "{11: 2, 45: 3, 8: 1, 23: 2, 89: 1}\n"
     ]
    }
   ],
   "source": [
    "# count metodu olmadan liste içini sayma\n",
    "liste = [11, 45, 8, 11, 23, 45, 23, 45, 89]\n",
    "result2 = {}\n",
    "\n",
    "for i in liste:\n",
    "    if i in result2:  # {key:value}\n",
    "        result2[i] += 1\n",
    "    else:\n",
    "        result2[i] = 1  \n",
    "print(result2)"
   ]
  },
  {
   "cell_type": "code",
   "execution_count": 7,
   "id": "ef8cce3b",
   "metadata": {},
   "outputs": [
    {
     "name": "stdout",
     "output_type": "stream",
     "text": [
      "{11: 2, 45: 3, 8: 1, 23: 2, 89: 1}\n"
     ]
    }
   ],
   "source": [
    "liste = [11, 45, 8, 11, 23, 45, 23, 45, 89]\n",
    "result = {}\n",
    "for i in liste:\n",
    "    result[i] = liste.count(i)  # 9\n",
    "print(result)"
   ]
  },
  {
   "cell_type": "markdown",
   "id": "d8f866ac",
   "metadata": {},
   "source": [
    "# {}.fromkeys(tipler)"
   ]
  },
  {
   "cell_type": "code",
   "execution_count": 25,
   "id": "5bf88fdf",
   "metadata": {},
   "outputs": [
    {
     "name": "stdout",
     "output_type": "stream",
     "text": [
      "{11: 2, 45: 3, 8: 1, 23: 2, 89: 1}\n"
     ]
    }
   ],
   "source": [
    "liste = [11, 45, 8, 11, 23, 45, 23, 45, 89]\n",
    "dic = dict().fromkeys(liste, 0) # atama gerekiyor\n",
    "\n",
    "for i in liste:\n",
    "    dic[i]+=1\n",
    "print(dic)"
   ]
  },
  {
   "cell_type": "code",
   "execution_count": null,
   "id": "11a0d8cf",
   "metadata": {},
   "outputs": [],
   "source": []
  },
  {
   "cell_type": "markdown",
   "id": "e18017c3",
   "metadata": {},
   "source": [
    "# zip()  - generator"
   ]
  },
  {
   "cell_type": "code",
   "execution_count": 30,
   "id": "ab0e1319",
   "metadata": {},
   "outputs": [],
   "source": [
    "first_list = [2, 3]\n",
    "second_list = [4, 9]"
   ]
  },
  {
   "cell_type": "code",
   "execution_count": 31,
   "id": "563f7428",
   "metadata": {},
   "outputs": [
    {
     "data": {
      "text/plain": [
       "((2, 4), (3, 9))"
      ]
     },
     "execution_count": 31,
     "metadata": {},
     "output_type": "execute_result"
    }
   ],
   "source": [
    "zipp = zip(first_list, second_list)\n",
    "*zipp,"
   ]
  },
  {
   "cell_type": "code",
   "execution_count": 32,
   "id": "24bbac91",
   "metadata": {},
   "outputs": [
    {
     "data": {
      "text/plain": [
       "()"
      ]
     },
     "execution_count": 32,
     "metadata": {},
     "output_type": "execute_result"
    }
   ],
   "source": [
    "*zipp,"
   ]
  },
  {
   "cell_type": "code",
   "execution_count": 96,
   "id": "580b9446",
   "metadata": {},
   "outputs": [
    {
     "name": "stdout",
     "output_type": "stream",
     "text": [
      "[(2, 4), (3, 9)]\n"
     ]
    }
   ],
   "source": [
    "last = list(zip(first_list, second_list))\n",
    "print(last)"
   ]
  },
  {
   "cell_type": "code",
   "execution_count": null,
   "id": "20bbf9dd",
   "metadata": {},
   "outputs": [],
   "source": []
  },
  {
   "cell_type": "markdown",
   "id": "d420cb7f",
   "metadata": {},
   "source": [
    "# emumarate() - generator"
   ]
  },
  {
   "cell_type": "code",
   "execution_count": 97,
   "id": "caf35e97",
   "metadata": {},
   "outputs": [],
   "source": [
    "liste = [11, 45, 8, 11, 23, 45, 23, 45, 89]"
   ]
  },
  {
   "cell_type": "code",
   "execution_count": 109,
   "id": "b1e4ee92",
   "metadata": {},
   "outputs": [
    {
     "data": {
      "text/plain": [
       "<enumerate at 0x2d6c32b9a80>"
      ]
     },
     "execution_count": 109,
     "metadata": {},
     "output_type": "execute_result"
    }
   ],
   "source": [
    "enumerate(liste)"
   ]
  },
  {
   "cell_type": "code",
   "execution_count": 111,
   "id": "13c38568",
   "metadata": {},
   "outputs": [
    {
     "data": {
      "text/plain": [
       "((0, 11),\n",
       " (1, 45),\n",
       " (2, 8),\n",
       " (3, 11),\n",
       " (4, 23),\n",
       " (5, 45),\n",
       " (6, 23),\n",
       " (7, 45),\n",
       " (8, 89))"
      ]
     },
     "execution_count": 111,
     "metadata": {},
     "output_type": "execute_result"
    }
   ],
   "source": [
    "*enumerate(liste),"
   ]
  },
  {
   "cell_type": "code",
   "execution_count": 113,
   "id": "86c6ee0e",
   "metadata": {},
   "outputs": [
    {
     "data": {
      "text/plain": [
       "((100, 11),\n",
       " (101, 45),\n",
       " (102, 8),\n",
       " (103, 11),\n",
       " (104, 23),\n",
       " (105, 45),\n",
       " (106, 23),\n",
       " (107, 45),\n",
       " (108, 89))"
      ]
     },
     "execution_count": 113,
     "metadata": {},
     "output_type": "execute_result"
    }
   ],
   "source": [
    "*enumerate(liste, 100),"
   ]
  },
  {
   "cell_type": "code",
   "execution_count": 102,
   "id": "0813a504",
   "metadata": {},
   "outputs": [
    {
     "name": "stdout",
     "output_type": "stream",
     "text": [
      "(0, 11) (1, 45) (2, 8) (3, 11) (4, 23) (5, 45) (6, 23) (7, 45) (8, 89)\n"
     ]
    }
   ],
   "source": [
    "print(*enumerate(liste))"
   ]
  },
  {
   "cell_type": "code",
   "execution_count": 115,
   "id": "da7e91cc",
   "metadata": {},
   "outputs": [
    {
     "data": {
      "text/plain": [
       "((100, 11),\n",
       " (101, 45),\n",
       " (102, 8),\n",
       " (103, 11),\n",
       " (104, 23),\n",
       " (105, 45),\n",
       " (106, 23),\n",
       " (107, 45),\n",
       " (108, 89))"
      ]
     },
     "execution_count": 115,
     "metadata": {},
     "output_type": "execute_result"
    }
   ],
   "source": [
    "en = enumerate(liste, 100)\n",
    "*en,"
   ]
  },
  {
   "cell_type": "code",
   "execution_count": 116,
   "id": "6e2e773a",
   "metadata": {},
   "outputs": [
    {
     "data": {
      "text/plain": [
       "()"
      ]
     },
     "execution_count": 116,
     "metadata": {},
     "output_type": "execute_result"
    }
   ],
   "source": [
    "*en,"
   ]
  },
  {
   "cell_type": "code",
   "execution_count": null,
   "id": "db2ef3db",
   "metadata": {},
   "outputs": [],
   "source": []
  },
  {
   "cell_type": "code",
   "execution_count": 106,
   "id": "b316fc53",
   "metadata": {},
   "outputs": [
    {
     "name": "stdout",
     "output_type": "stream",
     "text": [
      "3\n"
     ]
    }
   ],
   "source": [
    "print(3,)"
   ]
  },
  {
   "cell_type": "code",
   "execution_count": 101,
   "id": "db698f55",
   "metadata": {},
   "outputs": [
    {
     "name": "stdout",
     "output_type": "stream",
     "text": [
      "(0, 11)\n",
      "(1, 45)\n",
      "(2, 8)\n",
      "(3, 11)\n",
      "(4, 23)\n",
      "(5, 45)\n",
      "(6, 23)\n",
      "(7, 45)\n",
      "(8, 89)\n"
     ]
    }
   ],
   "source": [
    "print(*enumerate(liste), sep='\\n')"
   ]
  },
  {
   "cell_type": "code",
   "execution_count": 108,
   "id": "48226628",
   "metadata": {},
   "outputs": [
    {
     "name": "stdout",
     "output_type": "stream",
     "text": [
      "(0, 11)\n",
      "(1, 45)\n",
      "(2, 8)\n",
      "(3, 11)\n",
      "(4, 23)\n",
      "(5, 45)\n",
      "(6, 23)\n",
      "(7, 45)\n",
      "(8, 89)\n",
      "10\n"
     ]
    }
   ],
   "source": [
    "print(*enumerate(liste,10), sep='\\n')"
   ]
  },
  {
   "cell_type": "code",
   "execution_count": 122,
   "id": "5895cd13",
   "metadata": {},
   "outputs": [
    {
     "ename": "SyntaxError",
     "evalue": "can't use starred expression here (Temp/ipykernel_13652/2969166982.py, line 1)",
     "output_type": "error",
     "traceback": [
      "\u001b[1;36m  File \u001b[1;32m\"C:\\Users\\acer\\AppData\\Local\\Temp/ipykernel_13652/2969166982.py\"\u001b[1;36m, line \u001b[1;32m1\u001b[0m\n\u001b[1;33m    *'deneme'\u001b[0m\n\u001b[1;37m    ^\u001b[0m\n\u001b[1;31mSyntaxError\u001b[0m\u001b[1;31m:\u001b[0m can't use starred expression here\n"
     ]
    }
   ],
   "source": [
    "*'deneme'"
   ]
  },
  {
   "cell_type": "code",
   "execution_count": 121,
   "id": "194e471f",
   "metadata": {},
   "outputs": [
    {
     "data": {
      "text/plain": [
       "['d', 'e', 'n', 'e', 'm', 'e']"
      ]
     },
     "execution_count": 121,
     "metadata": {},
     "output_type": "execute_result"
    }
   ],
   "source": [
    "list3 = [*'deneme']\n",
    "list3"
   ]
  },
  {
   "cell_type": "code",
   "execution_count": 127,
   "id": "64b3a2eb",
   "metadata": {},
   "outputs": [
    {
     "data": {
      "text/plain": [
       "((0, 'd'), (1, 'e'), (2, 'n'), (3, 'e'), (4, 'm'), (5, 'e'))"
      ]
     },
     "execution_count": 127,
     "metadata": {},
     "output_type": "execute_result"
    }
   ],
   "source": [
    "en = enumerate(list3)\n",
    "*en,"
   ]
  },
  {
   "cell_type": "code",
   "execution_count": 131,
   "id": "29257b39",
   "metadata": {},
   "outputs": [
    {
     "data": {
      "text/plain": [
       "((100, 'd'), (101, 'e'), (102, 'n'), (103, 'e'), (104, 'm'), (105, 'e'))"
      ]
     },
     "execution_count": 131,
     "metadata": {},
     "output_type": "execute_result"
    }
   ],
   "source": [
    "en = enumerate(list3, 100)\n",
    "*en,"
   ]
  },
  {
   "cell_type": "code",
   "execution_count": null,
   "id": "e5c3fe87",
   "metadata": {},
   "outputs": [],
   "source": []
  },
  {
   "cell_type": "code",
   "execution_count": null,
   "id": "faf6d6c0",
   "metadata": {},
   "outputs": [],
   "source": []
  },
  {
   "cell_type": "code",
   "execution_count": 140,
   "id": "6a713f70",
   "metadata": {},
   "outputs": [
    {
     "data": {
      "text/plain": [
       "['d', 'e', 'n', 'e', 'm', 'e']"
      ]
     },
     "execution_count": 140,
     "metadata": {},
     "output_type": "execute_result"
    }
   ],
   "source": [
    "liste = ['deneme']\n",
    "liste"
   ]
  },
  {
   "cell_type": "code",
   "execution_count": 141,
   "id": "062f5094",
   "metadata": {},
   "outputs": [
    {
     "data": {
      "text/plain": [
       "['d', 'e', 'n', 'e', 'm', 'e']"
      ]
     },
     "execution_count": 141,
     "metadata": {},
     "output_type": "execute_result"
    }
   ],
   "source": [
    "liste = [*'deneme']\n",
    "liste"
   ]
  },
  {
   "cell_type": "code",
   "execution_count": 144,
   "id": "f79598d9",
   "metadata": {},
   "outputs": [
    {
     "data": {
      "text/plain": [
       "(str, 'deneme')"
      ]
     },
     "execution_count": 144,
     "metadata": {},
     "output_type": "execute_result"
    }
   ],
   "source": [
    "tuple1 = ('deneme')\n",
    "type(tuple1), tuple1"
   ]
  },
  {
   "cell_type": "code",
   "execution_count": 145,
   "id": "28f934c2",
   "metadata": {},
   "outputs": [
    {
     "data": {
      "text/plain": [
       "('deneme',)"
      ]
     },
     "execution_count": 145,
     "metadata": {},
     "output_type": "execute_result"
    }
   ],
   "source": [
    "tuple1 = 'deneme',\n",
    "tuple1"
   ]
  },
  {
   "cell_type": "code",
   "execution_count": 146,
   "id": "230819ce",
   "metadata": {},
   "outputs": [
    {
     "data": {
      "text/plain": [
       "('d', 'e', 'n', 'e', 'm', 'e')"
      ]
     },
     "execution_count": 146,
     "metadata": {},
     "output_type": "execute_result"
    }
   ],
   "source": [
    "tuple1 = (*'deneme',)\n",
    "tuple1"
   ]
  },
  {
   "cell_type": "code",
   "execution_count": 137,
   "id": "66721f24",
   "metadata": {},
   "outputs": [
    {
     "data": {
      "text/plain": [
       "('deneme',)"
      ]
     },
     "execution_count": 137,
     "metadata": {},
     "output_type": "execute_result"
    }
   ],
   "source": [
    "tuple1 = 'deneme',\n",
    "tuple1"
   ]
  },
  {
   "cell_type": "code",
   "execution_count": null,
   "id": "adb5d6a6",
   "metadata": {},
   "outputs": [],
   "source": []
  },
  {
   "cell_type": "code",
   "execution_count": 147,
   "id": "ab584387",
   "metadata": {},
   "outputs": [
    {
     "data": {
      "text/plain": [
       "('d', 'e', 'n', 'e', 'm', 'e')"
      ]
     },
     "execution_count": 147,
     "metadata": {},
     "output_type": "execute_result"
    }
   ],
   "source": [
    "tuple1 = (*'deneme',)\n",
    "tuple1"
   ]
  },
  {
   "cell_type": "code",
   "execution_count": 148,
   "id": "3578baad",
   "metadata": {},
   "outputs": [
    {
     "data": {
      "text/plain": [
       "((0, 'd'), (1, 'e'), (2, 'n'), (3, 'e'), (4, 'm'), (5, 'e'))"
      ]
     },
     "execution_count": 148,
     "metadata": {},
     "output_type": "execute_result"
    }
   ],
   "source": [
    "en = enumerate(tuple1)\n",
    "*en,"
   ]
  },
  {
   "cell_type": "code",
   "execution_count": null,
   "id": "c3f9867f",
   "metadata": {},
   "outputs": [],
   "source": []
  },
  {
   "cell_type": "code",
   "execution_count": null,
   "id": "6b31f405",
   "metadata": {},
   "outputs": [],
   "source": []
  },
  {
   "cell_type": "markdown",
   "id": "e59923ba",
   "metadata": {},
   "source": [
    "# retun - yield"
   ]
  },
  {
   "cell_type": "code",
   "execution_count": null,
   "id": "71f18d60",
   "metadata": {},
   "outputs": [],
   "source": []
  },
  {
   "cell_type": "code",
   "execution_count": null,
   "id": "775bf5c6",
   "metadata": {},
   "outputs": [],
   "source": []
  },
  {
   "cell_type": "code",
   "execution_count": null,
   "id": "2ad4b112",
   "metadata": {},
   "outputs": [],
   "source": []
  },
  {
   "cell_type": "markdown",
   "id": "908fce5c",
   "metadata": {},
   "source": [
    "# list Comprehension (list com oluşturma) - (list-tuple-set-dict kullanımı)"
   ]
  },
  {
   "cell_type": "code",
   "execution_count": null,
   "id": "38ac4aac",
   "metadata": {},
   "outputs": [],
   "source": []
  },
  {
   "cell_type": "code",
   "execution_count": null,
   "id": "ae9324a2",
   "metadata": {},
   "outputs": [],
   "source": []
  },
  {
   "cell_type": "code",
   "execution_count": null,
   "id": "5ec2334a",
   "metadata": {},
   "outputs": [],
   "source": []
  },
  {
   "cell_type": "markdown",
   "id": "b62e1ded",
   "metadata": {},
   "source": [
    "# lambda (map-filter-3.sü)"
   ]
  },
  {
   "cell_type": "code",
   "execution_count": null,
   "id": "05531786",
   "metadata": {},
   "outputs": [],
   "source": []
  },
  {
   "cell_type": "code",
   "execution_count": null,
   "id": "aed38605",
   "metadata": {},
   "outputs": [],
   "source": []
  }
 ],
 "metadata": {
  "hide_input": false,
  "kernelspec": {
   "display_name": "Python 3 (ipykernel)",
   "language": "python",
   "name": "python3"
  },
  "language_info": {
   "codemirror_mode": {
    "name": "ipython",
    "version": 3
   },
   "file_extension": ".py",
   "mimetype": "text/x-python",
   "name": "python",
   "nbconvert_exporter": "python",
   "pygments_lexer": "ipython3",
   "version": "3.9.7"
  },
  "nbTranslate": {
   "displayLangs": [
    "*"
   ],
   "hotkey": "alt-t",
   "langInMainMenu": true,
   "sourceLang": "en",
   "targetLang": "fr",
   "useGoogleTranslate": true
  },
  "toc": {
   "base_numbering": 1,
   "nav_menu": {},
   "number_sections": true,
   "sideBar": true,
   "skip_h1_title": false,
   "title_cell": "Table of Contents",
   "title_sidebar": "Contents",
   "toc_cell": false,
   "toc_position": {},
   "toc_section_display": true,
   "toc_window_display": false
  }
 },
 "nbformat": 4,
 "nbformat_minor": 5
}
