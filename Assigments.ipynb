{
  "nbformat": 4,
  "nbformat_minor": 0,
  "metadata": {
    "colab": {
      "name": "Assigments.ipynb",
      "provenance": [],
      "collapsed_sections": [],
      "authorship_tag": "ABX9TyMhohLJFO+G3lcaJziPk/6w",
      "include_colab_link": true
    },
    "kernelspec": {
      "name": "python3",
      "display_name": "Python 3"
    },
    "language_info": {
      "name": "python"
    }
  },
  "cells": [
    {
      "cell_type": "markdown",
      "metadata": {
        "id": "view-in-github",
        "colab_type": "text"
      },
      "source": [
        "<a href=\"https://colab.research.google.com/github/drmuratakyuz/My-Python-Codes/blob/main/Assigments.ipynb\" target=\"_parent\"><img src=\"https://colab.research.google.com/assets/colab-badge.svg\" alt=\"Open In Colab\"/></a>"
      ]
    },
    {
      "cell_type": "code",
      "execution_count": 4,
      "metadata": {
        "id": "EtYaqVUul-Jq",
        "colab": {
          "base_uri": "https://localhost:8080/"
        },
        "outputId": "e7e68dc0-c729-493d-eddb-d12556a79d7c"
      },
      "outputs": [
        {
          "name": "stdout",
          "output_type": "stream",
          "text": [
            "Enter a number :5\n",
            "Enter a number :5\n"
          ]
        },
        {
          "output_type": "execute_result",
          "data": {
            "text/plain": [
              "20"
            ]
          },
          "metadata": {},
          "execution_count": 4
        }
      ],
      "source": [
        "# Given two integer values, return their sum. If the two values are the same, then return double their sum.\n",
        "def sum_double(x, y):\n",
        "  if x == y:\n",
        "    sum = (x+y)*2\n",
        "  else:\n",
        "    sum = x + y\n",
        "  return sum\n",
        "\n",
        "\n",
        "x = int(input(\"Enter a number :\"))\n",
        "y = int(input(\"Enter a number :\"))\n",
        "sum_double(x,y)"
      ]
    },
    {
      "cell_type": "code",
      "source": [
        "'''\n",
        "We have a loud talking parrot. We are in trouble if the parrot is talking and the hour is before 6 or after 21.\n",
        "Define a function taking two parameters (talking and hour) to return True if we are in trouble. \n",
        "The argument to  talking parameter can only be True or False whether it is talking or not. \n",
        "The argument to hour parameter should be the current hour time in the range of 0 to 23.\n",
        "'''\n",
        "def parrot_trouble(talking, hour):\n",
        "    if talking == True and (hour<6 or hour>21):\n",
        "      print(\"You are in trouble.\")\n",
        "    else:\n",
        "      print(\"You are not in trouble.\")\n",
        "'''\n",
        "talking = bool(input(\"Your parrot is talking. (True/False): \"))\n",
        "hour = int(input(\"Enter the hour (0-23): \"))\n",
        "parrot_trouble(talking,hour)\n",
        "'''\n",
        "parrot_trouble(True,2)"
      ],
      "metadata": {
        "colab": {
          "base_uri": "https://localhost:8080/"
        },
        "id": "YZFoNn27NmWR",
        "outputId": "ac723988-ad57-4229-b8cd-786bbaa7c51c"
      },
      "execution_count": 66,
      "outputs": [
        {
          "output_type": "stream",
          "name": "stdout",
          "text": [
            "You are in trouble.\n"
          ]
        }
      ]
    },
    {
      "cell_type": "code",
      "source": [
        "'''\n",
        "We have a loud talking parrot. We are in trouble if the parrot is talking and the hour is before 6 or after 21.\n",
        "Define a function taking two parameters (talking and hour) to return True if we are in trouble. \n",
        "The argument to  talking parameter can only be True or False whether it is talking or not. \n",
        "The argument to hour parameter should be the current hour time in the range of 0 to 23.\n",
        "'''\n",
        "def parrot_trouble(talking, hour):\n",
        "    if talking == True and (hour<6 or hour>21):\n",
        "      return (True)\n",
        "    else:\n",
        "      return (False)\n",
        "\n",
        "parrot_trouble(True,7)"
      ],
      "metadata": {
        "colab": {
          "base_uri": "https://localhost:8080/"
        },
        "id": "x25kyq-6rFr-",
        "outputId": "5ed4e8a7-e0ac-4a71-ee81-60a864156276"
      },
      "execution_count": 65,
      "outputs": [
        {
          "output_type": "execute_result",
          "data": {
            "text/plain": [
              "False"
            ]
          },
          "metadata": {},
          "execution_count": 65
        }
      ]
    }
  ]
}