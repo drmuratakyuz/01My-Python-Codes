{
  "nbformat": 4,
  "nbformat_minor": 0,
  "metadata": {
    "colab": {
      "name": "Dictionaries_and_tuples.ipynb",
      "provenance": [],
      "authorship_tag": "ABX9TyNzOihEtg0OE2nOuYUaQ/Tg",
      "include_colab_link": true
    },
    "kernelspec": {
      "name": "python3",
      "display_name": "Python 3"
    },
    "language_info": {
      "name": "python"
    }
  },
  "cells": [
    {
      "cell_type": "markdown",
      "metadata": {
        "id": "view-in-github",
        "colab_type": "text"
      },
      "source": [
        "<a href=\"https://colab.research.google.com/github/drmuratakyuz/My-Python-Codes/blob/main/Dictionaries_and_tuples.ipynb\" target=\"_parent\"><img src=\"https://colab.research.google.com/assets/colab-badge.svg\" alt=\"Open In Colab\"/></a>"
      ]
    },
    {
      "cell_type": "code",
      "execution_count": null,
      "metadata": {
        "colab": {
          "base_uri": "https://localhost:8080/"
        },
        "id": "_lFcpKtn5M4a",
        "outputId": "2fb5f7dc-633e-4938-f161-0dca2b770dd3"
      },
      "outputs": [
        {
          "output_type": "stream",
          "name": "stdout",
          "text": [
            "{'name': 'Michael', 'Phone': '05554442211', 'e_mail': 'michael@abc.com', 'country': 'USA', 'state': 'missouri', 'city': 'kansas city'}\n"
          ]
        }
      ],
      "source": [
        "# dictionary\n",
        "personal_ID={\n",
        "    \"name\":\"Michael\",\n",
        "    \"Phone\":\"05554442211\",\n",
        "    \"e_mail\":\"michael@abc.com\",\n",
        "    \"country\":\"USA\",\n",
        "    \"state\":\"missouri\",\n",
        "    \"city\":\"kansas city\"\n",
        "    }\n",
        "print(personal_ID)\n"
      ]
    },
    {
      "cell_type": "code",
      "source": [
        "# an empty dictionay\n",
        "dictionary1 = {}\n",
        "print(dictionary1)\n",
        "# integer valueded \n",
        "dictionary2= {1: 'Kansas', 2: 'Missouri'}\n",
        "print(dictionary2)\n",
        "# string and integer valuaded\n",
        "dictionary3 = {'name': 'John', 1: [5, 4, 3]}\n",
        "print(dictionary3)\n",
        "# function of dict \n",
        "dictionary4 = dict({1:'plum', 2:'quince'})\n",
        "print(dictionary4)"
      ],
      "metadata": {
        "colab": {
          "base_uri": "https://localhost:8080/"
        },
        "id": "W81zUsR88fZ1",
        "outputId": "7582b2e8-7c7b-4bbb-d19b-75cb048829fb"
      },
      "execution_count": null,
      "outputs": [
        {
          "output_type": "stream",
          "name": "stdout",
          "text": [
            "{}\n",
            "{1: 'Kansas', 2: 'Missouri'}\n",
            "{'name': 'John', 1: [5, 4, 3]}\n",
            "{1: 'plum', 2: 'quince'}\n"
          ]
        }
      ]
    },
    {
      "cell_type": "code",
      "source": [
        "# three keys dictionaries\n",
        "dictionary = {\"bilgisayar\" : \"computer\",\"sarı\" : \"yellow\",\"masa\" : \"table\"}\n",
        "print(dictionary)"
      ],
      "metadata": {
        "colab": {
          "base_uri": "https://localhost:8080/"
        },
        "id": "fAFdh-7p-ZDG",
        "outputId": "c5076a68-ccac-453a-ce98-06731ef6dd2a"
      },
      "execution_count": null,
      "outputs": [
        {
          "output_type": "stream",
          "name": "stdout",
          "text": [
            "{'bilgisayar': 'computer', 'sarı': 'yellow', 'masa': 'table'}\n"
          ]
        }
      ]
    },
    {
      "cell_type": "code",
      "source": [
        "province_tr={ \"konya\" :\"42\",\"istanbul\" :\"34\",\"ankara\" :\"06\" }\n",
        "print ( province_tr.keys())\n",
        "#values()metodu sözlükteki değerleri bize yazdırır.\n",
        "print (province_tr.values())"
      ],
      "metadata": {
        "colab": {
          "base_uri": "https://localhost:8080/"
        },
        "id": "0fH_N-53-8Q_",
        "outputId": "49eb43b0-ccdd-4a6c-e761-1ea40d6aa84f"
      },
      "execution_count": null,
      "outputs": [
        {
          "output_type": "stream",
          "name": "stdout",
          "text": [
            "dict_keys(['konya', 'istanbul', 'ankara'])\n",
            "dict_values(['42', '34', '06'])\n"
          ]
        }
      ]
    },
    {
      "cell_type": "code",
      "source": [
        "fruits={\"Name\": \"Orange\",\"Kind\": \"Oranges\",\"Kg\": 20}\n",
        "print(fruits[\"Name\"])\n",
        "print(fruits[\"Kg\"])"
      ],
      "metadata": {
        "colab": {
          "base_uri": "https://localhost:8080/"
        },
        "id": "QhogAejQDQti",
        "outputId": "5d3b158b-8245-4047-f5a2-925f0e7171e2"
      },
      "execution_count": null,
      "outputs": [
        {
          "output_type": "stream",
          "name": "stdout",
          "text": [
            "Orange\n",
            "20\n"
          ]
        }
      ]
    },
    {
      "cell_type": "code",
      "source": [
        "# adding and changing values\n",
        "personal_ID = {'name':'michael','age':40,'state':'Missouri'}\n",
        "print(personal_ID)\n",
        "# changing value\n",
        "personal_ID['age'] =45\n",
        "print(personal_ID)\n",
        "# adding valie\n",
        "personal_ID['address'] = 'Kansas City,Mo'\n",
        "print(personal_ID)\n"
      ],
      "metadata": {
        "colab": {
          "base_uri": "https://localhost:8080/"
        },
        "id": "eDGdpjYTDQvK",
        "outputId": "357f54b2-4a7a-4c33-a060-688baa13ba0e"
      },
      "execution_count": null,
      "outputs": [
        {
          "output_type": "stream",
          "name": "stdout",
          "text": [
            "{'name': 'michael', 'age': 40, 'state': 'Missouri'}\n",
            "{'name': 'michael', 'age': 45, 'state': 'Missouri'}\n",
            "{'name': 'michael', 'age': 45, 'state': 'Missouri', 'address': 'Kansas City,Mo'}\n"
          ]
        }
      ]
    },
    {
      "cell_type": "code",
      "source": [
        "# deleting values\n",
        "personal_ID = {'name':'michael','age':40,'state':'Missouri'}\n",
        "print(personal_ID)\n",
        "# deleting value\n",
        "personal_ID.pop('age')\n",
        "print(personal_ID)"
      ],
      "metadata": {
        "colab": {
          "base_uri": "https://localhost:8080/"
        },
        "id": "zCjQwWnTFO3V",
        "outputId": "fc72de54-7598-4bd3-c490-ee56c3a97f4d"
      },
      "execution_count": null,
      "outputs": [
        {
          "output_type": "stream",
          "name": "stdout",
          "text": [
            "{'name': 'michael', 'age': 40, 'state': 'Missouri'}\n",
            "{'name': 'michael', 'state': 'Missouri'}\n"
          ]
        }
      ]
    },
    {
      "cell_type": "code",
      "source": [
        "# deleting values with popitem (deleting last value/key)\n",
        "personal_ID = {'name':'michael','age':40,'state':'Missouri'}\n",
        "print(personal_ID)\n",
        "# deleting value/key with popitem\n",
        "personal_ID.popitem()\n",
        "print(personal_ID)"
      ],
      "metadata": {
        "colab": {
          "base_uri": "https://localhost:8080/"
        },
        "id": "_XMANwsmFon9",
        "outputId": "ff9ea412-20a1-43d7-9002-d386db4cece6"
      },
      "execution_count": null,
      "outputs": [
        {
          "output_type": "stream",
          "name": "stdout",
          "text": [
            "{'name': 'michael', 'age': 40, 'state': 'Missouri'}\n",
            "{'name': 'michael', 'age': 40}\n"
          ]
        }
      ]
    },
    {
      "cell_type": "code",
      "source": [
        "# deleting values with del\n",
        "personal_ID = {'name':'michael','age':40,'state':'Missouri'}\n",
        "print(personal_ID)\n",
        "# deleting value with del\n",
        "del personal_ID['age']\n",
        "print(personal_ID)"
      ],
      "metadata": {
        "colab": {
          "base_uri": "https://localhost:8080/"
        },
        "id": "VVIj1BWDGJkD",
        "outputId": "ab8d8ed4-b46f-47b9-c7b1-9ce31e582bf8"
      },
      "execution_count": null,
      "outputs": [
        {
          "output_type": "stream",
          "name": "stdout",
          "text": [
            "{'name': 'michael', 'age': 40, 'state': 'Missouri'}\n",
            "{'name': 'michael', 'state': 'Missouri'}\n"
          ]
        }
      ]
    },
    {
      "cell_type": "code",
      "source": [
        "# deleting all values and keys with clear()\n",
        "dictionary_tr ={\"black\":\"siyah\", \"green\":\"yeşil\", \"white\":\"beyaz\",}\n",
        "print(dictionary_tr)\n",
        "dictionary_tr.clear()\n",
        "print(dictionary_tr)"
      ],
      "metadata": {
        "colab": {
          "base_uri": "https://localhost:8080/"
        },
        "id": "b4zhwi6NGfJy",
        "outputId": "e3e9dae7-c1d7-410e-a70b-9da0b39d069f"
      },
      "execution_count": null,
      "outputs": [
        {
          "output_type": "stream",
          "name": "stdout",
          "text": [
            "{'black': 'siyah', 'green': 'yeşil', 'white': 'beyaz'}\n",
            "{}\n"
          ]
        }
      ]
    },
    {
      "cell_type": "code",
      "source": [
        "# deleting a dictionary with del\n",
        "personal_ID = {'name':'michael','age':40,'state':'Missouri'}\n",
        "print(personal_ID)\n",
        "dictionary_tr.clear()\n",
        "print(dictionary_tr)\n",
        "# deleting value with del\n",
        "del personal_ID\n",
        "print(personal_ID)"
      ],
      "metadata": {
        "colab": {
          "base_uri": "https://localhost:8080/",
          "height": 235
        },
        "id": "Khj383lKG3R-",
        "outputId": "f191effd-9180-43d9-e037-47773462c790"
      },
      "execution_count": null,
      "outputs": [
        {
          "output_type": "stream",
          "name": "stdout",
          "text": [
            "{'name': 'michael', 'age': 40, 'state': 'Missouri'}\n",
            "{}\n"
          ]
        },
        {
          "output_type": "error",
          "ename": "NameError",
          "evalue": "ignored",
          "traceback": [
            "\u001b[0;31m---------------------------------------------------------------------------\u001b[0m",
            "\u001b[0;31mNameError\u001b[0m                                 Traceback (most recent call last)",
            "\u001b[0;32m<ipython-input-14-d9087af3ff65>\u001b[0m in \u001b[0;36m<module>\u001b[0;34m()\u001b[0m\n\u001b[1;32m      6\u001b[0m \u001b[0;31m# deleting value with del\u001b[0m\u001b[0;34m\u001b[0m\u001b[0;34m\u001b[0m\u001b[0;34m\u001b[0m\u001b[0m\n\u001b[1;32m      7\u001b[0m \u001b[0;32mdel\u001b[0m \u001b[0mpersonal_ID\u001b[0m\u001b[0;34m\u001b[0m\u001b[0;34m\u001b[0m\u001b[0m\n\u001b[0;32m----> 8\u001b[0;31m \u001b[0mprint\u001b[0m\u001b[0;34m(\u001b[0m\u001b[0mpersonal_ID\u001b[0m\u001b[0;34m)\u001b[0m\u001b[0;34m\u001b[0m\u001b[0;34m\u001b[0m\u001b[0m\n\u001b[0m",
            "\u001b[0;31mNameError\u001b[0m: name 'personal_ID' is not defined"
          ]
        }
      ]
    },
    {
      "cell_type": "code",
      "source": [
        "# adding key/value to dictionary\n",
        "dictionary1={\"name\":\"Sam\", }\n",
        "print(dictionary1)\n",
        "dictionary1['surname']='Thomas'\n",
        "print(dictionary1)\n",
        "dictionary1['age']=40\n",
        "print (dictionary1)"
      ],
      "metadata": {
        "colab": {
          "base_uri": "https://localhost:8080/"
        },
        "id": "1WSRhQnKHMYG",
        "outputId": "0bd2e112-59fa-4617-d0c1-1192c4e61547"
      },
      "execution_count": null,
      "outputs": [
        {
          "output_type": "stream",
          "name": "stdout",
          "text": [
            "{'name': 'Sam'}\n",
            "{'name': 'Sam', 'surname': 'Thomas'}\n",
            "{'name': 'Sam', 'surname': 'Thomas', 'age': 40}\n"
          ]
        }
      ]
    },
    {
      "cell_type": "code",
      "source": [
        "# chang'ng key/value to dictionary\n",
        "dictionary1={\"name\":\"Sam\", }\n",
        "print(dictionary1)\n",
        "dictionary1['surname']='Thomas'\n",
        "print(dictionary1)\n",
        "dictionary1['age']=40\n",
        "print (dictionary1)\n",
        "dictionary1['age']=45\n",
        "print (dictionary1)"
      ],
      "metadata": {
        "colab": {
          "base_uri": "https://localhost:8080/"
        },
        "id": "cpRQ5bqgJbjs",
        "outputId": "028b0509-9dfa-4b61-dac7-973e1233d857"
      },
      "execution_count": null,
      "outputs": [
        {
          "output_type": "stream",
          "name": "stdout",
          "text": [
            "{'name': 'Sam'}\n",
            "{'name': 'Sam', 'surname': 'Thomas'}\n",
            "{'name': 'Sam', 'surname': 'Thomas', 'age': 40}\n",
            "{'name': 'Sam', 'surname': 'Thomas', 'age': 45}\n"
          ]
        }
      ]
    },
    {
      "cell_type": "code",
      "source": [
        "# reaching the dictionary components\n",
        "dictionary = {'name': 'John', 1: [5, 4]}\n",
        "print(dictionary['name'])\n",
        "print(dictionary.get(1))"
      ],
      "metadata": {
        "colab": {
          "base_uri": "https://localhost:8080/"
        },
        "id": "4E8fxZBUJjSP",
        "outputId": "ca824a88-517f-4a27-edf5-9518bdba1433"
      },
      "execution_count": null,
      "outputs": [
        {
          "output_type": "stream",
          "name": "stdout",
          "text": [
            "John\n",
            "[5, 4]\n"
          ]
        }
      ]
    },
    {
      "cell_type": "code",
      "source": [
        "# reaching the dictionary components\n",
        "dictionary1 = {\"zero\":0,\"one\":1,\"two\":2,\"three\":3}\n",
        "print(dictionary1)\n",
        "\n",
        "print(dictionary1 [\"one\"])\n",
        "\n",
        "print(dictionary1[\"two\"])"
      ],
      "metadata": {
        "colab": {
          "base_uri": "https://localhost:8080/"
        },
        "id": "bHRgj5AJKHU9",
        "outputId": "494aa3ad-bd7e-44d1-eefb-52ee2285f551"
      },
      "execution_count": null,
      "outputs": [
        {
          "output_type": "stream",
          "name": "stdout",
          "text": [
            "{'zero': 0, 'one': 1, 'two': 2, 'three': 3}\n",
            "1\n",
            "2\n"
          ]
        }
      ]
    }
  ]
}