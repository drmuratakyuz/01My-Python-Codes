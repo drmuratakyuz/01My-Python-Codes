{
  "nbformat": 4,
  "nbformat_minor": 0,
  "metadata": {
    "colab": {
      "name": "Factorial.ipynb",
      "provenance": [],
      "authorship_tag": "ABX9TyOZZC4NSequ+3Bj1aQkbcNw",
      "include_colab_link": true
    },
    "kernelspec": {
      "name": "python3",
      "display_name": "Python 3"
    },
    "language_info": {
      "name": "python"
    }
  },
  "cells": [
    {
      "cell_type": "markdown",
      "metadata": {
        "id": "view-in-github",
        "colab_type": "text"
      },
      "source": [
        "<a href=\"https://colab.research.google.com/github/drmuratakyuz/01My-Python-Codes/blob/main/Factorial.ipynb\" target=\"_parent\"><img src=\"https://colab.research.google.com/assets/colab-badge.svg\" alt=\"Open In Colab\"/></a>"
      ]
    },
    {
      "cell_type": "code",
      "execution_count": 6,
      "metadata": {
        "colab": {
          "base_uri": "https://localhost:8080/"
        },
        "id": "YBZss7xS_Ksn",
        "outputId": "4c8ac789-8565-409e-e472-997b2f4f9c55"
      },
      "outputs": [
        {
          "output_type": "stream",
          "name": "stdout",
          "text": [
            "120\n"
          ]
        }
      ],
      "source": [
        "import math  \n",
        "def my_fact(n):  \n",
        "    return(math.factorial(n))\n",
        "\n",
        "print(my_fact(5))"
      ]
    },
    {
      "cell_type": "code",
      "source": [
        "# Python 3 program to find  \n",
        "# factorial of given number  \n",
        "def fact(n):  \n",
        "    return 1 if (n==1 or n==0) else n * fact(n - 1);  \n",
        "  \n",
        "num = 5  \n",
        "print(\"Factorial of\",num,\"is\",)  \n",
        "fact(num))  "
      ],
      "metadata": {
        "id": "wgneHNV7BKSB"
      },
      "execution_count": null,
      "outputs": []
    },
    {
      "cell_type": "code",
      "source": [
        "# Python  program to find  \n",
        "# factorial of given number  \n",
        "import math  \n",
        "def fact(n):  \n",
        "    return(math.factorial(n))  \n",
        "  \n",
        "num = int(input(\"Enter the number:\"))  \n",
        "f = fact(num)  \n",
        "print(\"Factorial of\", num, \"is\", f)  "
      ],
      "metadata": {
        "id": "b-zi_bsfBKTL"
      },
      "execution_count": null,
      "outputs": []
    }
  ]
}