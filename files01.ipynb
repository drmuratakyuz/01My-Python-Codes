{
  "nbformat": 4,
  "nbformat_minor": 0,
  "metadata": {
    "colab": {
      "name": "files01.ipynb",
      "provenance": [],
      "authorship_tag": "ABX9TyNF0eC3sOga/Jh27hclD3RE",
      "include_colab_link": true
    },
    "kernelspec": {
      "name": "python3",
      "display_name": "Python 3"
    },
    "language_info": {
      "name": "python"
    }
  },
  "cells": [
    {
      "cell_type": "markdown",
      "metadata": {
        "id": "view-in-github",
        "colab_type": "text"
      },
      "source": [
        "<a href=\"https://colab.research.google.com/github/drmuratakyuz/My-Python-Codes/blob/main/files01.ipynb\" target=\"_parent\"><img src=\"https://colab.research.google.com/assets/colab-badge.svg\" alt=\"Open In Colab\"/></a>"
      ]
    },
    {
      "cell_type": "markdown",
      "source": [
        "The examples of files"
      ],
      "metadata": {
        "id": "doCqVfLq3qD1"
      }
    },
    {
      "cell_type": "code",
      "execution_count": 4,
      "metadata": {
        "colab": {
          "base_uri": "https://localhost:8080/",
          "height": 200
        },
        "id": "D2QpLQPR3pLQ",
        "outputId": "405f19ca-af56-4a7c-e8fe-338b3f57f322"
      },
      "outputs": [
        {
          "output_type": "error",
          "ename": "FileNotFoundError",
          "evalue": "ignored",
          "traceback": [
            "\u001b[0;31m---------------------------------------------------------------------------\u001b[0m",
            "\u001b[0;31mFileNotFoundError\u001b[0m                         Traceback (most recent call last)",
            "\u001b[0;32m<ipython-input-4-ac88018d9587>\u001b[0m in \u001b[0;36m<module>\u001b[0;34m()\u001b[0m\n\u001b[0;32m----> 1\u001b[0;31m \u001b[0mmy_file\u001b[0m \u001b[0;34m=\u001b[0m \u001b[0mopen\u001b[0m\u001b[0;34m(\u001b[0m\u001b[0;34m\"first_file.txt\"\u001b[0m\u001b[0;34m)\u001b[0m  \u001b[0;31m# this syntax opens a 'txt' file\u001b[0m\u001b[0;34m\u001b[0m\u001b[0;34m\u001b[0m\u001b[0m\n\u001b[0m\u001b[1;32m      2\u001b[0m \u001b[0;34m\u001b[0m\u001b[0m\n\u001b[1;32m      3\u001b[0m \u001b[0mprint\u001b[0m\u001b[0;34m(\u001b[0m\u001b[0mtype\u001b[0m\u001b[0;34m(\u001b[0m\u001b[0mmy_file\u001b[0m\u001b[0;34m)\u001b[0m\u001b[0;34m)\u001b[0m\u001b[0;34m\u001b[0m\u001b[0;34m\u001b[0m\u001b[0m\n",
            "\u001b[0;31mFileNotFoundError\u001b[0m: [Errno 2] No such file or directory: 'first_file.txt'"
          ]
        }
      ],
      "source": [
        "my_file = open(\"first_file.txt\")  # this syntax opens a 'txt' file \n",
        "\n",
        "print(type(my_file))"
      ]
    },
    {
      "cell_type": "code",
      "source": [
        "my_file = open(\"first_file.txt\", encoding=\"utf-8\")\n",
        "# we've used 'utf8' encoding format just the same as the previous one"
      ],
      "metadata": {
        "colab": {
          "base_uri": "https://localhost:8080/",
          "height": 183
        },
        "id": "piqqohsa8ThT",
        "outputId": "68780d6b-bee5-4716-981f-715b9341286b"
      },
      "execution_count": 5,
      "outputs": [
        {
          "output_type": "error",
          "ename": "FileNotFoundError",
          "evalue": "ignored",
          "traceback": [
            "\u001b[0;31m---------------------------------------------------------------------------\u001b[0m",
            "\u001b[0;31mFileNotFoundError\u001b[0m                         Traceback (most recent call last)",
            "\u001b[0;32m<ipython-input-5-00f42ff2e1ff>\u001b[0m in \u001b[0;36m<module>\u001b[0;34m()\u001b[0m\n\u001b[0;32m----> 1\u001b[0;31m \u001b[0mmy_file\u001b[0m \u001b[0;34m=\u001b[0m \u001b[0mopen\u001b[0m\u001b[0;34m(\u001b[0m\u001b[0;34m\"first_file.txt\"\u001b[0m\u001b[0;34m,\u001b[0m \u001b[0mencoding\u001b[0m\u001b[0;34m=\u001b[0m\u001b[0;34m\"utf-8\"\u001b[0m\u001b[0;34m)\u001b[0m\u001b[0;34m\u001b[0m\u001b[0;34m\u001b[0m\u001b[0m\n\u001b[0m\u001b[1;32m      2\u001b[0m \u001b[0;31m# we've used 'utf8' encoding format just the same as the previous one\u001b[0m\u001b[0;34m\u001b[0m\u001b[0;34m\u001b[0m\u001b[0;34m\u001b[0m\u001b[0m\n",
            "\u001b[0;31mFileNotFoundError\u001b[0m: [Errno 2] No such file or directory: 'first_file.txt'"
          ]
        }
      ]
    },
    {
      "cell_type": "code",
      "source": [
        "sea = open(\"fishes.txt\", 'r')   \n",
        "\n",
        "print(sea.read())  # displays the entire text content\n",
        "\n",
        "sea.close()  # be sure to close the file"
      ],
      "metadata": {
        "colab": {
          "base_uri": "https://localhost:8080/",
          "height": 235
        },
        "id": "4Emqz4oJFCMc",
        "outputId": "04665610-eea8-4a80-e852-0f5b58a49800"
      },
      "execution_count": 6,
      "outputs": [
        {
          "output_type": "error",
          "ename": "FileNotFoundError",
          "evalue": "ignored",
          "traceback": [
            "\u001b[0;31m---------------------------------------------------------------------------\u001b[0m",
            "\u001b[0;31mFileNotFoundError\u001b[0m                         Traceback (most recent call last)",
            "\u001b[0;32m<ipython-input-6-3b9329b30885>\u001b[0m in \u001b[0;36m<module>\u001b[0;34m()\u001b[0m\n\u001b[0;32m----> 1\u001b[0;31m \u001b[0msea\u001b[0m \u001b[0;34m=\u001b[0m \u001b[0mopen\u001b[0m\u001b[0;34m(\u001b[0m\u001b[0;34m\"fishes.txt\"\u001b[0m\u001b[0;34m,\u001b[0m \u001b[0;34m'r'\u001b[0m\u001b[0;34m)\u001b[0m\u001b[0;34m\u001b[0m\u001b[0;34m\u001b[0m\u001b[0m\n\u001b[0m\u001b[1;32m      2\u001b[0m \u001b[0;34m\u001b[0m\u001b[0m\n\u001b[1;32m      3\u001b[0m \u001b[0mprint\u001b[0m\u001b[0;34m(\u001b[0m\u001b[0msea\u001b[0m\u001b[0;34m.\u001b[0m\u001b[0mread\u001b[0m\u001b[0;34m(\u001b[0m\u001b[0;34m)\u001b[0m\u001b[0;34m)\u001b[0m  \u001b[0;31m# displays the entire text content\u001b[0m\u001b[0;34m\u001b[0m\u001b[0;34m\u001b[0m\u001b[0m\n\u001b[1;32m      4\u001b[0m \u001b[0;34m\u001b[0m\u001b[0m\n\u001b[1;32m      5\u001b[0m \u001b[0msea\u001b[0m\u001b[0;34m.\u001b[0m\u001b[0mclose\u001b[0m\u001b[0;34m(\u001b[0m\u001b[0;34m)\u001b[0m  \u001b[0;31m# be sure to close the file\u001b[0m\u001b[0;34m\u001b[0m\u001b[0;34m\u001b[0m\u001b[0m\n",
            "\u001b[0;31mFileNotFoundError\u001b[0m: [Errno 2] No such file or directory: 'fishes.txt'"
          ]
        }
      ]
    },
    {
      "cell_type": "code",
      "source": [
        "sea = open(\"fishes.txt\", 'r')   \n",
        "\n",
        "print(sea.readline(13))\n",
        "print(sea.readline(13))\n",
        "print(sea.readline(13))\n",
        "print(sea.readline(13))\n",
        "\n",
        "sea.close()"
      ],
      "metadata": {
        "id": "SVGRjkbbHXbK"
      },
      "execution_count": null,
      "outputs": []
    },
    {
      "cell_type": "code",
      "source": [
        "sea = open(\"fishes.txt\", 'r')   \n",
        "\n",
        "print(sea.readlines())\n",
        "\n",
        "sea.close()"
      ],
      "metadata": {
        "id": "6EU5_sn6Hb2q"
      },
      "execution_count": null,
      "outputs": []
    },
    {
      "cell_type": "code",
      "source": [
        "my_file = open(\"first_file.txt\", encoding=\"utf-8\")\n",
        "# we've used 'utf8' encoding format just the same as the previous one"
      ],
      "metadata": {
        "id": "h0kfyd0UNYZJ"
      },
      "execution_count": null,
      "outputs": []
    },
    {
      "cell_type": "code",
      "source": [
        "sea = open(\"fishes.txt\", 'r')   \n",
        "\n",
        "print(sea.read())  # displays the entire text content\n",
        "\n",
        "sea.close()  # be sure to close the file"
      ],
      "metadata": {
        "id": "zvkQgAQINhzt"
      },
      "execution_count": null,
      "outputs": []
    },
    {
      "cell_type": "code",
      "source": [
        "sea = open(\"fishes.txt\", 'r')   \n",
        "\n",
        "print(sea.readline())  # first line\n",
        "print(sea.readlines())  # the rest of the lines\n",
        "\n",
        "sea.close()"
      ],
      "metadata": {
        "id": "CoRtKPu8Hem6"
      },
      "execution_count": null,
      "outputs": []
    },
    {
      "cell_type": "code",
      "source": [
        "sea = open(\"fishes.txt\", 'r')   \n",
        "\n",
        "print(type(sea.readlines()))\n",
        "\n",
        "sea.close()"
      ],
      "metadata": {
        "id": "H3vg1aCGHgzC"
      },
      "execution_count": null,
      "outputs": []
    },
    {
      "cell_type": "code",
      "source": [
        "sea = open(\"fishes.txt\", 'r')   \n",
        "\n",
        "for line in sea:\n",
        "    print(line)\n",
        "\n",
        "sea.close()"
      ],
      "metadata": {
        "id": "KveaVnFGHmHG"
      },
      "execution_count": null,
      "outputs": []
    },
    {
      "cell_type": "code",
      "source": [
        "sea = open(\"fishes.txt\", 'r')   \n",
        "\n",
        "for line in sea.readlines():\n",
        "    print(line)\n",
        "\n",
        "sea.close()"
      ],
      "metadata": {
        "id": "MggTNlpkHo16"
      },
      "execution_count": null,
      "outputs": []
    },
    {
      "cell_type": "code",
      "source": [
        "with open(\"fishes.txt\", \"r\") as sea:\n",
        "    print(sea.read())  # needs indented code block"
      ],
      "metadata": {
        "id": "hvD0BjgAHsAn"
      },
      "execution_count": null,
      "outputs": []
    },
    {
      "cell_type": "code",
      "source": [
        "sea = open(\"fishes.txt\", 'r')   \n",
        "\n",
        "print(sea.read(33))  # displays the first 33 chars of the text\n",
        "print()\n",
        "print(sea.read(25))  # displays the next 25 chars of the text\n",
        "print()\n",
        "sea.seek(0)  # changes the stream (cursor) position to zero\n",
        "print(sea.read(33))  # displays the first 33 chars again\n",
        "print()\n",
        "print(sea.tell())  # returns the current stream (cursor) position\n",
        "\n",
        "sea.close()"
      ],
      "metadata": {
        "id": "MKSNVhnhNmZz"
      },
      "execution_count": null,
      "outputs": []
    }
  ]
}