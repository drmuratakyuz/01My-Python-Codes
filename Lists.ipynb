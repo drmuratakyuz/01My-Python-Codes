{
  "nbformat": 4,
  "nbformat_minor": 0,
  "metadata": {
    "colab": {
      "name": "Lists.ipynb",
      "provenance": [],
      "authorship_tag": "ABX9TyOWIuakDzXcpyqFVHjrvGyb",
      "include_colab_link": true
    },
    "kernelspec": {
      "name": "python3",
      "display_name": "Python 3"
    },
    "language_info": {
      "name": "python"
    }
  },
  "cells": [
    {
      "cell_type": "markdown",
      "metadata": {
        "id": "view-in-github",
        "colab_type": "text"
      },
      "source": [
        "<a href=\"https://colab.research.google.com/github/drmuratakyuz/My-Python-Codes/blob/main/Lists.ipynb\" target=\"_parent\"><img src=\"https://colab.research.google.com/assets/colab-badge.svg\" alt=\"Open In Colab\"/></a>"
      ]
    },
    {
      "cell_type": "code",
      "execution_count": 1,
      "metadata": {
        "colab": {
          "base_uri": "https://localhost:8080/",
          "height": 200
        },
        "id": "R3ydDa5ulUY7",
        "outputId": "bf9a2554-19c3-440f-97ce-12b9adfe0b92"
      },
      "outputs": [
        {
          "output_type": "error",
          "ename": "NameError",
          "evalue": "ignored",
          "traceback": [
            "\u001b[0;31m---------------------------------------------------------------------------\u001b[0m",
            "\u001b[0;31mNameError\u001b[0m                                 Traceback (most recent call last)",
            "\u001b[0;32m<ipython-input-1-728ae120d355>\u001b[0m in \u001b[0;36m<module>\u001b[0;34m()\u001b[0m\n\u001b[1;32m      5\u001b[0m \u001b[0mliste3\u001b[0m\u001b[0;34m=\u001b[0m\u001b[0;34m[\u001b[0m\u001b[0;36m0.5\u001b[0m\u001b[0;34m,\u001b[0m\u001b[0;36m1.7\u001b[0m\u001b[0;34m,\u001b[0m\u001b[0;36m67.89\u001b[0m\u001b[0;34m,\u001b[0m\u001b[0;36m3.14\u001b[0m\u001b[0;34m]\u001b[0m\u001b[0;34m\u001b[0m\u001b[0;34m\u001b[0m\u001b[0m\n\u001b[1;32m      6\u001b[0m \u001b[0mliste4\u001b[0m\u001b[0;34m=\u001b[0m\u001b[0;34m[\u001b[0m\u001b[0;34m'ali'\u001b[0m\u001b[0;34m,\u001b[0m\u001b[0;34m'veli'\u001b[0m\u001b[0;34m,\u001b[0m\u001b[0;34m'yılmaz'\u001b[0m\u001b[0;34m,\u001b[0m\u001b[0;34m'hayri'\u001b[0m\u001b[0;34m]\u001b[0m\u001b[0;34m\u001b[0m\u001b[0;34m\u001b[0m\u001b[0m\n\u001b[0;32m----> 7\u001b[0;31m \u001b[0mliste5\u001b[0m \u001b[0;34m=\u001b[0m \u001b[0mlist\u001b[0m\u001b[0;34m(\u001b[0m\u001b[0mifade\u001b[0m \u001b[0;32mfor\u001b[0m \u001b[0mdegisken\u001b[0m \u001b[0;32min\u001b[0m \u001b[0msequence\u001b[0m\u001b[0;34m)\u001b[0m \u001b[0;31m# Hesaplanan bir liste\u001b[0m\u001b[0;34m\u001b[0m\u001b[0;34m\u001b[0m\u001b[0m\n\u001b[0m",
            "\u001b[0;31mNameError\u001b[0m: name 'sequence' is not defined"
          ]
        }
      ],
      "source": [
        "liste= [] #boş list\n",
        "liste=list()\n",
        "liste1=[1,2,3,4,5,6]\n",
        "liste2=['a','b','c']\n",
        "liste3=[0.5,1.7,67.89,3.14]\n",
        "liste4=['ali','veli','yılmaz','hayri']\n",
        "liste5 = list(ifade for degisken in sequence) # Hesaplanan bir liste"
      ]
    },
    {
      "cell_type": "code",
      "source": [
        "liste=[1,2,'ali',0.25]\n",
        "print(liste)\n"
      ],
      "metadata": {
        "colab": {
          "base_uri": "https://localhost:8080/"
        },
        "id": "htWpkoEXlfus",
        "outputId": "b914f337-232d-4510-d995-67cc5307b242"
      },
      "execution_count": 3,
      "outputs": [
        {
          "output_type": "stream",
          "name": "stdout",
          "text": [
            "[1, 2, 'ali', 0.25]\n"
          ]
        }
      ]
    },
    {
      "cell_type": "code",
      "source": [
        "\n",
        "fruit =\"plum\"\n",
        "meyve = 5 +fruit[0:]\n",
        "print(fruit)"
      ],
      "metadata": {
        "colab": {
          "base_uri": "https://localhost:8080/",
          "height": 217
        },
        "id": "Qo_MKUuulsqH",
        "outputId": "4c95625d-2b83-4b27-a3d5-c0cff982d70e"
      },
      "execution_count": 4,
      "outputs": [
        {
          "output_type": "error",
          "ename": "TypeError",
          "evalue": "ignored",
          "traceback": [
            "\u001b[0;31m---------------------------------------------------------------------------\u001b[0m",
            "\u001b[0;31mTypeError\u001b[0m                                 Traceback (most recent call last)",
            "\u001b[0;32m<ipython-input-4-b208b279321c>\u001b[0m in \u001b[0;36m<module>\u001b[0;34m()\u001b[0m\n\u001b[1;32m      1\u001b[0m \u001b[0;34m\u001b[0m\u001b[0m\n\u001b[1;32m      2\u001b[0m \u001b[0mfruit\u001b[0m \u001b[0;34m=\u001b[0m\u001b[0;34m\"plum\"\u001b[0m\u001b[0;34m\u001b[0m\u001b[0;34m\u001b[0m\u001b[0m\n\u001b[0;32m----> 3\u001b[0;31m \u001b[0mmeyve\u001b[0m \u001b[0;34m=\u001b[0m \u001b[0;36m5\u001b[0m \u001b[0;34m+\u001b[0m\u001b[0mfruit\u001b[0m\u001b[0;34m[\u001b[0m\u001b[0;36m0\u001b[0m\u001b[0;34m:\u001b[0m\u001b[0;34m]\u001b[0m\u001b[0;34m\u001b[0m\u001b[0;34m\u001b[0m\u001b[0m\n\u001b[0m\u001b[1;32m      4\u001b[0m \u001b[0mprint\u001b[0m\u001b[0;34m(\u001b[0m\u001b[0mfruit\u001b[0m\u001b[0;34m)\u001b[0m\u001b[0;34m\u001b[0m\u001b[0;34m\u001b[0m\u001b[0m\n",
            "\u001b[0;31mTypeError\u001b[0m: unsupported operand type(s) for +: 'int' and 'str'"
          ]
        }
      ]
    },
    {
      "cell_type": "code",
      "source": [
        "fruit =\"plum\"\n",
        "fruit = \"apple-\" +fruit[0:]\n",
        "print(fruit)\n",
        "liste=['a','b']\n",
        "liste[1]=2\n",
        "print(liste)"
      ],
      "metadata": {
        "colab": {
          "base_uri": "https://localhost:8080/"
        },
        "id": "e8UbTLdAl7rn",
        "outputId": "6c83c39b-5be3-4592-e378-e707a3b7eae4"
      },
      "execution_count": 5,
      "outputs": [
        {
          "output_type": "stream",
          "name": "stdout",
          "text": [
            "apple-plum\n",
            "['a', 2]\n"
          ]
        }
      ]
    },
    {
      "cell_type": "code",
      "source": [
        "liste=[ ] #veya liste=list()\n",
        "print(liste)"
      ],
      "metadata": {
        "colab": {
          "base_uri": "https://localhost:8080/"
        },
        "id": "7XB7PeyBmNIH",
        "outputId": "20dd436d-8afb-495b-d1da-de678952fc33"
      },
      "execution_count": 6,
      "outputs": [
        {
          "output_type": "stream",
          "name": "stdout",
          "text": [
            "[]\n"
          ]
        }
      ]
    },
    {
      "cell_type": "code",
      "source": [
        "colors = ['Red', 'Orange', 'Yellow', 'Green', 'Blue', 'Indigo', 'Violet']\n",
        "print('The list of colors is printed to screen: ')\n",
        "print(colors)"
      ],
      "metadata": {
        "colab": {
          "base_uri": "https://localhost:8080/"
        },
        "id": "mXTAAJFtlXsR",
        "outputId": "215173fb-1c81-44ed-999c-37112266cd70"
      },
      "execution_count": 8,
      "outputs": [
        {
          "output_type": "stream",
          "name": "stdout",
          "text": [
            "The list of colors is printed to screen: \n",
            "['Red', 'Orange', 'Yellow', 'Green', 'Blue', 'Indigo', 'Violet']\n"
          ]
        }
      ]
    },
    {
      "cell_type": "code",
      "source": [
        "liste1 = ['a','b','c','d','e','f']\n",
        "print(liste1)"
      ],
      "metadata": {
        "colab": {
          "base_uri": "https://localhost:8080/"
        },
        "id": "HWkbk9U4mkNS",
        "outputId": "b2ed528f-1862-4aa6-8117-f2d5656960ab"
      },
      "execution_count": 9,
      "outputs": [
        {
          "output_type": "stream",
          "name": "stdout",
          "text": [
            "['a', 'b', 'c', 'd', 'e', 'f']\n"
          ]
        }
      ]
    },
    {
      "cell_type": "code",
      "source": [
        "liste2=['python','geleceği','olan','bir','dil',500,0.567]\n",
        "print(liste2)"
      ],
      "metadata": {
        "colab": {
          "base_uri": "https://localhost:8080/"
        },
        "id": "Ngq9KlGnmp1f",
        "outputId": "f2f4ed15-c33a-4c9e-e050-e6bcd3490367"
      },
      "execution_count": 10,
      "outputs": [
        {
          "output_type": "stream",
          "name": "stdout",
          "text": [
            "['python', 'geleceği', 'olan', 'bir', 'dil', 500, 0.567]\n"
          ]
        }
      ]
    },
    {
      "cell_type": "code",
      "source": [
        "liste=[\"birinici veri\",\"ikinci veri\",\"üçüncü veri \",\"dördüncü veri\",\"beşinci veri\"]\n",
        "#beş elemenlı listenin ilk verisi\n",
        "print(liste[0])\n",
        "#beş elemenlı listenin son verisi\n",
        "print(liste[4])\n",
        "print(liste[-1])"
      ],
      "metadata": {
        "colab": {
          "base_uri": "https://localhost:8080/"
        },
        "id": "EPAmgil5mvjA",
        "outputId": "d574d44b-04f0-4cdb-c4be-e62fe8a9189f"
      },
      "execution_count": 12,
      "outputs": [
        {
          "output_type": "stream",
          "name": "stdout",
          "text": [
            "birinici veri\n",
            "beşinci veri\n",
            "beşinci veri\n"
          ]
        }
      ]
    },
    {
      "cell_type": "code",
      "source": [
        "liste=[\"apple\",\"pear\",\"chery\",\"orange\"]\n",
        "print(liste)\n",
        "print(liste[1])"
      ],
      "metadata": {
        "colab": {
          "base_uri": "https://localhost:8080/"
        },
        "id": "mRrCIFURm9NA",
        "outputId": "7e1f076c-7961-4c3b-952e-9d3c3b9dd014"
      },
      "execution_count": 13,
      "outputs": [
        {
          "output_type": "stream",
          "name": "stdout",
          "text": [
            "['apple', 'pear', 'chery', 'orange']\n",
            "pear\n"
          ]
        }
      ]
    },
    {
      "cell_type": "code",
      "source": [
        "stuffs = [\"mirroe\", \"television\", \"curtain\"]\n",
        "if(\"curtain\" in stuffs):\n",
        "  print(\"This value is in the list.\")\n",
        "else:\n",
        "  print(\"This value is not in the list\")"
      ],
      "metadata": {
        "colab": {
          "base_uri": "https://localhost:8080/"
        },
        "id": "1qvZoaU2nH7j",
        "outputId": "663506d4-271d-436e-ac36-c3873f97a8e0"
      },
      "execution_count": 15,
      "outputs": [
        {
          "output_type": "stream",
          "name": "stdout",
          "text": [
            "This value is in the list.\n"
          ]
        }
      ]
    },
    {
      "cell_type": "code",
      "source": [
        "my_list = [1,2,3,4,5]\n",
        "components = my_list[1:3]\n",
        "print(components)"
      ],
      "metadata": {
        "colab": {
          "base_uri": "https://localhost:8080/"
        },
        "id": "zMqAx3RbnoH7",
        "outputId": "855a71ee-d362-47a4-8d4b-0ad156b8c618"
      },
      "execution_count": 16,
      "outputs": [
        {
          "output_type": "stream",
          "name": "stdout",
          "text": [
            "['b', 'c']\n"
          ]
        }
      ]
    },
    {
      "cell_type": "code",
      "source": [
        "my_list=[10,20,30,40,50]\n",
        "component = my_list[3]\n",
        "print(component)\n",
        "components = my_list[1:3]\n",
        "print(components)"
      ],
      "metadata": {
        "colab": {
          "base_uri": "https://localhost:8080/"
        },
        "id": "BXfqUeBInzqj",
        "outputId": "255cd726-4710-4d21-8e92-fd2d0d8b2cdb"
      },
      "execution_count": 18,
      "outputs": [
        {
          "output_type": "stream",
          "name": "stdout",
          "text": [
            "40\n",
            "[20, 30]\n"
          ]
        }
      ]
    },
    {
      "cell_type": "code",
      "source": [
        "my_list = [1,2,3,4,5,6,7,8,9,10]\n",
        "print(my_list)\n",
        "# 1st component\n",
        "print(my_list[0])\n",
        "# 6th component\n",
        "print(my_list[5])\n",
        "# First 5 components\n",
        "print(my_list[:5])\n",
        "# From 1st to 5th components\n",
        "print(my_list[1:7])\n",
        "print(my_list[5:])\n",
        "print(my_list[::2])"
      ],
      "metadata": {
        "colab": {
          "base_uri": "https://localhost:8080/"
        },
        "id": "MSud6y5Boe-o",
        "outputId": "947cee49-931c-4ef0-f502-362071e745ee"
      },
      "execution_count": 19,
      "outputs": [
        {
          "output_type": "stream",
          "name": "stdout",
          "text": [
            "[1, 2, 3, 4, 5, 6, 7, 8, 9, 10]\n",
            "1\n",
            "6\n",
            "[1, 2, 3, 4, 5]\n",
            "[2, 3, 4, 5, 6, 7]\n",
            "[6, 7, 8, 9, 10]\n",
            "[1, 3, 5, 7, 9]\n"
          ]
        }
      ]
    },
    {
      "cell_type": "code",
      "source": [
        "liste = [ \"hello\", \"word\", \"hi\", \"bye bye\" ]\n",
        "print (liste [- 1 ]) \n",
        "print( liste [- 3 ]) \n",
        "print(liste [- 4 ]) \n",
        "print(liste[::-1]) "
      ],
      "metadata": {
        "colab": {
          "base_uri": "https://localhost:8080/"
        },
        "id": "eSc5eu9ApHbr",
        "outputId": "5738bc5e-f068-418d-f0db-981de4c4b098"
      },
      "execution_count": 20,
      "outputs": [
        {
          "output_type": "stream",
          "name": "stdout",
          "text": [
            "bye bye\n",
            "word\n",
            "hello\n",
            "['bye bye', 'hi', 'word', 'hello']\n"
          ]
        }
      ]
    },
    {
      "cell_type": "code",
      "source": [
        "#using append\n",
        "teams=[\"gs\",\"fb\",\"bjk\"]\n",
        "teams.append(\"ts\")\n",
        "print(teams)"
      ],
      "metadata": {
        "colab": {
          "base_uri": "https://localhost:8080/"
        },
        "id": "iPU9P_BVpj8A",
        "outputId": "d1e9a96b-587c-472c-bbcc-ef3958c040f2"
      },
      "execution_count": 21,
      "outputs": [
        {
          "output_type": "stream",
          "name": "stdout",
          "text": [
            "['gs', 'fb', 'bjk', 'ts']\n"
          ]
        }
      ]
    },
    {
      "cell_type": "code",
      "source": [
        "# using insert\n",
        "vegetables =[\"cabbage\",\"lettuce\",\"leek\",\"spinach\",\"bean\"]\n",
        "vegetables.insert(2,\"eggpant\")\n",
        "print(vegetables)"
      ],
      "metadata": {
        "colab": {
          "base_uri": "https://localhost:8080/"
        },
        "id": "5IF9-3nAp0kB",
        "outputId": "97995396-f168-40a9-9ff1-4c5d50045b79"
      },
      "execution_count": 23,
      "outputs": [
        {
          "output_type": "stream",
          "name": "stdout",
          "text": [
            "['cabbage', 'lettuce', 'eggpant', 'leek', 'spinach', 'bean']\n"
          ]
        }
      ]
    },
    {
      "cell_type": "code",
      "source": [
        "# using copy\n",
        "states1 =[\"texas\",\"ohio\",\"virginia\",\"california\",\"florida\"]\n",
        "states2=[]\n",
        "states2 = states1.copy()\n",
        "print(states2)"
      ],
      "metadata": {
        "colab": {
          "base_uri": "https://localhost:8080/"
        },
        "id": "cfxdr1Xoqfq8",
        "outputId": "f2753eee-8ee0-49ea-ac3d-8cad0798eee4"
      },
      "execution_count": 24,
      "outputs": [
        {
          "output_type": "stream",
          "name": "stdout",
          "text": [
            "['texas', 'ohio', 'virginia', 'california', 'florida']\n"
          ]
        }
      ]
    },
    {
      "cell_type": "code",
      "source": [
        "# using count\n",
        "teams = ['GS','FB','BJK','TS']\n",
        "print(teams.count('FB'))"
      ],
      "metadata": {
        "colab": {
          "base_uri": "https://localhost:8080/"
        },
        "id": "h23DJ3Fqq3g6",
        "outputId": "c8d9d382-62b5-4626-98e5-15f3392e8b5f"
      },
      "execution_count": 25,
      "outputs": [
        {
          "output_type": "stream",
          "name": "stdout",
          "text": [
            "1\n"
          ]
        }
      ]
    },
    {
      "cell_type": "code",
      "source": [
        "# using extend\n",
        "birds1=[\"quail\",\"parrot\",\"eagle\",\"vulture\",\"hawk\"]\n",
        "birds2=[\"owl\",\"parakeet\"]\n",
        "birds1.extend(birds2)\n",
        "print(birds1)"
      ],
      "metadata": {
        "colab": {
          "base_uri": "https://localhost:8080/"
        },
        "id": "krENcD8tq3ip",
        "outputId": "7210bf2b-3f0f-4ee5-b00f-4c359e49fc10"
      },
      "execution_count": 26,
      "outputs": [
        {
          "output_type": "stream",
          "name": "stdout",
          "text": [
            "['quail', 'parrot', 'eagle', 'vulture', 'hawk', 'owl', 'parakeet']\n"
          ]
        }
      ]
    },
    {
      "cell_type": "code",
      "source": [
        "# using pop\n",
        "vegetables =[\"cabbage\",\"lettuce\",\"leek\",\"spinach\",\"bean\"]\n",
        "vegetables.pop(2)\n",
        "\n",
        "print(vegetables)"
      ],
      "metadata": {
        "colab": {
          "base_uri": "https://localhost:8080/"
        },
        "id": "Zx6zHw8yrlZL",
        "outputId": "93e739f1-9d66-4a17-d676-bc2ea05dcc5a"
      },
      "execution_count": 32,
      "outputs": [
        {
          "output_type": "stream",
          "name": "stdout",
          "text": [
            "['cabbage', 'lettuce', 'spinach', 'bean']\n"
          ]
        }
      ]
    },
    {
      "cell_type": "code",
      "source": [
        "# using clear\n",
        "\n",
        "my_list =[\"quince\",\"pomegranate\",\"cherry\",\"apricot\",\"Grape\"]\n",
        "my_list.clear()\n",
        "print(my_list)\n"
      ],
      "metadata": {
        "colab": {
          "base_uri": "https://localhost:8080/"
        },
        "id": "xVlYBAP-sC9R",
        "outputId": "82a28cd2-b269-452a-e06d-955d15ed0b1a"
      },
      "execution_count": 31,
      "outputs": [
        {
          "output_type": "stream",
          "name": "stdout",
          "text": [
            "[]\n"
          ]
        }
      ]
    },
    {
      "cell_type": "code",
      "source": [
        "# using remove\n",
        "states1 =[\"texas\",\"ohio\",\"virginia\",\"california\",\"florida\"]\n",
        "states1.remove(\"virginia\")\n",
        "print(states1)"
      ],
      "metadata": {
        "colab": {
          "base_uri": "https://localhost:8080/"
        },
        "id": "L2n2HuXxs80L",
        "outputId": "183e9cdb-d4f2-4710-9c6c-719e0bfda908"
      },
      "execution_count": 33,
      "outputs": [
        {
          "output_type": "stream",
          "name": "stdout",
          "text": [
            "['texas', 'ohio', 'california', 'florida']\n"
          ]
        }
      ]
    },
    {
      "cell_type": "code",
      "source": [
        "# using del\n",
        "states1 =[\"texas\",\"ohio\",\"virginia\",\"california\",\"florida\"]\n",
        "del states1[2]\n",
        "print(states1)"
      ],
      "metadata": {
        "colab": {
          "base_uri": "https://localhost:8080/"
        },
        "id": "dIUgIqG_uJJg",
        "outputId": "7c184dcb-a5eb-4e36-b77f-1eb5d30bb424"
      },
      "execution_count": 39,
      "outputs": [
        {
          "output_type": "stream",
          "name": "stdout",
          "text": [
            "['texas', 'ohio', 'california', 'florida']\n"
          ]
        }
      ]
    },
    {
      "cell_type": "code",
      "source": [
        "# usung reverse\n",
        "numbers=[10,20,30,40,50,60,70]\n",
        "numbers.reverse()\n",
        "print(numbers)"
      ],
      "metadata": {
        "colab": {
          "base_uri": "https://localhost:8080/"
        },
        "id": "QZkTSLTotSEW",
        "outputId": "7a66f329-0871-4f0c-b081-92a3f7ae8e6c"
      },
      "execution_count": 34,
      "outputs": [
        {
          "output_type": "stream",
          "name": "stdout",
          "text": [
            "[70, 60, 50, 40, 30, 20, 10]\n"
          ]
        }
      ]
    },
    {
      "cell_type": "code",
      "source": [
        "# using sort\n",
        "states1 =[\"texas\",\"ohio\",\"virginia\",\"california\",\"florida\"]\n",
        "states1.sort()\n",
        "print(states1)"
      ],
      "metadata": {
        "colab": {
          "base_uri": "https://localhost:8080/"
        },
        "id": "5rwVGDhutph2",
        "outputId": "fea15fac-cd5e-491b-ff13-4986c9921dfb"
      },
      "execution_count": 36,
      "outputs": [
        {
          "output_type": "stream",
          "name": "stdout",
          "text": [
            "['california', 'florida', 'ohio', 'texas', 'virginia']\n"
          ]
        }
      ]
    },
    {
      "cell_type": "code",
      "source": [
        "# using len\n",
        "team = \"Boston\"\n",
        "states1 =[\"texas\",\"ohio\",\"virginia\",\"california\",\"florida\"]\n",
        "print(len(team))\n",
        "print(len(states1))"
      ],
      "metadata": {
        "colab": {
          "base_uri": "https://localhost:8080/"
        },
        "id": "KE9DaS9ntzA5",
        "outputId": "3ff9769b-297a-4fc9-ef12-190794fb9176"
      },
      "execution_count": 40,
      "outputs": [
        {
          "output_type": "stream",
          "name": "stdout",
          "text": [
            "6\n",
            "5\n"
          ]
        }
      ]
    },
    {
      "cell_type": "code",
      "source": [
        "# nested lists\n",
        "list1 = [1,2,3]\n",
        "list2 = [4,5,6]\n",
        "list3 = [7,8,9]\n",
        "newlist = [list1,list2,list3]\n",
        "print(newlist)"
      ],
      "metadata": {
        "colab": {
          "base_uri": "https://localhost:8080/"
        },
        "id": "5CqtOceiutl3",
        "outputId": "3fefcbf6-9b5b-4691-dd56-443be0a0c463"
      },
      "execution_count": 41,
      "outputs": [
        {
          "output_type": "stream",
          "name": "stdout",
          "text": [
            "[[1, 2, 3], [4, 5, 6], [7, 8, 9]]\n"
          ]
        }
      ]
    },
    {
      "cell_type": "code",
      "source": [
        "vegetables=[]\n",
        "vegetables.append(['green','spinach'])\n",
        "vegetables.append(['white','cabbage'])\n",
        "vegetables.append(['orange','carrot'])\n",
        "vegetables.append(['black','radish'])\n",
        "vegetables.append(['red','tometoes'])\n",
        "print(vegetables)"
      ],
      "metadata": {
        "colab": {
          "base_uri": "https://localhost:8080/"
        },
        "id": "gW4EGuSIu-xC",
        "outputId": "78a40967-0dc7-4a19-a5d7-41bea39af4db"
      },
      "execution_count": 43,
      "outputs": [
        {
          "output_type": "stream",
          "name": "stdout",
          "text": [
            "[['green', 'spinach'], ['white', 'cabbage'], ['orange', 'carrot'], ['black', 'radish'], ['red', 'tometoes']]\n"
          ]
        }
      ]
    },
    {
      "cell_type": "code",
      "source": [
        "vegetables=[]\n",
        "vegetables.append(['green','spinach'])\n",
        "vegetables.append(['white','cabbage'])\n",
        "vegetables.append(['orange','carrot'])\n",
        "vegetables.append(['black','radish'])\n",
        "vegetables.append(['red','tometoes'])\n",
        "print(vegetables[1])\n",
        "print(vegetables[1:4])\n",
        "print(vegetables[-1])\n",
        "print(vegetables[0])"
      ],
      "metadata": {
        "colab": {
          "base_uri": "https://localhost:8080/"
        },
        "id": "MZbHl3TsvpRs",
        "outputId": "00a09886-41f6-4c3f-a5e7-eedd1392b299"
      },
      "execution_count": 44,
      "outputs": [
        {
          "output_type": "stream",
          "name": "stdout",
          "text": [
            "['white', 'cabbage']\n",
            "[['white', 'cabbage'], ['orange', 'carrot'], ['black', 'radish']]\n",
            "['red', 'tometoes']\n",
            "['green', 'spinach']\n"
          ]
        }
      ]
    },
    {
      "cell_type": "code",
      "source": [
        "vegetables=[]\n",
        "vegetables.append(['green','spinach'])\n",
        "vegetables.append(['white','cabbage'])\n",
        "vegetables.append(['orange','carrot'])\n",
        "vegetables.append(['black','radish'])\n",
        "vegetables.append(['red','tometoes'])\n",
        "print(vegetables[1][0])\n",
        "print(vegetables[2])\n",
        "print(vegetables[-1][0])\n",
        "print(vegetables[0][1])"
      ],
      "metadata": {
        "colab": {
          "base_uri": "https://localhost:8080/"
        },
        "id": "PVeuP5HCv1fO",
        "outputId": "0d31429c-ccba-40e8-afa2-fbedb88bd43e"
      },
      "execution_count": 51,
      "outputs": [
        {
          "output_type": "stream",
          "name": "stdout",
          "text": [
            "white\n",
            "['orange', 'carrot']\n",
            "red\n",
            "spinach\n"
          ]
        }
      ]
    },
    {
      "cell_type": "code",
      "source": [
        "# Lets set 3 lists.\n",
        "first_list = [1,2,3]\n",
        "second_list = ['a','b','c']\n",
        "third_list= [40,50,60]\n",
        "last_list= [first_list,second_list,third_list]\n",
        "print(last_list)\n",
        "print()\n",
        "print(last_list[1][0],last_list[2][1])\n"
      ],
      "metadata": {
        "colab": {
          "base_uri": "https://localhost:8080/"
        },
        "id": "l21nUdwHwlpz",
        "outputId": "81695a86-9da5-4dc5-ebd0-c4a0492cbf9c"
      },
      "execution_count": 54,
      "outputs": [
        {
          "output_type": "stream",
          "name": "stdout",
          "text": [
            "[[1, 2, 3], ['a', 'b', 'c'], [40, 50, 60]]\n",
            "\n",
            "a 50\n"
          ]
        }
      ]
    },
    {
      "cell_type": "code",
      "source": [
        "list0=[1,2,3,4,5,'kansas']\n",
        "print(list0)\n",
        "list0[0]=str(\"kansas\")\n",
        "list0[2]=float(1.5)\n",
        "list0[5]=int(20)\n",
        "print(list0)"
      ],
      "metadata": {
        "colab": {
          "base_uri": "https://localhost:8080/"
        },
        "id": "S9eiwdCwxWcW",
        "outputId": "b4a44a7c-6eea-4ec5-e8fb-3d31938f160f"
      },
      "execution_count": 59,
      "outputs": [
        {
          "output_type": "stream",
          "name": "stdout",
          "text": [
            "[1, 2, 3, 4, 5, 'kansas']\n",
            "['kansas', 2, 1.5, 4, 5, 20]\n"
          ]
        }
      ]
    },
    {
      "cell_type": "code",
      "source": [
        "fruit=\"apple\"\n",
        "list1=list(fruit)\n",
        "print (list1)\n",
        "print(len(list1))\n"
      ],
      "metadata": {
        "colab": {
          "base_uri": "https://localhost:8080/"
        },
        "id": "MSKUvcTRx4Zj",
        "outputId": "e389ae9b-b843-42dc-c174-86dd54074fab"
      },
      "execution_count": 61,
      "outputs": [
        {
          "output_type": "stream",
          "name": "stdout",
          "text": [
            "['a', 'p', 'p', 'l', 'e']\n",
            "5\n"
          ]
        }
      ]
    },
    {
      "cell_type": "code",
      "source": [
        "# using range\n",
        "list1=list(range(1,15,2))\n",
        "print(list1)\n",
        "list1.sort()\n",
        "print(list1)\n",
        "list1.reverse()\n",
        "print(list1)"
      ],
      "metadata": {
        "colab": {
          "base_uri": "https://localhost:8080/"
        },
        "id": "FUc4KEdMyJKU",
        "outputId": "88daca8f-4a5f-47bf-acee-0d7f7375e48d"
      },
      "execution_count": 62,
      "outputs": [
        {
          "output_type": "stream",
          "name": "stdout",
          "text": [
            "[1, 3, 5, 7, 9, 11, 13]\n",
            "[1, 3, 5, 7, 9, 11, 13]\n",
            "[13, 11, 9, 7, 5, 3, 1]\n"
          ]
        }
      ]
    },
    {
      "cell_type": "code",
      "source": [
        "# using split\n",
        "inf=input(\"Enter your information using comma: \")\n",
        "list1=inf.split(\",\")\n",
        "print(list1)\n"
      ],
      "metadata": {
        "colab": {
          "base_uri": "https://localhost:8080/"
        },
        "id": "SNQAqCxdyXKz",
        "outputId": "9c007425-be94-4a8b-ca96-0d316a48db02"
      },
      "execution_count": 63,
      "outputs": [
        {
          "output_type": "stream",
          "name": "stdout",
          "text": [
            "Enter your information using comma: murat,akyuz,bursa,erzurum\n",
            "['murat', 'akyuz', 'bursa', 'erzurum']\n"
          ]
        }
      ]
    },
    {
      "cell_type": "code",
      "source": [
        "my_list = ['a','e','i','o','i','u']\n",
        "print(my_list.count('i'))\n",
        "print(my_list.count('p'))"
      ],
      "metadata": {
        "colab": {
          "base_uri": "https://localhost:8080/"
        },
        "id": "auh-zRcsyvzr",
        "outputId": "109299a6-37ba-499f-9ca3-91c962238931"
      },
      "execution_count": 66,
      "outputs": [
        {
          "output_type": "stream",
          "name": "stdout",
          "text": [
            "2\n",
            "0\n"
          ]
        }
      ]
    },
    {
      "cell_type": "code",
      "source": [
        "list1, list2, list3, list4 = ['a'],[1],['hello'],[1.5]\n",
        "print(list1)\n",
        "print(list2)\n",
        "print(list3)\n",
        "print(list4)"
      ],
      "metadata": {
        "colab": {
          "base_uri": "https://localhost:8080/"
        },
        "id": "7TCVEf5xzYl6",
        "outputId": "165ca5e2-86f5-4bcb-99f4-f167afa69f56"
      },
      "execution_count": 67,
      "outputs": [
        {
          "output_type": "stream",
          "name": "stdout",
          "text": [
            "['a']\n",
            "[1]\n",
            "['hello']\n",
            "[1.5]\n"
          ]
        }
      ]
    },
    {
      "cell_type": "code",
      "source": [
        "list1 = ['a','b','c']\n",
        "list2 = ['d','e']\n",
        "newlist = list1 + list2\n",
        "print(newlist)"
      ],
      "metadata": {
        "colab": {
          "base_uri": "https://localhost:8080/"
        },
        "id": "HS9qChSSzz-y",
        "outputId": "32b41613-353f-45f3-9c2e-a8f9fbce8a25"
      },
      "execution_count": 68,
      "outputs": [
        {
          "output_type": "stream",
          "name": "stdout",
          "text": [
            "['a', 'b', 'c', 'd', 'e']\n"
          ]
        }
      ]
    },
    {
      "cell_type": "code",
      "source": [
        "list1 = [34,1,56,334,23,2,3,19]\n",
        "list1.sort()\n",
        "print(list1)\n",
        "list1.reverse()\n",
        "print(list1)"
      ],
      "metadata": {
        "colab": {
          "base_uri": "https://localhost:8080/"
        },
        "id": "jrU50w3c0GqD",
        "outputId": "66b1cea9-112d-4f67-d7d3-94cb0ec300a5"
      },
      "execution_count": 75,
      "outputs": [
        {
          "output_type": "stream",
          "name": "stdout",
          "text": [
            "[1, 2, 3, 19, 23, 34, 56, 334]\n",
            "[334, 56, 34, 23, 19, 3, 2, 1]\n"
          ]
        }
      ]
    },
    {
      "cell_type": "code",
      "source": [
        "mylist= [\"Hi\", \"World\", \"How are you?\", \"Well done\"]\n",
        "print(mylist[-1])\n",
        "print(mylist[-3])\n",
        "print(mylist[-4])"
      ],
      "metadata": {
        "colab": {
          "base_uri": "https://localhost:8080/"
        },
        "id": "bTRSKy6i1TG9",
        "outputId": "51462872-9bfc-4e50-eed0-6fb3220084d4"
      },
      "execution_count": 76,
      "outputs": [
        {
          "output_type": "stream",
          "name": "stdout",
          "text": [
            "Well done\n",
            "World\n",
            "Hi\n"
          ]
        }
      ]
    },
    {
      "cell_type": "code",
      "source": [
        "mylist = [1, 2, 3, 4, 5, 6, 7]\n",
        "print(mylist[1:3])\n",
        "print(mylist[0:3])\n",
        "print(mylist[3:])\n",
        "print(mylist)"
      ],
      "metadata": {
        "colab": {
          "base_uri": "https://localhost:8080/"
        },
        "id": "wDoL8zhC1oFD",
        "outputId": "285341cd-8581-41ed-ec7c-1694939f2b31"
      },
      "execution_count": 80,
      "outputs": [
        {
          "output_type": "stream",
          "name": "stdout",
          "text": [
            "[2, 3]\n",
            "[1, 2, 3]\n",
            "[4, 5, 6, 7]\n",
            "[1, 2, 3, 4, 5, 6, 7]\n"
          ]
        }
      ]
    },
    {
      "cell_type": "code",
      "source": [
        "names = ['David','Michael','Victor']\n",
        "surnames = ['Johnson','Harrison','Smith']\n",
        "name_surname1 = names[0]+'\\t'+surnames[0]\n",
        "name_surname2 = names[1]+'\\t'+surnames[1]\n",
        "name_surname3 = names[2]+'\\t'+surnames[2]\n",
        "\n",
        "print(name_surname1)\n",
        "print(name_surname2)\n",
        "print(name_surname3)\n",
        "\n"
      ],
      "metadata": {
        "colab": {
          "base_uri": "https://localhost:8080/"
        },
        "id": "HQQ0mUMu2ID9",
        "outputId": "b1331c58-fb96-4af3-8489-19dfcaa49a59"
      },
      "execution_count": 83,
      "outputs": [
        {
          "output_type": "stream",
          "name": "stdout",
          "text": [
            "David\tJohnson\n",
            "Michael\tHarrison\n",
            "Victor\tSmith\n"
          ]
        }
      ]
    },
    {
      "cell_type": "code",
      "source": [
        "mylist = ['one','two','four']\n",
        "mylist.insert(2,'three')\n",
        "mylist.append('five')\n",
        "print(mylist)"
      ],
      "metadata": {
        "colab": {
          "base_uri": "https://localhost:8080/"
        },
        "id": "npQJSV2d3MCa",
        "outputId": "0345eaaf-58e4-463c-a348-284b5c5ae4f0"
      },
      "execution_count": 86,
      "outputs": [
        {
          "output_type": "stream",
          "name": "stdout",
          "text": [
            "['one', 'two', 'three', 'four', 'five']\n"
          ]
        }
      ]
    },
    {
      "cell_type": "code",
      "source": [
        "mylist = ['first value', 'second value', 'third value','fourth value','fifht value']\n",
        "print(mylist[0])\n",
        "print(mylist[4])\n",
        "print(mylist[-1])"
      ],
      "metadata": {
        "colab": {
          "base_uri": "https://localhost:8080/"
        },
        "id": "VaylWecW35oS",
        "outputId": "15cb061d-f474-4fee-fb54-91c37951a53d"
      },
      "execution_count": 90,
      "outputs": [
        {
          "output_type": "stream",
          "name": "stdout",
          "text": [
            "first value\n",
            "fifht value\n",
            "fifht value\n"
          ]
        }
      ]
    }
  ]
}