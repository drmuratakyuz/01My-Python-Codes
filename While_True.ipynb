{
  "nbformat": 4,
  "nbformat_minor": 0,
  "metadata": {
    "colab": {
      "name": "While_True.ipynb",
      "provenance": [],
      "authorship_tag": "ABX9TyOdyDn6Lr6uNh2hPSzAU1Hg",
      "include_colab_link": true
    },
    "kernelspec": {
      "name": "python3",
      "display_name": "Python 3"
    },
    "language_info": {
      "name": "python"
    }
  },
  "cells": [
    {
      "cell_type": "markdown",
      "metadata": {
        "id": "view-in-github",
        "colab_type": "text"
      },
      "source": [
        "<a href=\"https://colab.research.google.com/github/drmuratakyuz/My-Python-Codes/blob/main/While_True.ipynb\" target=\"_parent\"><img src=\"https://colab.research.google.com/assets/colab-badge.svg\" alt=\"Open In Colab\"/></a>"
      ]
    },
    {
      "cell_type": "code",
      "execution_count": 3,
      "metadata": {
        "colab": {
          "base_uri": "https://localhost:8080/"
        },
        "id": "5NDemQLTiohe",
        "outputId": "98d02117-2025-430a-ccd1-de3685ae8269"
      },
      "outputs": [
        {
          "output_type": "stream",
          "name": "stdout",
          "text": [
            "1\n",
            "2\n",
            "3\n",
            "4\n",
            "5\n",
            "The loop was ended.\n"
          ]
        }
      ],
      "source": [
        "i=1\n",
        "while True:\n",
        "  print(i)\n",
        "  i+=1\n",
        "  if i==6:\n",
        "    break\n",
        "print(\"The loop was ended.\")"
      ]
    },
    {
      "cell_type": "code",
      "source": [
        "mylist=[]\n",
        "while 1:\n",
        "   product=input('''Enter product name (for quit enter \"q\"):''')\n",
        "   if product==\"q\":\n",
        "      break\n",
        "   mylist.append(product)\n",
        "print(\"The entered products :\",mylist)"
      ],
      "metadata": {
        "colab": {
          "base_uri": "https://localhost:8080/"
        },
        "id": "7-2lv6SijDA3",
        "outputId": "ced8392a-2d97-41ed-ef28-e7097821ebc3"
      },
      "execution_count": 7,
      "outputs": [
        {
          "output_type": "stream",
          "name": "stdout",
          "text": [
            "Enter product name (for quit enter \"q\"):apple\n",
            "Enter product name (for quit enter \"q\"):grape\n",
            "Enter product name (for quit enter \"q\"):oprange\n",
            "Enter product name (for quit enter \"q\"):q\n",
            "The entered products : ['apple', 'grape', 'oprange']\n"
          ]
        }
      ]
    },
    {
      "cell_type": "code",
      "source": [
        "sayi=45\n",
        "sayaç=0\n",
        "print(\"1-100 arası bir sayı tuttum tahmin et\")\n",
        "while 1==1:\n",
        "  sayaç+=1\n",
        "  cevap=int(input(\"1-100 arası bir sayı girin: \"))\n",
        "  if cevap>sayi:\n",
        "    print(\"daha küçük bir sayı girmelisin\")\n",
        "  elif cevap<sayi:\n",
        "    print(\"daha büyük bir sayı girmelisin\")\n",
        "  else:\n",
        "    print(\"tebrikler tuttuğum sayıyı bildin\")\n",
        "    break\n",
        "print(\"tebrikler {} seferde sayıyı bulabildin\".format(sayaç))"
      ],
      "metadata": {
        "colab": {
          "base_uri": "https://localhost:8080/"
        },
        "id": "51vNOhOBkS1V",
        "outputId": "fcfddc56-b128-41a6-b6c3-6905c9852240"
      },
      "execution_count": 8,
      "outputs": [
        {
          "output_type": "stream",
          "name": "stdout",
          "text": [
            "1-100 arası bir sayı tuttum tahmin et\n",
            "1-100 arası bir sayı girin: 60\n",
            "daha küçük bir sayı girmelisin\n",
            "1-100 arası bir sayı girin: 45\n",
            "tebrikler tuttuğum sayıyı bildin\n",
            "tebrikler 2 seferde sayıyı bulabildin\n"
          ]
        }
      ]
    },
    {
      "cell_type": "code",
      "source": [
        "i=1\n",
        "f=int(input(\"Enter a number for finding its factoriel : \"))\n",
        "result=1\n",
        "while i<=f:\n",
        "  result=result*i\n",
        "  i+=1\n",
        "print(result)"
      ],
      "metadata": {
        "colab": {
          "base_uri": "https://localhost:8080/"
        },
        "id": "Km-8-v3nkwbk",
        "outputId": "393ed0f1-c795-44b8-b68e-1cfd939d1048"
      },
      "execution_count": 9,
      "outputs": [
        {
          "output_type": "stream",
          "name": "stdout",
          "text": [
            "Enter a number for finding its factoriel : 5\n",
            "120\n"
          ]
        }
      ]
    },
    {
      "cell_type": "code",
      "source": [
        ""
      ],
      "metadata": {
        "id": "5KZdcDEqjDCL"
      },
      "execution_count": null,
      "outputs": []
    }
  ]
}