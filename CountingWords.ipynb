{
  "nbformat": 4,
  "nbformat_minor": 0,
  "metadata": {
    "colab": {
      "name": "CountingWords.ipynb",
      "provenance": [],
      "authorship_tag": "ABX9TyOpHKLcuE2/ChLUPLrijkeX",
      "include_colab_link": true
    },
    "kernelspec": {
      "name": "python3",
      "display_name": "Python 3"
    },
    "language_info": {
      "name": "python"
    }
  },
  "cells": [
    {
      "cell_type": "markdown",
      "metadata": {
        "id": "view-in-github",
        "colab_type": "text"
      },
      "source": [
        "<a href=\"https://colab.research.google.com/github/drmuratakyuz/01My-Python-Codes/blob/main/CountingWords.ipynb\" target=\"_parent\"><img src=\"https://colab.research.google.com/assets/colab-badge.svg\" alt=\"Open In Colab\"/></a>"
      ]
    },
    {
      "cell_type": "code",
      "execution_count": null,
      "metadata": {
        "id": "2qI81H_ZJ2Yd"
      },
      "outputs": [],
      "source": [
        "def count_words(filename):\n",
        "    \"\"\"Count the approximate number of words in a file.\"\"\"\n",
        "    try:\n",
        "        with open(filename, encoding = \"utf_8\") as f:\n",
        "            contents = f.read()\n",
        "    except FileNotFoundError:\n",
        "        print(f\"Sorry, the file {filename} does not exist.\")\n",
        "    else:\n",
        "        words = contents.split()\n",
        "        num_words = len(words)\n",
        "        print(f\"The file {filename} has about {num_words} words.\")\n",
        "        \n",
        "filenames = [\"alice.txt\", \"siddhartha.txt\", \"little_women.txt\"]  # örnek txt dosyaları. (https://gutenberg.org/)\n",
        "for filename in filenames:\n",
        "    count_words(filename)"
      ]
    }
  ]
}