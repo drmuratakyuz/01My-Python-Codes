{
  "nbformat": 4,
  "nbformat_minor": 0,
  "metadata": {
    "colab": {
      "name": "front_back.ipynb",
      "provenance": [],
      "authorship_tag": "ABX9TyNhrBqUAFo/KBbkmZzN1Rai",
      "include_colab_link": true
    },
    "kernelspec": {
      "name": "python3",
      "display_name": "Python 3"
    },
    "language_info": {
      "name": "python"
    }
  },
  "cells": [
    {
      "cell_type": "markdown",
      "metadata": {
        "id": "view-in-github",
        "colab_type": "text"
      },
      "source": [
        "<a href=\"https://colab.research.google.com/github/drmuratakyuz/My-Python-Codes/blob/main/front_back.ipynb\" target=\"_parent\"><img src=\"https://colab.research.google.com/assets/colab-badge.svg\" alt=\"Open In Colab\"/></a>"
      ]
    },
    {
      "cell_type": "code",
      "execution_count": 19,
      "metadata": {
        "colab": {
          "base_uri": "https://localhost:8080/"
        },
        "id": "J9yF4qEdp5Uu",
        "outputId": "7d87da54-7895-456f-bba4-c1fab4b26f6e"
      },
      "outputs": [
        {
          "output_type": "stream",
          "name": "stdout",
          "text": [
            "ba\n"
          ]
        }
      ],
      "source": [
        "a = \"clarusway\"\n",
        "b = \"\"\n",
        "  \n",
        "a = list(a) \n",
        "ilk = a[0]\n",
        "son = a[-1]\n",
        "a[0]= son\n",
        "a[-1]= ilk\n",
        "for i in range(len(a)):\n",
        "  b = b  + a[i]\n",
        "print(b)"
      ]
    },
    {
      "cell_type": "code",
      "source": [
        "c = \"clarusway\"\n",
        "def  front_back(word):\n",
        "  b = \"\"\n",
        "    \n",
        "  word = list(word) \n",
        "  first = word[0]\n",
        "  last = word[-1]\n",
        "  word[0]= last\n",
        "  word[-1]= first\n",
        "  for i in range(len(word)):\n",
        "    b = b  + word[i]\n",
        "  return b\n",
        "print(front_back(c))"
      ],
      "metadata": {
        "colab": {
          "base_uri": "https://localhost:8080/"
        },
        "id": "zETMWEjUtpd1",
        "outputId": "3ace34d2-3600-4041-cf5c-304c536251bc"
      },
      "execution_count": 25,
      "outputs": [
        {
          "output_type": "stream",
          "name": "stdout",
          "text": [
            "ylaruswac\n"
          ]
        }
      ]
    }
  ]
}