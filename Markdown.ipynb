{
  "nbformat": 4,
  "nbformat_minor": 0,
  "metadata": {
    "colab": {
      "name": "Markdown.ipynb",
      "provenance": [],
      "authorship_tag": "ABX9TyMCCYj0zi6v1Nfy7m7zIOGR",
      "include_colab_link": true
    },
    "kernelspec": {
      "name": "python3",
      "display_name": "Python 3"
    },
    "language_info": {
      "name": "python"
    }
  },
  "cells": [
    {
      "cell_type": "markdown",
      "metadata": {
        "id": "view-in-github",
        "colab_type": "text"
      },
      "source": [
        "<a href=\"https://colab.research.google.com/github/drmuratakyuz/My-Python-Codes/blob/main/Markdown.ipynb\" target=\"_parent\"><img src=\"https://colab.research.google.com/assets/colab-badge.svg\" alt=\"Open In Colab\"/></a>"
      ]
    },
    {
      "cell_type": "code",
      "execution_count": null,
      "metadata": {
        "id": "DSLWAaKDknsz"
      },
      "outputs": [],
      "source": [
        "## Hi there 👋  isim  is here. (LOADING...)\n",
        "\n",
        "[![](https://img.shields.io/badge/linkedin-%230077B5.svg?&style=for-the-badge&logo=linkedin&logoColor=white)](LINKEDIN PROFİL LINK) \n",
        "<a href=\"github.io LİNKİ\" target=\"_blank\"> <img src=\"https://user-images.githubusercontent.com/94930605/160260064-ff3aa908-cbfd-4350-ab28-a26a0b7a1819.png\" alt=\"github_pages\" height=\"28.5\"/></a> <img src=\"https://komarev.com/ghpvc/?username=GİTHUB KULLANICI ADI\" alt=\"visitor counter\"/>\n",
        "<!-- <p align=\"left\">  </p> -->\n",
        "\n",
        "### What I'm using ? 🛠     ZAMANLA DÜZENLENECEK KISIM\n",
        "\n",
        "I prefer React & React Native for web/mobile front-end development.\n",
        "<br/>\n",
        "\n",
        "- Python, HTML5, CSS3, Git, GitHub\n",
        "\n",
        "- 💬 Ask  me about anything that you want to learn\n",
        "\n",
        "-  You can reach me via Linkedin:  <a href=\"LINKEDIN PROFİL LINK\" target=\"_blank\"> <img src=\"https://img.shields.io/badge/linkedin-%230077B5.svg?&style=for-the-badge&logo=linkedin&logoColor=white\" alt=\"Linkedin\" height=\"20\"/></a>\n",
        "\n",
        "\n",
        "## 🚀 Skills\n",
        "<p>\n",
        " <a href=\"#\" target=\"_blank\"> <img src=\"https://www.python.org/static/img/python-logo.png\" alt=\"python\" width=\"150\" height=\"48\"/> </a>  \n",
        "<!--  <a href=\"#\" target=\"_blank\"> <img src=\"https://cdn.icon-icons.com/icons2/2415/PNG/512/react_original_wordmark_logo_icon_146375.png\" alt=\"react\" width=\"50\"/> </a>  -->\n",
        "<!--  <a href=\"#\" target=\"_blank\"> <img src=\"https://www.pngkit.com/png/detail/373-3738691_react-native-svg-transformer-allows-you-import-svg.png\" alt=\"react-native\" width=\"45\"/> </a>  -->\n",
        "<!--  <a href=\"#\" target=\"_blank\"> <img src=\"https://upload.wikimedia.org/wikipedia/commons/4/49/Redux.png\" alt=\"redux\" height=\"50\"/> </a>  -->\n",
        "<!--  <a href=\"#\" target=\"_blank\"> <img src=\"https://cdn.icon-icons.com/icons2/2415/PNG/512/nodejs_original_logo_icon_146411.png\" alt=\"node-js\" height=\"50\"/> </a>  -->\n",
        "<!--  <a href=\"#\" target=\"_blank\"> <img src=\"https://miro.medium.com/max/875/0*r1BTGwo9cd8IGNQQ.jpeg\" alt=\"express\" height=\"50\" /> </a>  -->\n",
        " <a href=\"#\" target=\"_blank\"> <img src=\"https://user-images.githubusercontent.com/94930605/160258641-8ae74778-b44c-4767-a777-e5ece56b29f8.png\" alt=\"html\" height=\"48\"/> </a> \n",
        " <a href=\"#\" target=\"_blank\"> <img src=\"https://user-images.githubusercontent.com/94930605/160258671-03184473-a73b-4c7a-865c-4bc4a3864fcc.png\" alt=\"css\" height=\"48\"/> </a> \n",
        "<!--  <a href=\"#\" target=\"_blank\"> <img src=\"https://cdn.icon-icons.com/icons2/2108/PNG/512/javascript_icon_130900.png\" alt=\"js\" height=\"48\"/> </a>  -->\n",
        "<!--  <a href=\"#\" target=\"_blank\"> <img src=\"https://cdn.icon-icons.com/icons2/2415/PNG/512/bootstrap_plain_wordmark_logo_icon_146620.png\" alt=\"bootstrap\" height=\"48\"/> </a>  -->\n",
        "<!--  <a href=\"#\" target=\"_blank\"> <img src=\"https://material-ui.com/static/logo_raw.svg\" alt=\"material-ui\" height=\"48\"/> </a>  -->\n",
        "<!--  <a href=\"#\" target=\"_blank\"> <img src=\"https://cdn.icon-icons.com/icons2/2415/PNG/512/mysql_original_wordmark_logo_icon_146417.png\" alt=\"MySQL\" height=\"48\"/> </a>  -->\n",
        "<!--  <a href=\"#\" target=\"_blank\"> <img src=\"https://www.vectorlogo.zone/logos/postgresql/postgresql-ar21.svg\" alt=\"PostgreSQL\" height=\"50\"/> </a>  -->\n",
        "<!--  <a href=\"#\" target=\"_blank\"> <img src=\"https://www.vectorlogo.zone/logos/mongodb/mongodb-ar21.svg\" alt=\"MongoDB\" height=\"50\"/> </a>  -->\n",
        "<!--  <a href=\"#\" target=\"_blank\"> <img src=\"https://cdn.icon-icons.com/icons2/2415/PNG/512/django_plain_logo_icon_146558.png\" alt=\"django\" height=\"70\"/> </a>  -->\n",
        " <a href=\"#\" target=\"_blank\"> <img src=\"https://www.vectorlogo.zone/logos/git-scm/git-scm-icon.svg\" alt=\"git\" height=\"48\"/> </a> \n",
        " <a href=\"#\" target=\"_blank\"> <img src=\"https://user-images.githubusercontent.com/94930605/160260916-8472f064-1a1e-4689-99f8-be5f4d5eac56.png\" alt=\"gitHub\" height=\"48\"/> </a> \n",
        " <a href=\"#\" target=\"_blank\"> <img src=\"https://www.pngitem.com/pimgs/m/80-800968_vscode-visual-studio-logo-png-transparent-png.png\" alt=\"vs-code\" height=\"48\"/> </a>\n",
        " <a href=\"#\" target=\"_blank\"> <img src=\"https://user-images.githubusercontent.com/94930605/160258720-2a39e2f4-cb61-4b1a-9303-db050ffaa003.png\" height=\"48\"/> </a> \n",
        " <a href=\"#\" target=\"_blank\"> <img src=\"https://img.shields.io/badge/jira-1e90ff.svg?&style=for-the-badge&logo=jira&logoColor=white\" height=\"48\"/> </a>\n",
        "</p>\n",
        "\n",
        "\n",
        "## 📈 Statistics\n",
        "<p align=\"left\">\n",
        "<img src=\"https://github-readme-stats.vercel.app/api?username=GİTHUB KULLANICI ADI=chartreuse-dark&show_icons=true\" alt=\"my github stats\" width=\"49%\"/>&nbsp;\n",
        "<img src=\"https://github-readme-streak-stats.herokuapp.com/?user=GİTHUB KULLANICI ADI&theme=chartreuse-dark&show_icons=true\" alt=\"my commit status\" width=\"49%\" /> </p>\n",
        "<p align=\"center\"> <img src=\"https://github-readme-stats.vercel.app/api/top-langs/?username=GİTHUB KULLANICI ADI&theme=chartreuse-dark&layout=compact\" alt=\"languages\" width=\"50%\" > </p>"
      ]
    },
    {
      "cell_type": "code",
      "source": [
        ""
      ],
      "metadata": {
        "id": "pIwGORDLkw7O"
      },
      "execution_count": null,
      "outputs": []
    }
  ]
}