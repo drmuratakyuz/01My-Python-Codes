{
 "cells": [
  {
   "cell_type": "markdown",
   "id": "b8dc2dbc",
   "metadata": {},
   "source": [
    "\n",
    "# <font color = Red> Question 1:\n",
    "### Write a program which takes 2 digits, X,Y as input and generates a 2-dimensional list. The element value in the i-th row and j-th column of the array should be i*j.\n",
    "Note: i=0,1.., X-1; j=0,1,¡­Y-1.\n",
    "\n",
    "In order to practice it's better if you use <b> list comprehesion </b> in your code.\n",
    "## Example\n",
    "Suppose the following inputs are given to the program: 3,5\n",
    "\n",
    "Then, the output of the program should be:\n",
    "[[0, 0, 0, 0, 0], [0, 1, 2, 3, 4], [0, 2, 4, 6, 8]] \n",
    "## Hints:\n",
    "Note: In case of input data being supplied to the question, it should be assumed to be a console input in a comma-separated form."
   ]
  },
  {
   "cell_type": "markdown",
   "id": "696b7326",
   "metadata": {},
   "source": [
    "# Solution 1:"
   ]
  },
  {
   "cell_type": "code",
   "execution_count": null,
   "id": "58bae116",
   "metadata": {},
   "outputs": [],
   "source": []
  },
  {
   "cell_type": "markdown",
   "id": "b49803c7",
   "metadata": {},
   "source": [
    "\n",
    "# <font color = Red> Question 2:\n",
    "Write a program, which will find all such numbers between 1000 and 3000 (both included) such that each digit of the number is an even number.\n",
    "\n",
    "The numbers obtained should be printed in a comma-separated sequence on a single line.\n",
    "### Hints:\n",
    "In case of input data being supplied to the question, it should be assumed to be a console input.\n",
    "\n",
    "(Ino order to practice, it's better if you use <b> lambda </b> in your code)"
   ]
  },
  {
   "cell_type": "markdown",
   "id": "6d00909c",
   "metadata": {},
   "source": [
    "# Solution 2:"
   ]
  },
  {
   "cell_type": "code",
   "execution_count": null,
   "id": "8f458c9f",
   "metadata": {},
   "outputs": [],
   "source": []
  },
  {
   "cell_type": "markdown",
   "id": "de07d4f7",
   "metadata": {},
   "source": [
    "# <font color = Red> Question 3:\n",
    "Given a list of cities, write a <b> function </b> to seach the list with \"*\". For instance Çan* will bring \n",
    "    Çanakkale, if exists.\n",
    "    \n",
    "### Hints:\n",
    "When called with \"Çan\", the function should bring \"Çan\" but not \"Çanakkale\". You can use two different functions. One of them to search and one of them to find."
   ]
  },
  {
   "cell_type": "markdown",
   "id": "23d67a79",
   "metadata": {},
   "source": [
    "# Solution 3:"
   ]
  },
  {
   "cell_type": "code",
   "execution_count": null,
   "id": "f504dde4",
   "metadata": {},
   "outputs": [],
   "source": []
  }
 ],
 "metadata": {
  "kernelspec": {
   "display_name": "Python 3 (ipykernel)",
   "language": "python",
   "name": "python3"
  },
  "language_info": {
   "codemirror_mode": {
    "name": "ipython",
    "version": 3
   },
   "file_extension": ".py",
   "mimetype": "text/x-python",
   "name": "python",
   "nbconvert_exporter": "python",
   "pygments_lexer": "ipython3",
   "version": "3.9.7"
  }
 },
 "nbformat": 4,
 "nbformat_minor": 5
}
