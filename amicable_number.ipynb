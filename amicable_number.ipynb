{
  "nbformat": 4,
  "nbformat_minor": 0,
  "metadata": {
    "colab": {
      "name": "amicable_number.ipynb",
      "provenance": [],
      "authorship_tag": "ABX9TyPpC4jRcQH+UAgtRQKaBoKs",
      "include_colab_link": true
    },
    "kernelspec": {
      "name": "python3",
      "display_name": "Python 3"
    },
    "language_info": {
      "name": "python"
    }
  },
  "cells": [
    {
      "cell_type": "markdown",
      "metadata": {
        "id": "view-in-github",
        "colab_type": "text"
      },
      "source": [
        "<a href=\"https://colab.research.google.com/github/drmuratakyuz/My-Python-Codes/blob/main/amicable_number.ipynb\" target=\"_parent\"><img src=\"https://colab.research.google.com/assets/colab-badge.svg\" alt=\"Open In Colab\"/></a>"
      ]
    },
    {
      "cell_type": "code",
      "execution_count": null,
      "metadata": {
        "id": "AeYaXjK4X8NS"
      },
      "outputs": [],
      "source": [
        "# amicable number \n",
        "def amicab(a,b):\n",
        "    def bolum_t(x):\n",
        "      toplam = -x\n",
        "      for i in range(1,int(x**0.5)+1):\n",
        "        if x % i == 0:\n",
        "          if x//i != i:\n",
        "            toplam += i\n",
        "            toplam += (x//i)\n",
        "          else:\n",
        "            toplam += i\n",
        "      return toplam\n",
        "    liste = []\n",
        "    for i in range(a,b):\n",
        "      top = bolum_t(i)\n",
        "      if bolum_t(top) == i and top != i and [i,top] not in liste:\n",
        "        liste.append([top,i])\n",
        "    return liste\n",
        "import time\n",
        "start = time.time()\n",
        "print(amicab(1,10000))\n",
        "stop = time.time()\n",
        "print(stop-start)"
      ]
    }
  ]
}