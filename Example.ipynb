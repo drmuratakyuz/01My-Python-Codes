{
  "nbformat": 4,
  "nbformat_minor": 0,
  "metadata": {
    "colab": {
      "name": "Example.ipynb",
      "provenance": [],
      "authorship_tag": "ABX9TyMETmZslsGTOICx2d4vtcjq",
      "include_colab_link": true
    },
    "kernelspec": {
      "name": "python3",
      "display_name": "Python 3"
    },
    "language_info": {
      "name": "python"
    }
  },
  "cells": [
    {
      "cell_type": "markdown",
      "metadata": {
        "id": "view-in-github",
        "colab_type": "text"
      },
      "source": [
        "<a href=\"https://colab.research.google.com/github/drmuratakyuz/01My-Python-Codes/blob/main/Example.ipynb\" target=\"_parent\"><img src=\"https://colab.research.google.com/assets/colab-badge.svg\" alt=\"Open In Colab\"/></a>"
      ]
    },
    {
      "cell_type": "code",
      "execution_count": null,
      "metadata": {
        "id": "K2MH24xWyvvL"
      },
      "outputs": [],
      "source": [
        "'''\n",
        "Create a function that takes a positive integer and returns the next bigger number that can be formed by rearranging its digits. For example:\n",
        "\n",
        "12 ==> 21\n",
        "513 ==> 531\n",
        "2017 ==> 2071\n",
        "nextBigger(num: 12)   // returns 21\n",
        "nextBigger(num: 513)  // returns 531\n",
        "nextBigger(num: 2017) // returns 2071\n",
        "'''\n",
        "def next_bigger(num):\n",
        "  if sorted(str(num),reverse=True) == list(str(num)):\n",
        "    return -1\n",
        "  else:\n",
        "    bigger = num\n",
        "    while True:\n",
        "      bigger+=9\n",
        "      if sorted(str(num)) == sorted(list(str(bigger))):\n",
        "        return bigger\n",
        "        break    \n",
        "next_bigger(345346576876988756423514)"
      ]
    }
  ]
}