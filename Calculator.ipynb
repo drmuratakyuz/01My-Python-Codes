{
  "nbformat": 4,
  "nbformat_minor": 0,
  "metadata": {
    "colab": {
      "name": "Calculator.ipynb",
      "provenance": [],
      "authorship_tag": "ABX9TyMuMR0rIcf/xIe5EAM2S5Mx",
      "include_colab_link": true
    },
    "kernelspec": {
      "name": "python3",
      "display_name": "Python 3"
    },
    "language_info": {
      "name": "python"
    }
  },
  "cells": [
    {
      "cell_type": "markdown",
      "metadata": {
        "id": "view-in-github",
        "colab_type": "text"
      },
      "source": [
        "<a href=\"https://colab.research.google.com/github/drmuratakyuz/My-Python-Codes/blob/main/Calculator.ipynb\" target=\"_parent\"><img src=\"https://colab.research.google.com/assets/colab-badge.svg\" alt=\"Open In Colab\"/></a>"
      ]
    },
    {
      "cell_type": "code",
      "execution_count": 3,
      "metadata": {
        "colab": {
          "base_uri": "https://localhost:8080/"
        },
        "id": "uoydYLwF-jEG",
        "outputId": "441c44d7-5c61-4a74-ffa8-52f148b50f7d"
      },
      "outputs": [
        {
          "output_type": "stream",
          "name": "stdout",
          "text": [
            "9\n",
            "3\n",
            "18\n",
            "2.0\n"
          ]
        }
      ],
      "source": [
        "#Building a Calculator using dict with lambda Expression\n",
        "# calculator [\"+\"](4,5) -->9\n",
        "\n",
        "calculator = {\n",
        "    \"+\":(lambda x,y : x+y) ,\n",
        "    \"-\":(lambda x,y : x-y) ,\n",
        "    \"*\":(lambda x,y : x*y) ,\n",
        "    \"/\":(lambda x,y : x/y) ,\n",
        "}\n",
        "print(calculator[\"+\"](6,3))\n",
        "print(calculator[\"-\"](6,3))\n",
        "print(calculator[\"*\"](6,3))\n",
        "print(calculator[\"/\"](6,3))"
      ]
    },
    {
      "cell_type": "code",
      "source": [
        "(lambda x,y : x+y)(4,5)"
      ],
      "metadata": {
        "colab": {
          "base_uri": "https://localhost:8080/"
        },
        "id": "lNP4T-dR_hRg",
        "outputId": "a5805095-ad3d-4f49-c7f3-302de395d5c0"
      },
      "execution_count": 1,
      "outputs": [
        {
          "output_type": "execute_result",
          "data": {
            "text/plain": [
              "9"
            ]
          },
          "metadata": {},
          "execution_count": 1
        }
      ]
    }
  ]
}