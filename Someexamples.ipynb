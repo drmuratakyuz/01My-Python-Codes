{
  "nbformat": 4,
  "nbformat_minor": 0,
  "metadata": {
    "colab": {
      "name": "Someexamples.ipynb",
      "provenance": [],
      "authorship_tag": "ABX9TyPQ3rpb78NsqeipJ0up9wdH",
      "include_colab_link": true
    },
    "kernelspec": {
      "name": "python3",
      "display_name": "Python 3"
    },
    "language_info": {
      "name": "python"
    }
  },
  "cells": [
    {
      "cell_type": "markdown",
      "metadata": {
        "id": "view-in-github",
        "colab_type": "text"
      },
      "source": [
        "<a href=\"https://colab.research.google.com/github/drmuratakyuz/My-Python-Codes/blob/main/Someexamples.ipynb\" target=\"_parent\"><img src=\"https://colab.research.google.com/assets/colab-badge.svg\" alt=\"Open In Colab\"/></a>"
      ]
    },
    {
      "cell_type": "code",
      "execution_count": 1,
      "metadata": {
        "colab": {
          "base_uri": "https://localhost:8080/"
        },
        "id": "aHVfg3aypRYK",
        "outputId": "1253984b-00da-420c-8eb6-e8aa65f814de"
      },
      "outputs": [
        {
          "output_type": "stream",
          "name": "stdout",
          "text": [
            "[1, 2, 3, 4, 5, 7, 8, 9, 10, 11, 12, 13, 14, 15, 16, 17, 18, 19, 20, 21]\n",
            "[1, 2, 3, 4, 5, 7, 8, 9, 10, 11, 13, 14, 15, 16, 17, 18, 19, 20, 21]\n",
            "[1, 2, 3, 4, 5, 7, 8, 9, 10, 11, 13, 14, 15, 16, 17, 19, 20, 21]\n",
            "[1, 2, 4, 5, 7, 8, 9, 10, 11, 13, 14, 15, 16, 17, 19, 20, 21]\n",
            "[1, 2, 4, 5, 7, 8, 9, 11, 13, 14, 15, 16, 17, 19, 20, 21]\n",
            "[1, 2, 4, 5, 7, 8, 9, 11, 13, 14, 15, 16, 19, 20, 21]\n",
            "[1, 2, 5, 7, 8, 9, 11, 13, 14, 15, 16, 19, 20, 21]\n",
            "[1, 2, 5, 7, 8, 9, 11, 14, 15, 16, 19, 20, 21]\n",
            "[1, 2, 5, 7, 8, 9, 11, 14, 15, 16, 19, 20]\n",
            "[1, 2, 5, 7, 8, 11, 14, 15, 16, 19, 20]\n",
            "[1, 2, 5, 7, 8, 11, 14, 15, 16, 19]\n",
            "[1, 2, 5, 7, 8, 14, 15, 16, 19]\n",
            "[1, 5, 7, 8, 14, 15, 16, 19]\n",
            "[1, 5, 7, 8, 14, 15, 19]\n",
            "[1, 5, 7, 8, 15, 19]\n",
            "[1, 5, 7, 15, 19]\n",
            "[1, 5, 7, 19]\n",
            "[5, 7, 19]\n",
            "[5, 7]\n",
            "[5]\n"
          ]
        }
      ],
      "source": [
        "def survivor(element,step):\n",
        "    liste = [i for i in range(1,element+1)]\n",
        "    count = 0\n",
        "    while len(liste) > 1:\n",
        "      yeni = liste.copy()\n",
        "      for i in liste:\n",
        "        count += 1\n",
        "        if count == step:\n",
        "          yeni.remove(i)\n",
        "          count = 0\n",
        "          print(yeni)\n",
        "      liste = yeni\n",
        "survivor(21,6)"
      ]
    },
    {
      "cell_type": "code",
      "source": [
        ""
      ],
      "metadata": {
        "id": "pYM5HMb0pdz2"
      },
      "execution_count": null,
      "outputs": []
    },
    {
      "cell_type": "code",
      "source": [
        "liste=[1,2,3,4,5,6,7]\n",
        "\n",
        "step=3\n",
        "count=0\n",
        "while len(liste)>1:\n",
        "    for i in liste:\n",
        "        count += 1\n",
        "        if count % step != 0:\n",
        "            # continue\n",
        "        # else:\n",
        "            liste.remove(i)\n",
        "  \n",
        "    break\n",
        "        \n",
        "print(liste)\n",
        "print(count)\n"
      ],
      "metadata": {
        "colab": {
          "base_uri": "https://localhost:8080/"
        },
        "id": "RPo7mmy1pd1O",
        "outputId": "b2bbbf05-3d70-417e-ac28-ea7cbaab2e7e"
      },
      "execution_count": 2,
      "outputs": [
        {
          "output_type": "stream",
          "name": "stdout",
          "text": [
            "[2, 4, 5, 7]\n",
            "4\n"
          ]
        }
      ]
    }
  ]
}