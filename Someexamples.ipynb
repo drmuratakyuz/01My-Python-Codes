{
  "nbformat": 4,
  "nbformat_minor": 0,
  "metadata": {
    "colab": {
      "name": "Someexamples.ipynb",
      "provenance": [],
      "authorship_tag": "ABX9TyMIO2vsaDrZs/7bExVCrtri",
      "include_colab_link": true
    },
    "kernelspec": {
      "name": "python3",
      "display_name": "Python 3"
    },
    "language_info": {
      "name": "python"
    }
  },
  "cells": [
    {
      "cell_type": "markdown",
      "metadata": {
        "id": "view-in-github",
        "colab_type": "text"
      },
      "source": [
        "<a href=\"https://colab.research.google.com/github/drmuratakyuz/My-Python-Codes/blob/main/Someexamples.ipynb\" target=\"_parent\"><img src=\"https://colab.research.google.com/assets/colab-badge.svg\" alt=\"Open In Colab\"/></a>"
      ]
    },
    {
      "cell_type": "code",
      "execution_count": null,
      "metadata": {
        "id": "XDR3whL3EeUL"
      },
      "outputs": [],
      "source": [
        "def count_pairs_int(diff, n_max):\n",
        "    num1 = 0\n",
        "    num2 = 0\n",
        "    for i in range(1,n_max+1):\n",
        "        for j in range(1,i+1):\n",
        "            if i%j == 0:\n",
        "                num1 += 1\n",
        "            if i+diff % j == 0:\n",
        "                num2 += 1\n",
        "        if num1 == num2:\n",
        "            print(i,i+diff) \n",
        "\n",
        "count_pairs_int(3,100)"
      ]
    },
    {
      "cell_type": "code",
      "source": [
        "a = \"Mozilla Firefox is an open-source web browser developed by Mozilla.\"\n",
        "vovels = [\"a\", \"e\",\"i\",\"o\",\"u\"]\n",
        "v_dicti = {}\n",
        "c_dicti = {}\n",
        "for i in a.lower():\n",
        "  if i.isalpha():\n",
        "    if i in vovels:\n",
        "      v_dicti[i] = a.lower().count(i)\n",
        "    else:\n",
        "      c_dicti[i] = a.lower().count(i)\n",
        "print(\"Vowels are: \", v_dicti)\n",
        "print(\"Consonants are: \",c_dicti)"
      ],
      "metadata": {
        "colab": {
          "base_uri": "https://localhost:8080/"
        },
        "id": "oN15v5aMEtvK",
        "outputId": "707e2efa-2f6f-4bdf-87de-7eddeade6de5"
      },
      "execution_count": 1,
      "outputs": [
        {
          "output_type": "stream",
          "name": "stdout",
          "text": [
            "Vowels are:  {'o': 7, 'i': 4, 'a': 3, 'e': 8, 'u': 1}\n",
            "Consonants are:  {'m': 2, 'z': 2, 'l': 5, 'f': 2, 'r': 4, 'x': 1, 's': 3, 'n': 2, 'p': 2, 'c': 1, 'w': 2, 'b': 3, 'd': 2, 'v': 1, 'y': 1}\n"
          ]
        }
      ]
    }
  ]
}