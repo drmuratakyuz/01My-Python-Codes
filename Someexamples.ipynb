{
  "nbformat": 4,
  "nbformat_minor": 0,
  "metadata": {
    "colab": {
      "name": "Someexamples.ipynb",
      "provenance": [],
      "authorship_tag": "ABX9TyN8kK3/XVzarFHwUuShz2nc",
      "include_colab_link": true
    },
    "kernelspec": {
      "name": "python3",
      "display_name": "Python 3"
    },
    "language_info": {
      "name": "python"
    }
  },
  "cells": [
    {
      "cell_type": "markdown",
      "metadata": {
        "id": "view-in-github",
        "colab_type": "text"
      },
      "source": [
        "<a href=\"https://colab.research.google.com/github/drmuratakyuz/My-Python-Codes/blob/main/Someexamples.ipynb\" target=\"_parent\"><img src=\"https://colab.research.google.com/assets/colab-badge.svg\" alt=\"Open In Colab\"/></a>"
      ]
    },
    {
      "cell_type": "code",
      "execution_count": 2,
      "metadata": {
        "id": "smDaDhwEM5Ur",
        "colab": {
          "base_uri": "https://localhost:8080/"
        },
        "outputId": "aef64c57-4a64-4fe5-e8e7-f43f68886334"
      },
      "outputs": [
        {
          "output_type": "stream",
          "name": "stdout",
          "text": [
            "{'angry': False, 'happy': True, 'disapointed': True}\n"
          ]
        }
      ],
      "source": [
        "'''\n",
        "Yo can create a dictionary using from a tuple using \n",
        "the counter class from the collections module.\n",
        "'''\n",
        "from collections import Counter\n",
        "a = Counter(angry=False, happy=True, disapointed=True)\n",
        "print(dict((a)))"
      ]
    },
    {
      "cell_type": "code",
      "source": [
        "a = dict(angry=False, happy=True, disappointed=True)\n",
        "print(a)"
      ],
      "metadata": {
        "colab": {
          "base_uri": "https://localhost:8080/"
        },
        "id": "RxB1YpjqOlhD",
        "outputId": "ab59806f-ce52-42a5-f297-ec5b87cade08"
      },
      "execution_count": 3,
      "outputs": [
        {
          "output_type": "stream",
          "name": "stdout",
          "text": [
            "{'angry': False, 'happy': True, 'disappointed': True}\n"
          ]
        }
      ]
    },
    {
      "cell_type": "code",
      "source": [
        "a = [[1,2,3],[4,5,6]]\n",
        "newlist = []\n",
        "for i in a:\n",
        "  for j in i:\n",
        "    newlist.append(j)\n",
        "print(newlist)"
      ],
      "metadata": {
        "colab": {
          "base_uri": "https://localhost:8080/"
        },
        "id": "VGF3ClkiOzc2",
        "outputId": "0cf60ae2-ea58-4e59-a26a-f5ab26ed0fd9"
      },
      "execution_count": 4,
      "outputs": [
        {
          "output_type": "stream",
          "name": "stdout",
          "text": [
            "[1, 2, 3, 4, 5, 6]\n"
          ]
        }
      ]
    },
    {
      "cell_type": "code",
      "source": [
        "from functools import reduce\n",
        "\n",
        "a = [[1,2,3], [4,5,6]]\n",
        "\n",
        "newlist = reduce(lambda acc, x: acc + x, a)\n",
        "print(reduce(lambda acc, x: acc + x, a))"
      ],
      "metadata": {
        "colab": {
          "base_uri": "https://localhost:8080/"
        },
        "id": "3gfU_KCQPGwb",
        "outputId": "c1f1787e-c8ba-4d2f-c21e-30702d98b5c3"
      },
      "execution_count": 6,
      "outputs": [
        {
          "output_type": "stream",
          "name": "stdout",
          "text": [
            "[1, 2, 3, 4, 5, 6]\n"
          ]
        }
      ]
    },
    {
      "cell_type": "code",
      "source": [
        "from functools import reduce\n",
        "\n",
        "a = [[1,2,3], [4,5,6]]\n",
        "\n",
        "newlist = [i for j in a for i in j]\n",
        "print(newlist)"
      ],
      "metadata": {
        "colab": {
          "base_uri": "https://localhost:8080/"
        },
        "id": "oih3opMcPRwH",
        "outputId": "bc70b2a0-8320-4eea-d137-c62a0fa54675"
      },
      "execution_count": 8,
      "outputs": [
        {
          "output_type": "stream",
          "name": "stdout",
          "text": [
            "[1, 2, 3, 4, 5, 6]\n"
          ]
        }
      ]
    }
  ]
}