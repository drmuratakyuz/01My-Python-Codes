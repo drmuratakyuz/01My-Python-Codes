{
  "nbformat": 4,
  "nbformat_minor": 0,
  "metadata": {
    "colab": {
      "name": "8 march.ipynb",
      "provenance": [],
      "authorship_tag": "ABX9TyPNODO+RH8o1jJYMQMOIyZI",
      "include_colab_link": true
    },
    "kernelspec": {
      "name": "python3",
      "display_name": "Python 3"
    },
    "language_info": {
      "name": "python"
    }
  },
  "cells": [
    {
      "cell_type": "markdown",
      "metadata": {
        "id": "view-in-github",
        "colab_type": "text"
      },
      "source": [
        "<a href=\"https://colab.research.google.com/github/drmuratakyuz/My-Python-Codes/blob/main/8_march.ipynb\" target=\"_parent\"><img src=\"https://colab.research.google.com/assets/colab-badge.svg\" alt=\"Open In Colab\"/></a>"
      ]
    },
    {
      "cell_type": "code",
      "execution_count": null,
      "metadata": {
        "id": "hkVfJJCHgRCs"
      },
      "outputs": [],
      "source": [
        "# International Women's Day\n",
        "import matplotlib.pyplot as plt\n",
        "import numpy as np\n",
        "\n",
        "t = np.linspace(0,2200,100000)\n",
        "x = 16*np.sin(t)**3+25\n",
        "y = 13*np.cos(t)- 5*np.cos(2*t) - 2*np.cos(3*t) - np.cos(4*t) + 20\n",
        "plt.figure(figsize=(7,5))\n",
        "plt.plot(x,y,color=\"pink\",linewidth=5)\n",
        "plt.text(21,22,\"8th March\", fontsize=20,color=\"red\")\n",
        "plt.text(13,19,\"International Women's Day\", fontsize=20,color=\"red\")\n",
        "#plt.text(19,2,\"I love Python\", fontsize=24,color=\"red\")\n"
      ]
    }
  ]
}