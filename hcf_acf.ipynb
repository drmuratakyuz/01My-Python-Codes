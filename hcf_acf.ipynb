{
  "nbformat": 4,
  "nbformat_minor": 0,
  "metadata": {
    "colab": {
      "name": "hcf_acf.ipynb",
      "provenance": [],
      "collapsed_sections": [],
      "authorship_tag": "ABX9TyMlaciFmbOXTXF29P4Q2la7",
      "include_colab_link": true
    },
    "kernelspec": {
      "name": "python3",
      "display_name": "Python 3"
    },
    "language_info": {
      "name": "python"
    }
  },
  "cells": [
    {
      "cell_type": "markdown",
      "metadata": {
        "id": "view-in-github",
        "colab_type": "text"
      },
      "source": [
        "<a href=\"https://colab.research.google.com/github/drmuratakyuz/My-Python-Codes/blob/main/hcf_acf.ipynb\" target=\"_parent\"><img src=\"https://colab.research.google.com/assets/colab-badge.svg\" alt=\"Open In Colab\"/></a>"
      ]
    },
    {
      "cell_type": "code",
      "execution_count": 2,
      "metadata": {
        "colab": {
          "base_uri": "https://localhost:8080/"
        },
        "id": "dyCqFA5AOJVw",
        "outputId": "30d727f8-09d3-45f5-d74d-a13b04e7d645"
      },
      "outputs": [
        {
          "output_type": "stream",
          "name": "stdout",
          "text": [
            "20\n"
          ]
        }
      ],
      "source": [
        "# hcf (highest common factor)\n",
        "y  = 25\n",
        "for j in range (80,1,-1):\n",
        "  if 80 % j == 0 and 100 % j ==0:\n",
        "    print(j)\n",
        "    break"
      ]
    },
    {
      "cell_type": "code",
      "source": [
        "# acf (all common factors)\n",
        "y  = 25\n",
        "for j in range (80,1,-1):\n",
        "  if 80 % j == 0 and 100 % j ==0:\n",
        "    print(j)\n",
        "    "
      ],
      "metadata": {
        "colab": {
          "base_uri": "https://localhost:8080/"
        },
        "id": "TwHbsY9qVu1n",
        "outputId": "419270f6-0a92-482a-b730-e54426e755a5"
      },
      "execution_count": 3,
      "outputs": [
        {
          "output_type": "stream",
          "name": "stdout",
          "text": [
            "20\n",
            "10\n",
            "5\n",
            "4\n",
            "2\n"
          ]
        }
      ]
    },
    {
      "cell_type": "code",
      "source": [
        "# hcf (highest common factor)\n",
        "number_1 = int(input(\"Enter number #1: \"))\n",
        "number_2 = int(input(\"Enter number #2: \"))\n",
        "count = 0\n",
        "if number_1 > number_2:\n",
        "  count = number_1\n",
        "elif number_1 < number_2:\n",
        "  count = number_2\n",
        "else:\n",
        "  print(f\"{number_1} and {number_2} are equal.\\nhcg (highest common factor) is {number_2}\")\n",
        "  \n",
        "for j in range (count,1,-1):\n",
        "  if number_1 % j == 0 and number_2 % j ==0:\n",
        "    print(f\"The hcf (highest common factor) is {j}\")\n",
        "    break"
      ],
      "metadata": {
        "colab": {
          "base_uri": "https://localhost:8080/"
        },
        "id": "C_0wNcBJXi1Y",
        "outputId": "89e44732-e587-4fc9-bf01-e3d8aebbb90d"
      },
      "execution_count": 8,
      "outputs": [
        {
          "output_type": "stream",
          "name": "stdout",
          "text": [
            "Enter number #1: 4\n",
            "Enter number #2: 4\n",
            "4 and 4 are equal.\n",
            "hcg(highest common factor) is 4\n"
          ]
        }
      ]
    }
  ]
}