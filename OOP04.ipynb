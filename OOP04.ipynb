{
  "nbformat": 4,
  "nbformat_minor": 0,
  "metadata": {
    "colab": {
      "name": "OOP04.ipynb",
      "provenance": [],
      "authorship_tag": "ABX9TyPh9WAGlLiaFDHo4xfK3OFK",
      "include_colab_link": true
    },
    "kernelspec": {
      "name": "python3",
      "display_name": "Python 3"
    },
    "language_info": {
      "name": "python"
    }
  },
  "cells": [
    {
      "cell_type": "markdown",
      "metadata": {
        "id": "view-in-github",
        "colab_type": "text"
      },
      "source": [
        "<a href=\"https://colab.research.google.com/github/drmuratakyuz/01My-Python-Codes/blob/main/OOP04.ipynb\" target=\"_parent\"><img src=\"https://colab.research.google.com/assets/colab-badge.svg\" alt=\"Open In Colab\"/></a>"
      ]
    },
    {
      "cell_type": "code",
      "execution_count": 1,
      "metadata": {
        "colab": {
          "base_uri": "https://localhost:8080/"
        },
        "id": "D0LOrLHMmRvR",
        "outputId": "04fad09b-75e9-4ff3-8466-f988d04039d4"
      },
      "outputs": [
        {
          "output_type": "execute_result",
          "data": {
            "text/plain": [
              "True"
            ]
          },
          "metadata": {},
          "execution_count": 1
        }
      ],
      "source": [
        "class Car:\n",
        "      pass\n",
        "class Buggati(Car):\n",
        "      pass\n",
        "\n",
        "issubclass(Buggati, Car)"
      ]
    },
    {
      "cell_type": "code",
      "source": [
        "class Car:\n",
        "      pass\n",
        "class Buggati(Car):\n",
        "      pass\n",
        "  \n",
        "issubclass(Car, Buggati)"
      ],
      "metadata": {
        "colab": {
          "base_uri": "https://localhost:8080/"
        },
        "id": "NQGVoO_rmezJ",
        "outputId": "3f339ada-36ef-44c0-81d4-a033cf3c9575"
      },
      "execution_count": 2,
      "outputs": [
        {
          "output_type": "execute_result",
          "data": {
            "text/plain": [
              "False"
            ]
          },
          "metadata": {},
          "execution_count": 2
        }
      ]
    },
    {
      "cell_type": "code",
      "source": [
        "class Human: \n",
        "\n",
        "    age=15\t\n",
        "\n",
        "    def __init__(self, name): \n",
        "\n",
        "         self._name = name \n",
        "\n",
        "hmn_1 = Human('Corey')\n",
        "\n",
        "hmn_1.age = 20\n",
        "\n",
        "print(Human.age)"
      ],
      "metadata": {
        "colab": {
          "base_uri": "https://localhost:8080/"
        },
        "id": "JwcYnxz2mnZ_",
        "outputId": "bff9ce3b-a7bc-4446-9511-a456fdf00430"
      },
      "execution_count": 3,
      "outputs": [
        {
          "output_type": "stream",
          "name": "stdout",
          "text": [
            "15\n"
          ]
        }
      ]
    },
    {
      "cell_type": "code",
      "source": [
        "class Human: \n",
        "\n",
        "    age=15\t\n",
        "\n",
        "    def __init__(self, name): \n",
        "\n",
        "         self._name = name \n",
        "\n",
        "hmn_1 = Human('Corey')\n",
        "\n",
        "hmn_1.age = 20\n",
        "\n",
        "print(hmn_1.age)"
      ],
      "metadata": {
        "colab": {
          "base_uri": "https://localhost:8080/"
        },
        "id": "sLtfa6sumwc2",
        "outputId": "13b1a45e-49d1-4081-f7c8-18da392188f5"
      },
      "execution_count": 4,
      "outputs": [
        {
          "output_type": "stream",
          "name": "stdout",
          "text": [
            "20\n"
          ]
        }
      ]
    },
    {
      "cell_type": "code",
      "source": [
        "class Dog:\n",
        "\n",
        "    def __init__(self, name, age):\n",
        "\n",
        "        self.name = name\n",
        "\n",
        "        self.age = age\n",
        "\n",
        "class Terrier(Dog):\n",
        "\n",
        "    pass\n",
        "\n",
        "class Dachshund(Dog):\n",
        "\n",
        "    pass\n",
        "\n",
        "class Bulldog(Dog):\n",
        "\n",
        "    pass\n",
        "\n",
        "dog1 = Terrier(\"Miles\", 4)\n",
        "\n",
        "dog2 = Dachshund(\"Buddy\", 9)\n",
        "\n",
        "dog3 = Bulldog(\"Jack\", 3)\n",
        "\n",
        "dog4 = Bulldog(\"Jim\", 5)\n",
        "\n",
        "isinstance(dog4, Dog)"
      ],
      "metadata": {
        "colab": {
          "base_uri": "https://localhost:8080/"
        },
        "id": "hs_4egj5nBgF",
        "outputId": "7f6c118d-82b7-4537-cb81-edd98b22c507"
      },
      "execution_count": 5,
      "outputs": [
        {
          "output_type": "execute_result",
          "data": {
            "text/plain": [
              "True"
            ]
          },
          "metadata": {},
          "execution_count": 5
        }
      ]
    },
    {
      "cell_type": "code",
      "source": [
        "class Dog:\n",
        "\n",
        "    def __init__(self, name, age):\n",
        "\n",
        "        self.name = name\n",
        "\n",
        "        self.age = age\n",
        "\n",
        "class Terrier(Dog):\n",
        "\n",
        "    pass\n",
        "\n",
        "class Dachshund(Dog):\n",
        "\n",
        "    pass\n",
        "\n",
        "class Bulldog(Dog):\n",
        "\n",
        "    pass\n",
        "\n",
        "dog1 = Terrier(\"Miles\", 4)\n",
        "\n",
        "dog2 = Dachshund(\"Buddy\", 9)\n",
        "\n",
        "dog3 = Bulldog(\"Jack\", 3)\n",
        "\n",
        "dog4 = Bulldog(\"Jim\", 5)\n",
        "\n",
        "#isinstance(dog1, Dog)\n",
        "#isinstance(dog2, Bulldog)\n",
        "#isinstance(dog3, Dachshund)\n",
        "#isinstance(dog3, Dog)\n",
        "#isinstance(dog1, Bulldog)\n",
        "#issubclass(Terrier, Dog)\n",
        "#isinstance(dog1, Dog)\n",
        "#isinstance(dog2, Bulldog)\n",
        "\n",
        "#issubclass(Dachshund, Terrier)\n",
        "issubclass(Bulldog, Dachshund)\n",
        "isinstance(dog4, Dog)"
      ],
      "metadata": {
        "colab": {
          "base_uri": "https://localhost:8080/"
        },
        "id": "QMT-vUlxnNSG",
        "outputId": "f00aa604-8c0a-4429-bebb-85e1fa4f43f9"
      },
      "execution_count": 20,
      "outputs": [
        {
          "output_type": "execute_result",
          "data": {
            "text/plain": [
              "True"
            ]
          },
          "metadata": {},
          "execution_count": 20
        }
      ]
    },
    {
      "cell_type": "code",
      "source": [
        "class A:\n",
        "\tdef __init__(self,b):\n",
        "\t\tself.b=b\n",
        "\tdef display(self):\n",
        "\t\tprint(self.b)\n",
        "obj=A(\"Hello\")\n",
        "del obj"
      ],
      "metadata": {
        "id": "D1MWo5sxoIHM"
      },
      "execution_count": 21,
      "outputs": []
    }
  ]
}