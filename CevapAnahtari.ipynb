{
  "nbformat": 4,
  "nbformat_minor": 0,
  "metadata": {
    "colab": {
      "name": "CevapAnahtari.ipynb",
      "provenance": [],
      "authorship_tag": "ABX9TyP0MHz8nnNHIVtrrcYNlqpU",
      "include_colab_link": true
    },
    "kernelspec": {
      "name": "python3",
      "display_name": "Python 3"
    },
    "language_info": {
      "name": "python"
    }
  },
  "cells": [
    {
      "cell_type": "markdown",
      "metadata": {
        "id": "view-in-github",
        "colab_type": "text"
      },
      "source": [
        "<a href=\"https://colab.research.google.com/github/drmuratakyuz/My-Python-Codes/blob/main/CevapAnahtari.ipynb\" target=\"_parent\"><img src=\"https://colab.research.google.com/assets/colab-badge.svg\" alt=\"Open In Colab\"/></a>"
      ]
    },
    {
      "cell_type": "code",
      "execution_count": null,
      "metadata": {
        "id": "bqugFwhGvhqC"
      },
      "outputs": [],
      "source": [
        "'''\n",
        "3. Elinizde bir teste ait cevap anahtarı ve öğrenci cevaplarının olduğu listeler var. \n",
        "Siz bu cevapları anahtar ile kontrol ederek sonuçları doğru veya yanlış olarak çıktı almak istiyorsunuz. \n",
        "Bunu yapacak kodları lambda ve map fonksiyonları ile nasıl yaparsınız.\n",
        "Örnek: cevap_anahtarı=[“a”,“c”,“e”,“b”,“a”] ogrenci_1=[“a”,“d”,“d”,“b”,“a”]\n",
        "İstenen çıktı Çıktı: [‘doğru’, ‘yanlıs’, ‘yanlıs’, ‘doğru’, ‘doğru’]\n",
        "'''\n",
        "cevap_anahtari=[\"a\",\"c\",\"e\",\"b\",\"a\"]\n",
        "ogrenci_1=[\"a\",\"d\",\"d\",\"b\",\"a\"]\n",
        "liste2=list(map(lambda x,y: \"doğru\" if x==y else \"yanlıs\",cevap_anahtari,ogrenci_1))\n",
        "print(liste2)"
      ]
    }
  ]
}