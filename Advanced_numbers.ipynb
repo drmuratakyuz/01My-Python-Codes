{
  "nbformat": 4,
  "nbformat_minor": 0,
  "metadata": {
    "colab": {
      "name": "Advanced_numbers.ipynb",
      "provenance": [],
      "authorship_tag": "ABX9TyOhTmKZls+p1AWCcX70HIH4",
      "include_colab_link": true
    },
    "kernelspec": {
      "name": "python3",
      "display_name": "Python 3"
    },
    "language_info": {
      "name": "python"
    }
  },
  "cells": [
    {
      "cell_type": "markdown",
      "metadata": {
        "id": "view-in-github",
        "colab_type": "text"
      },
      "source": [
        "<a href=\"https://colab.research.google.com/github/drmuratakyuz/My-Python-Codes/blob/main/Advanced_numbers.ipynb\" target=\"_parent\"><img src=\"https://colab.research.google.com/assets/colab-badge.svg\" alt=\"Open In Colab\"/></a>"
      ]
    },
    {
      "cell_type": "code",
      "execution_count": null,
      "metadata": {
        "colab": {
          "base_uri": "https://localhost:8080/"
        },
        "id": "ZboeQ7qym5iq",
        "outputId": "258cdf41-c298-45c1-89ce-46b5db52841c"
      },
      "outputs": [
        {
          "output_type": "stream",
          "name": "stdout",
          "text": [
            "0b10000\n"
          ]
        }
      ],
      "source": [
        "# from decimal to binary bin()\n",
        "print(bin(16))"
      ]
    },
    {
      "cell_type": "code",
      "source": [
        "# from decimal to hexadecimal hex()\n",
        "print(hex(16))"
      ],
      "metadata": {
        "colab": {
          "base_uri": "https://localhost:8080/"
        },
        "id": "zAu5MEN8nP2x",
        "outputId": "27d2aaa2-54a9-4c4b-86a6-23078aaa3f1e"
      },
      "execution_count": null,
      "outputs": [
        {
          "output_type": "stream",
          "name": "stdout",
          "text": [
            "0x10\n"
          ]
        }
      ]
    },
    {
      "cell_type": "code",
      "source": [
        "# from decimal to ASCII code chr()\n",
        "print(chr(66))"
      ],
      "metadata": {
        "colab": {
          "base_uri": "https://localhost:8080/"
        },
        "id": "AJptSEIZneCl",
        "outputId": "1af2177f-a8cb-411b-8b74-6a2daf1c96b5"
      },
      "execution_count": null,
      "outputs": [
        {
          "output_type": "stream",
          "name": "stdout",
          "text": [
            "B\n"
          ]
        }
      ]
    },
    {
      "cell_type": "code",
      "source": [
        "# finding maximum item in a list max()\n",
        "\n",
        "mylist = [1,6,8,9,44,65,77,23,97,65,1,3]\n",
        "print(max(mylist))"
      ],
      "metadata": {
        "colab": {
          "base_uri": "https://localhost:8080/"
        },
        "id": "qCyuzyX2nq31",
        "outputId": "6d0340ed-8be7-424a-9e3c-4545ba78e76a"
      },
      "execution_count": null,
      "outputs": [
        {
          "output_type": "stream",
          "name": "stdout",
          "text": [
            "97\n"
          ]
        }
      ]
    },
    {
      "cell_type": "code",
      "source": [
        "# finding minimum item in a list min()\n",
        "\n",
        "mylist = [1,6,8,9,44,65,77,23,97,65,1,3]\n",
        "print(min(mylist))"
      ],
      "metadata": {
        "colab": {
          "base_uri": "https://localhost:8080/"
        },
        "id": "RSOQVGddn_LJ",
        "outputId": "becdc1d4-35af-4ae6-dd0d-75eaec0c5c7a"
      },
      "execution_count": null,
      "outputs": [
        {
          "output_type": "stream",
          "name": "stdout",
          "text": [
            "1\n"
          ]
        }
      ]
    },
    {
      "cell_type": "code",
      "source": [
        "# finding pover pow(x,y)\n",
        "\n",
        "print(pow(2,5))\n",
        "print(pow(5.2,3))\n",
        "print(pow(64,0.5))"
      ],
      "metadata": {
        "colab": {
          "base_uri": "https://localhost:8080/"
        },
        "id": "TDfx_gGCnq5X",
        "outputId": "9044cad7-e28a-4f13-dfce-1d10a7ce0365"
      },
      "execution_count": null,
      "outputs": [
        {
          "output_type": "stream",
          "name": "stdout",
          "text": [
            "32\n",
            "140.608\n",
            "8.0\n"
          ]
        }
      ]
    },
    {
      "cell_type": "code",
      "source": [
        "# finding sum of the items of a list sum()\n",
        "\n",
        "mylist = [1,6,8,9,44,65,77,23,97,65,1,3]\n",
        "print(sum(mylist))"
      ],
      "metadata": {
        "colab": {
          "base_uri": "https://localhost:8080/"
        },
        "id": "TsZTjyycpICK",
        "outputId": "5fdf96d9-59ee-4caa-b30f-b452cd67d82d"
      },
      "execution_count": null,
      "outputs": [
        {
          "output_type": "stream",
          "name": "stdout",
          "text": [
            "399\n"
          ]
        }
      ]
    },
    {
      "cell_type": "code",
      "source": [
        "# abs function\n",
        "print(abs(-10))\n",
        "print(abs(-1))\n",
        "print(abs(10))\n",
        "print(abs(-8.4))"
      ],
      "metadata": {
        "colab": {
          "base_uri": "https://localhost:8080/"
        },
        "id": "Kib7iB6-tAxZ",
        "outputId": "cb748ea9-7357-41e3-98fc-469d7608c5e3"
      },
      "execution_count": 14,
      "outputs": [
        {
          "output_type": "stream",
          "name": "stdout",
          "text": [
            "10\n",
            "1\n",
            "10\n",
            "8.4\n"
          ]
        }
      ]
    },
    {
      "cell_type": "code",
      "source": [
        "# round function\n",
        "print(round(2.1))\n",
        "print(round(2.6))\n",
        "print(round(2.5))\n",
        "print(round(3.2))"
      ],
      "metadata": {
        "colab": {
          "base_uri": "https://localhost:8080/"
        },
        "id": "N4y47RgGtSrb",
        "outputId": "e92a877e-c362-41dd-8f8e-6a95fda2b1ca"
      },
      "execution_count": 15,
      "outputs": [
        {
          "output_type": "stream",
          "name": "stdout",
          "text": [
            "2\n",
            "3\n",
            "2\n",
            "3\n"
          ]
        }
      ]
    },
    {
      "cell_type": "code",
      "source": [
        ""
      ],
      "metadata": {
        "id": "mp8ThIYptAyo"
      },
      "execution_count": null,
      "outputs": []
    }
  ]
}