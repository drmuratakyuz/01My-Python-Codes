{
  "nbformat": 4,
  "nbformat_minor": 0,
  "metadata": {
    "colab": {
      "name": "MyfirstClassTest.ipynb",
      "provenance": [],
      "authorship_tag": "ABX9TyNqmG1pEnhNhwnaa0FL5VFJ",
      "include_colab_link": true
    },
    "kernelspec": {
      "name": "python3",
      "display_name": "Python 3"
    },
    "language_info": {
      "name": "python"
    }
  },
  "cells": [
    {
      "cell_type": "markdown",
      "metadata": {
        "id": "view-in-github",
        "colab_type": "text"
      },
      "source": [
        "<a href=\"https://colab.research.google.com/github/drmuratakyuz/My-Python-Codes/blob/main/MyfirstClassTest.ipynb\" target=\"_parent\"><img src=\"https://colab.research.google.com/assets/colab-badge.svg\" alt=\"Open In Colab\"/></a>"
      ]
    },
    {
      "cell_type": "code",
      "execution_count": 5,
      "metadata": {
        "id": "-0O7RjaFs6jo",
        "colab": {
          "base_uri": "https://localhost:8080/"
        },
        "outputId": "159e76d2-8761-48ae-9076-750d50a2be48"
      },
      "outputs": [
        {
          "output_type": "stream",
          "name": "stdout",
          "text": [
            "Attaaaacckkkkk!!!!\n",
            "Attaaaacckkkkk!!!!\n",
            "Attaaaacckkkkk!!!!\n",
            "Attaaaacckkkkk!!!!\n",
            "Attaaaacckkkkk!!!!\n",
            "Attaaaacckkkkk!!!!\n",
            "2 life left.\n",
            "1 life left.\n",
            "Dead\n",
            "3 life left.\n"
          ]
        }
      ],
      "source": [
        "class enemy: #defination of a class\n",
        "  left_life = 3 # defination a global variable\n",
        "  def attack(self): #defination of first function in the class\n",
        "    print(\"Attaaaacckkkkk!!!!\")\n",
        "    self.left_life -=1\n",
        "  \n",
        "  def ishealive(self): #defination of second function in the class\n",
        "    if (self.left_life <=0):\n",
        "      print(\"Dead\")\n",
        "    else:\n",
        "      print(str(self.left_life) + \" life left.\")\n",
        "\n",
        "#defination of the different enemies \n",
        "enemy01 = enemy()\n",
        "enemy02 = enemy()\n",
        "enemy03 = enemy()\n",
        "enemy04 = enemy()\n",
        "\n",
        "# the attacks of the enemies (after each attack the left life number is down )\n",
        "enemy01.attack()  \n",
        "enemy02.attack()\n",
        "enemy02.attack()\n",
        "enemy03.attack()\n",
        "enemy03.attack()\n",
        "enemy03.attack()\n",
        "\n",
        "#printing the left lifes of each enemies\n",
        "enemy01.ishealive()\n",
        "enemy02.ishealive()\n",
        "enemy03.ishealive()\n",
        "enemy04.ishealive()"
      ]
    }
  ]
}