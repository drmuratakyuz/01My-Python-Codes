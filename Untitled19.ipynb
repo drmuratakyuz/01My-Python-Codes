{
  "nbformat": 4,
  "nbformat_minor": 0,
  "metadata": {
    "colab": {
      "name": "Untitled19.ipynb",
      "provenance": [],
      "authorship_tag": "ABX9TyNmdvHCkIs8tSt3j0/8zGwT",
      "include_colab_link": true
    },
    "kernelspec": {
      "name": "python3",
      "display_name": "Python 3"
    },
    "language_info": {
      "name": "python"
    }
  },
  "cells": [
    {
      "cell_type": "markdown",
      "metadata": {
        "id": "view-in-github",
        "colab_type": "text"
      },
      "source": [
        "<a href=\"https://colab.research.google.com/github/drmuratakyuz/My-Python-Codes/blob/main/Untitled19.ipynb\" target=\"_parent\"><img src=\"https://colab.research.google.com/assets/colab-badge.svg\" alt=\"Open In Colab\"/></a>"
      ]
    },
    {
      "cell_type": "code",
      "execution_count": null,
      "metadata": {
        "id": "if2U1yD5ij8A"
      },
      "outputs": [],
      "source": [
        "input random as rd\n",
        "\n",
        "def check_valid(grid,row,col,num):\n",
        "  valid = True\n",
        "  for i in range(9):\n",
        "    if grid[i][col] == num\n",
        "      valid = False\n",
        "    for i in range(9):\n",
        "      if grid[row][j] == num:\n",
        "        valid = False\n",
        "  row_sec = row // 3\n",
        "  col_sec = row // 3\n",
        "\n",
        "  for i in range(3):\n",
        "    for j in range(3):\n",
        "      if grid[row_sec*3+i][col_sec*3+j] == num:\n",
        "        valid = False\n",
        "        \n",
        "  return valid\n",
        "\n",
        "def sudoku():\n",
        "  grid = [[\"_\" for x in range(9) for y in range(9)]]\n",
        "\n",
        "  print(\"Welcome the sudoku puzzle creator.\")\n",
        "  inp1 = input(\"Write the hardness level you want. Hard(h), Normal(n)or Easy(e):\").lower().strip()\n",
        "\n",
        "  while inp1:\n",
        "    if inp1 == \"h\":\n",
        "      hardness = 10\n",
        "    elif inp == \"n\":\n",
        "      hardness = 15\n",
        "    elif inp1 == \"e\":\n",
        "      hardness = 20\n",
        "    else:\n",
        "      inp1 = input(\"Invalid character. Please use h,n or e...\").lower().strip()\n",
        "\n",
        "   for i in range(hardness):\n",
        "     row = rd.randrange(9)\n",
        "     col = rd.randrange(9)\n",
        "     num = rd.randrange(1,10)\n",
        "     while not check_valid(grid,row, col,num) ot grid[row][col] != \"_\"   \n",
        "        row = rd.randrange(9)\n",
        "        col = rd.randrange(9)\n",
        "        num = rd.randrange(1,10)\n"
      ]
    }
  ]
}