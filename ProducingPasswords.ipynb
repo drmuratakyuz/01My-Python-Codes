{
  "nbformat": 4,
  "nbformat_minor": 0,
  "metadata": {
    "colab": {
      "name": "ProducingPasswords.ipynb",
      "provenance": [],
      "authorship_tag": "ABX9TyMCThl9+94YG2i/JEzu9P2u",
      "include_colab_link": true
    },
    "kernelspec": {
      "name": "python3",
      "display_name": "Python 3"
    },
    "language_info": {
      "name": "python"
    }
  },
  "cells": [
    {
      "cell_type": "markdown",
      "metadata": {
        "id": "view-in-github",
        "colab_type": "text"
      },
      "source": [
        "<a href=\"https://colab.research.google.com/github/drmuratakyuz/My-Python-Codes/blob/main/ProducingPasswords.ipynb\" target=\"_parent\"><img src=\"https://colab.research.google.com/assets/colab-badge.svg\" alt=\"Open In Colab\"/></a>"
      ]
    },
    {
      "cell_type": "code",
      "execution_count": 25,
      "metadata": {
        "colab": {
          "base_uri": "https://localhost:8080/",
          "height": 252
        },
        "id": "xIseRtBpBZPb",
        "outputId": "3e73a833-8ea6-414b-84b6-95bb75c524fb"
      },
      "outputs": [
        {
          "output_type": "stream",
          "name": "stdout",
          "text": [
            "ncqBSB070(B\n",
            "['n', 'c', 'q', 'B', 'S', 'B', '0', '7', '0', '(', 'B']\n"
          ]
        },
        {
          "output_type": "error",
          "ename": "TypeError",
          "evalue": "ignored",
          "traceback": [
            "\u001b[0;31m---------------------------------------------------------------------------\u001b[0m",
            "\u001b[0;31mTypeError\u001b[0m                                 Traceback (most recent call last)",
            "\u001b[0;32m<ipython-input-25-e613fec6bb7b>\u001b[0m in \u001b[0;36m<module>\u001b[0;34m()\u001b[0m\n\u001b[1;32m     20\u001b[0m \u001b[0mprint\u001b[0m\u001b[0;34m(\u001b[0m\u001b[0mpasslist\u001b[0m\u001b[0;34m)\u001b[0m\u001b[0;34m\u001b[0m\u001b[0;34m\u001b[0m\u001b[0m\n\u001b[1;32m     21\u001b[0m \u001b[0mpasslist\u001b[0m \u001b[0;34m=\u001b[0m \u001b[0mrandom\u001b[0m\u001b[0;34m.\u001b[0m\u001b[0mshuffle\u001b[0m\u001b[0;34m(\u001b[0m\u001b[0mpasslist\u001b[0m\u001b[0;34m)\u001b[0m\u001b[0;34m\u001b[0m\u001b[0;34m\u001b[0m\u001b[0m\n\u001b[0;32m---> 22\u001b[0;31m \u001b[0mpassword1\u001b[0m \u001b[0;34m=\u001b[0m \u001b[0;34m\"\"\u001b[0m\u001b[0;34m.\u001b[0m\u001b[0mjoin\u001b[0m\u001b[0;34m(\u001b[0m\u001b[0mpasslist\u001b[0m\u001b[0;34m)\u001b[0m\u001b[0;34m\u001b[0m\u001b[0;34m\u001b[0m\u001b[0m\n\u001b[0m\u001b[1;32m     23\u001b[0m \u001b[0mprint\u001b[0m\u001b[0;34m(\u001b[0m\u001b[0mpassword1\u001b[0m\u001b[0;34m)\u001b[0m\u001b[0;34m\u001b[0m\u001b[0;34m\u001b[0m\u001b[0m\n",
            "\u001b[0;31mTypeError\u001b[0m: can only join an iterable"
          ]
        }
      ],
      "source": [
        "# lower letters 3, capital letters 3, numbers 3, special char 2\n",
        "import random\n",
        "chr(random.randint(97,122))\n",
        "chr(random.randint(65,90))\n",
        "chr(random.randint(48,57))\n",
        "chr(random.randint(33,47))\n",
        "chr(random.randint(58,67))\n",
        "\n",
        "lowers =[chr(random.randint(65,90)) for i in range(3)]\n",
        "\n",
        "uppers =[chr(random.randint(97,122)) for i in range(3)]\n",
        "\n",
        "numbers =[chr(random.randint(48,57)) for i in range(3)]\n",
        "\n",
        "chars = [chr(random.randint(33,47)) + chr(random.randint(58,67))]\n",
        "\n",
        "password = \"\".join(uppers) + \"\".join(lowers) + \"\".join(numbers) + \"\".join(chars)\n",
        "print(password)\n",
        "passlist = list(password)\n",
        "print(passlist)\n",
        "passlist = random.shuffle(passlist)\n",
        "password1 = \"\".join(passlist)                \n",
        "print(password1)   "
      ]
    },
    {
      "cell_type": "code",
      "source": [
        "import random\n",
        "password =[chr(random.randint(65,90)) for i in range(3)]+\\\n",
        "[chr(random.randint(97,122)) for i in range(3)]+\\\n",
        "[chr(random.randint(48,57)) for i in range(3)]+\\\n",
        "[chr(random.randint(33,47)) + chr(random.randint(58,67))]\n",
        "\n",
        "random.shuffle(password)\n",
        "pass1= ''.join(password)\n",
        "print(pass1)\n"
      ],
      "metadata": {
        "colab": {
          "base_uri": "https://localhost:8080/"
        },
        "id": "DwA6mh0UMa96",
        "outputId": "6f568e24-bceb-40f9-8fb0-1d6ddd86abb8"
      },
      "execution_count": 28,
      "outputs": [
        {
          "output_type": "stream",
          "name": "stdout",
          "text": [
            "lZY9h33)=Xo\n"
          ]
        }
      ]
    },
    {
      "cell_type": "code",
      "source": [
        "import random\n",
        "def passProd():\n",
        "  password =[chr(random.randint(65,90)) for i in range(3)]+\\\n",
        "  [chr(random.randint(97,122)) for i in range(3)]+\\\n",
        "  [chr(random.randint(48,57)) for i in range(3)]+\\\n",
        "  [chr(random.randint(33,47)) + chr(random.randint(58,67))]\n",
        "\n",
        "  random.shuffle(password)\n",
        "  pass1= ''.join(password)\n",
        "  return pass1\n",
        "\n",
        "print(passProd())"
      ],
      "metadata": {
        "colab": {
          "base_uri": "https://localhost:8080/"
        },
        "id": "TGe3ptVKNRfv",
        "outputId": "44fbb0d0-5ed5-4260-cb57-7a803762f976"
      },
      "execution_count": 29,
      "outputs": [
        {
          "output_type": "stream",
          "name": "stdout",
          "text": [
            "g\"<98RscX8Y\n"
          ]
        }
      ]
    }
  ]
}