{
  "nbformat": 4,
  "nbformat_minor": 0,
  "metadata": {
    "colab": {
      "name": "Countnumbertests.ipynb",
      "provenance": [],
      "authorship_tag": "ABX9TyPAg4br62N5qdtiCn+ndOJd",
      "include_colab_link": true
    },
    "kernelspec": {
      "name": "python3",
      "display_name": "Python 3"
    },
    "language_info": {
      "name": "python"
    }
  },
  "cells": [
    {
      "cell_type": "markdown",
      "metadata": {
        "id": "view-in-github",
        "colab_type": "text"
      },
      "source": [
        "<a href=\"https://colab.research.google.com/github/drmuratakyuz/My-Python-Codes/blob/main/Countnumbertests.ipynb\" target=\"_parent\"><img src=\"https://colab.research.google.com/assets/colab-badge.svg\" alt=\"Open In Colab\"/></a>"
      ]
    },
    {
      "cell_type": "code",
      "execution_count": null,
      "metadata": {
        "colab": {
          "base_uri": "https://localhost:8080/",
          "height": 373
        },
        "id": "tY5r9vFNUnIp",
        "outputId": "d888e529-8ce5-4fac-c1fe-3c6e00fefe33"
      },
      "outputs": [
        {
          "name": "stdout",
          "output_type": "stream",
          "text": [
            "Enter a sentence:4334fggf\n"
          ]
        },
        {
          "output_type": "error",
          "ename": "AttributeError",
          "evalue": "ignored",
          "traceback": [
            "\u001b[0;31m---------------------------------------------------------------------------\u001b[0m",
            "\u001b[0;31mAttributeError\u001b[0m                            Traceback (most recent call last)",
            "\u001b[0;32m<ipython-input-3-789e6bc8f3cd>\u001b[0m in \u001b[0;36m<module>\u001b[0;34m()\u001b[0m\n\u001b[1;32m      2\u001b[0m \u001b[0mi\u001b[0m \u001b[0;34m=\u001b[0m \u001b[0mlen\u001b[0m\u001b[0;34m(\u001b[0m\u001b[0msentence\u001b[0m\u001b[0;34m)\u001b[0m\u001b[0;34m\u001b[0m\u001b[0;34m\u001b[0m\u001b[0m\n\u001b[1;32m      3\u001b[0m \u001b[0msent_set\u001b[0m \u001b[0;34m=\u001b[0m \u001b[0;34m{\u001b[0m\u001b[0;34m}\u001b[0m\u001b[0;34m\u001b[0m\u001b[0;34m\u001b[0m\u001b[0m\n\u001b[0;32m----> 4\u001b[0;31m \u001b[0mres\u001b[0m \u001b[0;34m=\u001b[0m \u001b[0msum\u001b[0m\u001b[0;34m(\u001b[0m\u001b[0;34m[\u001b[0m\u001b[0mi\u001b[0m\u001b[0;34m.\u001b[0m\u001b[0mstrip\u001b[0m\u001b[0;34m(\u001b[0m\u001b[0msentence\u001b[0m\u001b[0;34m.\u001b[0m\u001b[0mpunctuation\u001b[0m\u001b[0;34m)\u001b[0m\u001b[0;34m.\u001b[0m\u001b[0misalpha\u001b[0m\u001b[0;34m(\u001b[0m\u001b[0;34m)\u001b[0m \u001b[0;32mfor\u001b[0m \u001b[0mi\u001b[0m \u001b[0;32min\u001b[0m \u001b[0msentence\u001b[0m\u001b[0;34m.\u001b[0m\u001b[0msplit\u001b[0m\u001b[0;34m(\u001b[0m\u001b[0;34m)\u001b[0m\u001b[0;34m]\u001b[0m\u001b[0;34m)\u001b[0m\u001b[0;34m\u001b[0m\u001b[0;34m\u001b[0m\u001b[0m\n\u001b[0m\u001b[1;32m      5\u001b[0m \u001b[0mprint\u001b[0m\u001b[0;34m(\u001b[0m\u001b[0mres\u001b[0m\u001b[0;34m)\u001b[0m\u001b[0;34m\u001b[0m\u001b[0;34m\u001b[0m\u001b[0m\n\u001b[1;32m      6\u001b[0m \u001b[0;34m\u001b[0m\u001b[0m\n",
            "\u001b[0;32m<ipython-input-3-789e6bc8f3cd>\u001b[0m in \u001b[0;36m<listcomp>\u001b[0;34m(.0)\u001b[0m\n\u001b[1;32m      2\u001b[0m \u001b[0mi\u001b[0m \u001b[0;34m=\u001b[0m \u001b[0mlen\u001b[0m\u001b[0;34m(\u001b[0m\u001b[0msentence\u001b[0m\u001b[0;34m)\u001b[0m\u001b[0;34m\u001b[0m\u001b[0;34m\u001b[0m\u001b[0m\n\u001b[1;32m      3\u001b[0m \u001b[0msent_set\u001b[0m \u001b[0;34m=\u001b[0m \u001b[0;34m{\u001b[0m\u001b[0;34m}\u001b[0m\u001b[0;34m\u001b[0m\u001b[0;34m\u001b[0m\u001b[0m\n\u001b[0;32m----> 4\u001b[0;31m \u001b[0mres\u001b[0m \u001b[0;34m=\u001b[0m \u001b[0msum\u001b[0m\u001b[0;34m(\u001b[0m\u001b[0;34m[\u001b[0m\u001b[0mi\u001b[0m\u001b[0;34m.\u001b[0m\u001b[0mstrip\u001b[0m\u001b[0;34m(\u001b[0m\u001b[0msentence\u001b[0m\u001b[0;34m.\u001b[0m\u001b[0mpunctuation\u001b[0m\u001b[0;34m)\u001b[0m\u001b[0;34m.\u001b[0m\u001b[0misalpha\u001b[0m\u001b[0;34m(\u001b[0m\u001b[0;34m)\u001b[0m \u001b[0;32mfor\u001b[0m \u001b[0mi\u001b[0m \u001b[0;32min\u001b[0m \u001b[0msentence\u001b[0m\u001b[0;34m.\u001b[0m\u001b[0msplit\u001b[0m\u001b[0;34m(\u001b[0m\u001b[0;34m)\u001b[0m\u001b[0;34m]\u001b[0m\u001b[0;34m)\u001b[0m\u001b[0;34m\u001b[0m\u001b[0;34m\u001b[0m\u001b[0m\n\u001b[0m\u001b[1;32m      5\u001b[0m \u001b[0mprint\u001b[0m\u001b[0;34m(\u001b[0m\u001b[0mres\u001b[0m\u001b[0;34m)\u001b[0m\u001b[0;34m\u001b[0m\u001b[0;34m\u001b[0m\u001b[0m\n\u001b[1;32m      6\u001b[0m \u001b[0;34m\u001b[0m\u001b[0m\n",
            "\u001b[0;31mAttributeError\u001b[0m: 'str' object has no attribute 'punctuation'"
          ]
        }
      ],
      "source": [
        "sentence = input(\"Enter a sentence:\")\n",
        "i = len(sentence)\n",
        "sent_set = {}\n",
        "res = sum([i.strip(sentence.punctuation).isalpha() for i in sentence.split()])\n",
        "print(res)\n",
        "\n"
      ]
    },
    {
      "cell_type": "code",
      "source": [
        "str = \"E - 11, K - 19, L - 21\"\n",
        "\n",
        "convertedDict = dict((x.strip(), int(y.strip()))\n",
        "                     for x, y in (element.split('-')\n",
        "                                  for element in str.split(', ')))\n",
        "\n",
        "print(\"Converted dict is: \", convertedDict)\n",
        "print(type(convertedDict))\n"
      ],
      "metadata": {
        "colab": {
          "base_uri": "https://localhost:8080/"
        },
        "id": "6oA1Hzdz7q6D",
        "outputId": "8fbb1896-4989-49f5-d3ac-facadbb8ce00"
      },
      "execution_count": 1,
      "outputs": [
        {
          "output_type": "stream",
          "name": "stdout",
          "text": [
            "Converted dict is:  {'E': 11, 'K': 19, 'L': 21}\n",
            "<class 'dict'>\n"
          ]
        }
      ]
    },
    {
      "cell_type": "code",
      "source": [
        "str = \"Hi,I like reading books.\"\n",
        "str = f\"Hi,I like reading books.\"\n",
        "\n",
        "convertedDict = dict((x.strip(), int(y.strip()))\n",
        "                     for x, y in (element.split('')\n",
        "                                  for element in str.split('')))\n",
        "\n",
        "print(\"Converted dict is: \", convertedDict)\n",
        "print(type(convertedDict))\n"
      ],
      "metadata": {
        "colab": {
          "base_uri": "https://localhost:8080/",
          "height": 235
        },
        "id": "XOk5jvfF77qp",
        "outputId": "1af97f93-3752-449a-9f4c-76d0e793a982"
      },
      "execution_count": 3,
      "outputs": [
        {
          "output_type": "error",
          "ename": "ValueError",
          "evalue": "ignored",
          "traceback": [
            "\u001b[0;31m---------------------------------------------------------------------------\u001b[0m",
            "\u001b[0;31mValueError\u001b[0m                                Traceback (most recent call last)",
            "\u001b[0;32m<ipython-input-3-22c4516bad47>\u001b[0m in \u001b[0;36m<module>\u001b[0;34m()\u001b[0m\n\u001b[1;32m      4\u001b[0m convertedDict = dict((x.strip(), int(y.strip()))\n\u001b[1;32m      5\u001b[0m                      for x, y in (element.split('')\n\u001b[0;32m----> 6\u001b[0;31m                                   for element in str.split('')))\n\u001b[0m\u001b[1;32m      7\u001b[0m \u001b[0;34m\u001b[0m\u001b[0m\n\u001b[1;32m      8\u001b[0m \u001b[0mprint\u001b[0m\u001b[0;34m(\u001b[0m\u001b[0;34m\"Converted dict is: \"\u001b[0m\u001b[0;34m,\u001b[0m \u001b[0mconvertedDict\u001b[0m\u001b[0;34m)\u001b[0m\u001b[0;34m\u001b[0m\u001b[0;34m\u001b[0m\u001b[0m\n",
            "\u001b[0;31mValueError\u001b[0m: empty separator"
          ]
        }
      ]
    },
    {
      "cell_type": "code",
      "source": [
        ""
      ],
      "metadata": {
        "id": "W2Jx60B08jW-"
      },
      "execution_count": null,
      "outputs": []
    },
    {
      "cell_type": "code",
      "source": [
        "str = \"Hi,I like reading books.\"\n",
        "str1 = list(str.split(''))\n",
        "print(str1)"
      ],
      "metadata": {
        "colab": {
          "base_uri": "https://localhost:8080/",
          "height": 200
        },
        "id": "Nk5_aONe8jYi",
        "outputId": "b78852c9-9568-4866-de5c-ddda910f27d4"
      },
      "execution_count": 10,
      "outputs": [
        {
          "output_type": "error",
          "ename": "ValueError",
          "evalue": "ignored",
          "traceback": [
            "\u001b[0;31m---------------------------------------------------------------------------\u001b[0m",
            "\u001b[0;31mValueError\u001b[0m                                Traceback (most recent call last)",
            "\u001b[0;32m<ipython-input-10-79e0c6161d29>\u001b[0m in \u001b[0;36m<module>\u001b[0;34m()\u001b[0m\n\u001b[1;32m      1\u001b[0m \u001b[0mstr\u001b[0m \u001b[0;34m=\u001b[0m \u001b[0;34m\"Hi,I like reading books.\"\u001b[0m\u001b[0;34m\u001b[0m\u001b[0;34m\u001b[0m\u001b[0m\n\u001b[0;32m----> 2\u001b[0;31m \u001b[0mstr1\u001b[0m \u001b[0;34m=\u001b[0m \u001b[0mlist\u001b[0m\u001b[0;34m(\u001b[0m\u001b[0mstr\u001b[0m\u001b[0;34m.\u001b[0m\u001b[0msplit\u001b[0m\u001b[0;34m(\u001b[0m\u001b[0;34m''\u001b[0m\u001b[0;34m)\u001b[0m\u001b[0;34m)\u001b[0m\u001b[0;34m\u001b[0m\u001b[0;34m\u001b[0m\u001b[0m\n\u001b[0m\u001b[1;32m      3\u001b[0m \u001b[0mprint\u001b[0m\u001b[0;34m(\u001b[0m\u001b[0mstr1\u001b[0m\u001b[0;34m)\u001b[0m\u001b[0;34m\u001b[0m\u001b[0;34m\u001b[0m\u001b[0m\n",
            "\u001b[0;31mValueError\u001b[0m: empty separator"
          ]
        }
      ]
    },
    {
      "cell_type": "code",
      "source": [
        "# Python3 program to Convert a\n",
        "# list to dictionary\n",
        " \n",
        "def Convert(lst):\n",
        "    res_dct = {lst[i]: lst[i + 1] for i in range(0, len(lst), 2)}\n",
        "    return res_dct\n",
        "         \n",
        "# Driver code\n",
        "lst = ['a', 1, 'b', 2, 'c', 3]\n",
        "print(Convert(lst))"
      ],
      "metadata": {
        "colab": {
          "base_uri": "https://localhost:8080/"
        },
        "id": "ogOR6jgs9blg",
        "outputId": "620e52da-da6f-4f28-9362-bab0f092fcce"
      },
      "execution_count": 19,
      "outputs": [
        {
          "output_type": "stream",
          "name": "stdout",
          "text": [
            "{'a': 1, 'b': 2, 'c': 3}\n"
          ]
        }
      ]
    },
    {
      "cell_type": "code",
      "source": [
        "# Python3 program to Convert a\n",
        "# list to dictionary\n",
        " \n",
        "def Convert(lst):\n",
        "    res_dct = {lst[i]: lst.count[i] for i in range(0, len(lst), 2)}\n",
        "    return res_dct\n",
        "         \n",
        "# Driver code\n",
        "lst = ['a', 1, 'b', 2, 'c', 3, 'a', 1, 'b', 2,]\n",
        "print(Convert(lst))"
      ],
      "metadata": {
        "colab": {
          "base_uri": "https://localhost:8080/",
          "height": 345
        },
        "id": "0nJKOObF_Mej",
        "outputId": "28e86980-834e-4dcc-b356-6ad76bfb6992"
      },
      "execution_count": 22,
      "outputs": [
        {
          "output_type": "error",
          "ename": "TypeError",
          "evalue": "ignored",
          "traceback": [
            "\u001b[0;31m---------------------------------------------------------------------------\u001b[0m",
            "\u001b[0;31mTypeError\u001b[0m                                 Traceback (most recent call last)",
            "\u001b[0;32m<ipython-input-22-93261a7492a5>\u001b[0m in \u001b[0;36m<module>\u001b[0;34m()\u001b[0m\n\u001b[1;32m      8\u001b[0m \u001b[0;31m# Driver code\u001b[0m\u001b[0;34m\u001b[0m\u001b[0;34m\u001b[0m\u001b[0;34m\u001b[0m\u001b[0m\n\u001b[1;32m      9\u001b[0m \u001b[0mlst\u001b[0m \u001b[0;34m=\u001b[0m \u001b[0;34m[\u001b[0m\u001b[0;34m'a'\u001b[0m\u001b[0;34m,\u001b[0m \u001b[0;36m1\u001b[0m\u001b[0;34m,\u001b[0m \u001b[0;34m'b'\u001b[0m\u001b[0;34m,\u001b[0m \u001b[0;36m2\u001b[0m\u001b[0;34m,\u001b[0m \u001b[0;34m'c'\u001b[0m\u001b[0;34m,\u001b[0m \u001b[0;36m3\u001b[0m\u001b[0;34m,\u001b[0m \u001b[0;34m'a'\u001b[0m\u001b[0;34m,\u001b[0m \u001b[0;36m1\u001b[0m\u001b[0;34m,\u001b[0m \u001b[0;34m'b'\u001b[0m\u001b[0;34m,\u001b[0m \u001b[0;36m2\u001b[0m\u001b[0;34m,\u001b[0m\u001b[0;34m]\u001b[0m\u001b[0;34m\u001b[0m\u001b[0;34m\u001b[0m\u001b[0m\n\u001b[0;32m---> 10\u001b[0;31m \u001b[0mprint\u001b[0m\u001b[0;34m(\u001b[0m\u001b[0mConvert\u001b[0m\u001b[0;34m(\u001b[0m\u001b[0mlst\u001b[0m\u001b[0;34m)\u001b[0m\u001b[0;34m)\u001b[0m\u001b[0;34m\u001b[0m\u001b[0;34m\u001b[0m\u001b[0m\n\u001b[0m",
            "\u001b[0;32m<ipython-input-22-93261a7492a5>\u001b[0m in \u001b[0;36mConvert\u001b[0;34m(lst)\u001b[0m\n\u001b[1;32m      3\u001b[0m \u001b[0;34m\u001b[0m\u001b[0m\n\u001b[1;32m      4\u001b[0m \u001b[0;32mdef\u001b[0m \u001b[0mConvert\u001b[0m\u001b[0;34m(\u001b[0m\u001b[0mlst\u001b[0m\u001b[0;34m)\u001b[0m\u001b[0;34m:\u001b[0m\u001b[0;34m\u001b[0m\u001b[0;34m\u001b[0m\u001b[0m\n\u001b[0;32m----> 5\u001b[0;31m     \u001b[0mres_dct\u001b[0m \u001b[0;34m=\u001b[0m \u001b[0;34m{\u001b[0m\u001b[0mlst\u001b[0m\u001b[0;34m[\u001b[0m\u001b[0mi\u001b[0m\u001b[0;34m]\u001b[0m\u001b[0;34m:\u001b[0m \u001b[0mlst\u001b[0m\u001b[0;34m.\u001b[0m\u001b[0mcount\u001b[0m\u001b[0;34m[\u001b[0m\u001b[0mi\u001b[0m\u001b[0;34m]\u001b[0m \u001b[0;32mfor\u001b[0m \u001b[0mi\u001b[0m \u001b[0;32min\u001b[0m \u001b[0mrange\u001b[0m\u001b[0;34m(\u001b[0m\u001b[0;36m0\u001b[0m\u001b[0;34m,\u001b[0m \u001b[0mlen\u001b[0m\u001b[0;34m(\u001b[0m\u001b[0mlst\u001b[0m\u001b[0;34m)\u001b[0m\u001b[0;34m,\u001b[0m \u001b[0;36m2\u001b[0m\u001b[0;34m)\u001b[0m\u001b[0;34m}\u001b[0m\u001b[0;34m\u001b[0m\u001b[0;34m\u001b[0m\u001b[0m\n\u001b[0m\u001b[1;32m      6\u001b[0m     \u001b[0;32mreturn\u001b[0m \u001b[0mres_dct\u001b[0m\u001b[0;34m\u001b[0m\u001b[0;34m\u001b[0m\u001b[0m\n\u001b[1;32m      7\u001b[0m \u001b[0;34m\u001b[0m\u001b[0m\n",
            "\u001b[0;32m<ipython-input-22-93261a7492a5>\u001b[0m in \u001b[0;36m<dictcomp>\u001b[0;34m(.0)\u001b[0m\n\u001b[1;32m      3\u001b[0m \u001b[0;34m\u001b[0m\u001b[0m\n\u001b[1;32m      4\u001b[0m \u001b[0;32mdef\u001b[0m \u001b[0mConvert\u001b[0m\u001b[0;34m(\u001b[0m\u001b[0mlst\u001b[0m\u001b[0;34m)\u001b[0m\u001b[0;34m:\u001b[0m\u001b[0;34m\u001b[0m\u001b[0;34m\u001b[0m\u001b[0m\n\u001b[0;32m----> 5\u001b[0;31m     \u001b[0mres_dct\u001b[0m \u001b[0;34m=\u001b[0m \u001b[0;34m{\u001b[0m\u001b[0mlst\u001b[0m\u001b[0;34m[\u001b[0m\u001b[0mi\u001b[0m\u001b[0;34m]\u001b[0m\u001b[0;34m:\u001b[0m \u001b[0mlst\u001b[0m\u001b[0;34m.\u001b[0m\u001b[0mcount\u001b[0m\u001b[0;34m[\u001b[0m\u001b[0mi\u001b[0m\u001b[0;34m]\u001b[0m \u001b[0;32mfor\u001b[0m \u001b[0mi\u001b[0m \u001b[0;32min\u001b[0m \u001b[0mrange\u001b[0m\u001b[0;34m(\u001b[0m\u001b[0;36m0\u001b[0m\u001b[0;34m,\u001b[0m \u001b[0mlen\u001b[0m\u001b[0;34m(\u001b[0m\u001b[0mlst\u001b[0m\u001b[0;34m)\u001b[0m\u001b[0;34m,\u001b[0m \u001b[0;36m2\u001b[0m\u001b[0;34m)\u001b[0m\u001b[0;34m}\u001b[0m\u001b[0;34m\u001b[0m\u001b[0;34m\u001b[0m\u001b[0m\n\u001b[0m\u001b[1;32m      6\u001b[0m     \u001b[0;32mreturn\u001b[0m \u001b[0mres_dct\u001b[0m\u001b[0;34m\u001b[0m\u001b[0;34m\u001b[0m\u001b[0m\n\u001b[1;32m      7\u001b[0m \u001b[0;34m\u001b[0m\u001b[0m\n",
            "\u001b[0;31mTypeError\u001b[0m: 'builtin_function_or_method' object is not subscriptable"
          ]
        }
      ]
    },
    {
      "cell_type": "code",
      "source": [
        "# Python3 program to Convert a\n",
        "# list to dictionary\n",
        " \n",
        "def Convert(a):\n",
        "    it = iter(a)\n",
        "    res_dct = dict(zip(it, it))\n",
        "    return res_dct\n",
        "         \n",
        "# Driver code\n",
        "lst = ['a', 1, 'b', 2, 'c', 3]\n",
        "print(Convert(lst))"
      ],
      "metadata": {
        "colab": {
          "base_uri": "https://localhost:8080/"
        },
        "id": "aVjMDv0OAS3I",
        "outputId": "3ec49c1a-a192-46f6-ec68-81dafeb9652f"
      },
      "execution_count": 23,
      "outputs": [
        {
          "output_type": "stream",
          "name": "stdout",
          "text": [
            "{'a': 1, 'b': 2, 'c': 3}\n"
          ]
        }
      ]
    },
    {
      "cell_type": "code",
      "source": [
        "from collections import Counter\n",
        "def Convert(string):\n",
        "    lst=[]\n",
        "    lst[:0]=string\n",
        "    return lst\n",
        "# Driver code\n",
        "str1=\"ABCDACCDERG\"\n",
        "print(Convert(str1))\n",
        "\n",
        "\n",
        "[[x,lst.count(x)] for x in set(lst)]\n",
        "[['a', 1], ['b', 2]]\n",
        "dict((x,lst.count(x)) for x in set(lst))\n"
      ],
      "metadata": {
        "colab": {
          "base_uri": "https://localhost:8080/"
        },
        "id": "hVOSGrnXA1NC",
        "outputId": "9c55e2ec-7786-45d6-8e2c-da2fbde141a9"
      },
      "execution_count": 25,
      "outputs": [
        {
          "output_type": "stream",
          "name": "stdout",
          "text": [
            "['A', 'B', 'C', 'D', 'A', 'C', 'C', 'D', 'E', 'R', 'G']\n"
          ]
        },
        {
          "output_type": "execute_result",
          "data": {
            "text/plain": [
              "{1: 1, 2: 1, 3: 1, 'a': 1, 'b': 1, 'c': 1}"
            ]
          },
          "metadata": {},
          "execution_count": 25
        }
      ]
    },
    {
      "cell_type": "code",
      "source": [
        "from itertools import groupby\n",
        "\n",
        "L = ['a', 'a', 'a', 't', 'q', 'a', 'd', 'a', 'd', 'c']  # Input list\n",
        "\n",
        "counts = [(i, len(list(c))) for i,c in groupby(L)]      # Create value-count pairs as list of tuples \n",
        "print(counts)\n",
        "counts = [(i, len(list(c))) for i,c in groupby(sorted(L))]\n",
        "print(counts)"
      ],
      "metadata": {
        "colab": {
          "base_uri": "https://localhost:8080/"
        },
        "id": "rE6T3c48D7xO",
        "outputId": "de309fac-10c9-4e73-ebcf-2e82284396e6"
      },
      "execution_count": 31,
      "outputs": [
        {
          "output_type": "stream",
          "name": "stdout",
          "text": [
            "[('a', 3), ('t', 1), ('q', 1), ('a', 1), ('d', 1), ('a', 1), ('d', 1), ('c', 1)]\n",
            "[('a', 5), ('c', 1), ('d', 2), ('q', 1), ('t', 1)]\n"
          ]
        }
      ]
    },
    {
      "cell_type": "code",
      "source": [
        "from itertools import groupby\n",
        "def Convert(string):\n",
        "    lst=[]\n",
        "    lst[:0]=string\n",
        "    return lst\n",
        "# Driver code\n",
        "L=\"ABCDACCDERG\"\n",
        "print(Convert(str1))\n",
        "\n",
        "#L = ['a', 'a', 'a', 't', 'q', 'a', 'd', 'a', 'd', 'c']  # Input list\n",
        "\n",
        "counts = [(i, len(list(c))) for i,c in groupby(sorted(L))]\n",
        "print(counts)"
      ],
      "metadata": {
        "colab": {
          "base_uri": "https://localhost:8080/"
        },
        "id": "c23Y4Z7UC-L9",
        "outputId": "28ac54f9-96a9-4d1e-bdc8-593b1623230b"
      },
      "execution_count": 32,
      "outputs": [
        {
          "output_type": "stream",
          "name": "stdout",
          "text": [
            "['A', 'B', 'C', 'D', 'A', 'C', 'C', 'D', 'E', 'R', 'G']\n",
            "[('A', 2), ('B', 1), ('C', 3), ('D', 2), ('E', 1), ('G', 1), ('R', 1)]\n"
          ]
        }
      ]
    },
    {
      "cell_type": "code",
      "source": [
        "res_dct = {}\n",
        "def Convert(string):\n",
        "    lst=[]\n",
        "    lst[:0]=string\n",
        "    return lst\n",
        "# Driver code\n",
        "str1=\"ABCDACCDERG\"\n",
        "print(Convert(str1))\n",
        "\n",
        "def Convert(lst):\n",
        "    res_dct = {lst[i]: lst.count(i) for i in range(0, len(lst), 2)}\n",
        "    print(res_dct)\n",
        "    return res_dct\n"
      ],
      "metadata": {
        "colab": {
          "base_uri": "https://localhost:8080/"
        },
        "id": "h-rkfH3A9bmr",
        "outputId": "d338346f-82fb-4b9f-c388-f012f7870a19"
      },
      "execution_count": 16,
      "outputs": [
        {
          "output_type": "stream",
          "name": "stdout",
          "text": [
            "['A', 'B', 'C', 'D', 'A', 'C', 'C', 'D', 'E', 'R', 'G']\n"
          ]
        }
      ]
    },
    {
      "cell_type": "code",
      "source": [
        ""
      ],
      "metadata": {
        "id": "vkFl7AS-Edzb"
      },
      "execution_count": null,
      "outputs": []
    },
    {
      "cell_type": "code",
      "source": [
        "from itertools import groupby\n",
        "def Convert(string):\n",
        "    lst=[]\n",
        "    lst[:0]=string\n",
        "    return lst\n",
        "# Driver code\n",
        "L=\"ABCDACCDERGMURATAKYUZ1236512**\"\n",
        "print(Convert(str1))\n",
        "\n",
        "#L = ['a', 'a', 'a', 't', 'q', 'a', 'd', 'a', 'd', 'c']  # Input list\n",
        "\n",
        "counts = [(i, len(list(c))) for i,c in groupby(sorted(L))]\n",
        "print(counts)\n",
        "counts = [(i, len(list(c))) for i,c in groupby(sorted(L))]\n",
        "print(counts)"
      ],
      "metadata": {
        "colab": {
          "base_uri": "https://localhost:8080/"
        },
        "id": "puj9ZgDwEd02",
        "outputId": "294ba255-742c-4baf-f092-d44cf22fedb5"
      },
      "execution_count": 36,
      "outputs": [
        {
          "output_type": "stream",
          "name": "stdout",
          "text": [
            "['A', 'B', 'C', 'D', 'A', 'C', 'C', 'D', 'E', 'R', 'G']\n",
            "[('*', 2), ('1', 2), ('2', 2), ('3', 1), ('5', 1), ('6', 1), ('A', 4), ('B', 1), ('C', 3), ('D', 2), ('E', 1), ('G', 1), ('K', 1), ('M', 1), ('R', 2), ('T', 1), ('U', 2), ('Y', 1), ('Z', 1)]\n",
            "[('*', 2), ('1', 2), ('2', 2), ('3', 1), ('5', 1), ('6', 1), ('A', 4), ('B', 1), ('C', 3), ('D', 2), ('E', 1), ('G', 1), ('K', 1), ('M', 1), ('R', 2), ('T', 1), ('U', 2), ('Y', 1), ('Z', 1)]\n"
          ]
        }
      ]
    },
    {
      "cell_type": "code",
      "source": [
        "from itertools import groupby\n",
        "def Convert(string):\n",
        "    l=[]\n",
        "    l[:0]=string\n",
        "    return lst\n",
        "# Driver code\n",
        "l=\"ABCDACCDERGMURATAKYUZ1236512**\"\n",
        "print(Convert(l))\n",
        "\n",
        "#L = ['a', 'a', 'a', 't', 'q', 'a', 'd', 'a', 'd', 'c']  # Input list\n",
        "\n",
        "# original numbers in list\n",
        "#l = [1, 2, 2, 3, 3, 3, 4]\n",
        "\n",
        "# empty dictionary to hold pair of number and its count\n",
        "d = {}\n",
        "\n",
        "# loop through all elements and store count\n",
        "[ d.update( {i:d.get(i, 0)+1} ) for i in l ]\n",
        "\n",
        "print(d)\n",
        "# {1: 1, 2: 2, 3: 3, 4: 1}"
      ],
      "metadata": {
        "colab": {
          "base_uri": "https://localhost:8080/"
        },
        "id": "lGWPrE1-Ff8p",
        "outputId": "34c7db3c-e710-4ba2-f5e5-08b8c57e78a9"
      },
      "execution_count": 37,
      "outputs": [
        {
          "output_type": "stream",
          "name": "stdout",
          "text": [
            "['a', 1, 'b', 2, 'c', 3]\n",
            "{'A': 4, 'B': 1, 'C': 3, 'D': 2, 'E': 1, 'R': 2, 'G': 1, 'M': 1, 'U': 2, 'T': 1, 'K': 1, 'Y': 1, 'Z': 1, '1': 2, '2': 2, '3': 1, '6': 1, '5': 1, '*': 2}\n"
          ]
        }
      ]
    },
    {
      "cell_type": "code",
      "source": [
        "from itertools import groupby\n",
        "def Convert(string):\n",
        "    l=[]\n",
        "    l[:0]=string\n",
        "    return lst\n",
        "# Driver code\n",
        "l = input(\"Enter a string: \")\n",
        "#l=\"ABCDACCDERGMURATAKYUZ1236512**\"\n",
        "print(Convert(l))\n",
        "\n",
        "#L = ['a', 'a', 'a', 't', 'q', 'a', 'd', 'a', 'd', 'c']  # Input list\n",
        "\n",
        "# original numbers in list\n",
        "#l = [1, 2, 2, 3, 3, 3, 4]\n",
        "\n",
        "# empty dictionary to hold pair of number and its count\n",
        "d = {}\n",
        "\n",
        "# loop through all elements and store count\n",
        "[ d.update( {i:d.get(i, 0)+1} ) for i in l ]\n",
        "\n",
        "print(d)\n",
        "# {1: 1, 2: 2, 3: 3, 4: 1}"
      ],
      "metadata": {
        "colab": {
          "base_uri": "https://localhost:8080/"
        },
        "id": "wJYO2RDBGIN3",
        "outputId": "8bf90a32-1cb2-4dfa-9527-00a00a8819c3"
      },
      "execution_count": 38,
      "outputs": [
        {
          "output_type": "stream",
          "name": "stdout",
          "text": [
            "Enter a string: MURATAKYZ**123432564\n",
            "['a', 1, 'b', 2, 'c', 3]\n",
            "{'M': 1, 'U': 1, 'R': 1, 'A': 2, 'T': 1, 'K': 1, 'Y': 1, 'Z': 1, '*': 2, '1': 1, '2': 2, '3': 2, '4': 2, '5': 1, '6': 1}\n"
          ]
        }
      ]
    },
    {
      "cell_type": "code",
      "source": [
        "'''\n",
        "Count the number of each letter in a sentence.\n",
        "The department you work for undertook a project construction that makes word / text analysis. \n",
        "You are asked to calculate the number of letters or any chars in the sentences entered under this project.\n",
        "Write a Python program that;\n",
        "takes a sentence from the user,\n",
        "counts the number of each letter/chars of the sentence,\n",
        "collects the letters/chars as a key and the counted numbers as a value in a dictionary.\n",
        "Sample inputs\t: hippo runs to us!\t\n",
        "Outputs {'s': 2, 'r': 1, 't': 1, 'h': 1, 'n': 1, \n",
        "'i': 1, 'u': 2, 'o': 2, 'p': 2, ' ': 3, '!': 1}\n",
        "'''\n",
        "from itertools import groupby\n",
        "def Convert(string):\n",
        "    l=[]\n",
        "    l[:0]=string\n",
        "    return lst\n",
        "l = input(\"Enter a string: \")\n",
        "d = {}\n",
        "[ d.update( {i:d.get(i, 0)+1} ) for i in l ]\n",
        "print(d)\n"
      ],
      "metadata": {
        "colab": {
          "base_uri": "https://localhost:8080/"
        },
        "id": "5e9-NbTTGcSY",
        "outputId": "54ff1a60-5d2f-457e-9d83-6a3ddad7915b"
      },
      "execution_count": 40,
      "outputs": [
        {
          "output_type": "stream",
          "name": "stdout",
          "text": [
            "Enter a string: METINSASA5214//7*--\n",
            "{'M': 1, 'E': 1, 'T': 1, 'I': 1, 'N': 1, 'S': 2, 'A': 2, '5': 1, '2': 1, '1': 1, '4': 1, '/': 2, '7': 1, '*': 1, '-': 2}\n"
          ]
        }
      ]
    }
  ]
}