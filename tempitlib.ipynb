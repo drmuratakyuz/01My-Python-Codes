{
  "nbformat": 4,
  "nbformat_minor": 0,
  "metadata": {
    "colab": {
      "name": "tempitlib.ipynb",
      "provenance": [],
      "authorship_tag": "ABX9TyPQ18InDG8YOIyAHeroXZSW",
      "include_colab_link": true
    },
    "kernelspec": {
      "name": "python3",
      "display_name": "Python 3"
    },
    "language_info": {
      "name": "python"
    }
  },
  "cells": [
    {
      "cell_type": "markdown",
      "metadata": {
        "id": "view-in-github",
        "colab_type": "text"
      },
      "source": [
        "<a href=\"https://colab.research.google.com/github/drmuratakyuz/My-Python-Codes/blob/main/tempitlib.ipynb\" target=\"_parent\"><img src=\"https://colab.research.google.com/assets/colab-badge.svg\" alt=\"Open In Colab\"/></a>"
      ]
    },
    {
      "cell_type": "code",
      "execution_count": 8,
      "metadata": {
        "colab": {
          "base_uri": "https://localhost:8080/"
        },
        "id": "Olt_BwEONyCW",
        "outputId": "795f21f1-832c-4dea-84c0-b7a3242ca3f4"
      },
      "outputs": [
        {
          "output_type": "stream",
          "name": "stdout",
          "text": [
            "List Comp is 1.68 time faster than Foor_loop\n"
          ]
        }
      ],
      "source": [
        "from timeit import timeit\n",
        "def for_loop():\n",
        "  result = []\n",
        "  for i in range(1000000):\n",
        "    result.append(i)\n",
        "  return result\n",
        "\n",
        "def list_comp():\n",
        "  return[i for i in range(1000000)]\n",
        "\n",
        "time_for = timeit(for_loop, number = 100)\n",
        "time_list_comp = timeit(list_comp, number = 100)\n",
        "\n",
        "print(f\"List Comp is {round(time_for/time_list_comp,2)} time faster than Foor_loop\")"
      ]
    },
    {
      "cell_type": "code",
      "source": [
        "\n"
      ],
      "metadata": {
        "id": "JqJQ0W7lOYGE"
      },
      "execution_count": null,
      "outputs": []
    }
  ]
}