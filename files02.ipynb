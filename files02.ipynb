{
  "nbformat": 4,
  "nbformat_minor": 0,
  "metadata": {
    "colab": {
      "name": "files02.ipynb",
      "provenance": [],
      "authorship_tag": "ABX9TyMAW2c2Y7WOORQvUG2v9GJq",
      "include_colab_link": true
    },
    "kernelspec": {
      "name": "python3",
      "display_name": "Python 3"
    },
    "language_info": {
      "name": "python"
    }
  },
  "cells": [
    {
      "cell_type": "markdown",
      "metadata": {
        "id": "view-in-github",
        "colab_type": "text"
      },
      "source": [
        "<a href=\"https://colab.research.google.com/github/drmuratakyuz/My-Python-Codes/blob/main/files02.ipynb\" target=\"_parent\"><img src=\"https://colab.research.google.com/assets/colab-badge.svg\" alt=\"Open In Colab\"/></a>"
      ]
    },
    {
      "cell_type": "code",
      "execution_count": null,
      "metadata": {
        "id": "wbEnnpG2VYuu"
      },
      "outputs": [],
      "source": [
        "'''\n",
        "Suppose you have a text file (fishes.txt) stored in the current working directory. Open this file using the \"utf-8\" as the encoding parameter and assign it to my_file. Then print the type of my_file.\n",
        "\n",
        "\n",
        "For example:\n",
        "\n",
        "Result\n",
        "<class '_io.TextIOWrapper'>\n",
        "'''\n",
        "\n",
        "my_file = open(\"first_file.txt\", mode='a')  # this syntax opens a 'txt' file \n",
        "\n",
        "print(type(my_file))"
      ]
    },
    {
      "cell_type": "code",
      "source": [
        "'''\n",
        "Suppose you have a text file (fishes.txt ) stored in the current working directory with the following content. Open this file for reading mode and assign it to my_file. And read the entire file at oncethen close the file.\n",
        "\n",
        "Orca is a kind of Dolphin.\n",
        "Blue Whale is the largest animal known on earth.\n",
        "Sharks are the sister group to the Rays (batoids).\n",
        "The Tuna Fish can weigh up to 260 kg.\n",
        "Squid and Octopus are in the same class.\n",
        "Note : Ignore the encoding parameter.\n",
        "\n",
        "For example:\n",
        "\n",
        "Result\n",
        "Orca is a kind of Dolphin.\n",
        "Blue Whale is the largest animal known on earth.\n",
        "Sharks are the sister group to the Rays (batoids).\n",
        "The Tuna Fish can weigh up to 260 kg.\n",
        "Squid and Octopus are in the same class.\n",
        "\n",
        "'''\n"
      ],
      "metadata": {
        "id": "9IzfakzjVikF"
      },
      "execution_count": null,
      "outputs": []
    },
    {
      "cell_type": "code",
      "source": [
        "'''\n",
        "Suppose you have a text file (fishes.txt) stored in the current working directory with the following content. Open this file for reading mode and assign it to my_file. And read the first 40 chars of the text then close the file.\n",
        "\n",
        "Orca is a kind of Dolphin.\n",
        "Blue Whale is the largest animal known on earth.\n",
        "Sharks are the sister group to the Rays (batoids).\n",
        "The Tuna Fish can weigh up to 260 kg.\n",
        "Squid and Octopus are in the same class.\n",
        "Note : Ignore the encoding parameter.\n",
        "For example:\n",
        "\n",
        "Result\n",
        "Orca is a kind of Dolphin.\n",
        "Blue Whale is\n",
        "'''\n",
        "sea = open(\"fishes.txt\", 'r')   \n",
        "print(sea.readline(), end='')  # displays the first line of the text\n",
        "print(sea.readline(13))  # displays the second line\n",
        "\n",
        "\n",
        "sea.close()"
      ],
      "metadata": {
        "id": "B7MLrfamV9LY"
      },
      "execution_count": null,
      "outputs": []
    },
    {
      "cell_type": "code",
      "source": [
        "'''\n",
        "Suppose you have a text file (fishes.txt ) stored in the current working directory with the following content. Open this file and assign it to my_file. And read the first line of the text then close the file.\n",
        "\n",
        "Orca is a kind of Dolphin.\n",
        "Blue Whale is the largest animal known on earth.\n",
        "Sharks are the sister group to the Rays (batoids).\n",
        "The Tuna Fish can weigh up to 260 kg.\n",
        "Squid and Octopus are in the same class.\n",
        "\n",
        "\n",
        "\n",
        "\n",
        "For example:\n",
        "\n",
        "Result\n",
        "Orca is a kind of Dolphin.\n",
        "'''\n",
        "sea = open(\"fishes.txt\", 'r')   \n",
        "\n",
        "print(sea.readline())  # displays the first line of the text\n",
        "\n",
        "sea.close()"
      ],
      "metadata": {
        "id": "Le4GFyM_WKI_"
      },
      "execution_count": null,
      "outputs": []
    },
    {
      "cell_type": "code",
      "source": [
        "'''\n",
        "Suppose you have a text file (fishes.txt ) stored in the current working directory with the following content. Open this file and assign it to my_file. And read the first 9 chars of the first line of the text then close the file.\n",
        "\n",
        "Orca is a kind of Dolphin.\n",
        "Blue Whale is the largest animal known on earth.\n",
        "Sharks are the sister group to the Rays (batoids).\n",
        "The Tuna Fish can weigh up to 260 kg.\n",
        "Squid and Octopus are in the same class.\n",
        "\n",
        "\n",
        "\n",
        "\n",
        "For example:\n",
        "\n",
        "Result\n",
        "Orca is a\n",
        "'''"
      ],
      "metadata": {
        "id": "1jEQyR-MWVlU"
      },
      "execution_count": null,
      "outputs": []
    },
    {
      "cell_type": "code",
      "source": [
        "'''\n",
        "Suppose you have a text file (fishes.txt ) stored in the current working directory with the following content. Open this file and assign it to my_file. And read the entire file line by line then close the file.\n",
        "\n",
        "Orca is a kind of Dolphin.\n",
        "Blue Whale is the largest animal known on earth.\n",
        "Sharks are the sister group to the Rays (batoids).\n",
        "The Tuna Fish can weigh up to 260 kg.\n",
        "Squid and Octopus are in the same class.\n",
        "\n",
        "\n",
        "\n",
        "\n",
        "For example:\n",
        "\n",
        "Result\n",
        "['Orca is a kind of Dolphin.\\n', 'Blue Whale is the largest animal known on earth.\\n', 'Sharks are the sister group to the Rays (batoids).\\n', 'The Tuna Fish can weigh up to 260 kg.\\n', 'Squid and Octopus are in the same class.']\n",
        "'''\n",
        "my_file = open(\"fishes.txt\", 'r')   \n",
        "\n",
        "print(my_file.readlines()) \n",
        "\n",
        "my_file.close()"
      ],
      "metadata": {
        "colab": {
          "base_uri": "https://localhost:8080/",
          "height": 252
        },
        "id": "Mglu0vytWf1r",
        "outputId": "d0fa851c-bba1-4a3b-bbc2-3ac862c0c474"
      },
      "execution_count": 1,
      "outputs": [
        {
          "output_type": "error",
          "ename": "FileNotFoundError",
          "evalue": "ignored",
          "traceback": [
            "\u001b[0;31m---------------------------------------------------------------------------\u001b[0m",
            "\u001b[0;31mFileNotFoundError\u001b[0m                         Traceback (most recent call last)",
            "\u001b[0;32m<ipython-input-1-204552d81947>\u001b[0m in \u001b[0;36m<module>\u001b[0;34m()\u001b[0m\n\u001b[1;32m     16\u001b[0m \u001b[0;34m[\u001b[0m\u001b[0;34m'Orca is a kind of Dolphin.\\n'\u001b[0m\u001b[0;34m,\u001b[0m \u001b[0;34m'Blue Whale is the largest animal known on earth.\\n'\u001b[0m\u001b[0;34m,\u001b[0m \u001b[0;34m'Sharks are the sister group to the Rays (batoids).\\n'\u001b[0m\u001b[0;34m,\u001b[0m \u001b[0;34m'The Tuna Fish can weigh up to 260 kg.\\n'\u001b[0m\u001b[0;34m,\u001b[0m \u001b[0;34m'Squid and Octopus are in the same class.'\u001b[0m\u001b[0;34m]\u001b[0m\u001b[0;34m\u001b[0m\u001b[0;34m\u001b[0m\u001b[0m\n\u001b[1;32m     17\u001b[0m '''\n\u001b[0;32m---> 18\u001b[0;31m \u001b[0mmy_file\u001b[0m \u001b[0;34m=\u001b[0m \u001b[0mopen\u001b[0m\u001b[0;34m(\u001b[0m\u001b[0;34m\"fishes.txt\"\u001b[0m\u001b[0;34m,\u001b[0m \u001b[0;34m'r'\u001b[0m\u001b[0;34m)\u001b[0m\u001b[0;34m\u001b[0m\u001b[0;34m\u001b[0m\u001b[0m\n\u001b[0m\u001b[1;32m     19\u001b[0m \u001b[0;34m\u001b[0m\u001b[0m\n\u001b[1;32m     20\u001b[0m \u001b[0mprint\u001b[0m\u001b[0;34m(\u001b[0m\u001b[0mmy_file\u001b[0m\u001b[0;34m.\u001b[0m\u001b[0mreadline\u001b[0m\u001b[0;34m(\u001b[0m\u001b[0;36m9\u001b[0m\u001b[0;34m)\u001b[0m\u001b[0;34m)\u001b[0m\u001b[0;34m\u001b[0m\u001b[0;34m\u001b[0m\u001b[0m\n",
            "\u001b[0;31mFileNotFoundError\u001b[0m: [Errno 2] No such file or directory: 'fishes.txt'"
          ]
        }
      ]
    }
  ]
}