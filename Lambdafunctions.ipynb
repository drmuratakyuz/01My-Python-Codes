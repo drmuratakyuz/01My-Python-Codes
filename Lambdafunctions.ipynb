{
  "nbformat": 4,
  "nbformat_minor": 0,
  "metadata": {
    "colab": {
      "name": "Lambdafunctions.ipynb",
      "provenance": [],
      "authorship_tag": "ABX9TyN5iR/HHQAM5MGQRApjZrw5",
      "include_colab_link": true
    },
    "kernelspec": {
      "name": "python3",
      "display_name": "Python 3"
    },
    "language_info": {
      "name": "python"
    }
  },
  "cells": [
    {
      "cell_type": "markdown",
      "metadata": {
        "id": "view-in-github",
        "colab_type": "text"
      },
      "source": [
        "<a href=\"https://colab.research.google.com/github/drmuratakyuz/My-Python-Codes/blob/main/Lambdafunctions.ipynb\" target=\"_parent\"><img src=\"https://colab.research.google.com/assets/colab-badge.svg\" alt=\"Open In Colab\"/></a>"
      ]
    },
    {
      "cell_type": "code",
      "execution_count": 1,
      "metadata": {
        "colab": {
          "base_uri": "https://localhost:8080/"
        },
        "id": "Zqfh4Ng1mXos",
        "outputId": "4d2a8f05-46fc-4447-a582-3b06bcf40faf"
      },
      "outputs": [
        {
          "output_type": "stream",
          "name": "stdout",
          "text": [
            "20\n"
          ]
        }
      ],
      "source": [
        "x=lambda a:a+15\n",
        "print(x(5))"
      ]
    },
    {
      "cell_type": "code",
      "source": [
        "#hipotenüs hesaplama\n",
        "import math\n",
        "hipotenus=lambda x,y:math.sqrt(x*x+y*y)\n",
        "print(hipotenus(3,4))"
      ],
      "metadata": {
        "colab": {
          "base_uri": "https://localhost:8080/"
        },
        "id": "T0Ey4G1Um7Vt",
        "outputId": "a8a7df30-c2a5-47fd-d570-d0dcb62ee91f"
      },
      "execution_count": 2,
      "outputs": [
        {
          "output_type": "stream",
          "name": "stdout",
          "text": [
            "5.0\n"
          ]
        }
      ]
    },
    {
      "cell_type": "code",
      "source": [
        "print((lambda x,y:3*x+5*y)(2,5))"
      ],
      "metadata": {
        "colab": {
          "base_uri": "https://localhost:8080/"
        },
        "id": "alfWks_8nBLe",
        "outputId": "521fe99c-6763-4079-a669-6d91efd563ab"
      },
      "execution_count": 3,
      "outputs": [
        {
          "output_type": "stream",
          "name": "stdout",
          "text": [
            "31\n"
          ]
        }
      ]
    }
  ]
}