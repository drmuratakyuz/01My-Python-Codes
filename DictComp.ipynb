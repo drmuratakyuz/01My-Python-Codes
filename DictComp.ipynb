{
  "nbformat": 4,
  "nbformat_minor": 0,
  "metadata": {
    "colab": {
      "name": "DictComp.ipynb",
      "provenance": [],
      "authorship_tag": "ABX9TyNgprRZoWzd6VG5m/l+Hmsr",
      "include_colab_link": true
    },
    "kernelspec": {
      "name": "python3",
      "display_name": "Python 3"
    },
    "language_info": {
      "name": "python"
    }
  },
  "cells": [
    {
      "cell_type": "markdown",
      "metadata": {
        "id": "view-in-github",
        "colab_type": "text"
      },
      "source": [
        "<a href=\"https://colab.research.google.com/github/drmuratakyuz/01My-Python-Codes/blob/main/DictComp.ipynb\" target=\"_parent\"><img src=\"https://colab.research.google.com/assets/colab-badge.svg\" alt=\"Open In Colab\"/></a>"
      ]
    },
    {
      "cell_type": "code",
      "execution_count": null,
      "metadata": {
        "id": "1XFbRw_a_9Cp"
      },
      "outputs": [],
      "source": [
        "#dictionary compherenson\n",
        "square = { i: i**2 for i in range(10)}\n",
        "square"
      ]
    }
  ]
}