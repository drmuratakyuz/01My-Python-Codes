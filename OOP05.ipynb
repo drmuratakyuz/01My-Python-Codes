{
  "nbformat": 4,
  "nbformat_minor": 0,
  "metadata": {
    "colab": {
      "name": "OOP05.ipynb",
      "provenance": [],
      "authorship_tag": "ABX9TyMGNVdr6jg+6oBc4iOQe9l6",
      "include_colab_link": true
    },
    "kernelspec": {
      "name": "python3",
      "display_name": "Python 3"
    },
    "language_info": {
      "name": "python"
    }
  },
  "cells": [
    {
      "cell_type": "markdown",
      "metadata": {
        "id": "view-in-github",
        "colab_type": "text"
      },
      "source": [
        "<a href=\"https://colab.research.google.com/github/drmuratakyuz/01My-Python-Codes/blob/main/OOP05.ipynb\" target=\"_parent\"><img src=\"https://colab.research.google.com/assets/colab-badge.svg\" alt=\"Open In Colab\"/></a>"
      ]
    },
    {
      "cell_type": "code",
      "execution_count": 1,
      "metadata": {
        "colab": {
          "base_uri": "https://localhost:8080/"
        },
        "id": "vGa10cZHqwJ6",
        "outputId": "ac93686a-d2b9-49a2-bd5d-882c098485f1"
      },
      "outputs": [
        {
          "output_type": "stream",
          "name": "stdout",
          "text": [
            "15\n"
          ]
        }
      ],
      "source": [
        "class Human: \n",
        "\n",
        "    age=15\t\n",
        "\n",
        "    def __init__(self, name): \n",
        "\n",
        "         self._name = name \n",
        "\n",
        "hmn_1 = Human('Corey')\n",
        "\n",
        "print(hmn_1.age)"
      ]
    },
    {
      "cell_type": "code",
      "source": [
        "class Human: \n",
        "\n",
        "    age=15\t\n",
        "\n",
        "    def __init__(self, name): \n",
        "\n",
        "         self._name = name \n",
        "         \n",
        "Human.age =21\n",
        "\n",
        "print(hmn_1.age)"
      ],
      "metadata": {
        "colab": {
          "base_uri": "https://localhost:8080/"
        },
        "id": "qc4ezaXJq-8Y",
        "outputId": "4e5df085-c942-466a-e8e2-fd203b1210f4"
      },
      "execution_count": 2,
      "outputs": [
        {
          "output_type": "stream",
          "name": "stdout",
          "text": [
            "15\n"
          ]
        }
      ]
    },
    {
      "cell_type": "code",
      "source": [
        "class Human: \n",
        "\n",
        "    age=15\t\n",
        "\n",
        "    def __init__(self, name): \n",
        "\n",
        "         self._name = name \n",
        "         \n",
        "hmn_1.age = 20\n",
        "\n",
        "print(Human.age)"
      ],
      "metadata": {
        "colab": {
          "base_uri": "https://localhost:8080/"
        },
        "id": "ZFzKndnerKLu",
        "outputId": "df235cd0-2ad8-4036-fcda-6f9d4ff0c581"
      },
      "execution_count": 3,
      "outputs": [
        {
          "output_type": "stream",
          "name": "stdout",
          "text": [
            "15\n"
          ]
        }
      ]
    },
    {
      "cell_type": "code",
      "source": [
        "class Dog:\n",
        "    def walk(self):\n",
        "         return \"walking...\"\n",
        "    def speak(self):\n",
        "         return \"Woof!\"\n",
        "\n",
        "class BabyDog(Dog):\n",
        "    def speak(self):\n",
        "         return \"Arff!\"\n",
        "\n",
        "dog = BabyDog()\n",
        "dog.walk()"
      ],
      "metadata": {
        "colab": {
          "base_uri": "https://localhost:8080/",
          "height": 35
        },
        "id": "Y88CY_TyrVBK",
        "outputId": "515b5cb2-f806-450d-e5a4-03443136dfe8"
      },
      "execution_count": 4,
      "outputs": [
        {
          "output_type": "execute_result",
          "data": {
            "text/plain": [
              "'walking...'"
            ],
            "application/vnd.google.colaboratory.intrinsic+json": {
              "type": "string"
            }
          },
          "metadata": {},
          "execution_count": 4
        }
      ]
    },
    {
      "cell_type": "code",
      "source": [
        "class Cat:\n",
        "     def __init__(self, name, age):\n",
        "         self.name = name\n",
        "         self.age = age\n",
        "Cat(\"Karabas\", 3)\n",
        "#Cat.init()\n",
        "#Cat()"
      ],
      "metadata": {
        "colab": {
          "base_uri": "https://localhost:8080/"
        },
        "id": "qmy66XSxrrfJ",
        "outputId": "615c6340-ca58-4c63-8544-2b17ebbfc2c0"
      },
      "execution_count": 8,
      "outputs": [
        {
          "output_type": "execute_result",
          "data": {
            "text/plain": [
              "<__main__.Cat at 0x7f8fdcf28a10>"
            ]
          },
          "metadata": {},
          "execution_count": 8
        }
      ]
    },
    {
      "cell_type": "code",
      "source": [
        "class Cat:\n",
        "\n",
        "     def __init__(self, name, age):\n",
        "\n",
        "       \t self.name = name\n",
        "\n",
        "       \t self.age = age\n",
        "\n",
        "     def full_sentence(self):\n",
        "\n",
        "         return \"{}  {}\".format(self.name, self.age)\n",
        "\n",
        "\n",
        "cat= Cat(\"Tiger\", 10)\n",
        "\n",
        "print(cat.full_sentence())"
      ],
      "metadata": {
        "colab": {
          "base_uri": "https://localhost:8080/"
        },
        "id": "mPjaqqiCr-wn",
        "outputId": "8528e8a0-b573-4f36-c7b4-c09b6bedbce5"
      },
      "execution_count": 3,
      "outputs": [
        {
          "output_type": "stream",
          "name": "stdout",
          "text": [
            "Tiger  10\n"
          ]
        }
      ]
    }
  ]
}