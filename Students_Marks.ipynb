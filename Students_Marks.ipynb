{
  "nbformat": 4,
  "nbformat_minor": 0,
  "metadata": {
    "colab": {
      "name": "Students Marks.ipynb",
      "provenance": [],
      "authorship_tag": "ABX9TyMTmQ6zgZocciIN5jCOEF6i",
      "include_colab_link": true
    },
    "kernelspec": {
      "name": "python3",
      "display_name": "Python 3"
    },
    "language_info": {
      "name": "python"
    }
  },
  "cells": [
    {
      "cell_type": "markdown",
      "metadata": {
        "id": "view-in-github",
        "colab_type": "text"
      },
      "source": [
        "<a href=\"https://colab.research.google.com/github/drmuratakyuz/01My-Python-Codes/blob/main/Students_Marks.ipynb\" target=\"_parent\"><img src=\"https://colab.research.google.com/assets/colab-badge.svg\" alt=\"Open In Colab\"/></a>"
      ]
    },
    {
      "cell_type": "code",
      "execution_count": 1,
      "metadata": {
        "colab": {
          "base_uri": "https://localhost:8080/"
        },
        "id": "1JS8jzW-ikKY",
        "outputId": "41502690-ed88-44fa-c634-75c85e2ac19d"
      },
      "outputs": [
        {
          "output_type": "execute_result",
          "data": {
            "text/plain": [
              "{'Diana': 'fail',\n",
              " 'John': 'incorrect score',\n",
              " 'Laura': 'pass',\n",
              " 'Maria': 'pass',\n",
              " 'Thomas': 'incorrect score'}"
            ]
          },
          "metadata": {},
          "execution_count": 1
        }
      ],
      "source": [
        "score = {'John':-20, 'Thomas':104, 'Maria':60, 'Diana':45, 'Laura':80}\n",
        "# result1 if condition1 else result2 if condition2 else result3\n",
        "res = {}\n",
        "for s in score : res.update({s:'incorrect score' if score[s]<0 or score[s]>100\n",
        "                             else 'pass' if score[s]>49 else 'fail'})\n",
        "res"
      ]
    }
  ]
}