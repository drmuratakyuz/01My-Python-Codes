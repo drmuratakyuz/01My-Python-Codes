{
  "nbformat": 4,
  "nbformat_minor": 0,
  "metadata": {
    "colab": {
      "name": "tuples.ipynb",
      "provenance": [],
      "authorship_tag": "ABX9TyPad6W65E3R70MnpnptPFLF",
      "include_colab_link": true
    },
    "kernelspec": {
      "name": "python3",
      "display_name": "Python 3"
    },
    "language_info": {
      "name": "python"
    }
  },
  "cells": [
    {
      "cell_type": "markdown",
      "metadata": {
        "id": "view-in-github",
        "colab_type": "text"
      },
      "source": [
        "<a href=\"https://colab.research.google.com/github/drmuratakyuz/My-Python-Codes/blob/main/tuples.ipynb\" target=\"_parent\"><img src=\"https://colab.research.google.com/assets/colab-badge.svg\" alt=\"Open In Colab\"/></a>"
      ]
    },
    {
      "cell_type": "code",
      "execution_count": 3,
      "metadata": {
        "colab": {
          "base_uri": "https://localhost:8080/"
        },
        "id": "4RCJb3auK3Jr",
        "outputId": "ce5a264b-b9a9-4076-8e1b-073b51bb2318"
      },
      "outputs": [
        {
          "output_type": "stream",
          "name": "stdout",
          "text": [
            "()\n",
            "()\n"
          ]
        }
      ],
      "source": [
        "# creating an empty tuple\n",
        "mytuple = ()\n",
        "print(mytuple)\n",
        "\n",
        "# creating an empty tuple with tuple() function\n",
        "mytuple1 = tuple()\n",
        "print(mytuple1)"
      ]
    },
    {
      "cell_type": "code",
      "source": [
        "# creating a tuple\n",
        "mytuple = (\"Python\", \"Java\", \"2020\", \"JavaScript\")\n",
        "print(mytuple)"
      ],
      "metadata": {
        "colab": {
          "base_uri": "https://localhost:8080/"
        },
        "id": "6yFV1Yd7LfiD",
        "outputId": "feb47657-b979-485b-f922-9ed49ecf8fab"
      },
      "execution_count": 4,
      "outputs": [
        {
          "output_type": "stream",
          "name": "stdout",
          "text": [
            "('Python', 'Java', '2020', 'JavaScript')\n"
          ]
        }
      ]
    },
    {
      "cell_type": "code",
      "source": [
        "# creating a tuple with a single component\n",
        "fruits = (\"plum\")\n",
        "\n",
        "print(fruits)\n",
        "# if not using comma, this is evaluated as a string\n",
        "fruits = (\"plum\",)\n",
        "print(fruits)\n"
      ],
      "metadata": {
        "colab": {
          "base_uri": "https://localhost:8080/"
        },
        "id": "djh8alfMLwdh",
        "outputId": "0d5fd59b-f71d-4c9e-c01e-bf9867c91602"
      },
      "execution_count": 7,
      "outputs": [
        {
          "output_type": "stream",
          "name": "stdout",
          "text": [
            "plum\n",
            "('plum',)\n"
          ]
        }
      ]
    },
    {
      "cell_type": "code",
      "source": [
        "# creating a tuple with () method\n",
        "mytuple = (5,10,15,20,25,30)\n",
        "# Reaching first indis\n",
        "print(mytuple[0])\n",
        "# Reaching third indis\n",
        "print(mytuple[2])\n",
        "print(mytuple[-1])\n",
        "print(mytuple[2:])"
      ],
      "metadata": {
        "colab": {
          "base_uri": "https://localhost:8080/"
        },
        "id": "ageUmrOvMbMT",
        "outputId": "a0265216-d23d-48d4-fa38-dd91fed8d475"
      },
      "execution_count": 9,
      "outputs": [
        {
          "output_type": "stream",
          "name": "stdout",
          "text": [
            "5\n",
            "15\n",
            "30\n",
            "(15, 20, 25, 30)\n"
          ]
        }
      ]
    },
    {
      "cell_type": "code",
      "source": [
        "# creating a tuple with tuple() function\n",
        "mytuple = tuple((\"New York\",\"New Jersey\",\"Miami\"))\n",
        "print(mytuple)\n"
      ],
      "metadata": {
        "colab": {
          "base_uri": "https://localhost:8080/"
        },
        "id": "WKHxQ6pEM11E",
        "outputId": "360f199c-c187-4edf-91c1-7b201d4a5efb"
      },
      "execution_count": 11,
      "outputs": [
        {
          "output_type": "stream",
          "name": "stdout",
          "text": [
            "('New York', 'New Jersey', 'Miami')\n"
          ]
        }
      ]
    },
    {
      "cell_type": "code",
      "source": [
        "# i defined a tuple\n",
        "numbers = (0,1,2,3,4,5,6,7,8,9,) # I defined a tuple\n",
        "letters = (\"a\",\"b\",\"c\",\"d\",\"e\") #I defined second tuple\n",
        "newtuple = numbers + letters # I combined two tuples\n",
        "print(newtuple) #I printed newtuple"
      ],
      "metadata": {
        "colab": {
          "base_uri": "https://localhost:8080/"
        },
        "id": "E9FEE9DuNUNv",
        "outputId": "f60ba4fb-d5d2-4fb7-d6ed-e587f760a4ce"
      },
      "execution_count": 12,
      "outputs": [
        {
          "output_type": "stream",
          "name": "stdout",
          "text": [
            "(0, 1, 2, 3, 4, 5, 6, 7, 8, 9, 'a', 'b', 'c', 'd', 'e')\n"
          ]
        }
      ]
    },
    {
      "cell_type": "code",
      "source": [
        "letters = (\"a\",\"b\",\"c\",\"d\",\"e\") \n",
        "if \"a\" in letters:\n",
        "  print(True)\n",
        "else:\n",
        "  print(False)"
      ],
      "metadata": {
        "colab": {
          "base_uri": "https://localhost:8080/"
        },
        "id": "TabU3_CvN72M",
        "outputId": "b8c1c37d-e477-4480-9f6d-e87c711eb282"
      },
      "execution_count": 13,
      "outputs": [
        {
          "output_type": "stream",
          "name": "stdout",
          "text": [
            "True\n"
          ]
        }
      ]
    },
    {
      "cell_type": "code",
      "source": [
        "# creatind a tuple from a list\n",
        "months =[\"january\",\"february\",\"march\",\"april\",\"may\",\"june\"]\n",
        "mytuple = tuple(months)\n",
        "print(mytuple)"
      ],
      "metadata": {
        "colab": {
          "base_uri": "https://localhost:8080/"
        },
        "id": "Npymk5WvOKs-",
        "outputId": "3ac66f14-e535-4c50-c237-a0668607a83f"
      },
      "execution_count": 14,
      "outputs": [
        {
          "output_type": "stream",
          "name": "stdout",
          "text": [
            "('january', 'february', 'march', 'april', 'may', 'june')\n"
          ]
        }
      ]
    },
    {
      "cell_type": "code",
      "source": [
        "test1= (1,2,3,4,5,6,7)\n",
        "for component in test1:\n",
        "  print(component)"
      ],
      "metadata": {
        "colab": {
          "base_uri": "https://localhost:8080/"
        },
        "id": "-atQxuwzOkue",
        "outputId": "d0882607-411a-4ebc-bbfa-204757786c11"
      },
      "execution_count": 16,
      "outputs": [
        {
          "output_type": "stream",
          "name": "stdout",
          "text": [
            "1\n",
            "2\n",
            "3\n",
            "4\n",
            "5\n",
            "6\n",
            "7\n"
          ]
        }
      ]
    },
    {
      "cell_type": "code",
      "source": [
        "# sorting tuples\n",
        "mytuple =(\"tulip\",\"snowdrop\",\"lily\",\"daisy\")\n",
        "print(sorted(mytuple))"
      ],
      "metadata": {
        "colab": {
          "base_uri": "https://localhost:8080/"
        },
        "id": "Z3FU79FRQRQt",
        "outputId": "ffaeef67-81e9-41fe-b3ce-30d449491446"
      },
      "execution_count": 17,
      "outputs": [
        {
          "output_type": "stream",
          "name": "stdout",
          "text": [
            "['daisy', 'lily', 'snowdrop', 'tulip']\n"
          ]
        }
      ]
    },
    {
      "cell_type": "code",
      "source": [
        "mytuple1 = ('a','b','c','d','e')\n",
        "print(mytuple1)\n",
        "print(len(mytuple1))\n",
        "mytuple2 = (1,2,3,4,5,6)\n",
        "print(mytuple2)\n",
        "print(len(mytuple2))\n",
        "newtuple = (mytuple1+mytuple2)\n",
        "print(newtuple)\n",
        "print(len(newtuple))"
      ],
      "metadata": {
        "colab": {
          "base_uri": "https://localhost:8080/"
        },
        "id": "tgLDhwxUQpRW",
        "outputId": "7acbefe8-3bdf-42d8-fa80-d3abdff7ab88"
      },
      "execution_count": 20,
      "outputs": [
        {
          "output_type": "stream",
          "name": "stdout",
          "text": [
            "('a', 'b', 'c', 'd', 'e')\n",
            "5\n",
            "(1, 2, 3, 4, 5, 6)\n",
            "6\n",
            "('a', 'b', 'c', 'd', 'e', 1, 2, 3, 4, 5, 6)\n",
            "11\n"
          ]
        }
      ]
    },
    {
      "cell_type": "code",
      "source": [
        "numbers = (20,24,25,79,40,39,50)\n",
        "for i in range(len(numbers)):\n",
        "  if numbers[i]%5 == 0:\n",
        "    print(numbers[i])\n"
      ],
      "metadata": {
        "colab": {
          "base_uri": "https://localhost:8080/"
        },
        "id": "6fo3rpODR35_",
        "outputId": "1f0bcf66-449c-4067-88e0-a7f4662be0a6"
      },
      "execution_count": 23,
      "outputs": [
        {
          "output_type": "stream",
          "name": "stdout",
          "text": [
            "20\n",
            "25\n",
            "40\n",
            "50\n"
          ]
        }
      ]
    },
    {
      "cell_type": "code",
      "source": [
        "mytuple = (\"henry\",\"alisson\",\"c\",\"mark\",\"denise\",\"f\",\"fatima\")\n",
        "newtuple = mytuple[3:5]\n",
        "print(newtuple)"
      ],
      "metadata": {
        "colab": {
          "base_uri": "https://localhost:8080/"
        },
        "id": "6SCuboevR37o",
        "outputId": "4e83b37f-40b6-4fc2-ae51-702fca7c11cc"
      },
      "execution_count": 25,
      "outputs": [
        {
          "output_type": "stream",
          "name": "stdout",
          "text": [
            "('mark', 'denise')\n"
          ]
        }
      ]
    },
    {
      "cell_type": "code",
      "source": [
        "test1=(\"alison\",\"david\",\"aline\",\"Fatima\",\"Hassan\",\"alison\",\"denise\")\n",
        "print(test1.count('alison'))\n"
      ],
      "metadata": {
        "colab": {
          "base_uri": "https://localhost:8080/"
        },
        "id": "fkE-hAm3YlYk",
        "outputId": "ebabae55-e328-4fdc-ba0f-863c88f6d293"
      },
      "execution_count": 26,
      "outputs": [
        {
          "output_type": "stream",
          "name": "stdout",
          "text": [
            "2\n"
          ]
        }
      ]
    },
    {
      "cell_type": "code",
      "source": [
        "dictionary = {'color': 'blue', 'dress': 'trousers', 'size': 'M'}\n",
        "for key1 in dictionary:\n",
        "  print(key1)\n",
        "  "
      ],
      "metadata": {
        "colab": {
          "base_uri": "https://localhost:8080/"
        },
        "id": "acxTm7Hgccl6",
        "outputId": "e8cc16a0-cd9e-4ed6-df8c-3e3716dd725c"
      },
      "execution_count": 28,
      "outputs": [
        {
          "output_type": "stream",
          "name": "stdout",
          "text": [
            "color\n",
            "dress\n",
            "size\n"
          ]
        }
      ]
    },
    {
      "cell_type": "code",
      "source": [
        "dictionary = {'color': 'blue', 'dress': 'trousers', 'size': 'M'}\n",
        "for key in dictionary:\n",
        "  print(key, dictionary[key])\n",
        "  dict_items = dictionary.items()\n",
        "  \n",
        "  for items in dict_items:\n",
        "    print(items)\n"
      ],
      "metadata": {
        "colab": {
          "base_uri": "https://localhost:8080/"
        },
        "id": "WtoQYoeEc7xu",
        "outputId": "73b26906-5d9d-4ec9-faa2-a74ee8d10fd1"
      },
      "execution_count": 37,
      "outputs": [
        {
          "output_type": "stream",
          "name": "stdout",
          "text": [
            "color blue\n",
            "('color', 'blue')\n",
            "('dress', 'trousers')\n",
            "('size', 'M')\n",
            "dress trousers\n",
            "('color', 'blue')\n",
            "('dress', 'trousers')\n",
            "('size', 'M')\n",
            "size M\n",
            "('color', 'blue')\n",
            "('dress', 'trousers')\n",
            "('size', 'M')\n"
          ]
        }
      ]
    },
    {
      "cell_type": "code",
      "source": [
        ""
      ],
      "metadata": {
        "id": "ClypMgVqfcH1"
      },
      "execution_count": null,
      "outputs": []
    },
    {
      "cell_type": "code",
      "source": [
        "sozluk = {'renk': 'mavi', 'kıyafet': 'pantolon', 'beden': 'M'}\n",
        "for anahtar in sozluk:\n",
        "  print(anahtar,sozluk[anahtar])\n",
        "  sozluk_bilesenleri=sozluk.items()\n",
        "  for bilesen in sozluk_bilesenleri :\n",
        "    print(bilesen)\n",
        "    print(type(bilesen))# demet veri tipinde oluyor"
      ],
      "metadata": {
        "colab": {
          "base_uri": "https://localhost:8080/"
        },
        "id": "MIPkgOCWfcJW",
        "outputId": "4b96f14d-d4aa-4170-f22f-32e9b1450fbc"
      },
      "execution_count": 43,
      "outputs": [
        {
          "output_type": "stream",
          "name": "stdout",
          "text": [
            "renk mavi\n",
            "('renk', 'mavi')\n",
            "<class 'tuple'>\n",
            "('kıyafet', 'pantolon')\n",
            "<class 'tuple'>\n",
            "('beden', 'M')\n",
            "<class 'tuple'>\n",
            "kıyafet pantolon\n",
            "('renk', 'mavi')\n",
            "<class 'tuple'>\n",
            "('kıyafet', 'pantolon')\n",
            "<class 'tuple'>\n",
            "('beden', 'M')\n",
            "<class 'tuple'>\n",
            "beden M\n",
            "('renk', 'mavi')\n",
            "<class 'tuple'>\n",
            "('kıyafet', 'pantolon')\n",
            "<class 'tuple'>\n",
            "('beden', 'M')\n",
            "<class 'tuple'>\n"
          ]
        }
      ]
    }
  ]
}