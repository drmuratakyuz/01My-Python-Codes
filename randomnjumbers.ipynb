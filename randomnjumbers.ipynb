{
  "nbformat": 4,
  "nbformat_minor": 0,
  "metadata": {
    "colab": {
      "name": "randomnjumbers.ipynb",
      "provenance": [],
      "authorship_tag": "ABX9TyPmMS8DDdNrNnmLvIweM5MS",
      "include_colab_link": true
    },
    "kernelspec": {
      "name": "python3",
      "display_name": "Python 3"
    },
    "language_info": {
      "name": "python"
    }
  },
  "cells": [
    {
      "cell_type": "markdown",
      "metadata": {
        "id": "view-in-github",
        "colab_type": "text"
      },
      "source": [
        "<a href=\"https://colab.research.google.com/github/drmuratakyuz/My-Python-Codes/blob/main/randomnjumbers.ipynb\" target=\"_parent\"><img src=\"https://colab.research.google.com/assets/colab-badge.svg\" alt=\"Open In Colab\"/></a>"
      ]
    },
    {
      "cell_type": "code",
      "execution_count": 6,
      "metadata": {
        "id": "jbbocffbluha",
        "colab": {
          "base_uri": "https://localhost:8080/"
        },
        "outputId": "183743cc-02f7-47d9-da09-c1126a3e0332"
      },
      "outputs": [
        {
          "output_type": "stream",
          "name": "stdout",
          "text": [
            "['532', '15', '435', '608', '337', '590', '135', '726', '827', '563', '963', '849', '566', '465', '162', '253', '791', '611', '412', '29', '564', '911', '493', '22', '634', '786', '841', '533', '789', '259', '323', '495', '277', '929', '66', '896', '555', '169', '852', '684', '942', '74', '696', '823', '695', '578', '560', '103', '642', '386']\n"
          ]
        }
      ],
      "source": [
        "import random\n",
        "\n",
        "numbers=[]\n",
        "for i in range (50):\n",
        "    number=str(random.randint(0,1000))\n",
        "    numbers.append(number)\n",
        "print(numbers)"
      ]
    },
    {
      "cell_type": "code",
      "source": [
        ""
      ],
      "metadata": {
        "id": "I8vHBiZ9dUhR"
      },
      "execution_count": null,
      "outputs": []
    }
  ]
}